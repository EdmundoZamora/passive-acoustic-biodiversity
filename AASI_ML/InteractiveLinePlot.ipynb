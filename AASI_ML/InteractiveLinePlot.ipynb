{
 "cells": [
  {
   "cell_type": "markdown",
   "metadata": {},
   "source": [
    "## Interactive Plotting with Plot.ly ##"
   ]
  },
  {
   "cell_type": "code",
   "execution_count": null,
   "metadata": {},
   "outputs": [],
   "source": [
    "import os\n",
    "import datetime\n",
    "\n",
    "AM_NAME = \"AM5\"\n",
    "FILE_PATH = AM_NAME + \"_Clips/\"\n",
    "FIRST_STAMP = \"00:00:00 06/13/2019\"\n",
    "TITLE = \"Bird Vocalizations from 00:00 6/13/19 - 23:50 6/17/19 - \"+AM_NAME\n",
    "\n",
    "# get all file names in FILE_PATH\n",
    "(_, _, clip_names) = next(os.walk(FILE_PATH))\n",
    "\n",
    "# collect data\n",
    "global_scores = []\n",
    "with open(\"global_scores_\"+AM_NAME+\".txt\", \"r\") as f:\n",
    "    for line in f:\n",
    "        global_scores.append(float(line.strip()))\n",
    "\n",
    "# create range of datetime objects\n",
    "base = datetime.datetime.strptime(FIRST_STAMP, \"%H:%M:%S %m/%d/%Y\")\n",
    "time_stamps = [base + datetime.timedelta(minutes=x*10) for x in range(len(global_scores))]"
   ]
  },
  {
   "cell_type": "code",
   "execution_count": null,
   "metadata": {},
   "outputs": [],
   "source": [
    "\"\"\"\n",
    "For reference: https://plotly.com/python/line-and-scatter/\n",
    "Plot an interacitve line graph\n",
    ":param clip_names: \n",
    ":param x_data: \n",
    ":param y_data: \n",
    ":param xlabel: Label of x axis\n",
    ":param ylabel: Label of y axis\n",
    ":param plot_title: Title of the graph\n",
    "\n",
    ":return: Will display an interactive graph\n",
    "\"\"\"\n",
    "import plotly.graph_objects as go\n",
    "import numpy as np\n",
    "import os\n",
    "from IPython.display import Audio\n",
    "from scipy.io import wavfile\n",
    "import sounddevice as sd\n",
    "\n",
    "def interactive_plot(clip_names, x_data, y_data, xlabel, ylabel, plot_title):\n",
    "    fig = go.FigureWidget([go.Scatter(x=x_data,\n",
    "                                      y=y_data,\n",
    "                                      mode='lines+markers',\n",
    "                                      # marker_color=red for < 0.5, green otherwise\n",
    "                                      text=np.array(clip_names))])\n",
    "                                      \n",
    "    fig.update_layout(title=plot_title,\n",
    "                      xaxis=dict(title=xlabel),\n",
    "                      yaxis=dict(title=ylabel))\n",
    "                      \n",
    "    scatter = fig.data[0]\n",
    "    colors = ['#a3a7e4'] * len(clip_names)\n",
    "    scatter.marker.color = colors\n",
    "    scatter.marker.size = [8] * 720\n",
    "    fig.layout.hovermode = 'closest'\n",
    "    \n",
    "    def play_clip(trace, points, state):\n",
    "#         Audio(audio_clip, autoplay=True)\n",
    "        audio_idx = points.point_inds[-1]\n",
    "        audio_clip = os.path.join(FILE_PATH + clip_names[audio_idx])\n",
    "        \n",
    "        rate, data = wavfile.read(audio_clip)\n",
    "        sd.play(data, rate)\n",
    "        \n",
    "        c = list(scatter.marker.color)\n",
    "        s = list(scatter.marker.size)\n",
    "        for i in points.point_inds:\n",
    "            c[i] = '#bae2be'\n",
    "            s[i] = 9\n",
    "            with fig.batch_update():\n",
    "                scatter.marker.color = c\n",
    "                scatter.marker.size = s\n",
    "    \n",
    "    scatter.on_click(play_clip)\n",
    "    \n",
    "    return fig"
   ]
  },
  {
   "cell_type": "code",
   "execution_count": null,
   "metadata": {},
   "outputs": [],
   "source": [
    "# run interactive plot\n",
    "fig = interactive_plot(clip_names, time_stamps, global_scores, \"Time\", \"Prediction scores\", TITLE)\n",
    "fig"
   ]
  },
  {
   "cell_type": "code",
   "execution_count": null,
   "metadata": {},
   "outputs": [],
   "source": []
  }
 ],
 "metadata": {
  "kernelspec": {
   "display_name": "Python 3",
   "language": "python",
   "name": "python3"
  },
  "language_info": {
   "codemirror_mode": {
    "name": "ipython",
    "version": 3
   },
   "file_extension": ".py",
   "mimetype": "text/x-python",
   "name": "python",
   "nbconvert_exporter": "python",
   "pygments_lexer": "ipython3",
   "version": "3.7.7"
  }
 },
 "nbformat": 4,
 "nbformat_minor": 2
}
