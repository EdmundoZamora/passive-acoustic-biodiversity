{
 "cells": [
  {
   "cell_type": "markdown",
   "metadata": {},
   "source": [
    "## Interactive Plotting with Plot.ly ##"
   ]
  },
  {
   "cell_type": "code",
   "execution_count": null,
   "metadata": {},
   "outputs": [],
   "source": [
    "\"\"\"\n",
    "For reference: https://plotly.com/python/line-and-scatter/\n",
    "Plot an interacitve line graph\n",
    ":param clip_names: \n",
    ":param x_data: \n",
    ":param y_data: \n",
    ":param xlabel: Label of x axis\n",
    ":param ylabel: Label of y axis\n",
    ":param plot_title: Title of the graph\n",
    "\n",
    ":return: Will display an interactive graph\n",
    "\"\"\"\n",
    "import plotly.graph_objects as go\n",
    "import numpy as np\n",
    "\n",
    "def interactive_plot(clip_names, x_data, y_data, xlabel, ylabel, plot_title):\n",
    "    fig = go.Figure(data=go.Scatter(x=x_data,\n",
    "                                    y=y_data,\n",
    "                                    mode='lines+markers',\n",
    "                                    # marker_color=red for < 0.5, green otherwise\n",
    "                                    text=np.array(clip_names)))\n",
    "\n",
    "    fig.update_layout(title=plot_title,\n",
    "                      xaxis=dict(title=xlabel),\n",
    "                      yaxis=dict(title=ylabel))\n",
    "    \n",
    "    def test():\n",
    "        print(\"hello\")\n",
    "    \n",
    "    fig.data[0].on_click(test())\n",
    "    \n",
    "    fig.show()"
   ]
  },
  {
   "cell_type": "code",
   "execution_count": null,
   "metadata": {},
   "outputs": [],
   "source": [
    "import os\n",
    "import datetime\n",
    "\n",
    "AM_NAME = \"AM5\"\n",
    "FILE_PATH = AM_NAME + \"_Clips/\"\n",
    "FIRST_STAMP = \"00:00:00 06/13/2019\"\n",
    "TITLE = \"Bird Vocalizations from 00:00 6/13/19 - 23:50 6/17/19 - \"+AM_NAME\n",
    "\n",
    "# get all file names in FILE_PATH\n",
    "(_, _, clip_names) = next(os.walk(FILE_PATH))\n",
    "\n",
    "# collect data\n",
    "global_scores = []\n",
    "with open(\"global_scores_\"+AM_NAME+\".txt\", \"r\") as f:\n",
    "    for line in f:\n",
    "        global_scores.append(float(line.strip()))\n",
    "\n",
    "# create range of datetime objects\n",
    "base = datetime.datetime.strptime(FIRST_STAMP, \"%H:%M:%S %m/%d/%Y\")\n",
    "time_stamps = [base + datetime.timedelta(minutes=x*10) for x in range(len(global_scores))]"
   ]
  },
  {
   "cell_type": "code",
   "execution_count": null,
   "metadata": {},
   "outputs": [],
   "source": [
    "# run interactive plot\n",
    "interactive_plot(clip_names, time_stamps, global_scores, \"Time\", \"Prediction scores\", TITLE)"
   ]
  }
 ],
 "metadata": {
  "kernelspec": {
   "display_name": "Python 3",
   "language": "python",
   "name": "python3"
  },
  "language_info": {
   "codemirror_mode": {
    "name": "ipython",
    "version": 3
   },
   "file_extension": ".py",
   "mimetype": "text/x-python",
   "name": "python",
   "nbconvert_exporter": "python",
   "pygments_lexer": "ipython3",
   "version": "3.7.7"
  }
 },
 "nbformat": 4,
 "nbformat_minor": 2
}
