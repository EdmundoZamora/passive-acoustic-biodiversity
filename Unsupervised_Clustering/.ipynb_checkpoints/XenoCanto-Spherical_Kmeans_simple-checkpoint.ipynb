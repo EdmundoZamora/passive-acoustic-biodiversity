{
 "cells": [
  {
   "cell_type": "code",
   "execution_count": 4,
   "metadata": {},
   "outputs": [],
   "source": [
    "from __future__ import division\n",
    "\n",
    "import glob\n",
    "import os\n",
    "import numpy as np\n",
    "import pandas as pd\n",
    "import pylab as pl\n",
    "import random\n",
    "import sounddevice as sd\n",
    "\n",
    "from scipy.io import wavfile\n",
    "import matplotlib.pyplot as plt\n",
    "import python_speech_features\n",
    "from python_speech_features import mfcc\n",
    "from sklearn.cluster import MiniBatchKMeans\n",
    "\n",
    "from sklearn.decomposition import PCA\n",
    "from sklearn.manifold import TSNE\n",
    "from sklearn.metrics.pairwise import cosine_similarity\n",
    "#from adjustText import adjust_text\n",
    "from collections import Counter\n",
    "from scipy.io.wavfile import write\n",
    "from sklearn.cluster import AgglomerativeClustering\n",
    "\n",
    "from pyAudioAnalysis import audioBasicIO\n",
    "from pyAudioAnalysis import ShortTermFeatures\n",
    "\n",
    "# import librosa\n",
    "import pydub\n",
    "from pydub import AudioSegment\n",
    "import soundfile as sf\n",
    "import tempfile\n",
    "from pydub.utils import which\n",
    "from scipy.io.wavfile import write\n",
    "import scipy \n",
    "import warnings \n",
    "import samplerate \n",
    "# a lot faster to use\n",
    "# https://stackoverflow.com/questions/29085268/resample-a-numpy-array/52347385#52347385\n",
    "\n",
    "AudioSegment.converter = which(\"ffmpeg\")\n",
    "%matplotlib inline\n",
    "\n",
    "# TODO: put in requirements.txt --> pip install list \n",
    "# pip install pyAudioAnalysis, tqdm, eyed3"
   ]
  },
  {
   "cell_type": "code",
   "execution_count": 5,
   "metadata": {},
   "outputs": [],
   "source": [
    "# Returns all clip indexes within a cluster\n",
    "def get_clip_indexes(cluster_label, clusters):\n",
    "    clips_i = []\n",
    "    for i in range(len(clusters)):\n",
    "        if clusters[i] == cluster_label:\n",
    "            clips_i.append(i)\n",
    "    return clips_i\n",
    "\n",
    "# Plays a random clip in a given cluster\n",
    "def play_random_clip_in_cluster(index, clusters, option='cluster'):\n",
    "    assert(option == 'cluster' or option == 'clip')\n",
    "    if option == 'clip':\n",
    "        index = find_cluster(index, clusters) # Get cluster index\n",
    "    \n",
    "    clips = get_clip_indexes(index, clusters)\n",
    "    clip_i = clips[random.randint(0, len(clips) - 1)]\n",
    "    print('Playing clip index %d ' % clip_i)\n",
    "    play_clip(clip_i)\n",
    "        \n",
    "# Returns the cluster label that a clip belongs to\n",
    "def find_cluster(clip_index, clusters):\n",
    "    return clusters[clip_index]\n",
    "\n",
    "# Plays an audio clip given the clip index\n",
    "def play_clip(clip_index):\n",
    "    samples = shorter_clips[clip_index]\n",
    "    sd.play(samples, samplerate)\n",
    "\n",
    "# Flattens a given list\n",
    "def list_flatten(l):\n",
    "    flat_list = []\n",
    "    for sublist in l:\n",
    "        for item in sublist:\n",
    "            flat_list.append(item)\n",
    "    return flat_list\n",
    "\n",
    "# Saves clip as a wav file\n",
    "def save_clip(filename, wav_array):\n",
    "#     assert('.' not in filename)\n",
    "    write(filename + '.wav', samplerate, wav_array)\n",
    "    \n",
    "# Saves all clips to a directory\n",
    "def save_clips_to_dir(shorter_clips, dirname):\n",
    "    for i, clip in enumerate(shorter_clips):\n",
    "        save_clip(dirname + '/%d' % i, clip) \n",
    "        \n",
    "# def make_bird_species_list(bird_species_list, bird_name, index): \n",
    "#     \"Define bird_species outside of function\"\n",
    "#     if bird_name not in bird_species_list[index]:\n",
    "#         bird_species[index].append(bird_name)\n",
    "# #     return bird_species_list\n",
    "            \n",
    "def convert_mp3_to_wav(mp3_path, sr=44100, mono=True, overwrite=False, dtype='float32'): \n",
    "    # Need to change sample rate to 44.1kHz if using audiomoths\n",
    "    # since mono=True by default, unless you pass mono=False, \n",
    "    # this function will save the wav as mono\n",
    "#     print(\"entering convert_mp3_to_wav\")\n",
    "    \"\"\"\n",
    "    Parts of code from \n",
    "    https://github.com/bill317996/Audio-to-midi/blob/master/cfp.py\n",
    "    \"\"\"\n",
    "    \n",
    "#     warnings.warn(\"deprecated\", DeprecationWarning)\n",
    "    \n",
    "    # in case there is an .MP3\n",
    "    assert mp3_path.lower().endswith('.mp3'), 'filename indicates not mp3'\n",
    "    wav_path_to_write = os.path.splitext(mp3_path)[0] + '.wav'\n",
    "    if not overwrite and os.path.exists(wav_path_to_write):\n",
    "        return\n",
    "    \n",
    "    mp3 = AudioSegment.from_file(mp3_path)\n",
    "    \n",
    "    _, temp_path = tempfile.mkstemp() \n",
    "    mp3.export(temp_path, format='wav')\n",
    "    del mp3\n",
    "    x, fs = sf.read(temp_path)\n",
    "    os.remove(temp_path)\n",
    "    \n",
    "    if mono and len(x.shape)>1: \n",
    "        x = np.mean(x, axis = 1) \n",
    "    if sr:\n",
    "        x = scipy.signal.resample_poly(x, sr, fs)\n",
    "        fs = sr \n",
    "    x = x.astype(dtype)\n",
    "    write(wav_path_to_write, fs, x)\n",
    "    return x, fs    \n",
    "\n",
    "\n",
    "def read(f, normalized=False):\n",
    "    \"\"\"MP3 to numpy array\"\"\"\n",
    "    a = pydub.AudioSegment.from_file(f)\n",
    "    y = np.array(a.get_array_of_samples())\n",
    "    if a.channels == 2:\n",
    "        y = y.reshape((-1, 2))\n",
    "    if normalized:\n",
    "        return a.frame_rate, np.float32(y) / 2**15\n",
    "    else:\n",
    "        return a.frame_rate, y"
   ]
  },
  {
   "cell_type": "markdown",
   "metadata": {},
   "source": [
    "## Load Audio Data"
   ]
  },
  {
   "cell_type": "code",
   "execution_count": 6,
   "metadata": {},
   "outputs": [],
   "source": [
    "def find_n_second_multiples_and_filenames(dir_path, n): \n",
    "    \"\"\" \n",
    "    dir_path (path): path of a directory with desired files\n",
    "    n (int): split data into n-second clips\n",
    "    \n",
    "    #TODO: reduce the numpy array (wav_data)\n",
    "    \"\"\"\n",
    "    wav_data = []\n",
    "    allfilenames = []\n",
    "    # entire filename \n",
    "    timestamp = []\n",
    "\n",
    "    for filename in os.listdir(dir_path):\n",
    "        filepath = os.path.join(dir_path, filename)\n",
    "        print(filepath)\n",
    "        \n",
    "        if filepath == \".DS_Store\": \n",
    "            pass \n",
    "        elif filename.endswith(\".mp3\") or filename.endswith(\".MP3\"): \n",
    "            data, sr = convert_mp3_to_wav(filepath)\n",
    "        elif filename.endswith(\".wav\") or filename.endswith(\".WAV\"):\n",
    "            sr, data = wavfile.read(filepath)\n",
    "            fs = 44100\n",
    "            data = samplerate.resample(data, fs/sr, 'sinc_best')\n",
    "            sr = fs\n",
    "            \n",
    "        num_samples_in_n_seconds =  n  * sr \n",
    "        length_data = len(data)\n",
    "        length_in_seconds = length_data / sr \n",
    "        \n",
    "        if length_data < num_samples_in_n_seconds: \n",
    "            pass\n",
    "        \n",
    "        elif length_data > num_samples_in_n_seconds: \n",
    "            data = data[:-(length_data % num_samples_in_n_seconds)]\n",
    "            num_of_n_clips = int(np.floor(length_data / num_samples_in_n_seconds))\n",
    "            \n",
    "            for i in range(num_of_n_clips): \n",
    "#                 allfilenames.append(list_file_name[0]+list_file_name[1])\n",
    "                allfilenames.append(filename)\n",
    "                data_n_seconds = data[i*num_samples_in_n_seconds:(i+1)*num_samples_in_n_seconds]\n",
    "                timestamp.append([i*n,(i+1)*n])\n",
    "                wav_data.append(data_n_seconds)\n",
    "\n",
    "        else: #length_data == num_samples_in_n_seconds: \n",
    "            allfilenames.append(filename)\n",
    "            wav_data.append(data)\n",
    "            \n",
    "    return wav_data, allfilenames, timestamp"
   ]
  },
  {
   "cell_type": "code",
   "execution_count": 7,
   "metadata": {
    "scrolled": true
   },
   "outputs": [
    {
     "name": "stdout",
     "output_type": "stream",
     "text": [
      "/Volumes/Elements/Test/Data/XC22019 - Blue-crowned Trogon - Trogon curucui.wav\n",
      "/Volumes/Elements/Test/Data/XC22035 - White-bellied Tody-Tyrant - Hemitriccus griseipectus.wav\n",
      "/Volumes/Elements/Test/Data/XC22072 - Sapphire-spangled Emerald - Amazilia lactea.wav\n",
      "/Volumes/Elements/Test/Data/XC496773 - White-lined Antbird - Myrmoborus lophotes.wav\n",
      "/Volumes/Elements/Test/Data/XC496790 - Great Jacamar - Jacamerops aureus.wav\n",
      "/Volumes/Elements/Test/Data/XC91439 - Black-tailed Tityra - Tityra cayana.wav\n",
      "/Volumes/Elements/Test/Data/XC91669 - Cabanis's Spinetail - Synallaxis cabanisi.wav\n",
      "['XC22019 - Blue-crowned Trogon - Trogon curucui.wav', 'XC22019 - Blue-crowned Trogon - Trogon curucui.wav', 'XC22035 - White-bellied Tody-Tyrant - Hemitriccus griseipectus.wav', 'XC496773 - White-lined Antbird - Myrmoborus lophotes.wav', 'XC496773 - White-lined Antbird - Myrmoborus lophotes.wav', 'XC496773 - White-lined Antbird - Myrmoborus lophotes.wav', 'XC496790 - Great Jacamar - Jacamerops aureus.wav', 'XC496790 - Great Jacamar - Jacamerops aureus.wav', \"XC91669 - Cabanis's Spinetail - Synallaxis cabanisi.wav\", \"XC91669 - Cabanis's Spinetail - Synallaxis cabanisi.wav\", \"XC91669 - Cabanis's Spinetail - Synallaxis cabanisi.wav\", \"XC91669 - Cabanis's Spinetail - Synallaxis cabanisi.wav\", \"XC91669 - Cabanis's Spinetail - Synallaxis cabanisi.wav\", \"XC91669 - Cabanis's Spinetail - Synallaxis cabanisi.wav\"]\n",
      "14\n",
      "[[0, 10], [10, 20], [0, 10], [0, 10], [10, 20], [20, 30], [0, 10], [10, 20], [0, 10], [10, 20], [20, 30], [30, 40], [40, 50], [50, 60]]\n",
      "14\n"
     ]
    }
   ],
   "source": [
    "dir_path = '/Volumes/Elements/Test/Data/'\n",
    "# dir_path = '/Volumes/Elements/Madre_de_Dios_Xeno_Canto_Birdcalls/'\n",
    "# dir_path = '/Users/Jacob/Desktop/BioacousticsProject/AudioMothData/GRABADOR-SDZG-AM-15/'\n",
    "# dir_path = '/Volumes/Elements/Mixed_AM_Dataset2_2GB/'\n",
    "\n",
    "shorter_clips, file_names, timestamp = find_n_second_multiples_and_filenames(dir_path, 10)\n",
    "print(file_names)\n",
    "print(len(file_names))\n",
    "print(timestamp)\n",
    "print(len(timestamp))"
   ]
  },
  {
   "cell_type": "markdown",
   "metadata": {},
   "source": [
    "# Spectrograms"
   ]
  },
  {
   "cell_type": "code",
   "execution_count": 8,
   "metadata": {},
   "outputs": [],
   "source": [
    "def plot_spectrogram(samplerate, shorter_clips, clip_index, separate_channels=False):\n",
    "    left_channel = shorter_clips[clip_index][:, 0]\n",
    "    right_channel = shorter_clips[clip_index][:, 1]\n",
    "    \n",
    "    plt.rcParams[\"figure.figsize\"] = (100, 100)\n",
    "    plt.rcParams.update({'font.size': 50})\n",
    "    plt.xlabel('Time')\n",
    "    plt.ylabel('Frequency')\n",
    "    \n",
    "    plt.subplot(211)\n",
    "    if separate_channels:\n",
    "        plt.title('Clip #%d (Left Channel)' % clip_index)\n",
    "        plt.specgram(left_channel, Fs=samplerate)\n",
    "        plt.subplot(212)\n",
    "        plt.title('Clip #%d (Right Channel)' % clip_index)\n",
    "        plt.specgram(right_channel, Fs=samplerate)\n",
    "    else:\n",
    "        plt.title('Clip #%d' % clip_index)\n",
    "        both_channels = left_channel + right_channel\n",
    "        plt.specgram(both_channels, Fs=samplerate)\n",
    "\n",
    "    plt.show()\n",
    "    \n",
    "def plot_spectrogram_of_cluster(samplerate, shorter_clips, cluster_i, clusters, separate_channels=False):\n",
    "    clip_indexes = get_clip_indexes(cluster_i, clusters)\n",
    "    \n",
    "    left_channel = shorter_clips[clip_indexes[0]][:, 0]\n",
    "    right_channel = shorter_clips[clip_indexes[0]][:, 1]\n",
    "    \n",
    "    for i in range(1, len(clip_indexes)):\n",
    "        left_channel = np.append(left_channel, shorter_clips[clip_indexes[i]][:, 0])\n",
    "        right_channel = np.append(right_channel, shorter_clips[clip_indexes[i]][:, 1])\n",
    "    \n",
    "    plt.rcParams[\"figure.figsize\"] = (100, 100)\n",
    "    plt.rcParams.update({'font.size': 50})\n",
    "    plt.xlabel('Time')\n",
    "    plt.ylabel('Frequency')\n",
    "    \n",
    "    plt.subplot(211)\n",
    "    if separate_channels:\n",
    "        plt.title('Cluster #%d (Left Channel)' % cluster_i)\n",
    "        plt.specgram(left_channel, Fs=samplerate)\n",
    "        plt.subplot(212)\n",
    "        plt.title('Cluster #%d (Right Channel)' % cluster_i)\n",
    "        plt.specgram(right_channel, Fs=samplerate)\n",
    "    else:\n",
    "        plt.title('Cluster #%d' % cluster_i)\n",
    "        both_channels = left_channel + right_channel\n",
    "        plt.specgram(both_channels, Fs=samplerate)\n",
    "\n",
    "    plt.show()"
   ]
  },
  {
   "cell_type": "markdown",
   "metadata": {},
   "source": [
    "# Feature Extraction"
   ]
  },
  {
   "cell_type": "code",
   "execution_count": 9,
   "metadata": {
    "scrolled": false
   },
   "outputs": [
    {
     "name": "stdout",
     "output_type": "stream",
     "text": [
      "Extracting features for each of the 14 audio clips\n",
      "clip [ 0.          0.          0.         ... -0.07061823 -0.04971259\n",
      " -0.02154593]\n",
      "clip [ 0.01214649  0.04666091  0.07174726 ... -0.13351686 -0.06414571\n",
      "  0.03042402]\n",
      "clip [ 0.          0.          0.         ... -0.04003615 -0.03369429\n",
      " -0.00735188]\n",
      "clip [0.         0.         0.         ... 0.0881493  0.05867019 0.07281865]\n",
      "clip [ 0.06106231  0.03762175  0.01144261 ... -0.04041994 -0.03492397\n",
      " -0.02832239]\n",
      "clip [-0.01542564  0.01090988  0.03342442 ...  0.02018262  0.01374718\n",
      " -0.00428085]\n",
      "clip [0.         0.         0.         ... 0.01384665 0.02716949 0.04880293]\n",
      "clip [ 0.06546489  0.05930602  0.00584721 ...  0.02948927  0.0114844\n",
      " -0.02627126]\n",
      "clip [ 0.          0.          0.         ... -0.0010984  -0.02581809\n",
      " -0.03063946]\n",
      "clip [-0.01297012  0.01306163  0.03207391 ...  0.00265377 -0.06069579\n",
      " -0.08151905]\n",
      "clip [-0.03206394  0.04420605  0.08021843 ... -0.02313206  0.01238991\n",
      "  0.04006977]\n",
      "clip [ 0.03109726 -0.00442494 -0.03735359 ... -0.0064074   0.00030379\n",
      " -0.00414892]\n",
      "clip [-0.0107132  -0.00741419  0.0035079  ...  0.01736554 -0.02496447\n",
      " -0.04901008]\n",
      "clip [-0.03469969  0.00833256  0.04900992 ... -0.01910499 -0.00988667\n",
      "  0.01595964]\n",
      "done\n",
      "[array([ 0.        ,  0.        ,  0.        , ..., -0.07061823,\n",
      "       -0.04971259, -0.02154593], dtype=float32), array([ 0.01214649,  0.04666091,  0.07174726, ..., -0.13351686,\n",
      "       -0.06414571,  0.03042402], dtype=float32), array([ 0.        ,  0.        ,  0.        , ..., -0.04003615,\n",
      "       -0.03369429, -0.00735188], dtype=float32), array([0.        , 0.        , 0.        , ..., 0.0881493 , 0.05867019,\n",
      "       0.07281865], dtype=float32), array([ 0.06106231,  0.03762175,  0.01144261, ..., -0.04041994,\n",
      "       -0.03492397, -0.02832239], dtype=float32), array([-0.01542564,  0.01090988,  0.03342442, ...,  0.02018262,\n",
      "        0.01374718, -0.00428085], dtype=float32), array([0.        , 0.        , 0.        , ..., 0.01384665, 0.02716949,\n",
      "       0.04880293], dtype=float32), array([ 0.06546489,  0.05930602,  0.00584721, ...,  0.02948927,\n",
      "        0.0114844 , -0.02627126], dtype=float32), array([ 0.        ,  0.        ,  0.        , ..., -0.0010984 ,\n",
      "       -0.02581809, -0.03063946], dtype=float32), array([-0.01297012,  0.01306163,  0.03207391, ...,  0.00265377,\n",
      "       -0.06069579, -0.08151905], dtype=float32), array([-0.03206394,  0.04420605,  0.08021843, ..., -0.02313206,\n",
      "        0.01238991,  0.04006977], dtype=float32), array([ 0.03109726, -0.00442494, -0.03735359, ..., -0.0064074 ,\n",
      "        0.00030379, -0.00414892], dtype=float32), array([-0.0107132 , -0.00741419,  0.0035079 , ...,  0.01736554,\n",
      "       -0.02496447, -0.04901008], dtype=float32), array([-0.03469969,  0.00833256,  0.04900992, ..., -0.01910499,\n",
      "       -0.00988667,  0.01595964], dtype=float32)]\n",
      "14\n",
      "[array([-19.12015084, -32.64945512, -13.89439846, ..., -13.64045661,\n",
      "        -6.72547339,   6.60367935]), array([  0.30756278,  -7.18389531, -60.48352284, ...,   7.29173442,\n",
      "         7.48950084,   7.4637052 ]), array([-25.98491527, -20.27203843,   8.83575412, ..., -17.03234796,\n",
      "         2.96504781,  21.69832597]), array([ -8.4321703 , -36.11128971,   4.76910839, ...,  15.07775054,\n",
      "        10.12807489, -14.03186639]), array([ -0.79416089, -28.96845591, -34.29394935, ...,   9.46581853,\n",
      "        12.07601908,  -9.31275899]), array([ -0.75587122, -29.15323645, -31.18165181, ...,   2.79334384,\n",
      "        12.82284839,   1.8508295 ]), array([ -9.64708292, -35.6434974 , -13.72418411, ...,  10.15681187,\n",
      "        -3.0467762 , -20.40195699]), array([ -2.01020621, -26.09802852, -28.0078541 , ...,   5.69178678,\n",
      "       -10.15198932,  -2.51660035]), array([-12.22145326, -30.11530718, -18.03930472, ..., -28.15897233,\n",
      "         4.15583436,   9.65054701]), array([ -0.92362555, -20.16347113, -20.77487738, ..., -27.12284251,\n",
      "         2.42114605,   4.01002096]), array([ -0.28277065, -43.30925943, -39.33105285, ..., -15.58987222,\n",
      "        -1.65563482,  -0.76732245]), array([ -0.2293298 , -32.78803436, -29.96307795, ..., -16.59916851,\n",
      "         0.29959859,  -7.05344791]), array([ -0.26846463, -32.97979035, -34.64390943, ..., -31.44911796,\n",
      "         4.64009936,  -4.27753965]), array([ -0.28772777, -30.05623742, -27.0583047 , ..., -21.08059417,\n",
      "         8.38359892,  -1.86201925])]\n",
      "(12987,)\n"
     ]
    }
   ],
   "source": [
    "# TODO: Add a way to select and evaluate features\n",
    "samplerate = 44100\n",
    "def extract_features(shorter_clips, mfcc_only=False, mono=False):\n",
    "    feat_clips = []\n",
    "\n",
    "    print('Extracting features for each of the %d audio clips' % len(shorter_clips))\n",
    "    for clip in shorter_clips:\n",
    "        print(\"clip\", clip)\n",
    "        if mono == False:\n",
    "            clip = clip[:, 0] + clip[:, 1] # Merging left and right channels\n",
    "\n",
    "        mfcc_feat=None\n",
    "        if mfcc_only:\n",
    "            mfcc_feat = mfcc(clip, samplerate, winlen=0.023, nfft = 1024).flatten()\n",
    "\n",
    "        else:\n",
    "            mfcc_feat = ShortTermFeatures.feature_extraction(clip, samplerate, 0.050*samplerate, 0.025*samplerate)\n",
    "            print('')\n",
    "            print(mfcc_feat[1])\n",
    "\n",
    "        # Append the features\n",
    "        if mfcc_only:\n",
    "            feat_clips.append(mfcc_feat)\n",
    "        else:\n",
    "            feat_clips.append(list_flatten(mfcc_feat[0]))\n",
    "\n",
    "    print('done')\n",
    "    return feat_clips\n",
    "    \n",
    "# Set mfcc_only to True to shorten runtime\n",
    "mfcc_clips = extract_features(shorter_clips, mfcc_only=True, mono=True)\n",
    "# mfcc_clips = extract_features(shorter_clips, mfcc_only=True, mono=True)\n",
    "#all_feat_clips = extract_features(shorter_clips)\n",
    "print(shorter_clips)\n",
    "print(len(mfcc_clips))\n",
    "print(mfcc_clips)\n",
    "print(mfcc_clips[0].shape)\n"
   ]
  },
  {
   "cell_type": "code",
   "execution_count": 26,
   "metadata": {},
   "outputs": [
    {
     "name": "stdout",
     "output_type": "stream",
     "text": [
      "1\n",
      "2\n",
      "3\n",
      "4\n",
      "5\n",
      "6\n",
      "7\n",
      "8\n",
      "9\n",
      "10\n",
      "11\n",
      "12\n",
      "13\n",
      "3\n"
     ]
    },
    {
     "data": {
      "image/png": "[encoded data removed]",
      "text/plain": [
       "<Figure size 432x288 with 1 Axes>"
      ]
     },
     "metadata": {
      "needs_background": "light"
     },
     "output_type": "display_data"
    },
    {
     "name": "stdout",
     "output_type": "stream",
     "text": [
      "[0.7010091809859365, 0.31577779698246283, 0.1276880840633417, 0.08327476038214174, 0.04566021682010139, 0.035767014698136874, 0.02459621852840164, 0.020116017711530966, 0.013988220399240038, 0.009500075994524656, 0.006327605691791629, 0.0036546172144683526, 0.001210170156294167]\n"
     ]
    }
   ],
   "source": [
    "from kneed import KneeLocator\n",
    "# from spherecluster import SphericalKMeans\n",
    "from sklearn.cluster import KMeans\n",
    "from sklearn import metrics\n",
    "from scipy.spatial.distance import cdist\n",
    "from sklearn.preprocessing import MinMaxScaler\n",
    "\n",
    "distortions = []\n",
    "K = range(1, 14)\n",
    "for k in K:\n",
    "    kmeanModel = KMeans(n_clusters=k).fit(X)\n",
    "    print(k)\n",
    "    distortions.append(sum(np.min(cdist(X, kmeanModel.cluster_centers_, 'euclidean'), axis=1)) / X.shape[0])\n",
    "    \n",
    "kn = KneeLocator(K, distortions, curve='convex', direction='decreasing')\n",
    "print(kn.knee)\n",
    "    \n",
    "plt.plot(K, distortions, 'bx-')\n",
    "plt.xlabel('k')\n",
    "plt.ylabel('Distortion')\n",
    "plt.title('The Elbow Method showing the optimal k')\n",
    "plt.show()\n",
    "\n",
    "print(distortions)"
   ]
  },
  {
   "cell_type": "code",
   "execution_count": 19,
   "metadata": {},
   "outputs": [
    {
     "name": "stdout",
     "output_type": "stream",
     "text": [
      "3\n"
     ]
    },
    {
     "data": {
      "image/png": "[encoded data removed]",
      "text/plain": [
       "<Figure size 432x288 with 1 Axes>"
      ]
     },
     "metadata": {
      "needs_background": "light"
     },
     "output_type": "display_data"
    }
   ],
   "source": [
    "from kneed import KneeLocator\n",
    "from spherecluster import SphericalKMeans\n",
    "from sklearn.preprocessing import MinMaxScaler\n",
    "\n",
    "Sum_of_squared_distances = []\n",
    "distortions = []\n",
    "K = range(1, 14)\n",
    "for k in K:\n",
    "    kmeans = SphericalKMeans(n_clusters = k).fit(X)\n",
    "    Sum_of_squared_distances.append(kmeans.inertia_)\n",
    "\n",
    "kn = KneeLocator(K, Sum_of_squared_distances, curve='convex', direction='decreasing')\n",
    "print(kn.knee)\n",
    "    \n",
    "plt.plot(K, Sum_of_squared_distances)\n",
    "plt.title('Elbow method')\n",
    "plt.xlabel('No of clusters')\n",
    "plt.ylabel('Sum of Squared Distances')\n",
    "plt.show()"
   ]
  },
  {
   "cell_type": "markdown",
   "metadata": {},
   "source": [
    "# Clustering"
   ]
  },
  {
   "cell_type": "code",
   "execution_count": 10,
   "metadata": {},
   "outputs": [],
   "source": [
    "dist = 1 - cosine_similarity(mfcc_clips)\n",
    "mds = PCA(n_components=2, random_state=1)\n",
    "pos = mds.fit_transform(dist)  # shape (n_components, n_samples)\n",
    "\n",
    "X = pos"
   ]
  },
  {
   "cell_type": "code",
   "execution_count": 11,
   "metadata": {
    "scrolled": true
   },
   "outputs": [
    {
     "data": {
      "image/png": "[encoded data removed]",
      "text/plain": [
       "<Figure size 1152x1152 with 1 Axes>"
      ]
     },
     "metadata": {
      "needs_background": "light"
     },
     "output_type": "display_data"
    }
   ],
   "source": [
    "from scipy.cluster.hierarchy import dendrogram, linkage\n",
    "from matplotlib import pyplot as plt\n",
    "\n",
    "linked = linkage(X, 'single')\n",
    "\n",
    "labelList = range(len(X))\n",
    "\n",
    "plt.figure(figsize=(16, 16))\n",
    "dendro = dendrogram(linked,\n",
    "#             p=7,\n",
    "            orientation='top',\n",
    "            #labels=labelList,\n",
    "            truncate_mode='level',\n",
    "            distance_sort='descending',\n",
    "            show_leaf_counts=True)\n",
    "plt.show()"
   ]
  },
  {
   "cell_type": "code",
   "execution_count": 12,
   "metadata": {
    "scrolled": false
   },
   "outputs": [],
   "source": [
    "def cluster_plot(pos, title='', without_labels=False, width=20, height=20, savepath=''):\n",
    "    plt.rc('font', size=15)\n",
    "    \n",
    "    xs, ys = pos[:, 0], pos[:, 1]\n",
    "    \n",
    "    labels = range(len(shorter_clips))\n",
    "\n",
    "    # Data frame with TSNE data, the cluster numbers and titles\n",
    "    cluster_df = pd.DataFrame(dict(x=xs, y=ys, clusters=clusters, labels=labels)) \n",
    "\n",
    "    fig, ax = plt.subplots(figsize=(width, height))\n",
    "    ax.margins(0.05)\n",
    "    ax.set_title(title)\n",
    "\n",
    "    groups = cluster_df.groupby('clusters')\n",
    "    for name, group in groups:\n",
    "        ax.plot(group.x, group.y, marker='o', linestyle='', ms=12, mec='none', label=name)\n",
    "        ax.set_aspect('auto')\n",
    "        ax.tick_params(axis= 'x', which='both', bottom='off', top='off', labelbottom='off')\n",
    "        ax.tick_params(axis= 'y', which='both', left='off', top='off', labelleft='off')\n",
    "\n",
    "    ax.legend(numpoints=1)\n",
    "    ax.legend(bbox_to_anchor=(1.1, 1.05))\n",
    "\n",
    "    #Add labels\n",
    "    if not without_labels:\n",
    "        texts = []\n",
    "        for i in range(len(cluster_df)):\n",
    "            texts.append(ax.text(cluster_df.loc[i, 'x'], cluster_df.loc[i, 'y'], cluster_df.loc[i,'labels'], size=10)) \n",
    "\n",
    "        #adjust_text(texts, arrowprops=dict(arrowstyle='->', color='red'))\n",
    "    \n",
    "    if savepath != '':\n",
    "        plt.savefig(savepath, dpi=200, bbox_inches=\"tight\")\n",
    "\n",
    "    plt.show()"
   ]
  },
  {
   "cell_type": "markdown",
   "metadata": {},
   "source": [
    "#### Choose number of clusters\n",
    "Note the the number of clusters needs to be less than the length of mfcc_clips"
   ]
  },
  {
   "cell_type": "code",
   "execution_count": 10,
   "metadata": {
    "scrolled": true
   },
   "outputs": [
    {
     "name": "stdout",
     "output_type": "stream",
     "text": [
      "300\n"
     ]
    }
   ],
   "source": [
    "print(len(mfcc_clips))"
   ]
  },
  {
   "cell_type": "code",
   "execution_count": 20,
   "metadata": {
    "scrolled": false
   },
   "outputs": [],
   "source": [
    "# Chose 134 from the number of bird species in the XenoCanto data\n",
    "n_clusters = 9\n",
    "\n",
    "# Fit clustering model\n",
    "# clusters = AgglomerativeClustering(n_clusters=n_clusters, affinity='euclidean', linkage='ward').fit_predict(mfcc_clips)\n",
    "\n",
    "clusters = SphericalKMeans(n_clusters = k).fit(mfcc_clips)\n"
   ]
  },
  {
   "cell_type": "code",
   "execution_count": 38,
   "metadata": {},
   "outputs": [
    {
     "ename": "AttributeError",
     "evalue": "'AgglomerativeClustering' object has no attribute 'labels_'",
     "output_type": "error",
     "traceback": [
      "\u001b[0;31m---------------------------------------------------------------------------\u001b[0m",
      "\u001b[0;31mAttributeError\u001b[0m                            Traceback (most recent call last)",
      "\u001b[0;32m<ipython-input-38-af9a9714a43e>\u001b[0m in \u001b[0;36m<module>\u001b[0;34m\u001b[0m\n\u001b[1;32m      1\u001b[0m \u001b[0magg_average\u001b[0m \u001b[0;34m=\u001b[0m \u001b[0mAgglomerativeClustering\u001b[0m\u001b[0;34m(\u001b[0m\u001b[0mlinkage\u001b[0m\u001b[0;34m=\u001b[0m\u001b[0;34m\"average\"\u001b[0m\u001b[0;34m)\u001b[0m\u001b[0;34m\u001b[0m\u001b[0;34m\u001b[0m\u001b[0m\n\u001b[1;32m      2\u001b[0m \u001b[0;31m# clustering_average = agg_average.fit(X)\u001b[0m\u001b[0;34m\u001b[0m\u001b[0;34m\u001b[0m\u001b[0;34m\u001b[0m\u001b[0m\n\u001b[0;32m----> 3\u001b[0;31m \u001b[0msilhouette_score\u001b[0m\u001b[0;34m(\u001b[0m\u001b[0mX\u001b[0m\u001b[0;34m,\u001b[0m \u001b[0magg_average\u001b[0m\u001b[0;34m.\u001b[0m\u001b[0mlabels_\u001b[0m\u001b[0;34m,\u001b[0m \u001b[0mmetric\u001b[0m\u001b[0;34m=\u001b[0m\u001b[0;34m'euclidean'\u001b[0m\u001b[0;34m)\u001b[0m\u001b[0;34m\u001b[0m\u001b[0;34m\u001b[0m\u001b[0m\n\u001b[0m",
      "\u001b[0;31mAttributeError\u001b[0m: 'AgglomerativeClustering' object has no attribute 'labels_'"
     ]
    }
   ],
   "source": [
    "agg_average = AgglomerativeClustering(linkage=\"average\")\n",
    "# clustering_average = agg_average.fit(X)\n",
    "silhouette_score(X, agg_average.labels_, metric='euclidean')"
   ]
  },
  {
   "cell_type": "code",
   "execution_count": null,
   "metadata": {
    "scrolled": false
   },
   "outputs": [],
   "source": [
    "# savepath = '/Volumes/Elements/dendrogram'\n",
    "plt.savefig(savepath, dpi=200, bbox_inches=\"tight\")"
   ]
  },
  {
   "cell_type": "code",
   "execution_count": 21,
   "metadata": {
    "scrolled": true
   },
   "outputs": [
    {
     "ename": "FileNotFoundError",
     "evalue": "[Errno 2] No such file or directory: '/Volumes/Elements/Madre_de_Dios_Xeno_Canto_Birdcalls/Clusters_XenoCanto/pca.png'",
     "output_type": "error",
     "traceback": [
      "\u001b[0;31m---------------------------------------------------------------------------\u001b[0m",
      "\u001b[0;31mFileNotFoundError\u001b[0m                         Traceback (most recent call last)",
      "\u001b[0;32m<ipython-input-21-059edbf630fc>\u001b[0m in \u001b[0;36m<module>\u001b[0;34m\u001b[0m\n\u001b[1;32m      4\u001b[0m \u001b[0mpos\u001b[0m \u001b[0;34m=\u001b[0m \u001b[0mmds\u001b[0m\u001b[0;34m.\u001b[0m\u001b[0mfit_transform\u001b[0m\u001b[0;34m(\u001b[0m\u001b[0mdist\u001b[0m\u001b[0;34m)\u001b[0m  \u001b[0;31m# shape (n_components, n_samples)\u001b[0m\u001b[0;34m\u001b[0m\u001b[0;34m\u001b[0m\u001b[0m\n\u001b[1;32m      5\u001b[0m \u001b[0;34m\u001b[0m\u001b[0m\n\u001b[0;32m----> 6\u001b[0;31m \u001b[0mcluster_plot\u001b[0m\u001b[0;34m(\u001b[0m\u001b[0mpos\u001b[0m\u001b[0;34m,\u001b[0m \u001b[0;34m'PCA Cluster Plot'\u001b[0m\u001b[0;34m,\u001b[0m \u001b[0mwithout_labels\u001b[0m\u001b[0;34m=\u001b[0m\u001b[0;32mTrue\u001b[0m\u001b[0;34m,\u001b[0m \u001b[0msavepath\u001b[0m\u001b[0;34m=\u001b[0m\u001b[0;34m'/Volumes/Elements/Madre_de_Dios_Xeno_Canto_Birdcalls/Clusters_XenoCanto/pca.png'\u001b[0m\u001b[0;34m)\u001b[0m\u001b[0;34m\u001b[0m\u001b[0;34m\u001b[0m\u001b[0m\n\u001b[0m",
      "\u001b[0;32m<ipython-input-12-7e7a7dffc44e>\u001b[0m in \u001b[0;36mcluster_plot\u001b[0;34m(pos, title, without_labels, width, height, savepath)\u001b[0m\n\u001b[1;32m     32\u001b[0m \u001b[0;34m\u001b[0m\u001b[0m\n\u001b[1;32m     33\u001b[0m     \u001b[0;32mif\u001b[0m \u001b[0msavepath\u001b[0m \u001b[0;34m!=\u001b[0m \u001b[0;34m''\u001b[0m\u001b[0;34m:\u001b[0m\u001b[0;34m\u001b[0m\u001b[0;34m\u001b[0m\u001b[0m\n\u001b[0;32m---> 34\u001b[0;31m         \u001b[0mplt\u001b[0m\u001b[0;34m.\u001b[0m\u001b[0msavefig\u001b[0m\u001b[0;34m(\u001b[0m\u001b[0msavepath\u001b[0m\u001b[0;34m,\u001b[0m \u001b[0mdpi\u001b[0m\u001b[0;34m=\u001b[0m\u001b[0;36m200\u001b[0m\u001b[0;34m,\u001b[0m \u001b[0mbbox_inches\u001b[0m\u001b[0;34m=\u001b[0m\u001b[0;34m\"tight\"\u001b[0m\u001b[0;34m)\u001b[0m\u001b[0;34m\u001b[0m\u001b[0;34m\u001b[0m\u001b[0m\n\u001b[0m\u001b[1;32m     35\u001b[0m \u001b[0;34m\u001b[0m\u001b[0m\n\u001b[1;32m     36\u001b[0m     \u001b[0mplt\u001b[0m\u001b[0;34m.\u001b[0m\u001b[0mshow\u001b[0m\u001b[0;34m(\u001b[0m\u001b[0;34m)\u001b[0m\u001b[0;34m\u001b[0m\u001b[0;34m\u001b[0m\u001b[0m\n",
      "\u001b[0;32m/anaconda3/lib/python3.6/site-packages/matplotlib/pyplot.py\u001b[0m in \u001b[0;36msavefig\u001b[0;34m(*args, **kwargs)\u001b[0m\n\u001b[1;32m    721\u001b[0m \u001b[0;32mdef\u001b[0m \u001b[0msavefig\u001b[0m\u001b[0;34m(\u001b[0m\u001b[0;34m*\u001b[0m\u001b[0margs\u001b[0m\u001b[0;34m,\u001b[0m \u001b[0;34m**\u001b[0m\u001b[0mkwargs\u001b[0m\u001b[0;34m)\u001b[0m\u001b[0;34m:\u001b[0m\u001b[0;34m\u001b[0m\u001b[0;34m\u001b[0m\u001b[0m\n\u001b[1;32m    722\u001b[0m     \u001b[0mfig\u001b[0m \u001b[0;34m=\u001b[0m \u001b[0mgcf\u001b[0m\u001b[0;34m(\u001b[0m\u001b[0;34m)\u001b[0m\u001b[0;34m\u001b[0m\u001b[0;34m\u001b[0m\u001b[0m\n\u001b[0;32m--> 723\u001b[0;31m     \u001b[0mres\u001b[0m \u001b[0;34m=\u001b[0m \u001b[0mfig\u001b[0m\u001b[0;34m.\u001b[0m\u001b[0msavefig\u001b[0m\u001b[0;34m(\u001b[0m\u001b[0;34m*\u001b[0m\u001b[0margs\u001b[0m\u001b[0;34m,\u001b[0m \u001b[0;34m**\u001b[0m\u001b[0mkwargs\u001b[0m\u001b[0;34m)\u001b[0m\u001b[0;34m\u001b[0m\u001b[0;34m\u001b[0m\u001b[0m\n\u001b[0m\u001b[1;32m    724\u001b[0m     \u001b[0mfig\u001b[0m\u001b[0;34m.\u001b[0m\u001b[0mcanvas\u001b[0m\u001b[0;34m.\u001b[0m\u001b[0mdraw_idle\u001b[0m\u001b[0;34m(\u001b[0m\u001b[0;34m)\u001b[0m   \u001b[0;31m# need this if 'transparent=True' to reset colors\u001b[0m\u001b[0;34m\u001b[0m\u001b[0;34m\u001b[0m\u001b[0m\n\u001b[1;32m    725\u001b[0m     \u001b[0;32mreturn\u001b[0m \u001b[0mres\u001b[0m\u001b[0;34m\u001b[0m\u001b[0;34m\u001b[0m\u001b[0m\n",
      "\u001b[0;32m/anaconda3/lib/python3.6/site-packages/matplotlib/figure.py\u001b[0m in \u001b[0;36msavefig\u001b[0;34m(self, fname, transparent, **kwargs)\u001b[0m\n\u001b[1;32m   2201\u001b[0m             \u001b[0mself\u001b[0m\u001b[0;34m.\u001b[0m\u001b[0mpatch\u001b[0m\u001b[0;34m.\u001b[0m\u001b[0mset_visible\u001b[0m\u001b[0;34m(\u001b[0m\u001b[0mframeon\u001b[0m\u001b[0;34m)\u001b[0m\u001b[0;34m\u001b[0m\u001b[0;34m\u001b[0m\u001b[0m\n\u001b[1;32m   2202\u001b[0m \u001b[0;34m\u001b[0m\u001b[0m\n\u001b[0;32m-> 2203\u001b[0;31m         \u001b[0mself\u001b[0m\u001b[0;34m.\u001b[0m\u001b[0mcanvas\u001b[0m\u001b[0;34m.\u001b[0m\u001b[0mprint_figure\u001b[0m\u001b[0;34m(\u001b[0m\u001b[0mfname\u001b[0m\u001b[0;34m,\u001b[0m \u001b[0;34m**\u001b[0m\u001b[0mkwargs\u001b[0m\u001b[0;34m)\u001b[0m\u001b[0;34m\u001b[0m\u001b[0;34m\u001b[0m\u001b[0m\n\u001b[0m\u001b[1;32m   2204\u001b[0m \u001b[0;34m\u001b[0m\u001b[0m\n\u001b[1;32m   2205\u001b[0m         \u001b[0;32mif\u001b[0m \u001b[0mframeon\u001b[0m\u001b[0;34m:\u001b[0m\u001b[0;34m\u001b[0m\u001b[0;34m\u001b[0m\u001b[0m\n",
      "\u001b[0;32m/anaconda3/lib/python3.6/site-packages/matplotlib/backend_bases.py\u001b[0m in \u001b[0;36mprint_figure\u001b[0;34m(self, filename, dpi, facecolor, edgecolor, orientation, format, bbox_inches, **kwargs)\u001b[0m\n\u001b[1;32m   2124\u001b[0m                     \u001b[0morientation\u001b[0m\u001b[0;34m=\u001b[0m\u001b[0morientation\u001b[0m\u001b[0;34m,\u001b[0m\u001b[0;34m\u001b[0m\u001b[0;34m\u001b[0m\u001b[0m\n\u001b[1;32m   2125\u001b[0m                     \u001b[0mbbox_inches_restore\u001b[0m\u001b[0;34m=\u001b[0m\u001b[0m_bbox_inches_restore\u001b[0m\u001b[0;34m,\u001b[0m\u001b[0;34m\u001b[0m\u001b[0;34m\u001b[0m\u001b[0m\n\u001b[0;32m-> 2126\u001b[0;31m                     **kwargs)\n\u001b[0m\u001b[1;32m   2127\u001b[0m             \u001b[0;32mfinally\u001b[0m\u001b[0;34m:\u001b[0m\u001b[0;34m\u001b[0m\u001b[0;34m\u001b[0m\u001b[0m\n\u001b[1;32m   2128\u001b[0m                 \u001b[0;32mif\u001b[0m \u001b[0mbbox_inches\u001b[0m \u001b[0;32mand\u001b[0m \u001b[0mrestore_bbox\u001b[0m\u001b[0;34m:\u001b[0m\u001b[0;34m\u001b[0m\u001b[0;34m\u001b[0m\u001b[0m\n",
      "\u001b[0;32m/anaconda3/lib/python3.6/site-packages/matplotlib/backends/backend_agg.py\u001b[0m in \u001b[0;36mprint_png\u001b[0;34m(self, filename_or_obj, metadata, pil_kwargs, *args, **kwargs)\u001b[0m\n\u001b[1;32m    533\u001b[0m         \u001b[0;32melse\u001b[0m\u001b[0;34m:\u001b[0m\u001b[0;34m\u001b[0m\u001b[0;34m\u001b[0m\u001b[0m\n\u001b[1;32m    534\u001b[0m             \u001b[0mrenderer\u001b[0m \u001b[0;34m=\u001b[0m \u001b[0mself\u001b[0m\u001b[0;34m.\u001b[0m\u001b[0mget_renderer\u001b[0m\u001b[0;34m(\u001b[0m\u001b[0;34m)\u001b[0m\u001b[0;34m\u001b[0m\u001b[0;34m\u001b[0m\u001b[0m\n\u001b[0;32m--> 535\u001b[0;31m             \u001b[0;32mwith\u001b[0m \u001b[0mcbook\u001b[0m\u001b[0;34m.\u001b[0m\u001b[0mopen_file_cm\u001b[0m\u001b[0;34m(\u001b[0m\u001b[0mfilename_or_obj\u001b[0m\u001b[0;34m,\u001b[0m \u001b[0;34m\"wb\"\u001b[0m\u001b[0;34m)\u001b[0m \u001b[0;32mas\u001b[0m \u001b[0mfh\u001b[0m\u001b[0;34m:\u001b[0m\u001b[0;34m\u001b[0m\u001b[0;34m\u001b[0m\u001b[0m\n\u001b[0m\u001b[1;32m    536\u001b[0m                 _png.write_png(renderer._renderer, fh, self.figure.dpi,\n\u001b[1;32m    537\u001b[0m                                metadata={**default_metadata, **metadata})\n",
      "\u001b[0;32m/anaconda3/lib/python3.6/contextlib.py\u001b[0m in \u001b[0;36m__enter__\u001b[0;34m(self)\u001b[0m\n\u001b[1;32m     79\u001b[0m     \u001b[0;32mdef\u001b[0m \u001b[0m__enter__\u001b[0m\u001b[0;34m(\u001b[0m\u001b[0mself\u001b[0m\u001b[0;34m)\u001b[0m\u001b[0;34m:\u001b[0m\u001b[0;34m\u001b[0m\u001b[0;34m\u001b[0m\u001b[0m\n\u001b[1;32m     80\u001b[0m         \u001b[0;32mtry\u001b[0m\u001b[0;34m:\u001b[0m\u001b[0;34m\u001b[0m\u001b[0;34m\u001b[0m\u001b[0m\n\u001b[0;32m---> 81\u001b[0;31m             \u001b[0;32mreturn\u001b[0m \u001b[0mnext\u001b[0m\u001b[0;34m(\u001b[0m\u001b[0mself\u001b[0m\u001b[0;34m.\u001b[0m\u001b[0mgen\u001b[0m\u001b[0;34m)\u001b[0m\u001b[0;34m\u001b[0m\u001b[0;34m\u001b[0m\u001b[0m\n\u001b[0m\u001b[1;32m     82\u001b[0m         \u001b[0;32mexcept\u001b[0m \u001b[0mStopIteration\u001b[0m\u001b[0;34m:\u001b[0m\u001b[0;34m\u001b[0m\u001b[0;34m\u001b[0m\u001b[0m\n\u001b[1;32m     83\u001b[0m             \u001b[0;32mraise\u001b[0m \u001b[0mRuntimeError\u001b[0m\u001b[0;34m(\u001b[0m\u001b[0;34m\"generator didn't yield\"\u001b[0m\u001b[0;34m)\u001b[0m \u001b[0;32mfrom\u001b[0m \u001b[0;32mNone\u001b[0m\u001b[0;34m\u001b[0m\u001b[0;34m\u001b[0m\u001b[0m\n",
      "\u001b[0;32m/anaconda3/lib/python3.6/site-packages/matplotlib/cbook/__init__.py\u001b[0m in \u001b[0;36mopen_file_cm\u001b[0;34m(path_or_file, mode, encoding)\u001b[0m\n\u001b[1;32m    416\u001b[0m \u001b[0;32mdef\u001b[0m \u001b[0mopen_file_cm\u001b[0m\u001b[0;34m(\u001b[0m\u001b[0mpath_or_file\u001b[0m\u001b[0;34m,\u001b[0m \u001b[0mmode\u001b[0m\u001b[0;34m=\u001b[0m\u001b[0;34m\"r\"\u001b[0m\u001b[0;34m,\u001b[0m \u001b[0mencoding\u001b[0m\u001b[0;34m=\u001b[0m\u001b[0;32mNone\u001b[0m\u001b[0;34m)\u001b[0m\u001b[0;34m:\u001b[0m\u001b[0;34m\u001b[0m\u001b[0;34m\u001b[0m\u001b[0m\n\u001b[1;32m    417\u001b[0m     \u001b[0;34mr\"\"\"Pass through file objects and context-manage `.PathLike`\\s.\"\"\"\u001b[0m\u001b[0;34m\u001b[0m\u001b[0;34m\u001b[0m\u001b[0m\n\u001b[0;32m--> 418\u001b[0;31m     \u001b[0mfh\u001b[0m\u001b[0;34m,\u001b[0m \u001b[0mopened\u001b[0m \u001b[0;34m=\u001b[0m \u001b[0mto_filehandle\u001b[0m\u001b[0;34m(\u001b[0m\u001b[0mpath_or_file\u001b[0m\u001b[0;34m,\u001b[0m \u001b[0mmode\u001b[0m\u001b[0;34m,\u001b[0m \u001b[0;32mTrue\u001b[0m\u001b[0;34m,\u001b[0m \u001b[0mencoding\u001b[0m\u001b[0;34m)\u001b[0m\u001b[0;34m\u001b[0m\u001b[0;34m\u001b[0m\u001b[0m\n\u001b[0m\u001b[1;32m    419\u001b[0m     \u001b[0;32mif\u001b[0m \u001b[0mopened\u001b[0m\u001b[0;34m:\u001b[0m\u001b[0;34m\u001b[0m\u001b[0;34m\u001b[0m\u001b[0m\n\u001b[1;32m    420\u001b[0m         \u001b[0;32mwith\u001b[0m \u001b[0mfh\u001b[0m\u001b[0;34m:\u001b[0m\u001b[0;34m\u001b[0m\u001b[0;34m\u001b[0m\u001b[0m\n",
      "\u001b[0;32m/anaconda3/lib/python3.6/site-packages/matplotlib/cbook/__init__.py\u001b[0m in \u001b[0;36mto_filehandle\u001b[0;34m(fname, flag, return_opened, encoding)\u001b[0m\n\u001b[1;32m    401\u001b[0m             \u001b[0mfh\u001b[0m \u001b[0;34m=\u001b[0m \u001b[0mbz2\u001b[0m\u001b[0;34m.\u001b[0m\u001b[0mBZ2File\u001b[0m\u001b[0;34m(\u001b[0m\u001b[0mfname\u001b[0m\u001b[0;34m,\u001b[0m \u001b[0mflag\u001b[0m\u001b[0;34m)\u001b[0m\u001b[0;34m\u001b[0m\u001b[0;34m\u001b[0m\u001b[0m\n\u001b[1;32m    402\u001b[0m         \u001b[0;32melse\u001b[0m\u001b[0;34m:\u001b[0m\u001b[0;34m\u001b[0m\u001b[0;34m\u001b[0m\u001b[0m\n\u001b[0;32m--> 403\u001b[0;31m             \u001b[0mfh\u001b[0m \u001b[0;34m=\u001b[0m \u001b[0mopen\u001b[0m\u001b[0;34m(\u001b[0m\u001b[0mfname\u001b[0m\u001b[0;34m,\u001b[0m \u001b[0mflag\u001b[0m\u001b[0;34m,\u001b[0m \u001b[0mencoding\u001b[0m\u001b[0;34m=\u001b[0m\u001b[0mencoding\u001b[0m\u001b[0;34m)\u001b[0m\u001b[0;34m\u001b[0m\u001b[0;34m\u001b[0m\u001b[0m\n\u001b[0m\u001b[1;32m    404\u001b[0m         \u001b[0mopened\u001b[0m \u001b[0;34m=\u001b[0m \u001b[0;32mTrue\u001b[0m\u001b[0;34m\u001b[0m\u001b[0;34m\u001b[0m\u001b[0m\n\u001b[1;32m    405\u001b[0m     \u001b[0;32melif\u001b[0m \u001b[0mhasattr\u001b[0m\u001b[0;34m(\u001b[0m\u001b[0mfname\u001b[0m\u001b[0;34m,\u001b[0m \u001b[0;34m'seek'\u001b[0m\u001b[0;34m)\u001b[0m\u001b[0;34m:\u001b[0m\u001b[0;34m\u001b[0m\u001b[0;34m\u001b[0m\u001b[0m\n",
      "\u001b[0;31mFileNotFoundError\u001b[0m: [Errno 2] No such file or directory: '/Volumes/Elements/Madre_de_Dios_Xeno_Canto_Birdcalls/Clusters_XenoCanto/pca.png'"
     ]
    },
    {
     "data": {
      "image/png": "[encoded data removed]",
      "text/plain": [
       "<Figure size 1440x1440 with 1 Axes>"
      ]
     },
     "metadata": {
      "needs_background": "light"
     },
     "output_type": "display_data"
    }
   ],
   "source": [
    "# Project the data onto 2D graph - 10 clusters\n",
    "dist = 1 - cosine_similarity(mfcc_clips)\n",
    "mds = PCA(n_components=2, random_state=1)\n",
    "pos = mds.fit_transform(dist)  # shape (n_components, n_samples)\n",
    "\n",
    "cluster_plot(pos, 'PCA Cluster Plot', without_labels=True, savepath='/Volumes/Elements/Madre_de_Dios_Xeno_Canto_Birdcalls/Clusters_XenoCanto/pca.png')"
   ]
  },
  {
   "cell_type": "code",
   "execution_count": null,
   "metadata": {},
   "outputs": [],
   "source": [
    "# Project the data onto 2D graph - 10 clusters\n",
    "dist = 1 - cosine_similarity(mfcc_clips)\n",
    "mds = TSNE(n_components=2, random_state=1)\n",
    "pos = mds.fit_transform(dist)  # shape (n_components, n_samples)\n",
    "\n",
    "cluster_plot(pos, 'TSNE Cluster Plot', without_labels=True, savepath='/Volumes/Elements/Madre_de_Dios_Xeno_Canto_Birdcalls/Clusters_XenoCanto/tsne.png')"
   ]
  },
  {
   "cell_type": "markdown",
   "metadata": {},
   "source": [
    "# Cluster Interpretation"
   ]
  },
  {
   "cell_type": "code",
   "execution_count": 22,
   "metadata": {
    "scrolled": true
   },
   "outputs": [
    {
     "ename": "TypeError",
     "evalue": "'SphericalKMeans' object is not iterable",
     "output_type": "error",
     "traceback": [
      "\u001b[0;31m---------------------------------------------------------------------------\u001b[0m",
      "\u001b[0;31mTypeError\u001b[0m                                 Traceback (most recent call last)",
      "\u001b[0;32m<ipython-input-22-97b0de5eabc4>\u001b[0m in \u001b[0;36m<module>\u001b[0;34m\u001b[0m\n\u001b[1;32m      1\u001b[0m \u001b[0;31m# Prints: (Cluster number, count of clips in cluster)\u001b[0m\u001b[0;34m\u001b[0m\u001b[0;34m\u001b[0m\u001b[0;34m\u001b[0m\u001b[0m\n\u001b[0;32m----> 2\u001b[0;31m \u001b[0mCounter\u001b[0m\u001b[0;34m(\u001b[0m\u001b[0mclusters\u001b[0m\u001b[0;34m)\u001b[0m\u001b[0;34m.\u001b[0m\u001b[0mmost_common\u001b[0m\u001b[0;34m(\u001b[0m\u001b[0;34m)\u001b[0m\u001b[0;34m\u001b[0m\u001b[0;34m\u001b[0m\u001b[0m\n\u001b[0m",
      "\u001b[0;32m/anaconda3/lib/python3.6/collections/__init__.py\u001b[0m in \u001b[0;36m__init__\u001b[0;34m(*args, **kwds)\u001b[0m\n\u001b[1;32m    533\u001b[0m             \u001b[0;32mraise\u001b[0m \u001b[0mTypeError\u001b[0m\u001b[0;34m(\u001b[0m\u001b[0;34m'expected at most 1 arguments, got %d'\u001b[0m \u001b[0;34m%\u001b[0m \u001b[0mlen\u001b[0m\u001b[0;34m(\u001b[0m\u001b[0margs\u001b[0m\u001b[0;34m)\u001b[0m\u001b[0;34m)\u001b[0m\u001b[0;34m\u001b[0m\u001b[0;34m\u001b[0m\u001b[0m\n\u001b[1;32m    534\u001b[0m         \u001b[0msuper\u001b[0m\u001b[0;34m(\u001b[0m\u001b[0mCounter\u001b[0m\u001b[0;34m,\u001b[0m \u001b[0mself\u001b[0m\u001b[0;34m)\u001b[0m\u001b[0;34m.\u001b[0m\u001b[0m__init__\u001b[0m\u001b[0;34m(\u001b[0m\u001b[0;34m)\u001b[0m\u001b[0;34m\u001b[0m\u001b[0;34m\u001b[0m\u001b[0m\n\u001b[0;32m--> 535\u001b[0;31m         \u001b[0mself\u001b[0m\u001b[0;34m.\u001b[0m\u001b[0mupdate\u001b[0m\u001b[0;34m(\u001b[0m\u001b[0;34m*\u001b[0m\u001b[0margs\u001b[0m\u001b[0;34m,\u001b[0m \u001b[0;34m**\u001b[0m\u001b[0mkwds\u001b[0m\u001b[0;34m)\u001b[0m\u001b[0;34m\u001b[0m\u001b[0;34m\u001b[0m\u001b[0m\n\u001b[0m\u001b[1;32m    536\u001b[0m \u001b[0;34m\u001b[0m\u001b[0m\n\u001b[1;32m    537\u001b[0m     \u001b[0;32mdef\u001b[0m \u001b[0m__missing__\u001b[0m\u001b[0;34m(\u001b[0m\u001b[0mself\u001b[0m\u001b[0;34m,\u001b[0m \u001b[0mkey\u001b[0m\u001b[0;34m)\u001b[0m\u001b[0;34m:\u001b[0m\u001b[0;34m\u001b[0m\u001b[0;34m\u001b[0m\u001b[0m\n",
      "\u001b[0;32m/anaconda3/lib/python3.6/collections/__init__.py\u001b[0m in \u001b[0;36mupdate\u001b[0;34m(*args, **kwds)\u001b[0m\n\u001b[1;32m    620\u001b[0m                     \u001b[0msuper\u001b[0m\u001b[0;34m(\u001b[0m\u001b[0mCounter\u001b[0m\u001b[0;34m,\u001b[0m \u001b[0mself\u001b[0m\u001b[0;34m)\u001b[0m\u001b[0;34m.\u001b[0m\u001b[0mupdate\u001b[0m\u001b[0;34m(\u001b[0m\u001b[0miterable\u001b[0m\u001b[0;34m)\u001b[0m \u001b[0;31m# fast path when counter is empty\u001b[0m\u001b[0;34m\u001b[0m\u001b[0;34m\u001b[0m\u001b[0m\n\u001b[1;32m    621\u001b[0m             \u001b[0;32melse\u001b[0m\u001b[0;34m:\u001b[0m\u001b[0;34m\u001b[0m\u001b[0;34m\u001b[0m\u001b[0m\n\u001b[0;32m--> 622\u001b[0;31m                 \u001b[0m_count_elements\u001b[0m\u001b[0;34m(\u001b[0m\u001b[0mself\u001b[0m\u001b[0;34m,\u001b[0m \u001b[0miterable\u001b[0m\u001b[0;34m)\u001b[0m\u001b[0;34m\u001b[0m\u001b[0;34m\u001b[0m\u001b[0m\n\u001b[0m\u001b[1;32m    623\u001b[0m         \u001b[0;32mif\u001b[0m \u001b[0mkwds\u001b[0m\u001b[0;34m:\u001b[0m\u001b[0;34m\u001b[0m\u001b[0;34m\u001b[0m\u001b[0m\n\u001b[1;32m    624\u001b[0m             \u001b[0mself\u001b[0m\u001b[0;34m.\u001b[0m\u001b[0mupdate\u001b[0m\u001b[0;34m(\u001b[0m\u001b[0mkwds\u001b[0m\u001b[0;34m)\u001b[0m\u001b[0;34m\u001b[0m\u001b[0;34m\u001b[0m\u001b[0m\n",
      "\u001b[0;31mTypeError\u001b[0m: 'SphericalKMeans' object is not iterable"
     ]
    }
   ],
   "source": [
    "# Prints: (Cluster number, count of clips in cluster)\n",
    "Counter(clusters).most_common()"
   ]
  },
  {
   "cell_type": "code",
   "execution_count": 16,
   "metadata": {
    "scrolled": true
   },
   "outputs": [
    {
     "name": "stdout",
     "output_type": "stream",
     "text": [
      "Playing clip index 146 \n"
     ]
    }
   ],
   "source": [
    "play_random_clip_in_cluster(6, clusters) # Play random clip in a cluster"
   ]
  },
  {
   "cell_type": "code",
   "execution_count": 20,
   "metadata": {},
   "outputs": [],
   "source": [
    "sd.stop() # Stop playing"
   ]
  },
  {
   "cell_type": "code",
   "execution_count": 18,
   "metadata": {},
   "outputs": [],
   "source": [
    "# Can assign a label to each cluster here\n",
    "#cluster_names = ['quiet', 'loud', 'quiet', 'rain', 'birds', 'crickets', 'birds', 'quiet', 'quiet', 'loud']"
   ]
  },
  {
   "cell_type": "code",
   "execution_count": 19,
   "metadata": {
    "scrolled": true
   },
   "outputs": [],
   "source": [
    "play_clip(36) "
   ]
  },
  {
   "cell_type": "markdown",
   "metadata": {},
   "source": [
    "## Save clusters of audio files"
   ]
  },
  {
   "cell_type": "code",
   "execution_count": 79,
   "metadata": {},
   "outputs": [],
   "source": [
    "dirname = '/Volumes/Elements/Test/Clusters/'\n",
    "# dirname = '/Volumes/Elements/Test/Clusters/'\n",
    "\n",
    "for i in range(len(np.unique(clusters))):\n",
    "    os.mkdir(dirname + 'cluster_%d' % i)\n",
    "    for j in get_clip_indexes(i, clusters):\n",
    "        save_clip(dirname + 'cluster_%d/%s' % (i, file_names[j]), shorter_clips[j])"
   ]
  },
  {
   "cell_type": "code",
   "execution_count": 80,
   "metadata": {
    "scrolled": false
   },
   "outputs": [
    {
     "name": "stdout",
     "output_type": "stream",
     "text": [
      "3\n",
      "[0 1 2]\n",
      "[0, 1, 2]\n",
      "14\n",
      "14\n"
     ]
    }
   ],
   "source": [
    "print(len(np.unique(clusters)))\n",
    "print(np.unique(clusters))\n",
    "print(get_clip_indexes(i, clusters))\n",
    "print(len(clusters))\n",
    "print(len(file_names))"
   ]
  },
  {
   "cell_type": "markdown",
   "metadata": {},
   "source": [
    "## Analyze clusters \n",
    "Find the total number of bird species in cluster and also the list of dictionary of each file name corresponding to each cluster number"
   ]
  },
  {
   "cell_type": "code",
   "execution_count": 22,
   "metadata": {
    "scrolled": true
   },
   "outputs": [
    {
     "name": "stdout",
     "output_type": "stream",
     "text": [
      "['20190610_022000.WAV', '20190610_022000.WAV', '20190610_022000.WAV', '20190610_022000.WAV', '20190610_022000.WAV', '20190610_033000.WAV', '20190610_033000.WAV', '20190610_033000.WAV', '20190610_033000.WAV', '20190610_033000.WAV', '20190610_043000.WAV', '20190610_043000.WAV', '20190610_043000.WAV', '20190610_043000.WAV', '20190610_043000.WAV', '20190611_031000.WAV', '20190611_031000.WAV', '20190611_031000.WAV', '20190611_031000.WAV', '20190611_031000.WAV', '20190611_035000.WAV', '20190611_035000.WAV', '20190611_035000.WAV', '20190611_035000.WAV', '20190611_035000.WAV', '20190611_041000.WAV', '20190611_041000.WAV', '20190611_041000.WAV', '20190611_041000.WAV', '20190611_041000.WAV', '20190611_044000.WAV', '20190611_044000.WAV', '20190611_044000.WAV', '20190611_044000.WAV', '20190611_044000.WAV', '20190611_050000.WAV', '20190611_050000.WAV', '20190611_050000.WAV', '20190611_050000.WAV', '20190611_050000.WAV', '20190611_054000.WAV', '20190611_054000.WAV', '20190611_054000.WAV', '20190611_054000.WAV', '20190611_054000.WAV', '20190611_055000.WAV', '20190611_055000.WAV', '20190611_055000.WAV', '20190611_055000.WAV', '20190611_055000.WAV', '20190611_063000.WAV', '20190611_063000.WAV', '20190611_063000.WAV', '20190611_063000.WAV', '20190611_063000.WAV', '20190611_064000.WAV', '20190611_064000.WAV', '20190611_064000.WAV', '20190611_064000.WAV', '20190611_064000.WAV', '20190611_072000.WAV', '20190611_072000.WAV', '20190611_072000.WAV', '20190611_072000.WAV', '20190611_072000.WAV', '20190611_074000.WAV', '20190611_074000.WAV', '20190611_074000.WAV', '20190611_074000.WAV', '20190611_074000.WAV', '20190611_080000.WAV', '20190611_080000.WAV', '20190611_080000.WAV', '20190611_080000.WAV', '20190611_080000.WAV', '20190611_081000.WAV', '20190611_081000.WAV', '20190611_081000.WAV', '20190611_081000.WAV', '20190611_081000.WAV', '20190611_084000.WAV', '20190611_084000.WAV', '20190611_084000.WAV', '20190611_084000.WAV', '20190611_084000.WAV', '20190615_224000.WAV', '20190615_224000.WAV', '20190615_224000.WAV', '20190615_224000.WAV', '20190615_224000.WAV', '20190615_231000.WAV', '20190615_231000.WAV', '20190615_231000.WAV', '20190615_231000.WAV', '20190615_231000.WAV', '5D0E8668.WAV', '5D0E8668.WAV', '5D0E8668.WAV', '5D0E8668.WAV', '5D0E8668.WAV', '5D0EA4E0.WAV', '5D0EA4E0.WAV', '5D0EA4E0.WAV', '5D0EA4E0.WAV', '5D0EA4E0.WAV', '5D0EA738.WAV', '5D0EA738.WAV', '5D0EA738.WAV', '5D0EA738.WAV', '5D0EA738.WAV', '5D0EA990.WAV', '5D0EA990.WAV', '5D0EA990.WAV', '5D0EA990.WAV', '5D0EA990.WAV', '5D0EABE8.WAV', '5D0EABE8.WAV', '5D0EABE8.WAV', '5D0EABE8.WAV', '5D0EABE8.WAV', '5D0EAE40.WAV', '5D0EAE40.WAV', '5D0EAE40.WAV', '5D0EAE40.WAV', '5D0EAE40.WAV', '5D0EB098.WAV', '5D0EB098.WAV', '5D0EB098.WAV', '5D0EB098.WAV', '5D0EB098.WAV', '5D0EB2F0.WAV', '5D0EB2F0.WAV', '5D0EB2F0.WAV', '5D0EB2F0.WAV', '5D0EB2F0.WAV', '5D0EC808.WAV', '5D0EC808.WAV', '5D0EC808.WAV', '5D0EC808.WAV', '5D0EC808.WAV', '5D0FC078.WAV', '5D0FC078.WAV', '5D0FC078.WAV', '5D0FC078.WAV', '5D0FC078.WAV', '5D0FCC30.WAV', '5D0FCC30.WAV', '5D0FCC30.WAV', '5D0FCC30.WAV', '5D0FCC30.WAV', '5D0FDC98.WAV', '5D0FDC98.WAV', '5D0FDC98.WAV', '5D0FDC98.WAV', '5D0FDC98.WAV', '5D0FE3A0.WAV', '5D0FE3A0.WAV', '5D0FE3A0.WAV', '5D0FE3A0.WAV', '5D0FE3A0.WAV', '5D173B50.WAV', '5D173B50.WAV', '5D173B50.WAV', '5D173B50.WAV', '5D173B50.WAV', '5D188A78.WAV', '5D188A78.WAV', '5D188A78.WAV', '5D188A78.WAV', '5D188A78.WAV', '5D1A03D0.WAV', '5D1A03D0.WAV', '5D1A03D0.WAV', '5D1A03D0.WAV', '5D1A03D0.WAV', '5D1A71F8.WAV', '5D1A71F8.WAV', '5D1A71F8.WAV', '5D1A71F8.WAV', '5D1A71F8.WAV', '5D1AA588.WAV', '5D1AA588.WAV', '5D1AA588.WAV', '5D1AA588.WAV', '5D1AA588.WAV', '5D1AF538.WAV', '5D1AF538.WAV', '5D1AF538.WAV', '5D1AF538.WAV', '5D1AF538.WAV', '5D1B2670.WAV', '5D1B2670.WAV', '5D1B2670.WAV', '5D1B2670.WAV', '5D1B2670.WAV', '5D1D9388.WAV', '5D1D9388.WAV', '5D1D9388.WAV', '5D1D9388.WAV', '5D1D9388.WAV', '5D1DA198.WAV', '5D1DA198.WAV', '5D1DA198.WAV', '5D1DA198.WAV', '5D1DA198.WAV', '5D1DA3F0.WAV', '5D1DA3F0.WAV', '5D1DA3F0.WAV', '5D1DA3F0.WAV', '5D1DA3F0.WAV', '5D1ED248.WAV', '5D1ED248.WAV', '5D1ED248.WAV', '5D1ED248.WAV', '5D1ED248.WAV', '5D1EDE00.WAV', '5D1EDE00.WAV', '5D1EDE00.WAV', '5D1EDE00.WAV', '5D1EDE00.WAV', '5D214B18.WAV', '5D214B18.WAV', '5D214B18.WAV', '5D214B18.WAV', '5D214B18.WAV', '5D218CB8.WAV', '5D218CB8.WAV', '5D218CB8.WAV', '5D218CB8.WAV', '5D218CB8.WAV', '5D219F78.WAV', '5D219F78.WAV', '5D219F78.WAV', '5D219F78.WAV', '5D219F78.WAV', '5D278E38.WAV', '5D278E38.WAV', '5D278E38.WAV', '5D278E38.WAV', '5D278E38.WAV', '5D284E68.WAV', '5D284E68.WAV', '5D284E68.WAV', '5D284E68.WAV', '5D284E68.WAV', '5D285C78.WAV', '5D285C78.WAV', '5D285C78.WAV', '5D285C78.WAV', '5D285C78.WAV', '5D287AF0.WAV', '5D287AF0.WAV', '5D287AF0.WAV', '5D287AF0.WAV', '5D287AF0.WAV', '5D288B58.WAV', '5D288B58.WAV', '5D288B58.WAV', '5D288B58.WAV', '5D288B58.WAV', '5D291CA8.WAV', '5D291CA8.WAV', '5D291CA8.WAV', '5D291CA8.WAV', '5D291CA8.WAV', '5D297F18.WAV', '5D297F18.WAV', '5D297F18.WAV', '5D297F18.WAV', '5D297F18.WAV', '5D305A90.WAV', '5D305A90.WAV', '5D305A90.WAV', '5D305A90.WAV', '5D305A90.WAV', '5D315EB8.WAV', '5D315EB8.WAV', '5D315EB8.WAV', '5D315EB8.WAV', '5D315EB8.WAV', '5D316110.WAV', '5D316110.WAV', '5D316110.WAV', '5D316110.WAV', '5D316110.WAV', '5D322398.WAV', '5D322398.WAV', '5D322398.WAV', '5D322398.WAV', '5D322398.WAV', '5D378108.WAV', '5D378108.WAV', '5D378108.WAV', '5D378108.WAV', '5D378108.WAV', '5D378810.WAV', '5D378810.WAV', '5D378810.WAV', '5D378810.WAV', '5D378810.WAV']\n",
      "set()\n",
      "set()\n",
      "set()\n",
      "set()\n",
      "set()\n",
      "set()\n",
      "set()\n",
      "set()\n",
      "set()\n",
      "['20190610_022000.WAV', '20190610_022000.WAV', '20190610_022000.WAV', '20190610_022000.WAV', '20190610_022000.WAV', '20190610_033000.WAV', '20190610_033000.WAV', '20190610_033000.WAV', '20190610_033000.WAV', '20190610_033000.WAV', '20190610_043000.WAV', '20190610_043000.WAV', '20190610_043000.WAV', '20190610_043000.WAV', '20190610_043000.WAV', '20190611_031000.WAV', '20190611_031000.WAV', '20190611_031000.WAV', '20190611_031000.WAV', '20190611_031000.WAV', '20190611_035000.WAV', '20190611_035000.WAV', '20190611_035000.WAV', '20190611_035000.WAV', '20190611_035000.WAV', '20190611_041000.WAV', '20190611_041000.WAV', '20190611_041000.WAV', '20190611_041000.WAV', '20190611_041000.WAV', '20190611_044000.WAV', '20190611_044000.WAV', '20190611_044000.WAV', '20190611_044000.WAV', '20190611_044000.WAV', '20190611_050000.WAV', '20190611_050000.WAV', '20190611_050000.WAV', '20190611_050000.WAV', '20190611_050000.WAV', '20190611_054000.WAV', '20190611_054000.WAV', '20190611_054000.WAV', '20190611_054000.WAV', '20190611_054000.WAV', '20190611_055000.WAV', '20190611_055000.WAV', '20190611_055000.WAV', '20190611_055000.WAV', '20190611_055000.WAV', '20190611_063000.WAV', '20190611_063000.WAV', '20190611_063000.WAV', '20190611_063000.WAV', '20190611_063000.WAV', '20190611_064000.WAV', '20190611_064000.WAV', '20190611_064000.WAV', '20190611_064000.WAV', '20190611_064000.WAV', '20190611_072000.WAV', '20190611_072000.WAV', '20190611_072000.WAV', '20190611_072000.WAV', '20190611_072000.WAV', '20190611_074000.WAV', '20190611_074000.WAV', '20190611_074000.WAV', '20190611_074000.WAV', '20190611_074000.WAV', '20190611_080000.WAV', '20190611_080000.WAV', '20190611_080000.WAV', '20190611_080000.WAV', '20190611_080000.WAV', '20190611_081000.WAV', '20190611_081000.WAV', '20190611_081000.WAV', '20190611_081000.WAV', '20190611_081000.WAV', '20190611_084000.WAV', '20190611_084000.WAV', '20190611_084000.WAV', '20190611_084000.WAV', '20190611_084000.WAV', '20190615_224000.WAV', '20190615_224000.WAV', '20190615_224000.WAV', '20190615_224000.WAV', '20190615_224000.WAV', '20190615_231000.WAV', '20190615_231000.WAV', '20190615_231000.WAV', '20190615_231000.WAV', '20190615_231000.WAV', '5D0E8668.WAV', '5D0E8668.WAV', '5D0E8668.WAV', '5D0E8668.WAV', '5D0E8668.WAV', '5D0EA4E0.WAV', '5D0EA4E0.WAV', '5D0EA4E0.WAV', '5D0EA4E0.WAV', '5D0EA4E0.WAV', '5D0EA738.WAV', '5D0EA738.WAV', '5D0EA738.WAV', '5D0EA738.WAV', '5D0EA738.WAV', '5D0EA990.WAV', '5D0EA990.WAV', '5D0EA990.WAV', '5D0EA990.WAV', '5D0EA990.WAV', '5D0EABE8.WAV', '5D0EABE8.WAV', '5D0EABE8.WAV', '5D0EABE8.WAV', '5D0EABE8.WAV', '5D0EAE40.WAV', '5D0EAE40.WAV', '5D0EAE40.WAV', '5D0EAE40.WAV', '5D0EAE40.WAV', '5D0EB098.WAV', '5D0EB098.WAV', '5D0EB098.WAV', '5D0EB098.WAV', '5D0EB098.WAV', '5D0EB2F0.WAV', '5D0EB2F0.WAV', '5D0EB2F0.WAV', '5D0EB2F0.WAV', '5D0EB2F0.WAV', '5D0EC808.WAV', '5D0EC808.WAV', '5D0EC808.WAV', '5D0EC808.WAV', '5D0EC808.WAV', '5D0FC078.WAV', '5D0FC078.WAV', '5D0FC078.WAV', '5D0FC078.WAV', '5D0FC078.WAV', '5D0FCC30.WAV', '5D0FCC30.WAV', '5D0FCC30.WAV', '5D0FCC30.WAV', '5D0FCC30.WAV', '5D0FDC98.WAV', '5D0FDC98.WAV', '5D0FDC98.WAV', '5D0FDC98.WAV', '5D0FDC98.WAV', '5D0FE3A0.WAV', '5D0FE3A0.WAV', '5D0FE3A0.WAV', '5D0FE3A0.WAV', '5D0FE3A0.WAV', '5D173B50.WAV', '5D173B50.WAV', '5D173B50.WAV', '5D173B50.WAV', '5D173B50.WAV', '5D188A78.WAV', '5D188A78.WAV', '5D188A78.WAV', '5D188A78.WAV', '5D188A78.WAV', '5D1A03D0.WAV', '5D1A03D0.WAV', '5D1A03D0.WAV', '5D1A03D0.WAV', '5D1A03D0.WAV', '5D1A71F8.WAV', '5D1A71F8.WAV', '5D1A71F8.WAV', '5D1A71F8.WAV', '5D1A71F8.WAV', '5D1AA588.WAV', '5D1AA588.WAV', '5D1AA588.WAV', '5D1AA588.WAV', '5D1AA588.WAV', '5D1AF538.WAV', '5D1AF538.WAV', '5D1AF538.WAV', '5D1AF538.WAV', '5D1AF538.WAV', '5D1B2670.WAV', '5D1B2670.WAV', '5D1B2670.WAV', '5D1B2670.WAV', '5D1B2670.WAV', '5D1D9388.WAV', '5D1D9388.WAV', '5D1D9388.WAV', '5D1D9388.WAV', '5D1D9388.WAV', '5D1DA198.WAV', '5D1DA198.WAV', '5D1DA198.WAV', '5D1DA198.WAV', '5D1DA198.WAV', '5D1DA3F0.WAV', '5D1DA3F0.WAV', '5D1DA3F0.WAV', '5D1DA3F0.WAV', '5D1DA3F0.WAV', '5D1ED248.WAV', '5D1ED248.WAV', '5D1ED248.WAV', '5D1ED248.WAV', '5D1ED248.WAV', '5D1EDE00.WAV', '5D1EDE00.WAV', '5D1EDE00.WAV', '5D1EDE00.WAV', '5D1EDE00.WAV', '5D214B18.WAV', '5D214B18.WAV', '5D214B18.WAV', '5D214B18.WAV', '5D214B18.WAV', '5D218CB8.WAV', '5D218CB8.WAV', '5D218CB8.WAV', '5D218CB8.WAV', '5D218CB8.WAV', '5D219F78.WAV', '5D219F78.WAV', '5D219F78.WAV', '5D219F78.WAV', '5D219F78.WAV', '5D278E38.WAV', '5D278E38.WAV', '5D278E38.WAV', '5D278E38.WAV', '5D278E38.WAV', '5D284E68.WAV', '5D284E68.WAV', '5D284E68.WAV', '5D284E68.WAV', '5D284E68.WAV', '5D285C78.WAV', '5D285C78.WAV', '5D285C78.WAV', '5D285C78.WAV', '5D285C78.WAV', '5D287AF0.WAV', '5D287AF0.WAV', '5D287AF0.WAV', '5D287AF0.WAV', '5D287AF0.WAV', '5D288B58.WAV', '5D288B58.WAV', '5D288B58.WAV', '5D288B58.WAV', '5D288B58.WAV', '5D291CA8.WAV', '5D291CA8.WAV', '5D291CA8.WAV', '5D291CA8.WAV', '5D291CA8.WAV', '5D297F18.WAV', '5D297F18.WAV', '5D297F18.WAV', '5D297F18.WAV', '5D297F18.WAV', '5D305A90.WAV', '5D305A90.WAV', '5D305A90.WAV', '5D305A90.WAV', '5D305A90.WAV', '5D315EB8.WAV', '5D315EB8.WAV', '5D315EB8.WAV', '5D315EB8.WAV', '5D315EB8.WAV', '5D316110.WAV', '5D316110.WAV', '5D316110.WAV', '5D316110.WAV', '5D316110.WAV', '5D322398.WAV', '5D322398.WAV', '5D322398.WAV', '5D322398.WAV', '5D322398.WAV', '5D378108.WAV', '5D378108.WAV', '5D378108.WAV', '5D378108.WAV', '5D378108.WAV', '5D378810.WAV', '5D378810.WAV', '5D378810.WAV', '5D378810.WAV', '5D378810.WAV']\n",
      "[0, 0, 0, 0, 0, 0, 0, 0, 0, 0, 0, 0, 0, 0, 0, 0, 0, 0, 0, 0, 0, 0, 0, 0, 0, 0, 0, 0, 0, 0, 0, 0, 0, 0, 0, 0, 0, 0, 0, 0, 0, 0, 0, 0, 0, 0, 0, 0, 0, 1, 1, 1, 1, 1, 1, 1, 1, 1, 1, 1, 1, 1, 1, 1, 1, 1, 1, 1, 1, 1, 1, 1, 1, 1, 1, 1, 1, 1, 1, 1, 1, 1, 1, 1, 1, 1, 1, 1, 1, 1, 1, 1, 1, 1, 2, 2, 2, 2, 2, 2, 2, 2, 2, 2, 2, 2, 2, 2, 2, 2, 2, 2, 2, 2, 2, 2, 2, 2, 2, 2, 2, 2, 2, 2, 2, 2, 2, 2, 2, 3, 3, 3, 3, 3, 3, 3, 3, 3, 3, 3, 3, 3, 3, 3, 3, 3, 3, 3, 3, 3, 3, 3, 3, 3, 3, 3, 3, 3, 3, 4, 4, 4, 4, 4, 4, 4, 4, 4, 4, 4, 4, 4, 4, 4, 4, 4, 4, 4, 4, 4, 4, 4, 4, 4, 4, 4, 4, 4, 4, 5, 5, 5, 5, 5, 5, 5, 5, 5, 5, 6, 6, 6, 6, 6, 6, 6, 6, 6, 6, 6, 6, 6, 6, 6, 6, 6, 6, 6, 6, 6, 6, 6, 6, 6, 6, 6, 6, 6, 6, 6, 6, 6, 6, 6, 6, 6, 6, 6, 6, 7, 7, 7, 7, 7, 7, 7, 7, 7, 7, 7, 7, 7, 7, 7, 7, 7, 7, 7, 7, 7, 7, 7, 7, 7, 7, 7, 7, 7, 7, 7, 7, 7, 7, 7, 7, 7, 7, 7, 7, 7, 8, 8, 8, 8, 8, 8, 8, 8, 8, 8, 8, 8, 8, 8, 8, 8, 8, 8, 8, 8]\n"
     ]
    }
   ],
   "source": [
    "print(file_names)\n",
    "\n",
    "# num_bird_species = []\n",
    "cluster_list_ordered = []\n",
    "\n",
    "for i in range(len(np.unique(clusters))): \n",
    "    cluster_set = set()\n",
    "    for j in get_clip_indexes(i, clusters):\n",
    "        cluster_list_ordered.append(i)\n",
    "#         bird_species = os.path.splitext(file_names[j])[0].split(\"-\",1)[1].strip()\n",
    "#         print(bird_species)\n",
    "#         print(type(bird_species))\n",
    "#         cluster_set.add(bird_species)\n",
    "#     num_bird_species.append(len(cluster_set))\n",
    "    print(cluster_set)\n",
    "\n",
    "print(file_names)\n",
    "print(cluster_list_ordered)\n",
    "# print(num_bird_species)        "
   ]
  },
  {
   "cell_type": "markdown",
   "metadata": {},
   "source": [
    "## Save as .csv"
   ]
  },
  {
   "cell_type": "code",
   "execution_count": 23,
   "metadata": {},
   "outputs": [
    {
     "name": "stdout",
     "output_type": "stream",
     "text": [
      "             File name Time in clip (seconds)  Cluster number\n",
      "0  20190610_022000.WAV                [0, 10]               0\n",
      "1  20190610_022000.WAV               [10, 20]               0\n",
      "2  20190610_022000.WAV               [20, 30]               0\n",
      "3  20190610_022000.WAV               [30, 40]               0\n",
      "4  20190610_022000.WAV               [40, 50]               0\n"
     ]
    }
   ],
   "source": [
    "## pandas dataframe ## \n",
    "import pandas as pd \n",
    "\n",
    "bird_species = {\n",
    "    'File name': file_names,\n",
    "    'Time in clip (seconds)': timestamp,\n",
    "    'Cluster number': cluster_list_ordered\n",
    "}\n",
    "\n",
    "df = pd.DataFrame(bird_species, columns = ['File name', 'Time in clip (seconds)', 'Cluster number'])\n",
    "\n",
    "df.to_csv(r'/Users/yoo-jin/Desktop/export_dataframe_mixedAM_hierarchal_downsampled.csv',index = False, header=True)\n",
    "            \n",
    "print(df.head())\n",
    "# filename list \n",
    "# start and end time in the clip analyzed\n",
    "# sample rate \n",
    "# cluster number\n"
   ]
  },
  {
   "cell_type": "code",
   "execution_count": 37,
   "metadata": {},
   "outputs": [
    {
     "ename": "AttributeError",
     "evalue": "'numpy.ndarray' object has no attribute 'labels_'",
     "output_type": "error",
     "traceback": [
      "\u001b[0;31m---------------------------------------------------------------------------\u001b[0m",
      "\u001b[0;31mAttributeError\u001b[0m                            Traceback (most recent call last)",
      "\u001b[0;32m<ipython-input-37-344f7063f597>\u001b[0m in \u001b[0;36m<module>\u001b[0;34m\u001b[0m\n\u001b[1;32m      9\u001b[0m \u001b[0;31m# print(\"Sum of squared distances of samples to their closest cluster center:\", kmeans.inertia_)\u001b[0m\u001b[0;34m\u001b[0m\u001b[0;34m\u001b[0m\u001b[0;34m\u001b[0m\u001b[0m\n\u001b[1;32m     10\u001b[0m \u001b[0;34m\u001b[0m\u001b[0m\n\u001b[0;32m---> 11\u001b[0;31m \u001b[0mlabels\u001b[0m \u001b[0;34m=\u001b[0m \u001b[0mhmeans\u001b[0m\u001b[0;34m.\u001b[0m\u001b[0mlabels_\u001b[0m\u001b[0;34m\u001b[0m\u001b[0;34m\u001b[0m\u001b[0m\n\u001b[0m\u001b[1;32m     12\u001b[0m \u001b[0mprint\u001b[0m\u001b[0;34m(\u001b[0m\u001b[0mlabels\u001b[0m\u001b[0;34m.\u001b[0m\u001b[0mtype\u001b[0m\u001b[0;34m)\u001b[0m\u001b[0;34m\u001b[0m\u001b[0;34m\u001b[0m\u001b[0m\n\u001b[1;32m     13\u001b[0m \u001b[0mmetrics\u001b[0m\u001b[0;34m.\u001b[0m\u001b[0msilhouette_score\u001b[0m\u001b[0;34m(\u001b[0m\u001b[0mX\u001b[0m\u001b[0;34m,\u001b[0m \u001b[0mlabels\u001b[0m\u001b[0;34m,\u001b[0m \u001b[0mmetric\u001b[0m\u001b[0;34m=\u001b[0m\u001b[0;34m'euclidean'\u001b[0m\u001b[0;34m)\u001b[0m\u001b[0;34m\u001b[0m\u001b[0;34m\u001b[0m\u001b[0m\n",
      "\u001b[0;31mAttributeError\u001b[0m: 'numpy.ndarray' object has no attribute 'labels_'"
     ]
    }
   ],
   "source": [
    "from sklearn.metrics import silhouette_score, davies_bouldin_score\n",
    "from scipy.spatial.distance import squareform\n",
    "from sklearn.cluster import AgglomerativeClustering\n",
    "\n",
    "# n_clusters defined above \n",
    "# kmeans = SphericalKMeans(n_clusters).fit(X)\n",
    "hmeans = AgglomerativeClustering(n_clusters=3, affinity='euclidean', linkage='ward').fit_predict(mfcc_clips)\n",
    "\n",
    "# print(\"Sum of squared distances of samples to their closest cluster center:\", kmeans.inertia_)\n",
    "\n",
    "labels = hmeans.labels_\n",
    "print(labels.type)\n",
    "metrics.silhouette_score(X, labels, metric='euclidean')\n",
    "\n",
    "print(\"Silhouette score:\", silhouette_score(hmeans, hmeans.labels_))\n",
    "\n",
    "print(\"Dunn index:\", davies_bouldin_score(hmeans))"
   ]
  },
  {
   "cell_type": "code",
   "execution_count": 16,
   "metadata": {
    "scrolled": false
   },
   "outputs": [
    {
     "name": "stdout",
     "output_type": "stream",
     "text": [
      "3\n",
      "Average number of birds over clusters: 1.6666666666666667\n"
     ]
    },
    {
     "data": {
      "image/png": "[encoded data removed]",
      "text/plain": [
       "<Figure size 432x288 with 1 Axes>"
      ]
     },
     "metadata": {
      "needs_background": "light"
     },
     "output_type": "display_data"
    }
   ],
   "source": [
    "# Number of Bird Species in Every Cluster\n",
    "print(len(num_bird_species))\n",
    "cluster_num = range(0,len(num_bird_species))\n",
    "\n",
    "x = cluster_num \n",
    "y = num_bird_species\n",
    "\n",
    "# Add title, axes\n",
    "plt.bar(x,y)\n",
    "plt.title('Number of Bird Species in Every Cluster')\n",
    "plt.xlabel('Cluster Number')\n",
    "plt.ylabel('Number of Bird Species')\n",
    "\n",
    "average_num_birds = sum(num_bird_species)/len(num_bird_species)\n",
    "print(\"Average number of birds over clusters:\", average_num_birds)"
   ]
  },
  {
   "cell_type": "code",
   "execution_count": 17,
   "metadata": {},
   "outputs": [
    {
     "ename": "ValueError",
     "evalue": "Cannot extract more clusters than samples: 16 clusters where given for a tree with 14 leaves.",
     "output_type": "error",
     "traceback": [
      "\u001b[0;31m---------------------------------------------------------------------------\u001b[0m",
      "\u001b[0;31mValueError\u001b[0m                                Traceback (most recent call last)",
      "\u001b[0;32m<ipython-input-17-be9370d286e1>\u001b[0m in \u001b[0;36m<module>\u001b[0;34m\u001b[0m\n\u001b[1;32m      6\u001b[0m \u001b[0;32mfor\u001b[0m \u001b[0mn\u001b[0m \u001b[0;32min\u001b[0m \u001b[0mrange\u001b[0m\u001b[0;34m(\u001b[0m\u001b[0;36m1\u001b[0m\u001b[0;34m,\u001b[0m\u001b[0;36m130\u001b[0m\u001b[0;34m,\u001b[0m\u001b[0;36m5\u001b[0m\u001b[0;34m)\u001b[0m\u001b[0;34m:\u001b[0m\u001b[0;34m\u001b[0m\u001b[0;34m\u001b[0m\u001b[0m\n\u001b[1;32m      7\u001b[0m     \u001b[0mlist_num_of_clusters\u001b[0m\u001b[0;34m.\u001b[0m\u001b[0mappend\u001b[0m\u001b[0;34m(\u001b[0m\u001b[0mn\u001b[0m\u001b[0;34m)\u001b[0m\u001b[0;34m\u001b[0m\u001b[0;34m\u001b[0m\u001b[0m\n\u001b[0;32m----> 8\u001b[0;31m     \u001b[0mclusters\u001b[0m \u001b[0;34m=\u001b[0m \u001b[0mAgglomerativeClustering\u001b[0m\u001b[0;34m(\u001b[0m\u001b[0mn_clusters\u001b[0m\u001b[0;34m=\u001b[0m\u001b[0mn\u001b[0m\u001b[0;34m,\u001b[0m \u001b[0maffinity\u001b[0m\u001b[0;34m=\u001b[0m\u001b[0;34m'euclidean'\u001b[0m\u001b[0;34m,\u001b[0m \u001b[0mlinkage\u001b[0m\u001b[0;34m=\u001b[0m\u001b[0;34m'ward'\u001b[0m\u001b[0;34m)\u001b[0m\u001b[0;34m.\u001b[0m\u001b[0mfit_predict\u001b[0m\u001b[0;34m(\u001b[0m\u001b[0mmfcc_clips\u001b[0m\u001b[0;34m)\u001b[0m\u001b[0;34m\u001b[0m\u001b[0;34m\u001b[0m\u001b[0m\n\u001b[0m\u001b[1;32m      9\u001b[0m     \u001b[0mnum_bird_species\u001b[0m \u001b[0;34m=\u001b[0m \u001b[0;34m[\u001b[0m\u001b[0;34m]\u001b[0m\u001b[0;34m\u001b[0m\u001b[0;34m\u001b[0m\u001b[0m\n\u001b[1;32m     10\u001b[0m \u001b[0;34m\u001b[0m\u001b[0m\n",
      "\u001b[0;32m/anaconda3/lib/python3.6/site-packages/sklearn/base.py\u001b[0m in \u001b[0;36mfit_predict\u001b[0;34m(self, X, y)\u001b[0m\n\u001b[1;32m    353\u001b[0m         \u001b[0;31m# non-optimized default implementation; override when a better\u001b[0m\u001b[0;34m\u001b[0m\u001b[0;34m\u001b[0m\u001b[0;34m\u001b[0m\u001b[0m\n\u001b[1;32m    354\u001b[0m         \u001b[0;31m# method is possible for a given clustering algorithm\u001b[0m\u001b[0;34m\u001b[0m\u001b[0;34m\u001b[0m\u001b[0;34m\u001b[0m\u001b[0m\n\u001b[0;32m--> 355\u001b[0;31m         \u001b[0mself\u001b[0m\u001b[0;34m.\u001b[0m\u001b[0mfit\u001b[0m\u001b[0;34m(\u001b[0m\u001b[0mX\u001b[0m\u001b[0;34m)\u001b[0m\u001b[0;34m\u001b[0m\u001b[0;34m\u001b[0m\u001b[0m\n\u001b[0m\u001b[1;32m    356\u001b[0m         \u001b[0;32mreturn\u001b[0m \u001b[0mself\u001b[0m\u001b[0;34m.\u001b[0m\u001b[0mlabels_\u001b[0m\u001b[0;34m\u001b[0m\u001b[0;34m\u001b[0m\u001b[0m\n\u001b[1;32m    357\u001b[0m \u001b[0;34m\u001b[0m\u001b[0m\n",
      "\u001b[0;32m/anaconda3/lib/python3.6/site-packages/sklearn/cluster/hierarchical.py\u001b[0m in \u001b[0;36mfit\u001b[0;34m(self, X, y)\u001b[0m\n\u001b[1;32m    832\u001b[0m         \u001b[0;32mif\u001b[0m \u001b[0mcompute_full_tree\u001b[0m\u001b[0;34m:\u001b[0m\u001b[0;34m\u001b[0m\u001b[0;34m\u001b[0m\u001b[0m\n\u001b[1;32m    833\u001b[0m             self.labels_ = _hc_cut(self.n_clusters, self.children_,\n\u001b[0;32m--> 834\u001b[0;31m                                    self.n_leaves_)\n\u001b[0m\u001b[1;32m    835\u001b[0m         \u001b[0;32melse\u001b[0m\u001b[0;34m:\u001b[0m\u001b[0;34m\u001b[0m\u001b[0;34m\u001b[0m\u001b[0m\n\u001b[1;32m    836\u001b[0m             \u001b[0mlabels\u001b[0m \u001b[0;34m=\u001b[0m \u001b[0m_hierarchical\u001b[0m\u001b[0;34m.\u001b[0m\u001b[0mhc_get_heads\u001b[0m\u001b[0;34m(\u001b[0m\u001b[0mparents\u001b[0m\u001b[0;34m,\u001b[0m \u001b[0mcopy\u001b[0m\u001b[0;34m=\u001b[0m\u001b[0;32mFalse\u001b[0m\u001b[0;34m)\u001b[0m\u001b[0;34m\u001b[0m\u001b[0;34m\u001b[0m\u001b[0m\n",
      "\u001b[0;32m/anaconda3/lib/python3.6/site-packages/sklearn/cluster/hierarchical.py\u001b[0m in \u001b[0;36m_hc_cut\u001b[0;34m(n_clusters, children, n_leaves)\u001b[0m\n\u001b[1;32m    633\u001b[0m         raise ValueError('Cannot extract more clusters than samples: '\n\u001b[1;32m    634\u001b[0m                          \u001b[0;34m'%s clusters where given for a tree with %s leaves.'\u001b[0m\u001b[0;34m\u001b[0m\u001b[0;34m\u001b[0m\u001b[0m\n\u001b[0;32m--> 635\u001b[0;31m                          % (n_clusters, n_leaves))\n\u001b[0m\u001b[1;32m    636\u001b[0m     \u001b[0;31m# In this function, we store nodes as a heap to avoid recomputing\u001b[0m\u001b[0;34m\u001b[0m\u001b[0;34m\u001b[0m\u001b[0;34m\u001b[0m\u001b[0m\n\u001b[1;32m    637\u001b[0m     \u001b[0;31m# the max of the nodes: the first element is always the smallest\u001b[0m\u001b[0;34m\u001b[0m\u001b[0;34m\u001b[0m\u001b[0;34m\u001b[0m\u001b[0m\n",
      "\u001b[0;31mValueError\u001b[0m: Cannot extract more clusters than samples: 16 clusters where given for a tree with 14 leaves."
     ]
    }
   ],
   "source": [
    "### Plot average number of birds over clusters for clusters ranging from 1 to 134\n",
    "\n",
    "list_num_of_clusters = []\n",
    "list_of_average_num_birds = []\n",
    "\n",
    "for n in range(1,130,5):\n",
    "    list_num_of_clusters.append(n)\n",
    "    clusters = AgglomerativeClustering(n_clusters=n, affinity='euclidean', linkage='ward').fit_predict(mfcc_clips)\n",
    "    num_bird_species = []\n",
    "\n",
    "    for i in range(len(np.unique(clusters))): \n",
    "        cluster_set = set()\n",
    "        for j in get_clip_indexes(i, clusters):\n",
    "            \n",
    "            bird_species = os.path.splitext(file_names[j])[0].split(\"-\",1)[1].strip()\n",
    "    #         print(bird_species)\n",
    "    #         print(type(bird_species))\n",
    "            cluster_set.add(bird_species)\n",
    "        num_bird_species.append(len(cluster_set))\n",
    "            \n",
    "    average_num_bird_species = sum(num_bird_species)/len(num_bird_species)\n",
    "    list_of_average_num_birds.append(average_num_bird_species)\n",
    "    \n",
    "#     print(list_num_of_clusters)\n",
    "#     print(list_of_average_num_birds)\n",
    "    \n",
    "    "
   ]
  },
  {
   "cell_type": "code",
   "execution_count": 148,
   "metadata": {
    "scrolled": false
   },
   "outputs": [
    {
     "ename": "IndexError",
     "evalue": "too many indices for array",
     "output_type": "error",
     "traceback": [
      "\u001b[0;31m---------------------------------------------------------------------------\u001b[0m",
      "\u001b[0;31mIndexError\u001b[0m                                Traceback (most recent call last)",
      "\u001b[0;32m<ipython-input-148-a30b6588eb7a>\u001b[0m in \u001b[0;36m<module>\u001b[0;34m\u001b[0m\n\u001b[1;32m      1\u001b[0m \u001b[0;31m# Plot spectrogram of all clips in a cluster appended together\u001b[0m\u001b[0;34m\u001b[0m\u001b[0;34m\u001b[0m\u001b[0;34m\u001b[0m\u001b[0m\n\u001b[0;32m----> 2\u001b[0;31m \u001b[0mplot_spectrogram_of_cluster\u001b[0m\u001b[0;34m(\u001b[0m\u001b[0msamplerate\u001b[0m\u001b[0;34m,\u001b[0m \u001b[0mshorter_clips\u001b[0m\u001b[0;34m,\u001b[0m \u001b[0;36m7\u001b[0m\u001b[0;34m,\u001b[0m \u001b[0mclusters\u001b[0m\u001b[0;34m,\u001b[0m \u001b[0mseparate_channels\u001b[0m\u001b[0;34m=\u001b[0m\u001b[0;32mFalse\u001b[0m\u001b[0;34m)\u001b[0m\u001b[0;34m\u001b[0m\u001b[0;34m\u001b[0m\u001b[0m\n\u001b[0m",
      "\u001b[0;32m<ipython-input-130-fbe8c1b913da>\u001b[0m in \u001b[0;36mplot_spectrogram_of_cluster\u001b[0;34m(samplerate, shorter_clips, cluster_i, clusters, separate_channels)\u001b[0m\n\u001b[1;32m     25\u001b[0m     \u001b[0mclip_indexes\u001b[0m \u001b[0;34m=\u001b[0m \u001b[0mget_clip_indexes\u001b[0m\u001b[0;34m(\u001b[0m\u001b[0mcluster_i\u001b[0m\u001b[0;34m,\u001b[0m \u001b[0mclusters\u001b[0m\u001b[0;34m)\u001b[0m\u001b[0;34m\u001b[0m\u001b[0;34m\u001b[0m\u001b[0m\n\u001b[1;32m     26\u001b[0m \u001b[0;34m\u001b[0m\u001b[0m\n\u001b[0;32m---> 27\u001b[0;31m     \u001b[0mleft_channel\u001b[0m \u001b[0;34m=\u001b[0m \u001b[0mshorter_clips\u001b[0m\u001b[0;34m[\u001b[0m\u001b[0mclip_indexes\u001b[0m\u001b[0;34m[\u001b[0m\u001b[0;36m0\u001b[0m\u001b[0;34m]\u001b[0m\u001b[0;34m]\u001b[0m\u001b[0;34m[\u001b[0m\u001b[0;34m:\u001b[0m\u001b[0;34m,\u001b[0m \u001b[0;36m0\u001b[0m\u001b[0;34m]\u001b[0m\u001b[0;34m\u001b[0m\u001b[0;34m\u001b[0m\u001b[0m\n\u001b[0m\u001b[1;32m     28\u001b[0m     \u001b[0mright_channel\u001b[0m \u001b[0;34m=\u001b[0m \u001b[0mshorter_clips\u001b[0m\u001b[0;34m[\u001b[0m\u001b[0mclip_indexes\u001b[0m\u001b[0;34m[\u001b[0m\u001b[0;36m0\u001b[0m\u001b[0;34m]\u001b[0m\u001b[0;34m]\u001b[0m\u001b[0;34m[\u001b[0m\u001b[0;34m:\u001b[0m\u001b[0;34m,\u001b[0m \u001b[0;36m1\u001b[0m\u001b[0;34m]\u001b[0m\u001b[0;34m\u001b[0m\u001b[0;34m\u001b[0m\u001b[0m\n\u001b[1;32m     29\u001b[0m \u001b[0;34m\u001b[0m\u001b[0m\n",
      "\u001b[0;31mIndexError\u001b[0m: too many indices for array"
     ]
    }
   ],
   "source": [
    "# Plot spectrogram of all clips in a cluster appended together\n",
    "plot_spectrogram_of_cluster(samplerate, shorter_clips, 7, clusters, separate_channels=False)"
   ]
  },
  {
   "cell_type": "markdown",
   "metadata": {},
   "source": [
    "# Visualization"
   ]
  },
  {
   "cell_type": "code",
   "execution_count": null,
   "metadata": {},
   "outputs": [],
   "source": [
    "num_clips = len(shorter_clips)\n",
    "num_minutes = num_clips / 6\n",
    "num_hours = num_minutes / 60\n",
    "\n",
    "def clip_i_to_bin_i(clip_i):\n",
    "    return int(clip_i / (num_clips/num_minutes))\n",
    "\n",
    "def time_hist_for_cluster(cluster_i, clusters):\n",
    "    hist_data = []\n",
    "    for index in get_clip_indexes(cluster_i, clusters):\n",
    "        index = clip_i_to_bin_i(index)\n",
    "        hist_data.append(index)\n",
    "\n",
    "    plt.ylim(0, (num_clips/num_minutes))\n",
    "    plt.title('Cluster: %d (%s)' % (cluster_i, cluster_names[cluster_i]))\n",
    "    plt.hist(hist_data, bins=int(num_minutes), range=[0, num_minutes])\n",
    "    plt.show()\n",
    "    \n",
    "def colors(n):\n",
    "    ret = []\n",
    "    r = int(random.random() * 256)\n",
    "    g = int(random.random() * 256)\n",
    "    b = int(random.random() * 256)\n",
    "    step = 256 / n\n",
    "    for i in range(n):\n",
    "        r += step\n",
    "        g += step\n",
    "        b += step\n",
    "        r = int(r) % 256\n",
    "        g = int(g) % 256\n",
    "        b = int(b) % 256\n",
    "        ret.append((r,g,b)) \n",
    "    return ret\n",
    "\n",
    "def get_clusters_by_cluster_names(clusters, cluster_names):\n",
    "    uniq_names = np.unique(cluster_names)\n",
    "    print(uniq_names)\n",
    "    new_clusters = [-1] * len(clusters)\n",
    "    for uniq_name_i, uniq_name in enumerate(uniq_names):\n",
    "        for name_i, name in enumerate(cluster_names):\n",
    "            if name == uniq_name:\n",
    "                # Assign name_i to each index in the cluster that has the same index\n",
    "                for index in range(len(clusters)):\n",
    "                    if clusters[index] == name_i:\n",
    "                        new_clusters[index] = uniq_name_i\n",
    "    return new_clusters"
   ]
  },
  {
   "cell_type": "code",
   "execution_count": null,
   "metadata": {},
   "outputs": [],
   "source": [
    "named_clusters = get_clusters_by_cluster_names(clusters, cluster_names)\n",
    "Counter(named_clusters).most_common() \n",
    "cluster_names_to_plot = np.unique(cluster_names)\n",
    "\n",
    "# Colors for visualization\n",
    "jet = pl.get_cmap('jet', len(cluster_names_to_plot))\n",
    "cluster_colors = {}\n",
    "for i, name in enumerate(cluster_names_to_plot):\n",
    "    cluster_colors[name] = jet(i)"
   ]
  },
  {
   "cell_type": "markdown",
   "metadata": {},
   "source": [
    "Note: These are not real labels for the clusters, this is just a demonstration of the code. The histogram visualization will be replaced with better visualizations for cluster/time data such as Rose Plots."
   ]
  },
  {
   "cell_type": "code",
   "execution_count": null,
   "metadata": {},
   "outputs": [],
   "source": [
    "def plot_all_histograms(clusters, cluster_names):\n",
    "    plt.figure(figsize=(15,8))\n",
    "\n",
    "    for cluster_i in range(len(cluster_names)):\n",
    "        hist_data = []\n",
    "        for index in get_clip_indexes(cluster_i, clusters):\n",
    "            index = clip_i_to_bin_i(index)\n",
    "            hist_data.append(index)\n",
    "\n",
    "        cluster_name = cluster_names[cluster_i]\n",
    "        c = cluster_colors[cluster_name]\n",
    "        plt.hist(hist_data, bins=int(num_minutes), range=[0, num_minutes], alpha=0.5, color=c, label=cluster_name)\n",
    "\n",
    "        plt.ylabel('Number of 10-second audio clips')\n",
    "        plt.xlabel('Time in Minutes')\n",
    "        plt.legend(bbox_to_anchor=(1.2, 1.05))\n",
    "        plt.show()\n",
    "    \n",
    "clusters_to_plot = named_clusters\n",
    "cluster_names_to_plot = np.unique(cluster_names)\n",
    "plot_all_histograms(named_clusters, np.unique(cluster_names))"
   ]
  },
  {
   "cell_type": "markdown",
   "metadata": {},
   "source": [
    "### (Optional) testing convert_mp3_to_wav function with one file\n",
    "This is an extra step that I made to quickly check and troubleshoot the convert_mp3_to_wav function"
   ]
  },
  {
   "cell_type": "code",
   "execution_count": null,
   "metadata": {
    "scrolled": false
   },
   "outputs": [],
   "source": [
    "dir_path = '/Volumes/Elements/Madre_de_Dios_Xeno_Canto_Birdcalls/'\n",
    "file_path = dir_path + 'XC431125 - Rufous Twistwing - Cnipodectes superrufus.mp3'\n",
    "# file_path = dir_path + 'XC91323 - White-eyed Parakeet - Psittacara leucophthalmus.mp3'\n",
    "\n",
    "x, fs = convert_mp3_to_wav(file_path, overwrite=True)"
   ]
  },
  {
   "cell_type": "code",
   "execution_count": null,
   "metadata": {},
   "outputs": [],
   "source": [
    "# Graphs to sanity check output of load_audio with online mp3 to wav converter \n",
    "\n",
    "fig, (ax1, ax2) = plt.subplots(1, 2)\n",
    "ax1.plot(x)\n",
    "\n",
    "print(x.shape)\n",
    "\n",
    "# This file is from a random mp3 to wav convert I found here\n",
    "# https://online-audio-converter.com/ and then downloaded on Desktop\n",
    "check_dir_path = '/Users/yoo-jin/Desktop/XC431125 - Rufous Twistwing - Cnipodectes superrufus.wav'\n",
    "x_test, fs_test = sf.read(check_dir_path)\n",
    "\n",
    "x_test = np.mean(x_test, axis = 1) \n",
    "print(x_test.shape)\n",
    "\n",
    "ax2.plot(x_test)\n"
   ]
  },
  {
   "cell_type": "markdown",
   "metadata": {},
   "source": [
    "### Optional: For K-means clustsering \n",
    "The function, find_optimal_clusters is used to find the optimal number of clusters for K-means clustering. Take a look at this link for more information: https://hlab.stanford.edu/brian/number_of_clusters_.html."
   ]
  },
  {
   "cell_type": "code",
   "execution_count": null,
   "metadata": {
    "scrolled": true
   },
   "outputs": [],
   "source": [
    "## TODO: plot.ly\n",
    "\n",
    "def find_optimal_clusters(data, min_k, max_k): \n",
    "    iters= range(min_k, max_k+1, 2)\n",
    "    \n",
    "    sse = [] \n",
    "    for k in iters: \n",
    "        sse.append(MiniBatchKMeans(n_clusters=k, init_size=1024, batch_size=2048, random_state=20).fit(data).inertia_)\n",
    "    \n",
    "#     import pandas as pd\n",
    "#     sse_pct_diff = pd.Series(sse)\n",
    "#     sse_pct_diff.pct_change()\n",
    "#     print(sse_pct_diff)\n",
    "    \n",
    "    f, ax = plt.subplots(1,1)\n",
    "    ax.plot(iters, sse, marker = 'o')\n",
    "    ax.set_xlabel('Cluster Centers')\n",
    "#     ax.set_xticks(iters)\n",
    "#     f.autofmt_xdate()\n",
    "#     ax.set_xtickslabels(iters)\n",
    "    ax.set_ylabel('SSE')\n",
    "    ax.set_title('SSE by Number of Clusters')\n",
    "    \n",
    "#     ax[0].plot(iters, sse, marker = 'o')\n",
    "#     ax[0].set_xlabel('Cluster Centers')\n",
    "# #     ax.set_xticks(iters)\n",
    "# #     f.autofmt_xdate()\n",
    "# #     ax.set_xtickslabels(iters)\n",
    "#     ax[0].set_ylabel('SSE')\n",
    "#     ax[0].set_title('SSE by Number of Clusters')\n",
    "    \n",
    "#     ax[1].plot(iters, sse_pct_diff, marker = 'o')\n",
    "#     ax[1].set_xlabel('Cluster Centers')\n",
    "# #     ax.set_xticks(iters)\n",
    "# #     f.autofmt_xdate()\n",
    "# #     ax.set_xtickslabels(iters)\n",
    "#     ax[1].set_ylabel('Percentage Change of SSE')\n",
    "#     ax[1].set_title('Percentage Change of SSE by Number of Clusters')\n",
    "    \n",
    "    plt.tight_layout()\n",
    "\n",
    "        \n",
    "# Change the range here: \n",
    "find_optimal_clusters(X, 1, 150)"
   ]
  },
  {
   "cell_type": "code",
   "execution_count": null,
   "metadata": {
    "scrolled": true
   },
   "outputs": [],
   "source": [
    "# dir_path = '/Volumes/Elements/Madre_de_Dios_Xeno_Canto_Birdcalls/'\n",
    "dir_path = '/Volumes/Elements/Test/'\n",
    "samplerate = None\n",
    "wav_data = []\n",
    "bird_names_and_lengths = []\n",
    "num_files = 0\n",
    "\n",
    "for file in glob.glob(os.path.join(dir_path, '*.mp3')):\n",
    "#     print(file)\n",
    "#     convert_mp3_to_wav(file, overwrite=True)\n",
    "    num_files = num_files+1\n",
    "    try: \n",
    "        data, rate = convert_mp3_to_wav(file, overwrite=True)\n",
    "#         data = data.astype(int)\n",
    "        samplerate = rate\n",
    "        if wav_data == []:\n",
    "            wav_data = data\n",
    "        else:\n",
    "            wav_data = np.concatenate((wav_data, data))\n",
    "        clip_len = len(data) / samplerate\n",
    "        \n",
    "        # Input only bird species\n",
    "        bird_species = file.split(' - ')[2][:-4].replace(' ', '_')\n",
    "        bird_names_and_lengths.append([bird_species, clip_len])\n",
    "#         print(file)\n",
    "        \n",
    "        # TO DO: deal with warning, don't suppress\n",
    "        warnings.filterwarnings(\"ignore\", category=DeprecationWarning) \n",
    "        warnings.filterwarnings(\"ignore\", category=FutureWarning) \n",
    "    except Exception as e:\n",
    "        print('(failed) ' + file)\n",
    "        print('\\t' + str(e))\n",
    "        pass\n",
    "    \n",
    "print(bird_names_and_lengths)\n",
    "    \n",
    "# with warnings.catch_warnings():\n",
    "#     warnings.simplefilter(\"ignore\")\n",
    "#     fxn()"
   ]
  },
  {
   "cell_type": "markdown",
   "metadata": {},
   "source": [
    "### Optional: list all bird species included in the file"
   ]
  },
  {
   "cell_type": "code",
   "execution_count": null,
   "metadata": {},
   "outputs": [],
   "source": [
    "dir_path = '/Volumes/Elements/Test/'\n",
    "list_of_species = []\n",
    "\n",
    "for f in glob.glob(os.path.join(dir_path, '*.mp3')): \n",
    "    bird_name = os.path.splitext(f)[0].split(\" - \", 1)[1].strip()\n",
    "    if list_of_species == []: \n",
    "        list_of_species = [bird_name]\n",
    "    elif bird_name in list_of_species: \n",
    "        pass \n",
    "    else: \n",
    "        list_of_species.append(bird_name)\n",
    "\n",
    "print(list_of_species)\n",
    "# print(len(list_of_species))"
   ]
  },
  {
   "cell_type": "code",
   "execution_count": null,
   "metadata": {
    "scrolled": true
   },
   "outputs": [],
   "source": [
    "print(\"shape of wav_data\", len(wav_data))\n",
    "print(\"sample rate\", sr)\n",
    "print(\"type of wav_data\", type(wav_data))\n",
    "print('sample rate = %d' % samplerate)\n",
    "print(wav_data.shape)\n",
    "length = wav_data.shape[0] / samplerate\n",
    "print('length = %.1fs' % length)"
   ]
  },
  {
   "cell_type": "code",
   "execution_count": 83,
   "metadata": {
    "scrolled": true
   },
   "outputs": [
    {
     "name": "stdout",
     "output_type": "stream",
     "text": [
      "XC - White-lined Antbird - Myrmoborus lophotes\n",
      "\n",
      "XC - White-lined Antbird - Myrmoborus lophotes\n",
      "\n",
      "XC - White-lined Antbird - Myrmoborus lophotes\n",
      "\n",
      "XC - Great Jacamar - Jacamerops aureus\n",
      "\n",
      "XC - Great Jacamar - Jacamerops aureus\n",
      "\n",
      "XC - Cabanis's Spinetail - Synallaxis cabanisi\n",
      "\n",
      "XC - Cabanis's Spinetail - Synallaxis cabanisi\n",
      "\n",
      "XC - Cabanis's Spinetail - Synallaxis cabanisi\n",
      "\n",
      "XC - Cabanis's Spinetail - Synallaxis cabanisi\n",
      "\n",
      "XC - Cabanis's Spinetail - Synallaxis cabanisi\n",
      "\n",
      "XC - Cabanis's Spinetail - Synallaxis cabanisi\n",
      "\n",
      "XC - Blue-crowned Trogon - Trogon curucui\n",
      "\n",
      "XC - Blue-crowned Trogon - Trogon curucui\n",
      "\n",
      "XC - White-bellied Tody-Tyrant - Hemitriccus griseipectus\n",
      "\n",
      "[2, 1, 2]\n"
     ]
    }
   ],
   "source": [
    "# loop through all the cluster folders \n",
    "from os import listdir\n",
    "from os.path import isfile, join\n",
    "\n",
    "# dirname = '/Volumes/Elements/Madre_de_Dios_Xeno_Canto_Birdcalls/Clusters_XenoCanto/'\n",
    "dirname = '/Volumes/Elements/Test/Clusters/'\n",
    "directory_list = os.listdir(dirname)\n",
    "# print(directory_list)\n",
    "# make \"find . -name \".DS_Store\" -delete\" in the terminal \n",
    "\n",
    "final_bird_list = []\n",
    "num_bird_species = []\n",
    "\n",
    "for d in directory_list: \n",
    "    path = dirname + d\n",
    "    file_list = [f for f in os.listdir(path) if not f.startswith('.')]\n",
    "    \n",
    "    cluster_set = set()\n",
    "    for f in file_list: \n",
    "#         print(f)\n",
    "#         if not f.startswith('.'):\n",
    "        cluster_set = cluster_set | find_bird_species_from_file_name(f)\n",
    "#         print(f)\n",
    "    \n",
    "    num_bird_species.append(len(cluster_set))\n",
    "    final_bird_list.append(num_bird_species)\n",
    "        \n",
    "# print(final_bird_list)\n",
    "# print(cluster_set)\n",
    "print(num_bird_species)"
   ]
  }
 ],
 "metadata": {
  "kernelspec": {
   "display_name": "Python 3",
   "language": "python",
   "name": "python3"
  },
  "language_info": {
   "codemirror_mode": {
    "name": "ipython",
    "version": 3
   },
   "file_extension": ".py",
   "mimetype": "text/x-python",
   "name": "python",
   "nbconvert_exporter": "python",
   "pygments_lexer": "ipython3",
   "version": "3.6.8"
  }
 },
 "nbformat": 4,
 "nbformat_minor": 4
}
