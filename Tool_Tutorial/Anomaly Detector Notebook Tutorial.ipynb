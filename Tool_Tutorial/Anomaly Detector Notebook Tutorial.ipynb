{
 "cells": [
  {
   "cell_type": "markdown",
   "metadata": {},
   "source": [
    "# Anomaly Detector Program and Uses"
   ]
  },
  {
   "cell_type": "markdown",
   "metadata": {},
   "source": [
    "Here is the paper that was relevent to the development of the code:\n",
    "Automatic Identification of Rainfall in Acoustic Recordings by \n",
    "Carol Bedoya et al. - https://www.researchgate.net/publication/312324083_Automatic_identification_of_rainfall_in_acoustic_recordings"
   ]
  },
  {
   "cell_type": "markdown",
   "metadata": {},
   "source": [
    "Normally, rainfall would be like background noise, making it very hard to detect on a spectrogram. However, the power spectral density shows the energy (power) at a given frequency in a different format that allows us to notice whether the energy is weak or strong. On the 600-1200 Hz frequencies, there is a higher energy reading when there is rain, meaning we can interpret spikes in the 600-1200 Hz frequency as rain. However, it's still not enough to just use the power spectral density, as other animals or anthropogenic sources also emit sounds on that 600-1200 frequency. Thus, the signal to noise ratio is used to determine whether the sound is rainfall or something else. The signal to noise ratio is basically the ratio between a wanted sound to noise - the ratio was determined using complicated math you can read about in the paper. "
   ]
  },
  {
   "cell_type": "markdown",
   "metadata": {},
   "source": [
    "The code based off of the paper (anomaly_detector.py) is in the Github Repo. While the code is similar to rain_cal.py, there are some differences, but not very noticable. "
   ]
  },
  {
   "cell_type": "markdown",
   "metadata": {},
   "source": [
    "The dataset used to test and develop the code was gathered from Audiomoth devices in the Peruvian rainforest. It was recorded at a 384 kHz, a very high sampling rate. "
   ]
  },
  {
   "cell_type": "markdown",
   "metadata": {},
   "source": [
    "Please import the following libraries below:"
   ]
  },
  {
   "cell_type": "code",
   "execution_count": 1,
   "metadata": {},
   "outputs": [],
   "source": [
    "from __future__ import division\n",
    "import sys\n",
    "import numpy as np\n",
    "import matplotlib.pyplot as plt\n",
    "import glob\n",
    "import time\n",
    "from scipy import signal\n",
    "from scipy.io import wavfile\n",
    "import scipy.signal as scipy_signal\n",
    "# anamoly_detector is the .py file on our Github\n",
    "import anomaly_detector"
   ]
  },
  {
   "cell_type": "markdown",
   "metadata": {},
   "source": [
    "# Versions of Libraries that were used (most recent versions should work, but just in case) - any libraries not included are probably included in your system already:"
   ]
  },
  {
   "cell_type": "markdown",
   "metadata": {},
   "source": [
    "future == 0.18.2"
   ]
  },
  {
   "cell_type": "markdown",
   "metadata": {},
   "source": [
    "numpy == 1.18.5"
   ]
  },
  {
   "cell_type": "markdown",
   "metadata": {},
   "source": [
    "matplotlib == 3.2.1"
   ]
  },
  {
   "cell_type": "markdown",
   "metadata": {},
   "source": [
    "scipy == 1.4.1"
   ]
  },
  {
   "cell_type": "markdown",
   "metadata": {},
   "source": [
    "# Files Included on Github"
   ]
  },
  {
   "cell_type": "markdown",
   "metadata": {},
   "source": [
    "anomaly_detector.py - The main code that includes our classify and train function"
   ]
  },
  {
   "cell_type": "markdown",
   "metadata": {},
   "source": [
    "rain1.wav - Rain and wind"
   ]
  },
  {
   "cell_type": "markdown",
   "metadata": {},
   "source": [
    "rain2.wav - Rain and wind"
   ]
  },
  {
   "cell_type": "markdown",
   "metadata": {},
   "source": [
    "talk.wav - People talking with a motor in the background"
   ]
  },
  {
   "cell_type": "markdown",
   "metadata": {},
   "source": [
    "static.wav - Electrostatic noises interfering with cricket chirps"
   ]
  },
  {
   "cell_type": "markdown",
   "metadata": {},
   "source": [
    "engine.wav - Car engine momentarily passing through with sputters caught"
   ]
  },
  {
   "cell_type": "markdown",
   "metadata": {},
   "source": [
    "# Training"
   ]
  },
  {
   "cell_type": "markdown",
   "metadata": {},
   "source": [
    "Will function at any frequency. However, you will have to change the frequency it functions at in the code. You can see that it was set to function between frequency 600-1200."
   ]
  },
  {
   "cell_type": "markdown",
   "metadata": {},
   "source": [
    "Basically, the train function will take in a set of \"labeled\" clips (in this case, rain) that you have put into a folder, like Rain_Datasets. It will go through and output the minimum and maximum Power Spectral Density and Signal to Noise ratio values for whatever type of noise you analyzed. These values are printed out for you to see and plugged into the Classify function."
   ]
  },
  {
   "cell_type": "markdown",
   "metadata": {},
   "source": [
    "In the below example, Rain_Datasets was used to get parameters to detect rain. The two clips used in Rain_Datasets was rain1 and rain2. It then classified the other clips in Mixed_AM_Datasets (including rain1 and rain2, sorry) to detect rain/wind vs. human noises/electrostatic. "
   ]
  },
  {
   "cell_type": "code",
   "execution_count": 2,
   "metadata": {},
   "outputs": [
    {
     "name": "stdout",
     "output_type": "stream",
     "text": [
      "min_psd: 1.2029623557037434\n",
      "max_psd: 1.6864378627214969\n",
      "min_snr: 19.549865511143132\n",
      "max_snr: 45.22966212908287\n",
      "----- Training: 6.32 seconds -----\n",
      "----- Wind or Rain -----\n",
      "Mixed_AM_Datasets\\rain1.WAV: Intensity 1.20\n",
      "Mixed_AM_Datasets\\rain2.WAV: Intensity 1.69\n",
      "----- Human Noises or Electrostatic -----\n",
      "Mixed_AM_Datasets\\talk.WAV: Intensity 3.54\n",
      "----- Classification: 16.78 seconds -----\n"
     ]
    }
   ],
   "source": [
    "\t### Set True or False depending on whether you want to train or use default thresholds ###\n",
    "\tTRAIN = True\n",
    "\n",
    "\t### Set your own file path ###\n",
    "\ttrain_path = 'Rain_Datasets/'\n",
    "\tclassify_path = 'Mixed_AM_Datasets/'\n",
    "    \n",
    "\tif TRAIN:\n",
    "\t\tstart_time = time.time()\n",
    "\t\tmin_frq, max_frq = 600, 1200\n",
    "\t\tmin_psd, max_psd, min_snr, max_snr = anomaly_detector.train(train_path)\n",
    "\t\tprint('min_psd: '+ str(min_psd)) \n",
    "\t\tprint('max_psd: '+ str(max_psd))\n",
    "\t\tprint('min_snr: '+ str(min_snr))\n",
    "\t\tprint('max_snr: '+ str(max_snr))\n",
    "\t\tprint('----- Training: {:.2f} seconds -----'.format(\n",
    "\t\t\t\ttime.time() - start_time))\n",
    "\telse:\n",
    "\t\tmin_psd, max_psd, min_snr, max_snr, min_frq, max_frq = 1e-6, 2, 3.5, sys.maxsize, 600, 1200\n",
    "\n",
    "\tstart_time = time.time()\n",
    "\tanomaly_detector.classify(classify_path, min_psd, max_psd, min_snr, max_snr, min_frq, max_frq)\n",
    "\tprint('----- Classification: {:.2f} seconds -----'.format(\n",
    "\t\t\ttime.time() - start_time))"
   ]
  },
  {
   "cell_type": "markdown",
   "metadata": {},
   "source": [
    "# Classification: 600 - 1200 Hz Detection System"
   ]
  },
  {
   "cell_type": "markdown",
   "metadata": {},
   "source": [
    "Functions between the 600 - 1200 Hz frequency range. Will classify clips as either rain/wind or human noises/electrostatic. This divide is based on the intensity of a clip. A clip that has an intensity of 2 or below is classified as rain/wind. One that has an intensity higher than 2 is considered human noises/electrostatic. "
   ]
  },
  {
   "cell_type": "markdown",
   "metadata": {},
   "source": [
    "Below the \"else\" in the below code, there is a set of values that are used by the Classify function to be able to classify the clips. Modify them for your own purpose. "
   ]
  },
  {
   "cell_type": "code",
   "execution_count": 3,
   "metadata": {},
   "outputs": [
    {
     "name": "stdout",
     "output_type": "stream",
     "text": [
      "----- Wind or Rain -----\n",
      "Mixed_AM_Datasets\\rain1.WAV: Intensity 1.20\n",
      "Mixed_AM_Datasets\\rain2.WAV: Intensity 1.69\n",
      "----- Human Noises or Electrostatic -----\n",
      "Mixed_AM_Datasets\\engine.WAV: Intensity 3.61\n",
      "Mixed_AM_Datasets\\static.WAV: Intensity 2.28\n",
      "Mixed_AM_Datasets\\talk.WAV: Intensity 3.54\n",
      "----- Classification: 16.19 seconds -----\n"
     ]
    }
   ],
   "source": [
    "\t### Set True or False depending on whether you want to train or use default thresholds ###\n",
    "\tTRAIN = False\n",
    "\n",
    "\t### Set your own file path ###\n",
    "\ttrain_path = 'Rain_Datasets/'\n",
    "\tclassify_path = 'Mixed_AM_Datasets/'\n",
    "    \n",
    "\tif TRAIN:\n",
    "\t\tstart_time = time.time()\n",
    "\t\tmin_frq, max_frq = 600, 1200\n",
    "\t\tmin_psd, max_psd, min_snr, max_snr = anomaly_detector.train(train_path)\n",
    "\t\tprint('min_psd: '+ str(min_psd)) \n",
    "\t\tprint('max_psd: '+ str(max_psd))\n",
    "\t\tprint('min_snr: '+ str(min_snr))\n",
    "\t\tprint('max_snr: '+ str(max_snr))\n",
    "\t\tprint('----- Training: {:.2f} seconds -----'.format(\n",
    "\t\t\t\ttime.time() - start_time))\n",
    "\telse:\n",
    "\t\tmin_psd, max_psd, min_snr, max_snr, min_frq, max_frq = 1e-6, 2, 3.5, sys.maxsize, 600, 1200\n",
    "\n",
    "\tstart_time = time.time()\n",
    "\tanomaly_detector.classify(classify_path, min_psd, max_psd, min_snr, max_snr, min_frq, max_frq)\n",
    "\tprint('----- Classification: {:.2f} seconds -----'.format(\n",
    "\t\t\ttime.time() - start_time))"
   ]
  }
 ],
 "metadata": {
  "kernelspec": {
   "display_name": "Python 3",
   "language": "python",
   "name": "python3"
  },
  "language_info": {
   "codemirror_mode": {
    "name": "ipython",
    "version": 3
   },
   "file_extension": ".py",
   "mimetype": "text/x-python",
   "name": "python",
   "nbconvert_exporter": "python",
   "pygments_lexer": "ipython3",
   "version": "3.7.6"
  }
 },
 "nbformat": 4,
 "nbformat_minor": 4
}
