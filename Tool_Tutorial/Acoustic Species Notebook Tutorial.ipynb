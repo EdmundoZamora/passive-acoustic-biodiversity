{
 "cells": [
  {
   "cell_type": "markdown",
   "metadata": {},
   "source": [
    "# rain_cal.py Program and Uses"
   ]
  },
  {
   "cell_type": "markdown",
   "metadata": {},
   "source": [
    "Here is the paper that was relevent to the development of the code:\n",
    "Automatic Identification of Rainfall in Acoustic Recordings by \n",
    "Carol Bedoya et al. - https://www.researchgate.net/publication/312324083_Automatic_identification_of_rainfall_in_acoustic_recordings"
   ]
  },
  {
   "cell_type": "markdown",
   "metadata": {},
   "source": [
    "Summary of Automatic Identification of Rainfall in Acoustic Recordings: Normally, rainfall would be like background noise, making it very hard to detect on a spectrogram. However, the power spectral density shows the energy (power) at a given frequency in a different format that allows us to notice whether the energy is weak or strong. On the 600-1200 Hz frequencies, there is a higher energy reading when there is rain, meaning we can interpret spikes in the 600-1200 Hz frequency as rain. However, it's still not enough to just use the power spectral density, as other animals or anthropogenic sources also emit sounds on that 600-1200 frequency. Thus, the signal to noise ratio is used to determine whether the sound is rainfall or something else. The signal to noise ratio is basically the ratio between a wanted sound to noise - the ratio was determined using complicated math you can read about in the paper. "
   ]
  },
  {
   "cell_type": "markdown",
   "metadata": {},
   "source": [
    "Below is our code we developed based off of the paper. While the code here is similar to rain_cal.py, there are some differences, but not very noticable. While it was developed as a rain detection system, it struggles with differentiating between rain and wind. However, it also works well as an anthropogenic noise detection system after we set the t_mean value to 1.5-2 (we will show how to modify the code to detect anthropogenic noises). It also works well to find any sound files that have too much electrostatic interference. "
   ]
  },
  {
   "cell_type": "markdown",
   "metadata": {},
   "source": [
    "Please import the following libraries below:"
   ]
  },
  {
   "cell_type": "code",
   "execution_count": 1,
   "metadata": {},
   "outputs": [],
   "source": [
    "from __future__ import division\n",
    "import sys\n",
    "import numpy as np\n",
    "import matplotlib.pyplot as plt\n",
    "import glob\n",
    "import time\n",
    "from scipy import signal\n",
    "from scipy.io import wavfile\n",
    "import scipy.signal as scipy_signal"
   ]
  },
  {
   "cell_type": "markdown",
   "metadata": {},
   "source": [
    "# Versions of Libraries that were used (most recent versions should work, but just in case):"
   ]
  },
  {
   "cell_type": "markdown",
   "metadata": {},
   "source": [
    "future == 0.18.2"
   ]
  },
  {
   "cell_type": "markdown",
   "metadata": {},
   "source": [
    "sys == "
   ]
  },
  {
   "cell_type": "markdown",
   "metadata": {},
   "source": [
    "numpy == 1.18.5"
   ]
  },
  {
   "cell_type": "markdown",
   "metadata": {},
   "source": [
    "matplotlib == 3.2.1"
   ]
  },
  {
   "cell_type": "markdown",
   "metadata": {},
   "source": [
    "glob == "
   ]
  },
  {
   "cell_type": "markdown",
   "metadata": {},
   "source": [
    "time == "
   ]
  },
  {
   "cell_type": "markdown",
   "metadata": {},
   "source": [
    "scipy == 1.4.1"
   ]
  },
  {
   "cell_type": "markdown",
   "metadata": {},
   "source": [
    "scipy.io =="
   ]
  },
  {
   "cell_type": "markdown",
   "metadata": {},
   "source": [
    "scipy.signal == "
   ]
  },
  {
   "cell_type": "markdown",
   "metadata": {},
   "source": [
    "# Functions"
   ]
  },
  {
   "cell_type": "code",
   "execution_count": 2,
   "metadata": {},
   "outputs": [],
   "source": [
    "\"\"\"\n",
    "Calculate thresholds for rain detection in audio files\n",
    ":param data_path: path to known rain recordings\n",
    ":return: min threshold for mean PSD, max threshold for mean PSD, \n",
    "\t\t min threshold for SNR, max threshold for snr\n",
    "\"\"\"\n",
    "def train(data_path):\n",
    "\tsample_rate = None\n",
    "\trecording = []\n",
    "\tpsd_arr = []\n",
    "\tsnr_arr = []\n",
    "\tfor file in glob.glob(data_path + '*.wav'):\n",
    "\t\t# load wav data\n",
    "\t\ttry:\n",
    "\t\t\trate, data = wavfile.read(file)\n",
    "\t\texcept Exception as e:\n",
    "\t\t\tprint('(failed) ' + file)\n",
    "\t\t\tprint('\\t' + str(e))\n",
    "\t\t\tcontinue\n",
    "\n",
    "\t\trecording = np.asarray(data)\n",
    "\t\tsample_rate = rate\n",
    "\t\t# import pdb; pdb.set_trace()\n",
    "\t\tlength = recording.shape[0] / sample_rate\n",
    "\t\t# print(file)\n",
    "\t\t# print('sample rate = %d' % sample_rate)\n",
    "\t\t# print('length = %.1fs' % length)\n",
    "\n",
    "\t\t# import pdb;pdb.set_trace()\n",
    "\t\t# Stereo to mono\n",
    "\t\tif recording.ndim == 2:\n",
    "\t\t\trecording = recording.sum(axis=1) / 2\n",
    "\n",
    "\t\t# Downsample to 44.1 kHz\n",
    "\t\tif sample_rate != 44100:\n",
    "\t\t\trecording = signal.decimate(recording, int(sample_rate/44100))\n",
    "\t\t\tsample_rate = 44100\n",
    "\n",
    "\t\t# STEP 1: Estimate PSD vector from signal vector\n",
    "\t\tf, p = signal.welch(recording, fs=sample_rate, window='hamming', \n",
    "\t\t\t\t\t\t\tnperseg=512, detrend=False)\n",
    "\t\tp = np.log10(p)\n",
    "\n",
    "\t\t# STEP 2: Extract vector a (freq band where rain lies) from PSD vector\n",
    "\t\t# min and max freq of rainfall freq band\n",
    "\t\t# divide by sample_rate to normalize from 0 to 1\n",
    "\t\train_min = (2.0 * 600) / sample_rate\n",
    "\t\train_max = (2.0 * 1200) / sample_rate\n",
    "\n",
    "\t\tlimite_inf = int(round(p.__len__() * rain_min))\n",
    "\t\tlimite_sup = int(round(p.__len__() * rain_max))\n",
    "\n",
    "\t\t# section of interest of the power spectral density\n",
    "\t\ta = p[limite_inf:limite_sup]\n",
    "\t\t# print(limite_inf)\n",
    "\t\t# print(limite_sup)\n",
    "\t\t# print(a)\n",
    "\n",
    "\t\t# STEP 3: Compute c (SNR of the PSD in rain freq band)\n",
    "\t\t# upper part of algorithm 2.1\n",
    "\t\tmean_a = np.mean(a)\n",
    "\t\t# lower part of algorithm 2.1\n",
    "\t\tstd_a = np.std(a)\n",
    "\n",
    "\t\t# snr\n",
    "\t\tc = mean_a / std_a\n",
    "\n",
    "\t\tpsd_arr.append(mean_a)\n",
    "\t\tsnr_arr.append(c)\n",
    "\n",
    "\treturn min(psd_arr), max(psd_arr), min(snr_arr), max(snr_arr)\n",
    "\n",
    "\n",
    "\"\"\"\n",
    "Classify clips as rain or non-rain\n",
    ":param data_path: path to recordings\n",
    ":param min_psd: minimum threshold for the mean value of the PSD\n",
    ":param max_psd: maximum threshold for the mean value of the PSD\n",
    ":param min_snr: Minimum threshold for the signal to noise ratio\n",
    ":param max_snr: Maximum threshold for the signal to noise ratio\n",
    ":return: indicator for rainy clips, metric of intensity of rainfall\n",
    "\"\"\"\n",
    "def classify(data_path, min_psd, max_psd, min_snr, max_snr):\n",
    "\tsample_rate = None\n",
    "\trecording = []\n",
    "\tfor file in glob.glob(data_path + '*.wav'):\n",
    "\t\t# load wav data     \n",
    "\t\ttry:\n",
    "\t\t\trate, data = wavfile.read(file)\n",
    "\t\texcept Exception as e:\n",
    "\t\t\tprint('(failed) ' + file)\n",
    "\t\t\tprint('\\t' + str(e))\n",
    "\t\t\tcontinue\n",
    "\n",
    "\t\trecording = np.asarray(data)\n",
    "\t\tsample_rate = rate\n",
    "\t\t# import pdb; pdb.set_trace()\n",
    "\t\tlength = recording.shape[0] / sample_rate\n",
    "\t\t# print(file)\n",
    "\t\t# print('sample rate = %d' % sample_rate)\n",
    "\t\t# print('length = %.1fs' % length)\n",
    "\n",
    "\t\t# import pdb;pdb.set_trace()\n",
    "\t\t# Stereo to mono\n",
    "\t\tif recording.ndim == 2:\n",
    "\t\t\trecording = recording.sum(axis=1) / 2\n",
    "\n",
    "\t\tdownsample_rate = 44100\n",
    "\t\tdownsample_ratio = int(sample_rate / downsample_rate)\n",
    "\t\t# Downsample to chosen rate\n",
    "\t\tif sample_rate != downsample_rate:\n",
    "\t\t\trecording = signal.decimate(recording, downsample_ratio)\n",
    "\t\t\t# recording = samplerate.resample(recording, downsample_ratio, \"sinc_fastest\")\n",
    "\t\t\t#recording = scipy_signal.resample(recording, \n",
    "\t\t\t\t\t#int(len(recording)*downsample_ratio))\n",
    "\t\t\t# recording = resampy.resample(np.float64(recording),\n",
    "\t\t\t# \t\tsample_rate, downsample_rate)\n",
    "\t\t\tsample_rate = downsample_rate\n",
    "\n",
    "\t\t# STEP 1: Estimate PSD vector from signal vector\n",
    "\t\tf, p = signal.welch(recording, fs=sample_rate, window='hamming', \n",
    "\t\t\t\t\t\t\tnperseg=512, detrend=False)\n",
    "\t\tp = np.log10(p)\n",
    "\n",
    "\t\t# STEP 2: Extract vector a (freq band where rain lies) from PSD vector\n",
    "\t\t# min and max freq of rainfall freq band\n",
    "\t\t# divide by sample_rate to normalize from 0 to 1\n",
    "\t\train_min = (2.0 * 600) / sample_rate\n",
    "\t\train_max = (2.0 * 1200) / sample_rate\n",
    "\n",
    "\t\tlimite_inf = int(round(p.__len__() * rain_min))\n",
    "\t\tlimite_sup = int(round(p.__len__() * rain_max))\n",
    "\n",
    "\t\t# section of interest of the power spectral density\n",
    "\t\ta = p[limite_inf:limite_sup]\n",
    "\t\t# print(limite_inf)\n",
    "\t\t# print(limite_sup)\n",
    "\t\t# print(a)\n",
    "\n",
    "\t\t# STEP 3: Compute c (SNR of the PSD in rain freq band)\n",
    "\t\t# upper part of algorithm 2.1\n",
    "\t\tmean_a = np.mean(a)\n",
    "\t\t# lower part of algorithm 2.1\n",
    "\t\tstd_a = np.std(a)\n",
    "\n",
    "\t\t# snr\n",
    "\t\tc = mean_a / std_a\n",
    "\n",
    "\t\t# STEP 4: Classify samples\n",
    "\t\tif (min_psd <= mean_a <= max_psd) and (min_snr <= c <= max_snr):\n",
    "\t\t\tprint('{}: Rainfall of intensity {:.2f}'.format(file, mean_a))"
   ]
  },
  {
   "cell_type": "markdown",
   "metadata": {},
   "source": [
    "# Files Included on Github"
   ]
  },
  {
   "cell_type": "markdown",
   "metadata": {},
   "source": [
    "20190623_150000 - Rain and wind"
   ]
  },
  {
   "cell_type": "markdown",
   "metadata": {},
   "source": [
    "20190623_154000 - Rain and wind"
   ]
  },
  {
   "cell_type": "markdown",
   "metadata": {},
   "source": [
    "20190611_100000 - People talking with a motor in the background"
   ]
  },
  {
   "cell_type": "markdown",
   "metadata": {},
   "source": [
    "20190618_113000 - Electrostatic noises interfering with cricket chirps"
   ]
  },
  {
   "cell_type": "markdown",
   "metadata": {},
   "source": [
    "20190623_013000 - Car engine momentarily passing through with sputters caught"
   ]
  },
  {
   "cell_type": "markdown",
   "metadata": {},
   "source": [
    "# Rain Detection System"
   ]
  },
  {
   "cell_type": "markdown",
   "metadata": {},
   "source": [
    "Struggles with differentiating between rain and wind. But it may still be of use. It functions on the 600-1200 Hz frequency. Basically, it will filter out anything that has an intensity higher than 2. Usually, that will be anthropogenic noises or animals. "
   ]
  },
  {
   "cell_type": "code",
   "execution_count": 3,
   "metadata": {},
   "outputs": [
    {
     "name": "stdout",
     "output_type": "stream",
     "text": [
      "Mixed_AM_Datasets\\20190623_150000.WAV: Rainfall of intensity 1.20\n",
      "Mixed_AM_Datasets\\20190623_154000.WAV: Rainfall of intensity 1.69\n",
      "----- Classification: 20.08 seconds -----\n"
     ]
    }
   ],
   "source": [
    "if __name__ == '__main__':\n",
    "\t### Set True or False depending on whether you want to train or use default thresholds ###\n",
    "\tTRAIN = False\n",
    "\n",
    "\t### Set your own file path ###\n",
    "\ttrain_path = 'E:/Internships/Acoustic Species/Mixed_AM_Datasets/Mixed_AM_Dataset/'\n",
    "\tclassify_path = 'Mixed_AM_Datasets/'\n",
    "    \n",
    "\tif TRAIN:\n",
    "\t\tstart_time = time.time()\n",
    "\t\tmin_psd, max_psd, min_snr, max_snr = train(train_path)\n",
    "\t\tprint('----- Training: {:.2f} seconds -----'.format(\n",
    "\t\t\t\ttime.time() - start_time))\n",
    "\telse:\n",
    "\t\tmin_psd, max_psd, min_snr, max_snr = 1e-6, 2, 3.5, sys.maxsize\n",
    "\n",
    "\tstart_time = time.time()\n",
    "\tclassify(classify_path, min_psd, max_psd, min_snr, max_snr)\n",
    "\tprint('----- Classification: {:.2f} seconds -----'.format(\n",
    "\t\t\ttime.time() - start_time))"
   ]
  },
  {
   "cell_type": "markdown",
   "metadata": {},
   "source": [
    "# Anthropogenic Noises/Electrostatic Noises"
   ]
  },
  {
   "cell_type": "markdown",
   "metadata": {
    "collapsed": true
   },
   "source": [
    "In this, we kept listening to a frequency of 600-1200 Hz, but changed the threshold of the minimum PSD to 2. That way, we can detect human noises. It can also detect electrostatic noises, as seen with one clip caught. "
   ]
  },
  {
   "cell_type": "raw",
   "metadata": {},
   "source": [
    "Actually, quick note to self: This only changes the threshold at which certain clips will be able to meet the requirements that they have an intensity of 1.5 or higher. Thus, not much actually changes (we only filtered out clips to have human noises, which is great but still). Thus, if we actually wanted to find NEW data, we would have to change the frequency we listen to. "
   ]
  },
  {
   "cell_type": "code",
   "execution_count": 4,
   "metadata": {},
   "outputs": [
    {
     "name": "stdout",
     "output_type": "stream",
     "text": [
      "Mixed_AM_Datasets\\20190611_100000.WAV: Rainfall of intensity 3.54\n",
      "Mixed_AM_Datasets\\20190618_113000.WAV: Rainfall of intensity 2.28\n",
      "Mixed_AM_Datasets\\20190623_013000.WAV: Rainfall of intensity 3.61\n",
      "----- Classification: 18.79 seconds -----\n"
     ]
    }
   ],
   "source": [
    "if __name__ == '__main__':\n",
    "\t### Set True or False depending on whether you want to train or use default thresholds ###\n",
    "\tTRAIN = False\n",
    "\n",
    "\t### Set your own file path ###\n",
    "\ttrain_path = 'E:/Internships/Acoustic Species/Mixed_AM_Datasets/Mixed_AM_Dataset/'\n",
    "\tclassify_path = 'Mixed_AM_Datasets/'\n",
    "\n",
    "\tif TRAIN:\n",
    "\t\tstart_time = time.time()\n",
    "\t\tmin_psd, max_psd, min_snr, max_snr = train(train_path)\n",
    "\t\tprint('----- Training: {:.2f} seconds -----'.format(\n",
    "\t\t\t\ttime.time() - start_time))\n",
    "\telse:\n",
    "\t\tmin_psd, max_psd, min_snr, max_snr = 2, sys.maxsize, 3.5, sys.maxsize\n",
    "\n",
    "\tstart_time = time.time()\n",
    "\tclassify(classify_path, min_psd, max_psd, min_snr, max_snr)\n",
    "\tprint('----- Classification: {:.2f} seconds -----'.format(\n",
    "\t\t\ttime.time() - start_time))\n"
   ]
  }
 ],
 "metadata": {
  "kernelspec": {
   "display_name": "Python 3",
   "language": "python",
   "name": "python3"
  },
  "language_info": {
   "codemirror_mode": {
    "name": "ipython",
    "version": 3
   },
   "file_extension": ".py",
   "mimetype": "text/x-python",
   "name": "python",
   "nbconvert_exporter": "python",
   "pygments_lexer": "ipython3",
   "version": "3.7.6"
  }
 },
 "nbformat": 4,
 "nbformat_minor": 4
}
