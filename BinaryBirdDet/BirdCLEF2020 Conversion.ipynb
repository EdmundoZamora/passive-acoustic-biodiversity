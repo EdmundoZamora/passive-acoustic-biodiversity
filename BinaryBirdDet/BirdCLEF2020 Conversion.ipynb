{
 "cells": [
  {
   "cell_type": "code",
   "execution_count": 45,
   "id": "satisfied-silly",
   "metadata": {},
   "outputs": [],
   "source": [
    "import pandas as pd\n",
    "import os"
   ]
  },
  {
   "cell_type": "code",
   "execution_count": 46,
   "id": "sustainable-pension",
   "metadata": {},
   "outputs": [],
   "source": [
    "species_list = pd.read_csv(\"/home/jacob/Desktop/EngineersForExploration/Data/Relevant BirdCLEF info/bird_classes.csv\")"
   ]
  },
  {
   "cell_type": "code",
   "execution_count": 47,
   "id": "closing-technician",
   "metadata": {},
   "outputs": [],
   "source": [
    "audio_path = \"/home/jacob/Desktop/EngineersForExploration/Data/Relevant BirdCLEF info/audio/\"\n",
    "label_path = \"/home/jacob/Desktop/EngineersForExploration/Data/Relevant BirdCLEF info/gt/\""
   ]
  },
  {
   "cell_type": "code",
   "execution_count": 49,
   "id": "working-genesis",
   "metadata": {},
   "outputs": [
    {
     "name": "stdout",
     "output_type": "stream",
     "text": [
      "SSW51_20170819.csv\n",
      "SSW54_20170610.csv\n",
      "PER54_20190116.csv\n",
      "PER49_20190131.csv\n",
      "PER53_20190116.csv\n",
      "SSW50_20170819.csv\n",
      "SSW49_20170520.csv\n",
      "PER51_20190116.csv\n",
      "PER50_20190116.csv\n",
      "PER52_20190116.csv\n",
      "SSW52_20170429.csv\n",
      "SSW53_20170513.csv\n"
     ]
    }
   ],
   "source": [
    "# initializing the output dataframe that will contain all of the labels and the relevant metadata\n",
    "# across each audio clip in a dataset. Should be in the format to work with it in the Python package\n",
    "manual_df = pd.DataFrame()\n",
    "# the ground truth labels lack column names, so I am filling them in closer to the end product\n",
    "column_names = [\"OFFSET\",\"MANUAL ID\"]\n",
    "for clip_annotations in os.listdir(label_path):\n",
    "    if clip_annotations.startswith(\".~lock.\"):\n",
    "        continue\n",
    "    print(clip_annotations)\n",
    "    # isolating the name of the clip from the csv file\n",
    "    # will be used to extract the metadata from the equivelant wav file\n",
    "    x = clip_annotations.split('.')\n",
    "    clip_name = x[0]\n",
    "    # taking in the labels for the audio clip\n",
    "    clip_df = pd.read_csv(label_path+clip_annotations,names=column_names)\n",
    "    # removing the annotations that occur over the same interval in the clip\n",
    "    # first step in converting multi-class classifier into binary classifier.\n",
    "    clip_df = clip_df.drop_duplicates(subset = [\"OFFSET\"])\n",
    "    # second step to converting multi-class classifier to binary classifier\n",
    "    # Isn't all that necessary since we don't use the MANUAL ID Column that much yet\n",
    "    clip_df[\"MANUAL ID\"] = \"bird\"\n",
    "    # splitting the time into OFFSET and DURATION\n",
    "    new = clip_df[\"OFFSET\"].str.split(\"-\", n = 1, expand = True)\n",
    "    clip_df[\"OFFSET\"] = new[0]\n",
    "    clip_df[\"DURATION\"] = 5\n",
    "    #print(clip_df)\n",
    "    # converting hours minutes seconds format into seconds\n",
    "    new = clip_df[\"OFFSET\"].str.split(\":\", n = 2, expand = True)\n",
    "    seconds_offset = pd.to_numeric(new[0])*3600 + pd.to_numeric(new[1])*60 + pd.to_numeric(new[2])\n",
    "    # resetting the offset column to be the proper offset format with respect to seconds in the clip\n",
    "    clip_df[\"OFFSET\"] = seconds_offset\n",
    "    \n",
    "    clip_df[\"FOLDER\"] = audio_path\n",
    "    clip_name = clip_name + \".wav\"\n",
    "    clip_df[\"IN FILE\"] = clip_name\n",
    "    clip_df[\"SAMPLE RATE\"] = 32000\n",
    "    clip_df[\"CHANNEL\"] = 0\n",
    "    clip_df[\"CLIP LENGTH\"] = 600\n",
    "    \n",
    "    if manual_df.empty:\n",
    "        manual_df = clip_df\n",
    "    else:\n",
    "        manual_df = manual_df.append(clip_df)\n",
    "manual_df = manual_df.reindex(columns = [\"FOLDER\", \"IN FILE\", \"CHANNEL\", \"CLIP LENGTH\", \"SAMPLE RATE\", \"OFFSET\", \"DURATION\",\"MANUAL ID\"])\n",
    "manual_df.reset_index()\n",
    "manual_df\n",
    "manual_df.to_csv(\"BirdCLEF2020_Validation.csv\",index=False)"
   ]
  },
  {
   "cell_type": "code",
   "execution_count": null,
   "id": "classified-reggae",
   "metadata": {},
   "outputs": [],
   "source": []
  }
 ],
 "metadata": {
  "kernelspec": {
   "display_name": "Python 3",
   "language": "python",
   "name": "python3"
  },
  "language_info": {
   "codemirror_mode": {
    "name": "ipython",
    "version": 3
   },
   "file_extension": ".py",
   "mimetype": "text/x-python",
   "name": "python",
   "nbconvert_exporter": "python",
   "pygments_lexer": "ipython3",
   "version": "3.8.5"
  }
 },
 "nbformat": 4,
 "nbformat_minor": 5
}
