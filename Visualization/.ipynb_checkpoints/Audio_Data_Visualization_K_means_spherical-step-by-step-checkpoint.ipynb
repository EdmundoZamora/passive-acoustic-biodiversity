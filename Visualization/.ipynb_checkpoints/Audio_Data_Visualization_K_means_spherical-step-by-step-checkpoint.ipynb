{
 "cells": [
  {
   "cell_type": "markdown",
   "metadata": {},
   "source": [
    "### K-means spherical clustering\n",
    "Some functions of this code is based on work derived from Dan Stowell. Will put in the doc-string as necessary.\n",
    "\n",
    "His work is from here: https://core.ac.uk/reader/30341728 (shorter paper) and https://peerj.com/articles/488/ (longer paper) and code is located here https://dfzljdn9uc3pi.cloudfront.net/2014/488/1/oskmeans.py.txt\n",
    "\n",
    "#### Notes \n",
    "- Mel spectrograms used directly as features\n",
    "\n",
    "#### Outline of work\n",
    "##### Preprocessing step\n",
    "- Resample to standard 44.1kHz\n",
    "- Spectrogram (frame size of 1024 frames with Hamming windowing and no overlap)\n",
    "- Calculate Mel spectrogram for each file (which are directly used as features)\n",
    "- High-pass filtering (filter spectral energy below 500 Hz to reduce environmental noise)\n",
    "- RMS normalization in each spectrogram\n",
    "- Spectral median noise reduction (http://sabiod.univ-tln.fr/NIPS4B2013_book.pdf aka common median-based thresholding)\n",
    "- PCA-whiten the data: https://dfzljdn9uc3pi.cloudfront.net/2014/488/1/oskmeans.py.txt\n",
    "\n",
    "##### Classification\n",
    "- Apply spherical k-means clustering\n",
    "- Use random forest classifier on feature data (from scikit-learn)"
   ]
  },
  {
   "cell_type": "code",
   "execution_count": 2,
   "metadata": {},
   "outputs": [],
   "source": [
    "import os \n",
    "import pydub\n",
    "from pydub import AudioSegment\n",
    "from scipy.io import wavfile\n",
    "import samplerate\n",
    "import librosa\n",
    "from scipy import signal\n",
    "import numpy as np\n",
    "from librosa import feature\n",
    "from librosa import filters\n",
    "from scipy.signal import butter, filtfilt\n",
    "from scipy import ndimage\n",
    "import librosa.display\n",
    "import matplotlib.pyplot as plt\n",
    "from sklearn import preprocessing\n",
    "import pydub\n",
    "from pydub import AudioSegment\n",
    "import tempfile\n",
    "import soundfile as sf\n",
    "import scipy\n",
    "from scipy.io.wavfile import write"
   ]
  },
  {
   "cell_type": "markdown",
   "metadata": {},
   "source": [
    "#### Functions to use"
   ]
  },
  {
   "cell_type": "code",
   "execution_count": 3,
   "metadata": {},
   "outputs": [],
   "source": [
    "def read_mp3(f, normalized=False):\n",
    "    \"\"\"\n",
    "    Inputs: MP3 to numpy array, f = filename\n",
    "    Output: a.frame_rate (sampling rate)\n",
    "    \"\"\"\n",
    "    a = pydub.AudioSegment.from_file(f)\n",
    "    y = np.array(a.get_array_of_samples())\n",
    "    if a.channels == 2:\n",
    "        y = y.reshape((-1, 2))\n",
    "    if normalized:\n",
    "        return np.float32(y) / 2**15, a.frame_rate\n",
    "    else:\n",
    "        return y, a.frame_rate\n",
    "\n",
    "def resample(filepath, des_sr=44100): \n",
    "    \"\"\"\n",
    "    filepath = path to desired file\n",
    "    data = input data from audio file\n",
    "    des_sr = desired sampling rate in Hz\n",
    "    \"\"\"\n",
    "    filename = os.path.basename(filepath) \n",
    "    print(filename)\n",
    "    if filename.endswith(\".mp3\") or filename.endswith(\".MP3\"): \n",
    "        data, sr = read_mp3(filepath)\n",
    "        output_data = samplerate.resample(data, des_sr/sr, 'sinc_best')\n",
    "    elif filename.endswith(\".wav\") or filename.endswith(\".WAV\"): \n",
    "        sr, data = wavfile.read(filepath)\n",
    "        output_data = samplerate.resample(data,des_sr /sr, 'sinc_best')\n",
    "    else: \n",
    "        print(\"Not a valid file type (not .wav or .mp3)\")\n",
    "        pass \n",
    "        \n",
    "    return output_data\n",
    "\n",
    "# Reference: https://stackoverflow.com/questions/39032325/python-high-pass-filter\n",
    "def butter_highpass(cutoff, fs, order=5):\n",
    "    nyq = 0.5 * fs\n",
    "    normal_cutoff = cutoff / nyq\n",
    "    b, a = butter(order, normal_cutoff, btype='high', analog=False)\n",
    "    return b, a\n",
    "\n",
    "def butter_highpass_filter(data, cutoff, fs, order=5):\n",
    "    b, a = butter_highpass(cutoff, fs, order=order)\n",
    "    y = filtfilt(b, a, data)\n",
    "    return y\n",
    "\n",
    "def high_pass_filter(data, sr): \n",
    "    # set as a highpass filter for 500 Hz\n",
    "    filtered_signal = butter_highpass_filter(data, 500, sr, order=5)\n",
    "    return filtered_signal\n",
    "\n",
    "# Referenced librosa: https://github.com/librosa/librosa/blob/main/librosa/feature/spectral.py\n",
    "def make_mel_spectrogram(input_data, sample_rate): \n",
    "    \"\"\"\n",
    "    input data: (Time series of measurement values)\n",
    "    output = S : np.ndarray [shape=(n_mels, t)]\n",
    "    \n",
    "    melspectrograms in itself are used as features\n",
    "    \"\"\"\n",
    "    \n",
    "    f, t, Sxx = signal.spectrogram(input_data, fs=sample_rate, window = 'hamming', noverlap=None, nfft = 1024, mode='magnitude')\n",
    "    # Sxx is spectrogram of x and last axis of Sxx is segment times\n",
    "    mel_basis = filters.mel(sample_rate, n_fft = 1024)\n",
    "    output = np.dot(mel_basis, Sxx)\n",
    "    return output\n",
    "\n",
    "def plot_mel_spectrogram(data): \n",
    "    mel_spect = librosa.feature.melspectrogram(y=data, sr=44100, n_fft=1024, hop_length=512)\n",
    "    S_dB = librosa.power_to_db(mel_spect, ref=np.max)\n",
    "    librosa.display.specshow(mel_spect, y_axis='mel', fmax=8000, x_axis='time');\n",
    "    \n",
    "    plt.title('Mel Spectrogram');\n",
    "    plt.colorbar(format='%+2.0f dB');\n",
    "\n",
    "\n",
    "def median_denoising(data): \n",
    "    \"\"\"\n",
    "    Using scipy's median filter: https://docs.scipy.org/doc/scipy/reference/generated/scipy.ndimage.median_filter.html\n",
    "    \"\"\"\n",
    "    # every frame, subtract the median value of spectral band\n",
    "    result = ndimage.median_filter(data, 3)\n",
    "    return result\n",
    "    \n",
    "def plot_librosa_graph(data):\n",
    "    plt.figure()\n",
    "    plt.subplot(2, 1, 1)\n",
    "    plt.semilogy(rms.T, label='RMS')\n",
    "    plt.xticks([])\n",
    "    plt.xlim([0, rms.shape[-1]])\n",
    "    plt.legend(loc='best')\n",
    "    plt.subplot(2, 1, 2)\n",
    "    librosa.display.specshow(librosa.amplitude_to_db(data, ref=np.max),\n",
    "                             y_axis='log', x_axis='time')\n",
    "    plt.title('log Power spectrogram')\n",
    "    plt.tight_layout()\n",
    "    \n",
    "def convert_mp3_to_wav(mp3_path, sr=44100, mono=True, overwrite=False, dtype='float32'): \n",
    "    # Need to change sample rate to 44.1kHz if using audiomoths\n",
    "    # since mono=True by default, unless you pass mono=False, \n",
    "    # this function will save the wav as mono\n",
    "#     print(\"entering convert_mp3_to_wav\")\n",
    "    \"\"\"\n",
    "    Parts of code from \n",
    "    https://github.com/bill317996/Audio-to-midi/blob/master/cfp.py\n",
    "    \"\"\"\n",
    "    \n",
    "#     warnings.warn(\"deprecated\", DeprecationWarning)\n",
    "    \n",
    "    # in case there is an .MP3\n",
    "    assert mp3_path.lower().endswith('.mp3'), 'filename indicates not mp3'\n",
    "    wav_path_to_write = os.path.splitext(mp3_path)[0] + '.wav'\n",
    "    if not overwrite and os.path.exists(wav_path_to_write):\n",
    "        return\n",
    "    \n",
    "    mp3 = AudioSegment.from_file(mp3_path)\n",
    "    \n",
    "    _, temp_path = tempfile.mkstemp() \n",
    "    mp3.export(temp_path, format='wav')\n",
    "    del mp3\n",
    "    x, fs = sf.read(temp_path)\n",
    "    os.remove(temp_path)\n",
    "    \n",
    "    if mono and len(x.shape)>1: \n",
    "        x = np.mean(x, axis = 1) \n",
    "    if sr:\n",
    "        x = scipy.signal.resample_poly(x, sr, fs)\n",
    "        fs = sr \n",
    "    x = x.astype(dtype)\n",
    "    write(wav_path_to_write, fs, x)\n",
    "    return x, fs  \n",
    "\n",
    "#TODO: output a mel spectrogram with and without median noise to cross check"
   ]
  },
  {
   "cell_type": "code",
   "execution_count": 4,
   "metadata": {},
   "outputs": [],
   "source": [
    "def find_n_second_multiples_and_filenames(dir_path, n, des_sr): \n",
    "    \"\"\" \n",
    "    dir_path (path): path of a directory with desired files\n",
    "    n (int): split data into n-second clips\n",
    "    # Note that this function also resamples!\n",
    "    \n",
    "    #TODO: reduce the numpy array (wav_data)\n",
    "    \"\"\"\n",
    "    wav_data = []\n",
    "    allfilenames = []\n",
    "    # entire filename \n",
    "    timestamp = []\n",
    "\n",
    "    for filename in os.listdir(dir_path):\n",
    "        filepath = os.path.join(dir_path, filename)\n",
    "        print(filepath)\n",
    "        \n",
    "        if filepath == \".DS_Store\": \n",
    "            print(\"oh no\")\n",
    "            pass \n",
    "        elif filename.endswith(\".mp3\") or filename.endswith(\".MP3\"): \n",
    "            data, sr = convert_mp3_to_wav(filepath)\n",
    "            print(\"sr\", sr)\n",
    "            \n",
    "        elif filename.endswith(\".wav\") or filename.endswith(\".WAV\"):\n",
    "            sr, data = wavfile.read(filepath)\n",
    "            print(data)\n",
    "            # comment out previous for no resampling\n",
    "            data = samplerate.resample(data, des_sr/sr, 'sinc_best')\n",
    "            sr = des_sr\n",
    "            \n",
    "        num_samples_in_n_seconds =  n  * sr \n",
    "        length_data = len(data)\n",
    "        length_in_seconds = length_data / sr \n",
    "        \n",
    "        if length_data < num_samples_in_n_seconds: \n",
    "            pass\n",
    "        \n",
    "        elif length_data > num_samples_in_n_seconds: \n",
    "            data = data[:-(length_data % num_samples_in_n_seconds)]\n",
    "            num_of_n_clips = int(np.floor(length_data / num_samples_in_n_seconds))\n",
    "            \n",
    "            for i in range(num_of_n_clips): \n",
    "#                 allfilenames.append(list_file_name[0]+list_file_name[1])\n",
    "                allfilenames.append(filename)\n",
    "                data_n_seconds = data[i*num_samples_in_n_seconds:(i+1)*num_samples_in_n_seconds]\n",
    "                timestamp.append([i*n,(i+1)*n])\n",
    "                wav_data.append(data_n_seconds)\n",
    "\n",
    "        else: #length_data == num_samples_in_n_seconds: \n",
    "            allfilenames.append(filename)\n",
    "            wav_data.append(data)\n",
    "            \n",
    "    return wav_data, allfilenames, timestamp"
   ]
  },
  {
   "cell_type": "markdown",
   "metadata": {},
   "source": [
    "##### Preprocessing step\n",
    "- Resample to standard 44.1kHz\n",
    "- Spectrogram (frame size of 1024 frames with Hamming windowing and no overlap)\n",
    "- Calculate Mel spectrogram for each file (which are directly used as features)\n",
    "- High-pass filtering (filter spectral energy below 500 Hz to reduce environmental noise)\n",
    "- RMS normalization in each spectrogram\n",
    "- Spectral median noise reduction (http://sabiod.univ-tln.fr/NIPS4B2013_book.pdf aka common median-based thresholding)\n",
    "- PCA-whiten the data: https://dfzljdn9uc3pi.cloudfront.net/2014/488/1/oskmeans.py.txt"
   ]
  },
  {
   "cell_type": "markdown",
   "metadata": {},
   "source": [
    "## Step by Step Visualization"
   ]
  },
  {
   "cell_type": "code",
   "execution_count": 16,
   "metadata": {},
   "outputs": [
    {
     "name": "stdout",
     "output_type": "stream",
     "text": [
      "384000\n"
     ]
    },
    {
     "data": {
      "image/png": "[encoded data removed]",
      "text/plain": [
       "<Figure size 432x288 with 1 Axes>"
      ]
     },
     "metadata": {
      "needs_background": "light"
     },
     "output_type": "display_data"
    },
    {
     "name": "stdout",
     "output_type": "stream",
     "text": [
      "20190710_172000.WAV\n"
     ]
    },
    {
     "data": {
      "image/png": "[encoded data removed]",
      "text/plain": [
       "<Figure size 432x288 with 1 Axes>"
      ]
     },
     "metadata": {
      "needs_background": "light"
     },
     "output_type": "display_data"
    }
   ],
   "source": [
    "# Spectrogram before and after resample to standard 44.1kHz\n",
    "test_dir = '/Volumes/Elements/Mixed_AM_Dataset2/20190710_172000.WAV'\n",
    "\n",
    "#(frame size of 1024 frames with Hamming windowing and no overlap)\n",
    "# Spectrogram before resampling\n",
    "rate, sig = wavfile.read(test_dir)\n",
    "print(rate)\n",
    "f, t, Sxx = signal.spectrogram(sig, fs=rate, window = 'hamming', noverlap=None, nfft = 1024, mode='magnitude')\n",
    "plt.pcolormesh(t, f, Sxx)\n",
    "plt.ylabel('Frequency [Hz]')\n",
    "plt.xlabel('Time [sec]')\n",
    "plt.show()\n",
    "\n",
    "# Spectrogram after resampling \n",
    "resamp_sig = resample(test_dir, des_sr=44100)\n",
    "f_rs, t_rs, Sxx_rs = signal.spectrogram(resamp_sig, fs=44100, window = 'hamming', noverlap=None, nfft = 1024, mode='magnitude')\n",
    "plt.pcolormesh(t_rs, f_rs, Sxx_rs)\n",
    "plt.ylabel('Frequency [Hz]')\n",
    "plt.xlabel('Time [sec]')\n",
    "plt.show()"
   ]
  },
  {
   "cell_type": "code",
   "execution_count": 29,
   "metadata": {},
   "outputs": [
    {
     "data": {
      "image/png": "[encoded data removed]",
      "text/plain": [
       "<Figure size 432x288 with 2 Axes>"
      ]
     },
     "metadata": {
      "needs_background": "light"
     },
     "output_type": "display_data"
    }
   ],
   "source": [
    "# Calculate Mel spectrogram for each file (which are directly used as features)\n",
    "mel_basis = filters.mel(44100, n_fft = 1024)\n",
    "mel_spect = np.dot(mel_basis, Sxx_rs) #output of melspectrogram\n",
    "\n",
    "# for plotting purposes only \n",
    "librosa.display.specshow(mel_spect, y_axis='mel', x_axis='time'); #figure out time scale\n",
    "plt.title('Mel Spectrogram');\n",
    "plt.colorbar(format='%+2.0f dB');"
   ]
  },
  {
   "cell_type": "code",
   "execution_count": 44,
   "metadata": {},
   "outputs": [
    {
     "data": {
      "image/png": "[encoded data removed]",
      "text/plain": [
       "<Figure size 432x288 with 2 Axes>"
      ]
     },
     "metadata": {
      "needs_background": "light"
     },
     "output_type": "display_data"
    }
   ],
   "source": [
    "# High-pass filtering (filter spectral energy below 500 Hz to reduce environmental noise)\n",
    "def high_pass_filter(data, sr): \n",
    "    # butter_highpass_filter(signal, cutoff, fs, order)\n",
    "    filtered_signal = butter_highpass_filter(data, 500, sr, order=5)\n",
    "    return filtered_signal\n",
    "\n",
    "hp_d = high_pass_filter(mel_spect, 44100)\n",
    "librosa.display.specshow(hp_d, y_axis='mel', x_axis='time'); #figure out time scale\n",
    "plt.title('Mel Spectrogram');\n",
    "plt.colorbar(format='%+2.0f dB');\n"
   ]
  },
  {
   "cell_type": "code",
   "execution_count": 42,
   "metadata": {
    "scrolled": true
   },
   "outputs": [
    {
     "name": "stdout",
     "output_type": "stream",
     "text": [
      "(1, 11812)\n",
      "(1, 11812)\n"
     ]
    },
    {
     "data": {
      "text/plain": [
       "<matplotlib.legend.Legend at 0x1a231c3860>"
      ]
     },
     "execution_count": 42,
     "metadata": {},
     "output_type": "execute_result"
    },
    {
     "data": {
      "image/png": "[encoded data removed]",
      "text/plain": [
       "<Figure size 432x288 with 1 Axes>"
      ]
     },
     "metadata": {
      "needs_background": "light"
     },
     "output_type": "display_data"
    }
   ],
   "source": [
    "# RMS normalization in each spectrogram\n",
    "rms = librosa.feature.rms(y=None, S=hp_d, frame_length = 254)\n",
    "print(rms.shape)\n",
    "norm_d = preprocessing.normalize(rms)\n",
    "print(norm_d.shape)\n",
    "\n",
    "plt.plot(rms.T, label='RMS Energy')\n",
    "plt.xticks([])\n",
    "plt.legend(loc='best')\n",
    "\n",
    "plt.plot(norm_d.T, label='Normalized RMS Energy')\n",
    "plt.xticks([])\n",
    "plt.legend(loc='best')\n",
    "\n",
    "# Spectral median noise reduction (http://sabiod.univ-tln.fr/NIPS4B2013_book.pdf aka common median-based thresholding)\n",
    "\n",
    "# PCA-whiten the data: https://dfzljdn9uc3pi.cloudfront.net/2014/488/1/oskmeans.py.txt"
   ]
  },
  {
   "cell_type": "markdown",
   "metadata": {},
   "source": [
    "## Computing for real"
   ]
  },
  {
   "cell_type": "code",
   "execution_count": null,
   "metadata": {},
   "outputs": [
    {
     "name": "stdout",
     "output_type": "stream",
     "text": [
      "/Volumes/Elements/Mixed_AM_Dataset2/20190610_022000.WAV\n",
      "[141  44 171 ...  68  99 178]\n",
      "/Volumes/Elements/Mixed_AM_Dataset2/20190610_033000.WAV\n",
      "[  43   42  -87 ... -290 -192 -191]\n",
      "/Volumes/Elements/Mixed_AM_Dataset2/20190610_043000.WAV\n",
      "[-61  36  19 ... 106 105  72]\n",
      "/Volumes/Elements/Mixed_AM_Dataset2/20190611_031000.WAV\n",
      "[ 747  935 1250 ...  805  928 1035]\n",
      "/Volumes/Elements/Mixed_AM_Dataset2/20190611_035000.WAV\n",
      "[   -55     74     89 ... -12197 -12264 -12282]\n",
      "/Volumes/Elements/Mixed_AM_Dataset2/20190611_041000.WAV\n",
      "[  93 -148 -243 ...  566  659  575]\n",
      "/Volumes/Elements/Mixed_AM_Dataset2/20190611_044000.WAV\n",
      "[ 898  813  856 ...  662  258 -176]\n",
      "/Volumes/Elements/Mixed_AM_Dataset2/20190611_050000.WAV\n",
      "[ -93   36  115 ... -280 -342 -260]\n",
      "/Volumes/Elements/Mixed_AM_Dataset2/20190611_054000.WAV\n",
      "[ -443  -264  -150 ... -1027 -1053 -1015]\n",
      "/Volumes/Elements/Mixed_AM_Dataset2/20190611_055000.WAV\n",
      "[-104 -103  -38 ...  -63  -78  -93]\n"
     ]
    }
   ],
   "source": [
    "# TODO: plot all the things\n",
    "dir_path = '/Volumes/Elements/Mixed_AM_Dataset2/'\n",
    "\n",
    "shorter_clips, file_names, timestamp = find_n_second_multiples_and_filenames(dir_path, 10, 44100)\n",
    "print(file_names)\n",
    "print(len(file_names))"
   ]
  },
  {
   "cell_type": "code",
   "execution_count": 311,
   "metadata": {},
   "outputs": [
    {
     "name": "stdout",
     "output_type": "stream",
     "text": [
      "['XC22019 - Blue-crowned Trogon - Trogon curucui.wav', 'XC22019 - Blue-crowned Trogon - Trogon curucui.wav', 'XC22035 - White-bellied Tody-Tyrant - Hemitriccus griseipectus.wav', 'XC496773 - White-lined Antbird - Myrmoborus lophotes.wav', 'XC496773 - White-lined Antbird - Myrmoborus lophotes.wav', 'XC496773 - White-lined Antbird - Myrmoborus lophotes.wav', 'XC496790 - Great Jacamar - Jacamerops aureus.wav', 'XC496790 - Great Jacamar - Jacamerops aureus.wav', \"XC91669 - Cabanis's Spinetail - Synallaxis cabanisi.wav\", \"XC91669 - Cabanis's Spinetail - Synallaxis cabanisi.wav\", \"XC91669 - Cabanis's Spinetail - Synallaxis cabanisi.wav\", \"XC91669 - Cabanis's Spinetail - Synallaxis cabanisi.wav\", \"XC91669 - Cabanis's Spinetail - Synallaxis cabanisi.wav\", \"XC91669 - Cabanis's Spinetail - Synallaxis cabanisi.wav\"]\n",
      "14\n"
     ]
    }
   ],
   "source": [
    "print(file_names)\n",
    "print(len(file_names))"
   ]
  },
  {
   "cell_type": "code",
   "execution_count": 312,
   "metadata": {
    "scrolled": true
   },
   "outputs": [
    {
     "name": "stdout",
     "output_type": "stream",
     "text": [
      "shorter_clips[i].shape (441000,)\n",
      "shorter_clips[i].shape (441000,)\n",
      "shorter_clips[i].shape (441000,)\n",
      "shorter_clips[i].shape (441000,)\n",
      "shorter_clips[i].shape (441000,)\n",
      "shorter_clips[i].shape (441000,)\n",
      "shorter_clips[i].shape (441000,)\n",
      "shorter_clips[i].shape (441000,)\n",
      "shorter_clips[i].shape (441000,)\n",
      "shorter_clips[i].shape (441000,)\n",
      "shorter_clips[i].shape (441000,)\n",
      "shorter_clips[i].shape (441000,)\n",
      "shorter_clips[i].shape (441000,)\n",
      "shorter_clips[i].shape (441000,)\n",
      "[array([0.00400438, 0.00400438, 0.00402262, ..., 0.02187946, 0.01862354,\n",
      "       0.00762053]), array([0.00418564, 0.01269973, 0.01297599, ..., 0.0364283 , 0.03376451,\n",
      "       0.01802188]), array([0.00156087, 0.00167114, 0.00224131, ..., 0.02182155, 0.02182155,\n",
      "       0.00420738]), array([0.00087576, 0.00121727, 0.00178236, ..., 0.02267343, 0.02043101,\n",
      "       0.0148044 ]), array([0.00484578, 0.01757675, 0.02386292, ..., 0.01605878, 0.01385359,\n",
      "       0.00676621]), array([0.00163362, 0.01749148, 0.0176232 , ..., 0.01194736, 0.01194736,\n",
      "       0.00292538]), array([0.00264247, 0.00264247, 0.00321701, ..., 0.01011548, 0.01011548,\n",
      "       0.00284819]), array([0.00106965, 0.01234863, 0.0153764 , ..., 0.033946  , 0.033946  ,\n",
      "       0.01831521]), array([0.00057243, 0.00053891, 0.00053891, ..., 0.00441844, 0.00362227,\n",
      "       0.00156698]), array([0.00091176, 0.00232357, 0.00294918, ..., 0.00303533, 0.00271045,\n",
      "       0.00120985]), array([0.00039739, 0.00242751, 0.00247034, ..., 0.00418639, 0.00329759,\n",
      "       0.00103451]), array([0.00034979, 0.0031652 , 0.00337566, ..., 0.00754037, 0.00754037,\n",
      "       0.00089659]), array([0.00169682, 0.00453393, 0.00457544, ..., 0.005109  , 0.005109  ,\n",
      "       0.00097229]), array([0.00126636, 0.00593327, 0.00593327, ..., 0.00430046, 0.00309459,\n",
      "       0.00127195])]\n",
      "14\n",
      "(1968,)\n"
     ]
    }
   ],
   "source": [
    "# # Resample\n",
    "# d = resample('/Volumes/Elements/Madre_de_Dios_Xeno_Canto_Birdcalls/XC22019 - Blue-crowned Trogon - Trogon curucui.mp3', des_sr = 44100)\n",
    "\n",
    "# Mel spectrogram\n",
    "\n",
    "final_d = []\n",
    "\n",
    "for i in range(len(shorter_clips)): \n",
    "    print(\"shorter_clips[i].shape\", shorter_clips[i].shape)\n",
    "    output = make_mel_spectrogram(shorter_clips[i], 44100)\n",
    "    hp_d = high_pass_filter(output,44100)\n",
    "    # http://man.hubwiz.com/docset/LibROSA.docset/Contents/Resources/Documents/generated/librosa.feature.rmse.html\n",
    "    rms = librosa.feature.rms(y=None, S=hp_d, frame_length = 254)\n",
    "    norm_d = preprocessing.normalize(rms)\n",
    "    median_d = median_denoising(norm_d)\n",
    "    median_d_transpose = median_d.T\n",
    "    final_d.append(median_d_transpose.flatten())\n",
    "    \n",
    "print(final_d)\n",
    "print(len(final_d))\n",
    "print(final_d[0].shape)\n"
   ]
  },
  {
   "cell_type": "markdown",
   "metadata": {},
   "source": [
    "# Clustering\n",
    "Graph elbow method and visualization of clusters"
   ]
  },
  {
   "cell_type": "code",
   "execution_count": 313,
   "metadata": {
    "scrolled": false
   },
   "outputs": [],
   "source": [
    "def cluster_plot(pos, title='', without_labels=False, width=20, height=20, savepath=''):\n",
    "    plt.rc('font', size=15)\n",
    "    \n",
    "    xs, ys = pos[:, 0], pos[:, 1]\n",
    "    \n",
    "    labels = range(len(shorter_clips))\n",
    "\n",
    "    # Data frame with TSNE data, the cluster numbers and titles\n",
    "    cluster_df = pd.DataFrame(dict(x=xs, y=ys, clusters=clusters, labels=labels)) \n",
    "\n",
    "    fig, ax = plt.subplots(figsize=(width, height))\n",
    "    ax.margins(0.05)\n",
    "    ax.set_title(title)\n",
    "\n",
    "    groups = cluster_df.groupby('clusters')\n",
    "    for name, group in groups:\n",
    "        ax.plot(group.x, group.y, marker='o', linestyle='', ms=12, mec='none', label=name)\n",
    "        ax.set_aspect('auto')\n",
    "        ax.tick_params(axis= 'x', which='both', bottom='off', top='off', labelbottom='off')\n",
    "        ax.tick_params(axis= 'y', which='both', left='off', top='off', labelleft='off')\n",
    "\n",
    "    ax.legend(numpoints=1)\n",
    "    ax.legend(bbox_to_anchor=(1.1, 1.05))\n",
    "\n",
    "    #Add labels\n",
    "    if not without_labels:\n",
    "        texts = []\n",
    "        for i in range(len(cluster_df)):\n",
    "            texts.append(ax.text(cluster_df.loc[i, 'x'], cluster_df.loc[i, 'y'], cluster_df.loc[i,'labels'], size=10)) \n",
    "\n",
    "        #adjust_text(texts, arrowprops=dict(arrowstyle='->', color='red'))\n",
    "    \n",
    "    if savepath != '':\n",
    "        plt.savefig(savepath, dpi=200, bbox_inches=\"tight\")\n",
    "\n",
    "    plt.show()"
   ]
  },
  {
   "cell_type": "code",
   "execution_count": 314,
   "metadata": {
    "scrolled": true
   },
   "outputs": [
    {
     "data": {
      "image/png": "[encoded data removed]",
      "text/plain": [
       "<Figure size 1440x1440 with 1 Axes>"
      ]
     },
     "metadata": {
      "needs_background": "light"
     },
     "output_type": "display_data"
    }
   ],
   "source": [
    "from sklearn.decomposition import PCA\n",
    "from sklearn.metrics.pairwise import cosine_similarity\n",
    "import pandas as pd\n",
    "\n",
    "dist = 1 - cosine_similarity(final_d)\n",
    "mds = PCA(n_components=2, random_state=1, whiten=True)\n",
    "pos = mds.fit_transform(dist)  # shape (n_components, n_samples)\n",
    "X = pos\n",
    "\n",
    "cluster_plot(X, 'PCA Cluster Plot', without_labels=True, savepath='/Volumes/Elements/Madre_de_Dios_Xeno_Canto_Birdcalls/Clusters_XenoCanto/pca.png')"
   ]
  },
  {
   "cell_type": "code",
   "execution_count": 322,
   "metadata": {},
   "outputs": [
    {
     "name": "stdout",
     "output_type": "stream",
     "text": [
      "[1 1 1 1 1 2 1 1 2 2 0 2 0 2]\n",
      "14\n"
     ]
    }
   ],
   "source": [
    "# Spherical K-means clustering\n",
    "# https://github.com/jasonlaska/spherecluster\n",
    "from spherecluster import SphericalKMeans\n",
    "n_clusters = 3\n",
    "clusters = SphericalKMeans(n_clusters).fit_predict(X)\n",
    "\n",
    "print(clusters)\n",
    "print(len(clusters))"
   ]
  },
  {
   "cell_type": "markdown",
   "metadata": {},
   "source": [
    "### Clustering k-means elbow"
   ]
  },
  {
   "cell_type": "code",
   "execution_count": 316,
   "metadata": {
    "scrolled": true
   },
   "outputs": [
    {
     "data": {
      "image/png": "[encoded data removed]",
      "text/plain": [
       "<Figure size 432x288 with 1 Axes>"
      ]
     },
     "metadata": {
      "needs_background": "light"
     },
     "output_type": "display_data"
    }
   ],
   "source": [
    "Error =[]\n",
    "for i in range(1, 14):\n",
    "#     kmeans = KMeans(n_clusters = i).fit(X)\n",
    "    kmeans = SphericalKMeans(n_clusters = i).fit(X)\n",
    "    Error.append(kmeans.inertia_)\n",
    "import matplotlib.pyplot as plt\n",
    "plt.plot(range(1, 14), Error)\n",
    "plt.title('Elbow method')\n",
    "plt.xlabel('No of clusters')\n",
    "plt.ylabel('Error')\n",
    "plt.show()"
   ]
  },
  {
   "cell_type": "markdown",
   "metadata": {},
   "source": [
    "# Cluster Interpretation"
   ]
  },
  {
   "cell_type": "code",
   "execution_count": 323,
   "metadata": {},
   "outputs": [],
   "source": [
    "# Returns all clip indexes within a cluster\n",
    "def get_clip_indexes(cluster_label, clusters):\n",
    "    clips_i = []\n",
    "    for i in range(len(clusters)):\n",
    "        if clusters[i] == cluster_label:\n",
    "            clips_i.append(i)\n",
    "    return clips_i\n",
    "\n",
    "# Plays a random clip in a given cluster\n",
    "def play_random_clip_in_cluster(index, clusters, option='cluster'):\n",
    "    assert(option == 'cluster' or option == 'clip')\n",
    "    if option == 'clip':\n",
    "        index = find_cluster(index, clusters) # Get cluster index\n",
    "    \n",
    "    clips = get_clip_indexes(index, clusters)\n",
    "    clip_i = clips[random.randint(0, len(clips) - 1)]\n",
    "    print('Playing clip index %d ' % clip_i)\n",
    "    play_clip(clip_i)\n",
    "        \n",
    "# Returns the cluster label that a clip belongs to\n",
    "def find_cluster(clip_index, clusters):\n",
    "    return clusters[clip_index]\n",
    "\n",
    "# Plays an audio clip given the clip index\n",
    "def play_clip(clip_index):\n",
    "    samples = shorter_clips[clip_index]\n",
    "    sd.play(samples, sample_rate)\n",
    "\n",
    "# Flattens a given list\n",
    "def list_flatten(l):\n",
    "    flat_list = []\n",
    "    for sublist in l:\n",
    "        for item in sublist:\n",
    "            flat_list.append(item)\n",
    "    return flat_list\n",
    "\n",
    "# Saves clip as a wav file\n",
    "def save_clip(filename, wav_array):\n",
    "#     assert('.' not in filename)\n",
    "    write(filename + '.wav', 44100, wav_array)\n",
    "    \n",
    "# Saves all clips to a directory\n",
    "def save_clips_to_dir(shorter_clips, dirname):\n",
    "    for i, clip in enumerate(shorter_clips):\n",
    "        save_clip(dirname + '/%d' % i, clip) "
   ]
  },
  {
   "cell_type": "code",
   "execution_count": 324,
   "metadata": {
    "scrolled": true
   },
   "outputs": [
    {
     "data": {
      "text/plain": [
       "[(1, 7), (2, 5), (0, 2)]"
      ]
     },
     "execution_count": 324,
     "metadata": {},
     "output_type": "execute_result"
    }
   ],
   "source": [
    "# Prints: (Cluster number, count of clips in cluster)\n",
    "from collections import Counter\n",
    "import random\n",
    "import sounddevice as sd\n",
    "\n",
    "Counter(clusters).most_common()"
   ]
  },
  {
   "cell_type": "code",
   "execution_count": 325,
   "metadata": {},
   "outputs": [
    {
     "name": "stdout",
     "output_type": "stream",
     "text": [
      "Playing clip index 10 \n"
     ]
    }
   ],
   "source": [
    "sample_rate = 44100\n",
    "play_random_clip_in_cluster(0, clusters) # Play random clip in a cluster"
   ]
  },
  {
   "cell_type": "code",
   "execution_count": 326,
   "metadata": {},
   "outputs": [],
   "source": [
    "sd.stop() # Stop playing"
   ]
  },
  {
   "cell_type": "code",
   "execution_count": 327,
   "metadata": {},
   "outputs": [],
   "source": [
    "play_clip(10)"
   ]
  },
  {
   "cell_type": "code",
   "execution_count": 328,
   "metadata": {},
   "outputs": [],
   "source": [
    "sd.stop() # Stop playing"
   ]
  },
  {
   "cell_type": "markdown",
   "metadata": {},
   "source": [
    "## Save clusters of audio files"
   ]
  },
  {
   "cell_type": "code",
   "execution_count": 329,
   "metadata": {
    "scrolled": true
   },
   "outputs": [
    {
     "name": "stdout",
     "output_type": "stream",
     "text": [
      "range(0, 3)\n",
      "14\n"
     ]
    }
   ],
   "source": [
    "print(range(len(np.unique(clusters))))\n",
    "print(len(file_names))"
   ]
  },
  {
   "cell_type": "code",
   "execution_count": 330,
   "metadata": {},
   "outputs": [
    {
     "name": "stdout",
     "output_type": "stream",
     "text": [
      "get_clip_indexes(i, clusters) [10, 12]\n",
      "file_names[j] XC91669 - Cabanis's Spinetail - Synallaxis cabanisi.wav\n",
      "len(file_names) 14\n",
      "os.path.splitext(file_names[j]) (\"XC91669 - Cabanis's Spinetail - Synallaxis cabanisi\", '.wav')\n",
      " os.path.splitext(file_names[j])[0] XC91669 - Cabanis's Spinetail - Synallaxis cabanisi\n",
      "\n",
      "get_clip_indexes(i, clusters) [10, 12]\n",
      "file_names[j] XC91669 - Cabanis's Spinetail - Synallaxis cabanisi.wav\n",
      "len(file_names) 14\n",
      "os.path.splitext(file_names[j]) (\"XC91669 - Cabanis's Spinetail - Synallaxis cabanisi\", '.wav')\n",
      " os.path.splitext(file_names[j])[0] XC91669 - Cabanis's Spinetail - Synallaxis cabanisi\n",
      "\n",
      "{\"Cabanis's Spinetail - Synallaxis cabanisi\"}\n",
      "get_clip_indexes(i, clusters) [0, 1, 2, 3, 4, 6, 7]\n",
      "file_names[j] XC22019 - Blue-crowned Trogon - Trogon curucui.wav\n",
      "len(file_names) 14\n",
      "os.path.splitext(file_names[j]) ('XC22019 - Blue-crowned Trogon - Trogon curucui', '.wav')\n",
      " os.path.splitext(file_names[j])[0] XC22019 - Blue-crowned Trogon - Trogon curucui\n",
      "\n",
      "get_clip_indexes(i, clusters) [0, 1, 2, 3, 4, 6, 7]\n",
      "file_names[j] XC22019 - Blue-crowned Trogon - Trogon curucui.wav\n",
      "len(file_names) 14\n",
      "os.path.splitext(file_names[j]) ('XC22019 - Blue-crowned Trogon - Trogon curucui', '.wav')\n",
      " os.path.splitext(file_names[j])[0] XC22019 - Blue-crowned Trogon - Trogon curucui\n",
      "\n",
      "get_clip_indexes(i, clusters) [0, 1, 2, 3, 4, 6, 7]\n",
      "file_names[j] XC22035 - White-bellied Tody-Tyrant - Hemitriccus griseipectus.wav\n",
      "len(file_names) 14\n",
      "os.path.splitext(file_names[j]) ('XC22035 - White-bellied Tody-Tyrant - Hemitriccus griseipectus', '.wav')\n",
      " os.path.splitext(file_names[j])[0] XC22035 - White-bellied Tody-Tyrant - Hemitriccus griseipectus\n",
      "\n",
      "get_clip_indexes(i, clusters) [0, 1, 2, 3, 4, 6, 7]\n",
      "file_names[j] XC496773 - White-lined Antbird - Myrmoborus lophotes.wav\n",
      "len(file_names) 14\n",
      "os.path.splitext(file_names[j]) ('XC496773 - White-lined Antbird - Myrmoborus lophotes', '.wav')\n",
      " os.path.splitext(file_names[j])[0] XC496773 - White-lined Antbird - Myrmoborus lophotes\n",
      "\n",
      "get_clip_indexes(i, clusters) [0, 1, 2, 3, 4, 6, 7]\n",
      "file_names[j] XC496773 - White-lined Antbird - Myrmoborus lophotes.wav\n",
      "len(file_names) 14\n",
      "os.path.splitext(file_names[j]) ('XC496773 - White-lined Antbird - Myrmoborus lophotes', '.wav')\n",
      " os.path.splitext(file_names[j])[0] XC496773 - White-lined Antbird - Myrmoborus lophotes\n",
      "\n",
      "get_clip_indexes(i, clusters) [0, 1, 2, 3, 4, 6, 7]\n",
      "file_names[j] XC496790 - Great Jacamar - Jacamerops aureus.wav\n",
      "len(file_names) 14\n",
      "os.path.splitext(file_names[j]) ('XC496790 - Great Jacamar - Jacamerops aureus', '.wav')\n",
      " os.path.splitext(file_names[j])[0] XC496790 - Great Jacamar - Jacamerops aureus\n",
      "\n",
      "get_clip_indexes(i, clusters) [0, 1, 2, 3, 4, 6, 7]\n",
      "file_names[j] XC496790 - Great Jacamar - Jacamerops aureus.wav\n",
      "len(file_names) 14\n",
      "os.path.splitext(file_names[j]) ('XC496790 - Great Jacamar - Jacamerops aureus', '.wav')\n",
      " os.path.splitext(file_names[j])[0] XC496790 - Great Jacamar - Jacamerops aureus\n",
      "\n",
      "{'Blue-crowned Trogon - Trogon curucui', 'White-bellied Tody-Tyrant - Hemitriccus griseipectus', 'White-lined Antbird - Myrmoborus lophotes', 'Great Jacamar - Jacamerops aureus'}\n",
      "get_clip_indexes(i, clusters) [5, 8, 9, 11, 13]\n",
      "file_names[j] XC496773 - White-lined Antbird - Myrmoborus lophotes.wav\n",
      "len(file_names) 14\n",
      "os.path.splitext(file_names[j]) ('XC496773 - White-lined Antbird - Myrmoborus lophotes', '.wav')\n",
      " os.path.splitext(file_names[j])[0] XC496773 - White-lined Antbird - Myrmoborus lophotes\n",
      "\n",
      "get_clip_indexes(i, clusters) [5, 8, 9, 11, 13]\n",
      "file_names[j] XC91669 - Cabanis's Spinetail - Synallaxis cabanisi.wav\n",
      "len(file_names) 14\n",
      "os.path.splitext(file_names[j]) (\"XC91669 - Cabanis's Spinetail - Synallaxis cabanisi\", '.wav')\n",
      " os.path.splitext(file_names[j])[0] XC91669 - Cabanis's Spinetail - Synallaxis cabanisi\n",
      "\n",
      "get_clip_indexes(i, clusters) [5, 8, 9, 11, 13]\n",
      "file_names[j] XC91669 - Cabanis's Spinetail - Synallaxis cabanisi.wav\n",
      "len(file_names) 14\n",
      "os.path.splitext(file_names[j]) (\"XC91669 - Cabanis's Spinetail - Synallaxis cabanisi\", '.wav')\n",
      " os.path.splitext(file_names[j])[0] XC91669 - Cabanis's Spinetail - Synallaxis cabanisi\n",
      "\n",
      "get_clip_indexes(i, clusters) [5, 8, 9, 11, 13]\n",
      "file_names[j] XC91669 - Cabanis's Spinetail - Synallaxis cabanisi.wav\n",
      "len(file_names) 14\n",
      "os.path.splitext(file_names[j]) (\"XC91669 - Cabanis's Spinetail - Synallaxis cabanisi\", '.wav')\n",
      " os.path.splitext(file_names[j])[0] XC91669 - Cabanis's Spinetail - Synallaxis cabanisi\n",
      "\n",
      "get_clip_indexes(i, clusters) [5, 8, 9, 11, 13]\n",
      "file_names[j] XC91669 - Cabanis's Spinetail - Synallaxis cabanisi.wav\n",
      "len(file_names) 14\n",
      "os.path.splitext(file_names[j]) (\"XC91669 - Cabanis's Spinetail - Synallaxis cabanisi\", '.wav')\n",
      " os.path.splitext(file_names[j])[0] XC91669 - Cabanis's Spinetail - Synallaxis cabanisi\n",
      "\n",
      "{'White-lined Antbird - Myrmoborus lophotes', \"Cabanis's Spinetail - Synallaxis cabanisi\"}\n",
      "['XC22019 - Blue-crowned Trogon - Trogon curucui.wav', 'XC22019 - Blue-crowned Trogon - Trogon curucui.wav', 'XC22035 - White-bellied Tody-Tyrant - Hemitriccus griseipectus.wav', 'XC496773 - White-lined Antbird - Myrmoborus lophotes.wav', 'XC496773 - White-lined Antbird - Myrmoborus lophotes.wav', 'XC496773 - White-lined Antbird - Myrmoborus lophotes.wav', 'XC496790 - Great Jacamar - Jacamerops aureus.wav', 'XC496790 - Great Jacamar - Jacamerops aureus.wav', \"XC91669 - Cabanis's Spinetail - Synallaxis cabanisi.wav\", \"XC91669 - Cabanis's Spinetail - Synallaxis cabanisi.wav\", \"XC91669 - Cabanis's Spinetail - Synallaxis cabanisi.wav\", \"XC91669 - Cabanis's Spinetail - Synallaxis cabanisi.wav\", \"XC91669 - Cabanis's Spinetail - Synallaxis cabanisi.wav\", \"XC91669 - Cabanis's Spinetail - Synallaxis cabanisi.wav\"]\n",
      "[0, 0, 1, 1, 1, 1, 1, 1, 1, 2, 2, 2, 2, 2]\n"
     ]
    }
   ],
   "source": [
    "num_bird_species = []\n",
    "cluster_list_ordered = []\n",
    "\n",
    "for i in range(len(np.unique(clusters))): \n",
    "    cluster_set = set()\n",
    "    for j in get_clip_indexes(i, clusters):\n",
    "        cluster_list_ordered.append(i)\n",
    "        print(\"get_clip_indexes(i, clusters)\", get_clip_indexes(i, clusters))\n",
    "        print(\"file_names[j]\", file_names[j])\n",
    "        print(\"len(file_names)\", len(file_names))\n",
    "        print(\"os.path.splitext(file_names[j])\",os.path.splitext(file_names[j]))\n",
    "        print(\" os.path.splitext(file_names[j])[0]\",  os.path.splitext(file_names[j])[0])\n",
    "#         print(\"os.path.splitext(file_names[j])[0].split(\"-\",1)\", os.path.splitext(file_names[j])[0].split(\" - \",1))\n",
    "        print()\n",
    "        bird_species = os.path.splitext(file_names[j])[0].split(\"-\",1)[1].strip()\n",
    "#         print(bird_species)\n",
    "#         print(type(bird_species))\n",
    "        cluster_set.add(bird_species)\n",
    "    num_bird_species.append(len(cluster_set))\n",
    "    print(cluster_set)\n",
    "\n",
    "print(file_names)\n",
    "print(cluster_list_ordered)\n",
    "# print(num_bird_species)   "
   ]
  },
  {
   "cell_type": "markdown",
   "metadata": {},
   "source": [
    "## Save as .csv"
   ]
  },
  {
   "cell_type": "code",
   "execution_count": 331,
   "metadata": {
    "scrolled": true
   },
   "outputs": [
    {
     "name": "stdout",
     "output_type": "stream",
     "text": [
      "                                           File name Time in clip (seconds)  \\\n",
      "0  XC22019 - Blue-crowned Trogon - Trogon curucui...                [0, 10]   \n",
      "1  XC22019 - Blue-crowned Trogon - Trogon curucui...               [10, 20]   \n",
      "2  XC22035 - White-bellied Tody-Tyrant - Hemitric...                [0, 10]   \n",
      "3  XC496773 - White-lined Antbird - Myrmoborus lo...                [0, 10]   \n",
      "4  XC496773 - White-lined Antbird - Myrmoborus lo...               [10, 20]   \n",
      "\n",
      "   Cluster number  \n",
      "0               0  \n",
      "1               0  \n",
      "2               1  \n",
      "3               1  \n",
      "4               1  \n"
     ]
    }
   ],
   "source": [
    "## pandas dataframe ## \n",
    "import pandas as pd \n",
    "\n",
    "bird_species = {\n",
    "    'File name': file_names,\n",
    "    'Time in clip (seconds)': timestamp,\n",
    "    'Cluster number': cluster_list_ordered\n",
    "}\n",
    "\n",
    "df = pd.DataFrame(bird_species, columns = ['File name', 'Time in clip (seconds)', 'Cluster number'])\n",
    "\n",
    "df.to_csv(r'/Volumes/Elements/Test/export_dataframe_kmeanspherical.csv',index = False, header=True)\n",
    "            \n",
    "print(df.head())\n",
    "# filename list \n",
    "# start and end time in the clip analyzed\n",
    "# sample rate \n",
    "# cluster number\n"
   ]
  },
  {
   "cell_type": "markdown",
   "metadata": {},
   "source": [
    "## Optional (save clip)"
   ]
  },
  {
   "cell_type": "code",
   "execution_count": 333,
   "metadata": {
    "scrolled": true
   },
   "outputs": [
    {
     "name": "stdout",
     "output_type": "stream",
     "text": [
      "type(final_d[j]) <class 'numpy.ndarray'>\n",
      "type(final_d[j]) <class 'numpy.ndarray'>\n",
      "type(final_d[j]) <class 'numpy.ndarray'>\n",
      "type(final_d[j]) <class 'numpy.ndarray'>\n",
      "type(final_d[j]) <class 'numpy.ndarray'>\n",
      "type(final_d[j]) <class 'numpy.ndarray'>\n",
      "type(final_d[j]) <class 'numpy.ndarray'>\n",
      "type(final_d[j]) <class 'numpy.ndarray'>\n",
      "type(final_d[j]) <class 'numpy.ndarray'>\n",
      "type(final_d[j]) <class 'numpy.ndarray'>\n",
      "type(final_d[j]) <class 'numpy.ndarray'>\n",
      "type(final_d[j]) <class 'numpy.ndarray'>\n",
      "type(final_d[j]) <class 'numpy.ndarray'>\n",
      "type(final_d[j]) <class 'numpy.ndarray'>\n"
     ]
    }
   ],
   "source": [
    "dirname = '/Volumes/Elements/Test/Clusters/'\n",
    "# dirname = '/Volumes/Elements/Test/Clusters/'\n",
    "\n",
    "for i in range(len(np.unique(clusters))):\n",
    "    os.mkdir(dirname + 'cluster_%d' % i)\n",
    "    for j in get_clip_indexes(i, clusters):\n",
    "        save_clip(dirname + 'cluster_%d/%s' % (i, file_names[j]), final_d[j])"
   ]
  },
  {
   "cell_type": "code",
   "execution_count": 334,
   "metadata": {
    "scrolled": true
   },
   "outputs": [
    {
     "name": "stdout",
     "output_type": "stream",
     "text": [
      "3\n",
      "[0 1 2]\n",
      "[5, 8, 9, 11, 13]\n",
      "14\n",
      "14\n"
     ]
    }
   ],
   "source": [
    "print(len(np.unique(clusters)))\n",
    "print(np.unique(clusters))\n",
    "print(get_clip_indexes(i, clusters))\n",
    "print(len(clusters))\n",
    "print(len(file_names))"
   ]
  },
  {
   "cell_type": "markdown",
   "metadata": {},
   "source": [
    "## Analyze clusters \n",
    "Find the total number of bird species in cluster and also the list of dictionary of each file name corresponding to each cluster number"
   ]
  },
  {
   "cell_type": "code",
   "execution_count": null,
   "metadata": {
    "scrolled": true
   },
   "outputs": [],
   "source": [
    "num_bird_species = []\n",
    "cluster_list_ordered = []\n",
    "\n",
    "for i in range(len(np.unique(clusters))): \n",
    "    cluster_set = set()\n",
    "    for j in get_clip_indexes(i, clusters):\n",
    "        cluster_list_ordered.append(i)\n",
    "        bird_species = os.path.splitext(file_names[j])[0].split(\"-\",1)[1].strip()\n",
    "#         print(bird_species)\n",
    "#         print(type(bird_species))\n",
    "        cluster_set.add(bird_species)\n",
    "    num_bird_species.append(len(cluster_set))\n",
    "    print(cluster_set)\n",
    "\n",
    "print(file_names)\n",
    "print(cluster_list_ordered)\n",
    "# print(num_bird_species)        "
   ]
  },
  {
   "cell_type": "code",
   "execution_count": null,
   "metadata": {
    "scrolled": false
   },
   "outputs": [],
   "source": [
    "# Number of Bird Species in Every Cluster\n",
    "print(len(num_bird_species))\n",
    "cluster_num = range(0,len(num_bird_species))\n",
    "\n",
    "x = cluster_num \n",
    "y = num_bird_species\n",
    "\n",
    "# Add title, axes\n",
    "plt.bar(x,y)\n",
    "plt.title('Number of Bird Species in Every Cluster')\n",
    "plt.xlabel('Cluster Number')\n",
    "plt.ylabel('Number of Bird Species')\n",
    "\n",
    "average_num_birds = sum(num_bird_species)/len(num_bird_species)\n",
    "print(\"Average number of birds over clusters:\", average_num_birds)"
   ]
  },
  {
   "cell_type": "code",
   "execution_count": null,
   "metadata": {},
   "outputs": [],
   "source": [
    "### Plot average number of birds over clusters for clusters ranging from 1 to 134\n",
    "\n",
    "list_num_of_clusters = []\n",
    "list_of_average_num_birds = []\n",
    "\n",
    "for n in range(1,130,5):\n",
    "    list_num_of_clusters.append(n)\n",
    "    clusters = AgglomerativeClustering(n_clusters=n, affinity='euclidean', linkage='ward').fit_predict(mfcc_clips)\n",
    "    num_bird_species = []\n",
    "\n",
    "    for i in range(len(np.unique(clusters))): \n",
    "        cluster_set = set()\n",
    "        for j in get_clip_indexes(i, clusters):\n",
    "            \n",
    "            bird_species = os.path.splitext(file_names[j])[0].split(\"-\",1)[1].strip()\n",
    "    #         print(bird_species)\n",
    "    #         print(type(bird_species))\n",
    "            cluster_set.add(bird_species)\n",
    "        num_bird_species.append(len(cluster_set))\n",
    "            \n",
    "    average_num_bird_species = sum(num_bird_species)/len(num_bird_species)\n",
    "    list_of_average_num_birds.append(average_num_bird_species)\n",
    "    \n",
    "#     print(list_num_of_clusters)\n",
    "#     print(list_of_average_num_birds)\n",
    "    \n",
    "    "
   ]
  },
  {
   "cell_type": "code",
   "execution_count": null,
   "metadata": {
    "scrolled": false
   },
   "outputs": [],
   "source": [
    "# Plot spectrogram of all clips in a cluster appended together\n",
    "plot_spectrogram_of_cluster(sample_rate, shorter_clips, 7, clusters, separate_channels=False)"
   ]
  },
  {
   "cell_type": "markdown",
   "metadata": {},
   "source": [
    "# Visualization"
   ]
  },
  {
   "cell_type": "code",
   "execution_count": null,
   "metadata": {},
   "outputs": [],
   "source": [
    "num_clips = len(shorter_clips)\n",
    "num_minutes = num_clips / 6\n",
    "num_hours = num_minutes / 60\n",
    "\n",
    "def clip_i_to_bin_i(clip_i):\n",
    "    return int(clip_i / (num_clips/num_minutes))\n",
    "\n",
    "def time_hist_for_cluster(cluster_i, clusters):\n",
    "    hist_data = []\n",
    "    for index in get_clip_indexes(cluster_i, clusters):\n",
    "        index = clip_i_to_bin_i(index)\n",
    "        hist_data.append(index)\n",
    "\n",
    "    plt.ylim(0, (num_clips/num_minutes))\n",
    "    plt.title('Cluster: %d (%s)' % (cluster_i, cluster_names[cluster_i]))\n",
    "    plt.hist(hist_data, bins=int(num_minutes), range=[0, num_minutes])\n",
    "    plt.show()\n",
    "    \n",
    "def colors(n):\n",
    "    ret = []\n",
    "    r = int(random.random() * 256)\n",
    "    g = int(random.random() * 256)\n",
    "    b = int(random.random() * 256)\n",
    "    step = 256 / n\n",
    "    for i in range(n):\n",
    "        r += step\n",
    "        g += step\n",
    "        b += step\n",
    "        r = int(r) % 256\n",
    "        g = int(g) % 256\n",
    "        b = int(b) % 256\n",
    "        ret.append((r,g,b)) \n",
    "    return ret\n",
    "\n",
    "def get_clusters_by_cluster_names(clusters, cluster_names):\n",
    "    uniq_names = np.unique(cluster_names)\n",
    "    print(uniq_names)\n",
    "    new_clusters = [-1] * len(clusters)\n",
    "    for uniq_name_i, uniq_name in enumerate(uniq_names):\n",
    "        for name_i, name in enumerate(cluster_names):\n",
    "            if name == uniq_name:\n",
    "                # Assign name_i to each index in the cluster that has the same index\n",
    "                for index in range(len(clusters)):\n",
    "                    if clusters[index] == name_i:\n",
    "                        new_clusters[index] = uniq_name_i\n",
    "    return new_clusters"
   ]
  },
  {
   "cell_type": "code",
   "execution_count": null,
   "metadata": {},
   "outputs": [],
   "source": [
    "named_clusters = get_clusters_by_cluster_names(clusters, cluster_names)\n",
    "Counter(named_clusters).most_common() \n",
    "cluster_names_to_plot = np.unique(cluster_names)\n",
    "\n",
    "# Colors for visualization\n",
    "jet = pl.get_cmap('jet', len(cluster_names_to_plot))\n",
    "cluster_colors = {}\n",
    "for i, name in enumerate(cluster_names_to_plot):\n",
    "    cluster_colors[name] = jet(i)"
   ]
  },
  {
   "cell_type": "markdown",
   "metadata": {},
   "source": [
    "Note: These are not real labels for the clusters, this is just a demonstration of the code. The histogram visualization will be replaced with better visualizations for cluster/time data such as Rose Plots."
   ]
  },
  {
   "cell_type": "code",
   "execution_count": null,
   "metadata": {},
   "outputs": [],
   "source": [
    "def plot_all_histograms(clusters, cluster_names):\n",
    "    plt.figure(figsize=(15,8))\n",
    "\n",
    "    for cluster_i in range(len(cluster_names)):\n",
    "        hist_data = []\n",
    "        for index in get_clip_indexes(cluster_i, clusters):\n",
    "            index = clip_i_to_bin_i(index)\n",
    "            hist_data.append(index)\n",
    "\n",
    "        cluster_name = cluster_names[cluster_i]\n",
    "        c = cluster_colors[cluster_name]\n",
    "        plt.hist(hist_data, bins=int(num_minutes), range=[0, num_minutes], alpha=0.5, color=c, label=cluster_name)\n",
    "\n",
    "        plt.ylabel('Number of 10-second audio clips')\n",
    "        plt.xlabel('Time in Minutes')\n",
    "        plt.legend(bbox_to_anchor=(1.2, 1.05))\n",
    "        plt.show()\n",
    "    \n",
    "clusters_to_plot = named_clusters\n",
    "cluster_names_to_plot = np.unique(cluster_names)\n",
    "plot_all_histograms(named_clusters, np.unique(cluster_names))"
   ]
  },
  {
   "cell_type": "markdown",
   "metadata": {},
   "source": [
    "### (Optional) testing convert_mp3_to_wav function with one file\n",
    "This is an extra step that I made to quickly check and troubleshoot the convert_mp3_to_wav function"
   ]
  },
  {
   "cell_type": "code",
   "execution_count": null,
   "metadata": {
    "scrolled": false
   },
   "outputs": [],
   "source": [
    "dir_path = '/Volumes/Elements/Madre_de_Dios_Xeno_Canto_Birdcalls/'\n",
    "file_path = dir_path + 'XC431125 - Rufous Twistwing - Cnipodectes superrufus.mp3'\n",
    "# file_path = dir_path + 'XC91323 - White-eyed Parakeet - Psittacara leucophthalmus.mp3'\n",
    "\n",
    "x, fs = convert_mp3_to_wav(file_path, overwrite=True)"
   ]
  },
  {
   "cell_type": "code",
   "execution_count": null,
   "metadata": {},
   "outputs": [],
   "source": [
    "# Graphs to sanity check output of load_audio with online mp3 to wav converter \n",
    "\n",
    "fig, (ax1, ax2) = plt.subplots(1, 2)\n",
    "ax1.plot(x)\n",
    "\n",
    "print(x.shape)\n",
    "\n",
    "# This file is from a random mp3 to wav convert I found here\n",
    "# https://online-audio-converter.com/ and then downloaded on Desktop\n",
    "check_dir_path = '/Users/yoo-jin/Desktop/XC431125 - Rufous Twistwing - Cnipodectes superrufus.wav'\n",
    "x_test, fs_test = sf.read(check_dir_path)\n",
    "\n",
    "x_test = np.mean(x_test, axis = 1) \n",
    "print(x_test.shape)\n",
    "\n",
    "ax2.plot(x_test)\n"
   ]
  },
  {
   "cell_type": "markdown",
   "metadata": {},
   "source": [
    "### Optional: For K-means clustsering \n",
    "The function, find_optimal_clusters is used to find the optimal number of clusters for K-means clustering. Take a look at this link for more information: https://hlab.stanford.edu/brian/number_of_clusters_.html."
   ]
  },
  {
   "cell_type": "code",
   "execution_count": null,
   "metadata": {
    "scrolled": true
   },
   "outputs": [],
   "source": [
    "# dir_path = '/Volumes/Elements/Madre_de_Dios_Xeno_Canto_Birdcalls/'\n",
    "dir_path = '/Volumes/Elements/Test/'\n",
    "samplerate = None\n",
    "wav_data = []\n",
    "bird_names_and_lengths = []\n",
    "num_files = 0\n",
    "\n",
    "for file in glob.glob(os.path.join(dir_path, '*.mp3')):\n",
    "#     print(file)\n",
    "#     convert_mp3_to_wav(file, overwrite=True)\n",
    "    num_files = num_files+1\n",
    "    try: \n",
    "        data, rate = convert_mp3_to_wav(file, overwrite=True)\n",
    "#         data = data.astype(int)\n",
    "        samplerate = rate\n",
    "        if wav_data == []:\n",
    "            wav_data = data\n",
    "        else:\n",
    "            wav_data = np.concatenate((wav_data, data))\n",
    "        clip_len = len(data) / samplerate\n",
    "        \n",
    "        # Input only bird species\n",
    "        bird_species = file.split(' - ')[2][:-4].replace(' ', '_')\n",
    "        bird_names_and_lengths.append([bird_species, clip_len])\n",
    "#         print(file)\n",
    "        \n",
    "        # TO DO: deal with warning, don't suppress\n",
    "        warnings.filterwarnings(\"ignore\", category=DeprecationWarning) \n",
    "        warnings.filterwarnings(\"ignore\", category=FutureWarning) \n",
    "    except Exception as e:\n",
    "        print('(failed) ' + file)\n",
    "        print('\\t' + str(e))\n",
    "        pass\n",
    "    \n",
    "print(bird_names_and_lengths)\n",
    "    \n",
    "# with warnings.catch_warnings():\n",
    "#     warnings.simplefilter(\"ignore\")\n",
    "#     fxn()"
   ]
  },
  {
   "cell_type": "markdown",
   "metadata": {},
   "source": [
    "### Optional: list all bird species included in the file"
   ]
  },
  {
   "cell_type": "code",
   "execution_count": null,
   "metadata": {},
   "outputs": [],
   "source": [
    "dir_path = '/Volumes/Elements/Test/'\n",
    "list_of_species = []\n",
    "\n",
    "for f in glob.glob(os.path.join(dir_path, '*.mp3')): \n",
    "    bird_name = os.path.splitext(f)[0].split(\" - \", 1)[1].strip()\n",
    "    if list_of_species == []: \n",
    "        list_of_species = [bird_name]\n",
    "    elif bird_name in list_of_species: \n",
    "        pass \n",
    "    else: \n",
    "        list_of_species.append(bird_name)\n",
    "\n",
    "print(list_of_species)\n",
    "# print(len(list_of_species))"
   ]
  },
  {
   "cell_type": "code",
   "execution_count": null,
   "metadata": {
    "scrolled": true
   },
   "outputs": [],
   "source": [
    "print(\"shape of wav_data\", len(wav_data))\n",
    "print(\"sample rate\", sr)\n",
    "print(\"type of wav_data\", type(wav_data))\n",
    "print('sample rate = %d' % samplerate)\n",
    "print(wav_data.shape)\n",
    "length = wav_data.shape[0] / samplerate\n",
    "print('length = %.1fs' % length)"
   ]
  },
  {
   "cell_type": "code",
   "execution_count": null,
   "metadata": {
    "scrolled": true
   },
   "outputs": [],
   "source": [
    "# loop through all the cluster folders \n",
    "from os import listdir\n",
    "from os.path import isfile, join\n",
    "\n",
    "# dirname = '/Volumes/Elements/Madre_de_Dios_Xeno_Canto_Birdcalls/Clusters_XenoCanto/'\n",
    "dirname = '/Volumes/Elements/Test/Clusters/'\n",
    "directory_list = os.listdir(dirname)\n",
    "# print(directory_list)\n",
    "# make \"find . -name \".DS_Store\" -delete\" in the terminal \n",
    "\n",
    "final_bird_list = []\n",
    "num_bird_species = []\n",
    "\n",
    "for d in directory_list: \n",
    "    path = dirname + d\n",
    "    file_list = [f for f in os.listdir(path) if not f.startswith('.')]\n",
    "    \n",
    "    cluster_set = set()\n",
    "    for f in file_list: \n",
    "#         print(f)\n",
    "#         if not f.startswith('.'):\n",
    "        cluster_set = cluster_set | find_bird_species_from_file_name(f)\n",
    "#         print(f)\n",
    "    \n",
    "    num_bird_species.append(len(cluster_set))\n",
    "    final_bird_list.append(num_bird_species)\n",
    "        \n",
    "# print(final_bird_list)\n",
    "# print(cluster_set)\n",
    "print(num_bird_species)"
   ]
  }
 ],
 "metadata": {
  "kernelspec": {
   "display_name": "Python 3",
   "language": "python",
   "name": "python3"
  },
  "language_info": {
   "codemirror_mode": {
    "name": "ipython",
    "version": 3
   },
   "file_extension": ".py",
   "mimetype": "text/x-python",
   "name": "python",
   "nbconvert_exporter": "python",
   "pygments_lexer": "ipython3",
   "version": "3.6.8"
  }
 },
 "nbformat": 4,
 "nbformat_minor": 4
}
