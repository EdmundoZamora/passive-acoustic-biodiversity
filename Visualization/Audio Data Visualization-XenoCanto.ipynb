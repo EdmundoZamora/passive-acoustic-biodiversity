{
 "cells": [
  {
   "cell_type": "code",
   "execution_count": 1,
   "metadata": {},
   "outputs": [],
   "source": [
    "from __future__ import division\n",
    "\n",
    "import glob\n",
    "import os\n",
    "import numpy as np\n",
    "import pandas as pd\n",
    "import pylab as pl\n",
    "import random\n",
    "import sounddevice as sd\n",
    "\n",
    "from scipy.io import wavfile\n",
    "import matplotlib.pyplot as plt\n",
    "import python_speech_features\n",
    "from python_speech_features import mfcc\n",
    "from sklearn.cluster import MiniBatchKMeans\n",
    "\n",
    "from sklearn.decomposition import PCA\n",
    "from sklearn.manifold import TSNE\n",
    "from sklearn.metrics.pairwise import cosine_similarity\n",
    "#from adjustText import adjust_text\n",
    "from collections import Counter\n",
    "from scipy.io.wavfile import write\n",
    "from sklearn.cluster import AgglomerativeClustering\n",
    "\n",
    "from pyAudioAnalysis import audioBasicIO\n",
    "from pyAudioAnalysis import ShortTermFeatures\n",
    "\n",
    "# import librosa\n",
    "import pydub\n",
    "from pydub import AudioSegment\n",
    "import soundfile as sf\n",
    "import tempfile\n",
    "from pydub.utils import which\n",
    "from scipy.io.wavfile import write\n",
    "import scipy \n",
    "import warnings \n",
    "import samplerate \n",
    "import librosa\n",
    "\n",
    "# a lot faster to use\n",
    "# https://stackoverflow.com/questions/29085268/resample-a-numpy-array/52347385#52347385\n",
    "\n",
    "AudioSegment.converter = which(\"ffmpeg\")\n",
    "%matplotlib inline\n",
    "\n",
    "# TODO: put in requirements.txt --> pip install list \n",
    "# pip install pyAudioAnalysis, tqdm, eyed3"
   ]
  },
  {
   "cell_type": "code",
   "execution_count": 2,
   "metadata": {},
   "outputs": [],
   "source": [
    "# Returns all clip indexes within a cluster\n",
    "def get_clip_indexes(cluster_label, clusters):\n",
    "    clips_i = []\n",
    "    for i in range(len(clusters)):\n",
    "        if clusters[i] == cluster_label:\n",
    "            clips_i.append(i)\n",
    "    return clips_i\n",
    "\n",
    "# Plays a random clip in a given cluster\n",
    "def play_random_clip_in_cluster(index, clusters, option='cluster'):\n",
    "    assert(option == 'cluster' or option == 'clip')\n",
    "    if option == 'clip':\n",
    "        index = find_cluster(index, clusters) # Get cluster index\n",
    "    \n",
    "    clips = get_clip_indexes(index, clusters)\n",
    "    clip_i = clips[random.randint(0, len(clips) - 1)]\n",
    "    print('Playing clip index %d ' % clip_i)\n",
    "    play_clip(clip_i)\n",
    "        \n",
    "# Returns the cluster label that a clip belongs to\n",
    "def find_cluster(clip_index, clusters):\n",
    "    return clusters[clip_index]\n",
    "\n",
    "# Plays an audio clip given the clip index\n",
    "def play_clip(clip_index):\n",
    "    samples = shorter_clips[clip_index]\n",
    "    sd.play(samples, samplerate)\n",
    "\n",
    "# Flattens a given list\n",
    "def list_flatten(l):\n",
    "    flat_list = []\n",
    "    for sublist in l:\n",
    "        for item in sublist:\n",
    "            flat_list.append(item)\n",
    "    return flat_list\n",
    "\n",
    "# Saves clip as a wav file\n",
    "def save_clip(filename, wav_array):\n",
    "#     assert('.' not in filename)\n",
    "    write(filename + '.wav', samplerate, wav_array)\n",
    "    \n",
    "# Saves all clips to a directory\n",
    "def save_clips_to_dir(shorter_clips, dirname):\n",
    "    for i, clip in enumerate(shorter_clips):\n",
    "        save_clip(dirname + '/%d' % i, clip) \n",
    "        \n",
    "# def make_bird_species_list(bird_species_list, bird_name, index): \n",
    "#     \"Define bird_species outside of function\"\n",
    "#     if bird_name not in bird_species_list[index]:\n",
    "#         bird_species[index].append(bird_name)\n",
    "# #     return bird_species_list\n",
    "            \n",
    "def convert_mp3_to_wav(mp3_path, sr=44100, mono=True, overwrite=False, dtype='float32'): \n",
    "    # Need to change sample rate to 44.1kHz if using audiomoths\n",
    "    # since mono=True by default, unless you pass mono=False, \n",
    "    # this function will save the wav as mono\n",
    "#     print(\"entering convert_mp3_to_wav\")\n",
    "    \"\"\"\n",
    "    Parts of code from \n",
    "    https://github.com/bill317996/Audio-to-midi/blob/master/cfp.py\n",
    "    \"\"\"\n",
    "    \n",
    "#     warnings.warn(\"deprecated\", DeprecationWarning)\n",
    "    \n",
    "    # in case there is an .MP3\n",
    "    assert mp3_path.lower().endswith('.mp3'), 'filename indicates not mp3'\n",
    "    wav_path_to_write = os.path.splitext(mp3_path)[0] + '.wav'\n",
    "    if not overwrite and os.path.exists(wav_path_to_write):\n",
    "        return\n",
    "    \n",
    "    mp3 = AudioSegment.from_file(mp3_path)\n",
    "    \n",
    "    _, temp_path = tempfile.mkstemp() \n",
    "    mp3.export(temp_path, format='wav')\n",
    "    del mp3\n",
    "    x, fs = sf.read(temp_path)\n",
    "    os.remove(temp_path)\n",
    "    \n",
    "    if mono and len(x.shape)>1: \n",
    "        x = np.mean(x, axis = 1) \n",
    "    if sr:\n",
    "        x = scipy.signal.resample_poly(x, sr, fs)\n",
    "        fs = sr \n",
    "    x = x.astype(dtype)\n",
    "    return x, fs    \n",
    "\n",
    "def read(f, normalized=False):\n",
    "    \"\"\"MP3 to numpy array\"\"\"\n",
    "    a = pydub.AudioSegment.from_file(f)\n",
    "    y = np.array(a.get_array_of_samples())\n",
    "    if a.channels == 2:\n",
    "        y = y.reshape((-1, 2))\n",
    "    if normalized:\n",
    "        return a.frame_rate, np.float32(y) / 2**15\n",
    "    else:\n",
    "        return a.frame_rate, y"
   ]
  },
  {
   "cell_type": "markdown",
   "metadata": {},
   "source": [
    "## Load Audio Data"
   ]
  },
  {
   "cell_type": "code",
   "execution_count": 3,
   "metadata": {},
   "outputs": [],
   "source": [
    "def find_n_second_multiples_and_filenames(dir_path, n): \n",
    "    \"\"\" \n",
    "    dir_path (path): path of a directory with desired files\n",
    "    n (int): split data into n-second clips\n",
    "    \n",
    "    #TODO: reduce the numpy array (wav_data)\n",
    "    \"\"\"\n",
    "    wav_data = []\n",
    "    allfilenames = []\n",
    "    # entire filename \n",
    "    timestamp = []\n",
    "\n",
    "    for filename in os.listdir(dir_path):\n",
    "        filepath = os.path.join(dir_path, filename)\n",
    "        print(filepath)\n",
    "        \n",
    "        if filepath == \".DS_Store\": \n",
    "            pass \n",
    "        elif filename.endswith(\".mp3\") or filename.endswith(\".MP3\"): \n",
    "#             data, sr = convert_mp3_to_wav(filepath)\n",
    "            data, sr = librosa.load(filepath, sr=44100)\n",
    "        elif filename.endswith(\".wav\") or filename.endswith(\".WAV\"):\n",
    "            sr, data = wavfile.read(filepath)\n",
    "            fs = 44100\n",
    "            data = samplerate.resample(data, fs/sr, 'sinc_best')\n",
    "            sr = fs\n",
    "            data, sr = librosa.load(filepath, sr=44100)\n",
    "            \n",
    "        num_samples_in_n_seconds =  n  * sr \n",
    "        length_data = len(data)\n",
    "        length_in_seconds = length_data / sr \n",
    "        \n",
    "        if length_data < num_samples_in_n_seconds: \n",
    "            pass\n",
    "        \n",
    "        elif length_data > num_samples_in_n_seconds: \n",
    "            data = data[:-(length_data % num_samples_in_n_seconds)]\n",
    "            num_of_n_clips = int(np.floor(length_data / num_samples_in_n_seconds))\n",
    "            \n",
    "            for i in range(num_of_n_clips): \n",
    "#                 allfilenames.append(list_file_name[0]+list_file_name[1])\n",
    "                allfilenames.append(filename)\n",
    "                data_n_seconds = data[i*num_samples_in_n_seconds:(i+1)*num_samples_in_n_seconds]\n",
    "                timestamp.append([i*n,(i+1)*n])\n",
    "                wav_data.append(data_n_seconds)\n",
    "\n",
    "        else: #length_data == num_samples_in_n_seconds: \n",
    "            allfilenames.append(filename)\n",
    "            wav_data.append(data)\n",
    "            \n",
    "    return wav_data, allfilenames, timestamp"
   ]
  },
  {
   "cell_type": "code",
   "execution_count": 4,
   "metadata": {
    "scrolled": true
   },
   "outputs": [
    {
     "name": "stdout",
     "output_type": "stream",
     "text": [
      "/Volumes/Elements/Madre_de_Dios_XC_short/XC22269 - White-crested Spadebill - Platyrinchus platyrhynchos.mp3\n"
     ]
    },
    {
     "name": "stderr",
     "output_type": "stream",
     "text": [
      "/anaconda3/lib/python3.6/site-packages/librosa/core/audio.py:162: UserWarning: PySoundFile failed. Trying audioread instead.\n",
      "  warnings.warn(\"PySoundFile failed. Trying audioread instead.\")\n"
     ]
    },
    {
     "name": "stdout",
     "output_type": "stream",
     "text": [
      "/Volumes/Elements/Madre_de_Dios_XC_short/XC22270 - White-crested Spadebill - Platyrinchus platyrhynchos.mp3\n",
      "/Volumes/Elements/Madre_de_Dios_XC_short/XC22279 - Greyish Mourner - Rhytipterna simplex.mp3\n",
      "/Volumes/Elements/Madre_de_Dios_XC_short/XC22404 - Black Antbird - Cercomacroides serva.mp3\n"
     ]
    },
    {
     "name": "stderr",
     "output_type": "stream",
     "text": [
      "/anaconda3/lib/python3.6/site-packages/librosa/core/audio.py:162: UserWarning: PySoundFile failed. Trying audioread instead.\n",
      "  warnings.warn(\"PySoundFile failed. Trying audioread instead.\")\n",
      "/anaconda3/lib/python3.6/site-packages/librosa/core/audio.py:162: UserWarning: PySoundFile failed. Trying audioread instead.\n",
      "  warnings.warn(\"PySoundFile failed. Trying audioread instead.\")\n",
      "/anaconda3/lib/python3.6/site-packages/librosa/core/audio.py:162: UserWarning: PySoundFile failed. Trying audioread instead.\n",
      "  warnings.warn(\"PySoundFile failed. Trying audioread instead.\")\n"
     ]
    },
    {
     "name": "stdout",
     "output_type": "stream",
     "text": [
      "/Volumes/Elements/Madre_de_Dios_XC_short/XC22458 - White-eyed Antwren - Epinecrophylla leucophthalma.mp3\n",
      "/Volumes/Elements/Madre_de_Dios_XC_short/XC23428 - White-winged Shrike-Tanager - Lanio versicolor.mp3\n"
     ]
    },
    {
     "name": "stderr",
     "output_type": "stream",
     "text": [
      "/anaconda3/lib/python3.6/site-packages/librosa/core/audio.py:162: UserWarning: PySoundFile failed. Trying audioread instead.\n",
      "  warnings.warn(\"PySoundFile failed. Trying audioread instead.\")\n",
      "/anaconda3/lib/python3.6/site-packages/librosa/core/audio.py:162: UserWarning: PySoundFile failed. Trying audioread instead.\n",
      "  warnings.warn(\"PySoundFile failed. Trying audioread instead.\")\n"
     ]
    },
    {
     "name": "stdout",
     "output_type": "stream",
     "text": [
      "/Volumes/Elements/Madre_de_Dios_XC_short/XC23434 - White-winged Shrike-Tanager - Lanio versicolor.mp3\n",
      "/Volumes/Elements/Madre_de_Dios_XC_short/XC40313 - Goeldi's Antbird - Akletos goeldii.mp3\n"
     ]
    },
    {
     "name": "stderr",
     "output_type": "stream",
     "text": [
      "/anaconda3/lib/python3.6/site-packages/librosa/core/audio.py:162: UserWarning: PySoundFile failed. Trying audioread instead.\n",
      "  warnings.warn(\"PySoundFile failed. Trying audioread instead.\")\n",
      "/anaconda3/lib/python3.6/site-packages/librosa/core/audio.py:162: UserWarning: PySoundFile failed. Trying audioread instead.\n",
      "  warnings.warn(\"PySoundFile failed. Trying audioread instead.\")\n"
     ]
    },
    {
     "name": "stdout",
     "output_type": "stream",
     "text": [
      "['XC22269 - White-crested Spadebill - Platyrinchus platyrhynchos.mp3', 'XC22270 - White-crested Spadebill - Platyrinchus platyrhynchos.mp3', 'XC22404 - Black Antbird - Cercomacroides serva.mp3', 'XC22404 - Black Antbird - Cercomacroides serva.mp3', 'XC22404 - Black Antbird - Cercomacroides serva.mp3', 'XC22404 - Black Antbird - Cercomacroides serva.mp3', 'XC22458 - White-eyed Antwren - Epinecrophylla leucophthalma.mp3', 'XC22458 - White-eyed Antwren - Epinecrophylla leucophthalma.mp3', 'XC22458 - White-eyed Antwren - Epinecrophylla leucophthalma.mp3', 'XC22458 - White-eyed Antwren - Epinecrophylla leucophthalma.mp3', 'XC23428 - White-winged Shrike-Tanager - Lanio versicolor.mp3', 'XC23434 - White-winged Shrike-Tanager - Lanio versicolor.mp3', 'XC23434 - White-winged Shrike-Tanager - Lanio versicolor.mp3', 'XC23434 - White-winged Shrike-Tanager - Lanio versicolor.mp3', 'XC23434 - White-winged Shrike-Tanager - Lanio versicolor.mp3', \"XC40313 - Goeldi's Antbird - Akletos goeldii.mp3\", \"XC40313 - Goeldi's Antbird - Akletos goeldii.mp3\", \"XC40313 - Goeldi's Antbird - Akletos goeldii.mp3\", \"XC40313 - Goeldi's Antbird - Akletos goeldii.mp3\", \"XC40313 - Goeldi's Antbird - Akletos goeldii.mp3\", \"XC40313 - Goeldi's Antbird - Akletos goeldii.mp3\", \"XC40313 - Goeldi's Antbird - Akletos goeldii.mp3\", \"XC40313 - Goeldi's Antbird - Akletos goeldii.mp3\", \"XC40313 - Goeldi's Antbird - Akletos goeldii.mp3\", \"XC40313 - Goeldi's Antbird - Akletos goeldii.mp3\", \"XC40313 - Goeldi's Antbird - Akletos goeldii.mp3\", \"XC40313 - Goeldi's Antbird - Akletos goeldii.mp3\"]\n",
      "27\n",
      "[[0, 5], [0, 5], [0, 5], [5, 10], [10, 15], [15, 20], [0, 5], [5, 10], [10, 15], [15, 20], [0, 5], [0, 5], [5, 10], [10, 15], [15, 20], [0, 5], [5, 10], [10, 15], [15, 20], [20, 25], [25, 30], [30, 35], [35, 40], [40, 45], [45, 50], [50, 55], [55, 60]]\n",
      "27\n",
      "27\n"
     ]
    }
   ],
   "source": [
    "# dir_path = '/Volumes/Elements/Test/Data/'\n",
    "# dir_path = '/Volumes/Elements/Madre_de_Dios_Xeno_Canto_Birdcalls/'\n",
    "# dir_path = '/Users/Jacob/Desktop/BioacousticsProject/AudioMothData/GRABADOR-SDZG-AM-15/'\n",
    "# dir_path = '/Volumes/Elements/Mixed_AM_Dataset2_2GB/'\n",
    "dir_path= '/Volumes/Elements/Madre_de_Dios_XC_short/'\n",
    "\n",
    "shorter_clips, file_names, timestamp = find_n_second_multiples_and_filenames(dir_path, 5)\n",
    "print(file_names)\n",
    "print(len(file_names))\n",
    "print(timestamp)\n",
    "print(len(timestamp))\n",
    "print(len(shorter_clips))\n",
    "\n"
   ]
  },
  {
   "cell_type": "code",
   "execution_count": 5,
   "metadata": {},
   "outputs": [
    {
     "name": "stdout",
     "output_type": "stream",
     "text": [
      "27\n"
     ]
    }
   ],
   "source": [
    "print(len(shorter_clips))"
   ]
  },
  {
   "cell_type": "code",
   "execution_count": 6,
   "metadata": {},
   "outputs": [],
   "source": [
    "def print_bird_species(list_of_files, index): \n",
    "    bird_species = os.path.splitext(list_of_files[index])[0].split(\"-\",1)[1].strip()\n",
    "    return bird_species"
   ]
  },
  {
   "cell_type": "code",
   "execution_count": 7,
   "metadata": {},
   "outputs": [],
   "source": [
    "def ground_truth_labels(list_of_filenames):\n",
    "    cluster_idx = 0 \n",
    "    cluster_idx_list = []\n",
    "    \n",
    "    for i in range(len(list_of_filenames)): \n",
    "#         bird_species = os.path.splitext(list_of_filenames[i])[0].split(\"-\",1)[1].strip()\n",
    "        if i == 0:\n",
    "            cluster_idx_list.append(cluster_idx)\n",
    "#         elif list_of_filenames[i] == list_of_filenames[i-1]:\n",
    "        elif print_bird_species(list_of_filenames, i) == print_bird_species(list_of_filenames, i-1):\n",
    "#             print(print_bird_species(list_of_filenames, i))\n",
    "#             print(print_bird_species(list_of_filenames, i-1))\n",
    "#             print()\n",
    "            cluster_idx_list.append(cluster_idx)\n",
    "        else: \n",
    "            cluster_idx = cluster_idx + 1\n",
    "            cluster_idx_list.append(cluster_idx)\n",
    "            \n",
    "    return cluster_idx_list"
   ]
  },
  {
   "cell_type": "code",
   "execution_count": 8,
   "metadata": {},
   "outputs": [
    {
     "name": "stdout",
     "output_type": "stream",
     "text": [
      "['XC22269 - White-crested Spadebill - Platyrinchus platyrhynchos.mp3', 'XC22270 - White-crested Spadebill - Platyrinchus platyrhynchos.mp3', 'XC22404 - Black Antbird - Cercomacroides serva.mp3', 'XC22404 - Black Antbird - Cercomacroides serva.mp3', 'XC22404 - Black Antbird - Cercomacroides serva.mp3', 'XC22404 - Black Antbird - Cercomacroides serva.mp3', 'XC22458 - White-eyed Antwren - Epinecrophylla leucophthalma.mp3', 'XC22458 - White-eyed Antwren - Epinecrophylla leucophthalma.mp3', 'XC22458 - White-eyed Antwren - Epinecrophylla leucophthalma.mp3', 'XC22458 - White-eyed Antwren - Epinecrophylla leucophthalma.mp3', 'XC23428 - White-winged Shrike-Tanager - Lanio versicolor.mp3', 'XC23434 - White-winged Shrike-Tanager - Lanio versicolor.mp3', 'XC23434 - White-winged Shrike-Tanager - Lanio versicolor.mp3', 'XC23434 - White-winged Shrike-Tanager - Lanio versicolor.mp3', 'XC23434 - White-winged Shrike-Tanager - Lanio versicolor.mp3', \"XC40313 - Goeldi's Antbird - Akletos goeldii.mp3\", \"XC40313 - Goeldi's Antbird - Akletos goeldii.mp3\", \"XC40313 - Goeldi's Antbird - Akletos goeldii.mp3\", \"XC40313 - Goeldi's Antbird - Akletos goeldii.mp3\", \"XC40313 - Goeldi's Antbird - Akletos goeldii.mp3\", \"XC40313 - Goeldi's Antbird - Akletos goeldii.mp3\", \"XC40313 - Goeldi's Antbird - Akletos goeldii.mp3\", \"XC40313 - Goeldi's Antbird - Akletos goeldii.mp3\", \"XC40313 - Goeldi's Antbird - Akletos goeldii.mp3\", \"XC40313 - Goeldi's Antbird - Akletos goeldii.mp3\", \"XC40313 - Goeldi's Antbird - Akletos goeldii.mp3\", \"XC40313 - Goeldi's Antbird - Akletos goeldii.mp3\"]\n",
      "[0, 0, 1, 1, 1, 1, 2, 2, 2, 2, 3, 3, 3, 3, 3, 4, 4, 4, 4, 4, 4, 4, 4, 4, 4, 4, 4]\n"
     ]
    }
   ],
   "source": [
    "true_labels = ground_truth_labels(file_names)\n",
    "print(file_names)\n",
    "print(true_labels)"
   ]
  },
  {
   "cell_type": "markdown",
   "metadata": {},
   "source": [
    "# Spectrograms"
   ]
  },
  {
   "cell_type": "code",
   "execution_count": 9,
   "metadata": {},
   "outputs": [],
   "source": [
    "def plot_spectrogram(samplerate, shorter_clips, clip_index, separate_channels=False):\n",
    "    left_channel = shorter_clips[clip_index][:, 0]\n",
    "    right_channel = shorter_clips[clip_index][:, 1]\n",
    "    \n",
    "    plt.rcParams[\"figure.figsize\"] = (100, 100)\n",
    "    plt.rcParams.update({'font.size': 50})\n",
    "    plt.xlabel('Time')\n",
    "    plt.ylabel('Frequency')\n",
    "    \n",
    "    plt.subplot(211)\n",
    "    if separate_channels:\n",
    "        plt.title('Clip #%d (Left Channel)' % clip_index)\n",
    "        plt.specgram(left_channel, Fs=samplerate)\n",
    "        plt.subplot(212)\n",
    "        plt.title('Clip #%d (Right Channel)' % clip_index)\n",
    "        plt.specgram(right_channel, Fs=samplerate)\n",
    "    else:\n",
    "        plt.title('Clip #%d' % clip_index)\n",
    "        both_channels = left_channel + right_channel\n",
    "        plt.specgram(both_channels, Fs=samplerate)\n",
    "\n",
    "    plt.show()\n",
    "    \n",
    "def plot_spectrogram_of_cluster(samplerate, shorter_clips, cluster_i, clusters, separate_channels=False):\n",
    "    clip_indexes = get_clip_indexes(cluster_i, clusters)\n",
    "    \n",
    "    left_channel = shorter_clips[clip_indexes[0]][:, 0]\n",
    "    right_channel = shorter_clips[clip_indexes[0]][:, 1]\n",
    "    \n",
    "    for i in range(1, len(clip_indexes)):\n",
    "        left_channel = np.append(left_channel, shorter_clips[clip_indexes[i]][:, 0])\n",
    "        right_channel = np.append(right_channel, shorter_clips[clip_indexes[i]][:, 1])\n",
    "    \n",
    "    plt.rcParams[\"figure.figsize\"] = (100, 100)\n",
    "    plt.rcParams.update({'font.size': 50})\n",
    "    plt.xlabel('Time')\n",
    "    plt.ylabel('Frequency')\n",
    "    \n",
    "    plt.subplot(211)\n",
    "    if separate_channels:\n",
    "        plt.title('Cluster #%d (Left Channel)' % cluster_i)\n",
    "        plt.specgram(left_channel, Fs=samplerate)\n",
    "        plt.subplot(212)\n",
    "        plt.title('Cluster #%d (Right Channel)' % cluster_i)\n",
    "        plt.specgram(right_channel, Fs=samplerate)\n",
    "    else:\n",
    "        plt.title('Cluster #%d' % cluster_i)\n",
    "        both_channels = left_channel + right_channel\n",
    "        plt.specgram(both_channels, Fs=samplerate)\n",
    "\n",
    "    plt.show()"
   ]
  },
  {
   "cell_type": "markdown",
   "metadata": {},
   "source": [
    "# Feature Extraction"
   ]
  },
  {
   "cell_type": "code",
   "execution_count": 10,
   "metadata": {
    "scrolled": true
   },
   "outputs": [
    {
     "name": "stdout",
     "output_type": "stream",
     "text": [
      "Extracting features for each of the 27 audio clips\n",
      "clip [ 0.          0.          0.         ... -0.01922607 -0.03497314\n",
      " -0.04293823]\n",
      "clip [ 0.          0.          0.         ... -0.01922607 -0.03497314\n",
      " -0.04293823]\n",
      "clip [ 0.          0.          0.         ... -0.07907104 -0.02252197\n",
      "  0.02713013]\n",
      "clip [ 0.05130005  0.04293823  0.0085144  ... -0.00946045 -0.02474976\n",
      " -0.03796387]\n",
      "clip [-0.03796387 -0.0227356  -0.00064087 ... -0.23745728 -0.22970581\n",
      " -0.19882202]\n",
      "clip [-0.1454773  -0.07321167  0.0032959  ... -0.20071411 -0.25689697\n",
      " -0.2831421 ]\n",
      "clip [ 0.          0.          0.         ... -0.01513672  0.04742432\n",
      "  0.07202148]\n",
      "clip [ 0.05380249  0.00735474 -0.03662109 ... -0.02035522 -0.01318359\n",
      " -0.00079346]\n",
      "clip [ 0.00997925  0.00732422 -0.01248169 ... -0.00537109  0.00271606\n",
      "  0.00274658]\n",
      "clip [-0.01055908 -0.03500366 -0.05831909 ...  0.          0.\n",
      "  0.        ]\n",
      "clip [ 0.          0.          0.         ... -0.05801392 -0.01956177\n",
      "  0.01028442]\n",
      "clip [0.         0.         0.         ... 0.04541016 0.10687256 0.14260864]\n",
      "clip [ 0.15557861  0.14477539  0.11209106 ...  0.2617798   0.14181519\n",
      " -0.03723145]\n",
      "clip [-0.16445923 -0.1762085  -0.06838989 ... -0.03262329 -0.01635742\n",
      "  0.00973511]\n",
      "clip [ 0.03048706  0.03738403  0.03192139 ... -0.0340271  -0.01342773\n",
      "  0.02526855]\n",
      "clip [ 0.00032319  0.00019188 -0.00012865 ...  0.00568156  0.00487693\n",
      "  0.00041135]\n",
      "clip [-0.00388255 -0.00608763 -0.00458719 ...  0.00298025 -0.00027169\n",
      " -0.00173503]\n",
      "clip [-0.00112579 -0.00016422  0.00152361 ... -0.00894069 -0.00091789\n",
      "  0.00451851]\n",
      "clip [ 0.00748266  0.00986611  0.0119632  ... -0.28539172 -0.3035786\n",
      " -0.31030396]\n",
      "clip [-0.29434738 -0.2558903  -0.1954539  ... -0.0096656  -0.01836095\n",
      " -0.01189366]\n",
      "clip [ 0.00198243  0.01361497  0.01543955 ... -0.0028925  -0.00300682\n",
      " -0.00519504]\n",
      "clip [-0.00234608 -0.00339426 -0.0024299  ... -0.06590831 -0.02664704\n",
      "  0.0086565 ]\n",
      "clip [0.04586774 0.07405772 0.09671155 ... 0.00283453 0.00260465 0.00147915]\n",
      "clip [-0.0003978  -0.00265822 -0.0045274  ...  0.00691294 -0.00168399\n",
      " -0.00907768]\n",
      "clip [-0.0119712  -0.00491731  0.00477232 ... -0.00936607 -0.00408375\n",
      "  0.00111903]\n",
      "clip [ 0.00213358 -0.00143595 -0.00598106 ... -0.0170444  -0.00756005\n",
      "  0.00671179]\n",
      "clip [ 0.01602759  0.01532293  0.00203518 ... -0.17456809 -0.21351193\n",
      " -0.23958516]\n",
      "done\n",
      "[array([ 0.        ,  0.        ,  0.        , ..., -0.01922607,\n",
      "       -0.03497314, -0.04293823], dtype=float32), array([ 0.        ,  0.        ,  0.        , ..., -0.01922607,\n",
      "       -0.03497314, -0.04293823], dtype=float32), array([ 0.        ,  0.        ,  0.        , ..., -0.07907104,\n",
      "       -0.02252197,  0.02713013], dtype=float32), array([ 0.05130005,  0.04293823,  0.0085144 , ..., -0.00946045,\n",
      "       -0.02474976, -0.03796387], dtype=float32), array([-0.03796387, -0.0227356 , -0.00064087, ..., -0.23745728,\n",
      "       -0.22970581, -0.19882202], dtype=float32), array([-0.1454773 , -0.07321167,  0.0032959 , ..., -0.20071411,\n",
      "       -0.25689697, -0.2831421 ], dtype=float32), array([ 0.        ,  0.        ,  0.        , ..., -0.01513672,\n",
      "        0.04742432,  0.07202148], dtype=float32), array([ 0.05380249,  0.00735474, -0.03662109, ..., -0.02035522,\n",
      "       -0.01318359, -0.00079346], dtype=float32), array([ 0.00997925,  0.00732422, -0.01248169, ..., -0.00537109,\n",
      "        0.00271606,  0.00274658], dtype=float32), array([-0.01055908, -0.03500366, -0.05831909, ...,  0.        ,\n",
      "        0.        ,  0.        ], dtype=float32), array([ 0.        ,  0.        ,  0.        , ..., -0.05801392,\n",
      "       -0.01956177,  0.01028442], dtype=float32), array([0.        , 0.        , 0.        , ..., 0.04541016, 0.10687256,\n",
      "       0.14260864], dtype=float32), array([ 0.15557861,  0.14477539,  0.11209106, ...,  0.2617798 ,\n",
      "        0.14181519, -0.03723145], dtype=float32), array([-0.16445923, -0.1762085 , -0.06838989, ..., -0.03262329,\n",
      "       -0.01635742,  0.00973511], dtype=float32), array([ 0.03048706,  0.03738403,  0.03192139, ..., -0.0340271 ,\n",
      "       -0.01342773,  0.02526855], dtype=float32), array([ 0.00032319,  0.00019188, -0.00012865, ...,  0.00568156,\n",
      "        0.00487693,  0.00041135], dtype=float32), array([-0.00388255, -0.00608763, -0.00458719, ...,  0.00298025,\n",
      "       -0.00027169, -0.00173503], dtype=float32), array([-0.00112579, -0.00016422,  0.00152361, ..., -0.00894069,\n",
      "       -0.00091789,  0.00451851], dtype=float32), array([ 0.00748266,  0.00986611,  0.0119632 , ..., -0.28539172,\n",
      "       -0.3035786 , -0.31030396], dtype=float32), array([-0.29434738, -0.2558903 , -0.1954539 , ..., -0.0096656 ,\n",
      "       -0.01836095, -0.01189366], dtype=float32), array([ 0.00198243,  0.01361497,  0.01543955, ..., -0.0028925 ,\n",
      "       -0.00300682, -0.00519504], dtype=float32), array([-0.00234608, -0.00339426, -0.0024299 , ..., -0.06590831,\n",
      "       -0.02664704,  0.0086565 ], dtype=float32), array([0.04586774, 0.07405772, 0.09671155, ..., 0.00283453, 0.00260465,\n",
      "       0.00147915], dtype=float32), array([-0.0003978 , -0.00265822, -0.0045274 , ...,  0.00691294,\n",
      "       -0.00168399, -0.00907768], dtype=float32), array([-0.0119712 , -0.00491731,  0.00477232, ..., -0.00936607,\n",
      "       -0.00408375,  0.00111903], dtype=float32), array([ 0.00213358, -0.00143595, -0.00598106, ..., -0.0170444 ,\n",
      "       -0.00756005,  0.00671179], dtype=float32), array([ 0.01602759,  0.01532293,  0.00203518, ..., -0.17456809,\n",
      "       -0.21351193, -0.23958516], dtype=float32)]\n",
      "27\n",
      "[array([ -2.50559703,   2.63448811, -52.42303969, ...,  15.55940951,\n",
      "       -12.96968868,  -3.73167886]), array([ -2.50559703,   2.63448811, -52.42303969, ...,  15.55940951,\n",
      "       -12.96968868,  -3.73167886]), array([ -2.80172934,   9.17801967, -50.28197341, ...,  10.80314605,\n",
      "       -16.26002661,  11.09734524]), array([  0.83251911,  -0.4611356 , -64.66064534, ...,   2.96738739,\n",
      "       -17.73285682,   9.82585391]), array([ -3.08742498,  -2.88465543, -30.37521054, ...,   6.38294096,\n",
      "       -15.31083951,  -3.33835796]), array([  1.07705752,  -2.67772873, -48.20297621, ...,   3.78379175,\n",
      "       -18.83346573,  -8.58513017]), array([-1.49906574e-02, -1.83295286e+01, -4.91561876e+01, ...,\n",
      "       -1.89274162e+01, -6.39126270e+00,  1.87836492e+01]), array([  0.49597699, -15.95265028, -54.74189902, ...,  14.92490793,\n",
      "         3.1310997 , -19.67484825]), array([ -0.78362149,  -4.84227565, -54.18664494, ...,  -2.20406198,\n",
      "       -15.19733957, -16.04519946]), array([-1.33001592e+00, -8.61573284e+00, -4.54964109e+01, ...,\n",
      "       -3.27769755e-13,  0.00000000e+00,  3.59484803e-13]), array([ -2.28343253, -14.64113447, -45.80187731, ...,  11.38847143,\n",
      "        -9.33140481,  -5.12012271]), array([ -2.13679688, -11.88471918, -49.7740191 , ...,  -3.67146182,\n",
      "         2.06780976,  -0.26835735]), array([ -1.08414571, -23.64047951, -53.3605804 , ...,  -5.37982967,\n",
      "        -3.57088496,   0.44708354]), array([  2.6239795 , -30.83575849, -42.59249621, ...,  -7.04656408,\n",
      "        -7.75507817,   0.04669006]), array([ -1.64221522,  -7.48488737, -43.88785778, ..., -13.90745002,\n",
      "       -14.98662919, -15.73796295]), array([ -5.88137662, -36.31163315, -31.33871059, ...,   1.97061771,\n",
      "        -7.51265447,   1.94435244]), array([ -4.74311964, -32.84780876, -35.8702986 , ..., -13.02893547,\n",
      "        -5.08477167,   8.49283983]), array([ -4.53122114, -32.08661936, -33.22702204, ...,   1.35192175,\n",
      "        24.84904767,  20.5960301 ]), array([ -4.08163747, -19.90637949, -27.41405646, ...,  15.6862409 ,\n",
      "        12.33397783,   1.72611785]), array([ -0.45984143, -33.84972549, -47.55070576, ...,   9.22411023,\n",
      "       -11.30129886,   3.93561664]), array([ -3.0021097 , -37.94064258, -14.40521913, ...,  -8.44130059,\n",
      "       -16.56320968,   5.96559409]), array([ -4.50366622, -36.91832535, -36.42203134, ...,   2.65302082,\n",
      "        19.04996997,  14.17908744]), array([  0.09697069,   3.60033448, -20.57480221, ...,  -2.59264867,\n",
      "        -3.59193677,  10.88990813]), array([ -4.84662691, -28.50438141, -39.32708155, ..., -14.3965102 ,\n",
      "        -8.55698122,  12.07981248]), array([ -4.08383582, -27.41990917, -29.0237082 , ...,   1.50657708,\n",
      "        10.07391698,  11.08337242]), array([ -4.40862896, -37.89753535, -60.22272682, ...,   1.69475788,\n",
      "        -2.23494523,   4.16354247]), array([ -4.19845471, -25.23629538, -34.05805072, ...,  15.06416895,\n",
      "        14.34216048,  -2.38232593])]\n",
      "(6487,)\n"
     ]
    }
   ],
   "source": [
    "# TODO: Add a way to select and evaluate features\n",
    "samplerate = 44100\n",
    "def extract_features(shorter_clips, mfcc_only=False, mono=False):\n",
    "    feat_clips = []\n",
    "\n",
    "    print('Extracting features for each of the %d audio clips' % len(shorter_clips))\n",
    "    for clip in shorter_clips:\n",
    "        print(\"clip\", clip)\n",
    "        if mono == False:\n",
    "            clip = clip[:, 0] + clip[:, 1] # Merging left and right channels\n",
    "\n",
    "        mfcc_feat=None\n",
    "        if mfcc_only:\n",
    "            mfcc_feat = mfcc(clip, samplerate, winlen=0.023, nfft = 1024).flatten()\n",
    "\n",
    "        else:\n",
    "            mfcc_feat = ShortTermFeatures.feature_extraction(clip, samplerate, 0.050*samplerate, 0.025*samplerate)\n",
    "            print('')\n",
    "            print(mfcc_feat[1])\n",
    "\n",
    "        # Append the features\n",
    "        if mfcc_only:\n",
    "            feat_clips.append(mfcc_feat)\n",
    "        else:\n",
    "            feat_clips.append(list_flatten(mfcc_feat[0]))\n",
    "\n",
    "    print('done')\n",
    "    return feat_clips\n",
    "    \n",
    "# Set mfcc_only to True to shorten runtime\n",
    "mfcc_clips = extract_features(shorter_clips, mfcc_only=True, mono=True)\n",
    "# mfcc_clips = extract_features(shorter_clips, mfcc_only=True, mono=True)\n",
    "#all_feat_clips = extract_features(shorter_clips)\n",
    "print(shorter_clips)\n",
    "print(len(mfcc_clips))\n",
    "print(mfcc_clips)\n",
    "print(mfcc_clips[0].shape)\n"
   ]
  },
  {
   "cell_type": "code",
   "execution_count": 11,
   "metadata": {},
   "outputs": [
    {
     "ename": "NameError",
     "evalue": "name 'X' is not defined",
     "output_type": "error",
     "traceback": [
      "\u001b[0;31m---------------------------------------------------------------------------\u001b[0m",
      "\u001b[0;31mNameError\u001b[0m                                 Traceback (most recent call last)",
      "\u001b[0;32m<ipython-input-11-4ae9942083bf>\u001b[0m in \u001b[0;36m<module>\u001b[0;34m\u001b[0m\n\u001b[1;32m      7\u001b[0m \u001b[0mK\u001b[0m \u001b[0;34m=\u001b[0m \u001b[0mrange\u001b[0m\u001b[0;34m(\u001b[0m\u001b[0;36m1\u001b[0m\u001b[0;34m,\u001b[0m \u001b[0;36m300\u001b[0m\u001b[0;34m)\u001b[0m\u001b[0;34m\u001b[0m\u001b[0;34m\u001b[0m\u001b[0m\n\u001b[1;32m      8\u001b[0m \u001b[0;32mfor\u001b[0m \u001b[0mk\u001b[0m \u001b[0;32min\u001b[0m \u001b[0mK\u001b[0m\u001b[0;34m:\u001b[0m\u001b[0;34m\u001b[0m\u001b[0;34m\u001b[0m\u001b[0m\n\u001b[0;32m----> 9\u001b[0;31m     \u001b[0mkmeans\u001b[0m \u001b[0;34m=\u001b[0m \u001b[0mAgglomerativeClustering\u001b[0m\u001b[0;34m(\u001b[0m\u001b[0mn_clusters\u001b[0m \u001b[0;34m=\u001b[0m \u001b[0mk\u001b[0m\u001b[0;34m)\u001b[0m\u001b[0;34m.\u001b[0m\u001b[0mfit\u001b[0m\u001b[0;34m(\u001b[0m\u001b[0mX\u001b[0m\u001b[0;34m)\u001b[0m\u001b[0;34m\u001b[0m\u001b[0;34m\u001b[0m\u001b[0m\n\u001b[0m\u001b[1;32m     10\u001b[0m     \u001b[0mSum_of_squared_distances\u001b[0m\u001b[0;34m.\u001b[0m\u001b[0mappend\u001b[0m\u001b[0;34m(\u001b[0m\u001b[0mkmeans\u001b[0m\u001b[0;34m.\u001b[0m\u001b[0minertia_\u001b[0m\u001b[0;34m)\u001b[0m\u001b[0;34m\u001b[0m\u001b[0;34m\u001b[0m\u001b[0m\n\u001b[1;32m     11\u001b[0m \u001b[0;34m\u001b[0m\u001b[0m\n",
      "\u001b[0;31mNameError\u001b[0m: name 'X' is not defined"
     ]
    }
   ],
   "source": [
    "from kneed import KneeLocator\n",
    "from spherecluster import SphericalKMeans\n",
    "from sklearn.preprocessing import MinMaxScaler\n",
    "\n",
    "Sum_of_squared_distances = []\n",
    "distortions = []\n",
    "K = range(1, 300)\n",
    "for k in K:\n",
    "    kmeans = AgglomerativeClustering(n_clusters = k).fit(X)\n",
    "    Sum_of_squared_distances.append(kmeans.inertia_)\n",
    "\n",
    "kn = KneeLocator(K, Sum_of_squared_distances, curve='convex', direction='decreasing')\n",
    "print(kn.knee)\n",
    "    \n",
    "plt.plot(K, Sum_of_squared_distances)\n",
    "plt.title('Elbow method')\n",
    "plt.xlabel('No of clusters')\n",
    "plt.ylabel('Sum of Squared Distances')\n",
    "plt.show()"
   ]
  },
  {
   "cell_type": "markdown",
   "metadata": {},
   "source": [
    "# Clustering"
   ]
  },
  {
   "cell_type": "code",
   "execution_count": 12,
   "metadata": {},
   "outputs": [],
   "source": [
    "dist = 1 - cosine_similarity(mfcc_clips)\n",
    "mds = PCA(n_components=2, random_state=1)\n",
    "pos = mds.fit_transform(dist)  # shape (n_components, n_samples)\n",
    "\n",
    "X = pos"
   ]
  },
  {
   "cell_type": "code",
   "execution_count": 13,
   "metadata": {
    "scrolled": true
   },
   "outputs": [
    {
     "data": {
      "image/png": "[encoded data removed]",
      "text/plain": [
       "<Figure size 1152x1152 with 1 Axes>"
      ]
     },
     "metadata": {
      "needs_background": "light"
     },
     "output_type": "display_data"
    }
   ],
   "source": [
    "from scipy.cluster.hierarchy import dendrogram, linkage\n",
    "from matplotlib import pyplot as plt\n",
    "\n",
    "linked = linkage(X, 'single')\n",
    "\n",
    "labelList = range(len(X))\n",
    "\n",
    "plt.figure(figsize=(16, 16))\n",
    "dendro = dendrogram(linked,\n",
    "#             p=7,\n",
    "            orientation='top',\n",
    "            #labels=labelList,\n",
    "            truncate_mode='level',\n",
    "            distance_sort='descending',\n",
    "            show_leaf_counts=True)\n",
    "plt.show()"
   ]
  },
  {
   "cell_type": "code",
   "execution_count": 14,
   "metadata": {
    "scrolled": false
   },
   "outputs": [],
   "source": [
    "def cluster_plot(pos, title='', without_labels=False, width=20, height=20, savepath=''):\n",
    "    plt.rc('font', size=15)\n",
    "    \n",
    "    xs, ys = pos[:, 0], pos[:, 1]\n",
    "    \n",
    "    labels = range(len(shorter_clips))\n",
    "\n",
    "    # Data frame with TSNE data, the cluster numbers and titles\n",
    "    cluster_df = pd.DataFrame(dict(x=xs, y=ys, clusters=clusters, labels=labels)) \n",
    "\n",
    "    fig, ax = plt.subplots(figsize=(width, height))\n",
    "    ax.margins(0.05)\n",
    "    ax.set_title(title)\n",
    "\n",
    "    groups = cluster_df.groupby('clusters')\n",
    "    for name, group in groups:\n",
    "        ax.plot(group.x, group.y, marker='o', linestyle='', ms=12, mec='none', label=name)\n",
    "        ax.set_aspect('auto')\n",
    "        ax.tick_params(axis= 'x', which='both', bottom='off', top='off', labelbottom='off')\n",
    "        ax.tick_params(axis= 'y', which='both', left='off', top='off', labelleft='off')\n",
    "\n",
    "    ax.legend(numpoints=1)\n",
    "    ax.legend(bbox_to_anchor=(1.1, 1.05))\n",
    "\n",
    "    #Add labels\n",
    "    if not without_labels:\n",
    "        texts = []\n",
    "        for i in range(len(cluster_df)):\n",
    "            texts.append(ax.text(cluster_df.loc[i, 'x'], cluster_df.loc[i, 'y'], cluster_df.loc[i,'labels'], size=10)) \n",
    "\n",
    "        #adjust_text(texts, arrowprops=dict(arrowstyle='->', color='red'))\n",
    "    \n",
    "    if savepath != '':\n",
    "        plt.savefig(savepath, dpi=200, bbox_inches=\"tight\")\n",
    "\n",
    "    plt.show()"
   ]
  },
  {
   "cell_type": "markdown",
   "metadata": {},
   "source": [
    "#### Choose number of clusters\n",
    "Note the the number of clusters needs to be less than the length of mfcc_clips"
   ]
  },
  {
   "cell_type": "code",
   "execution_count": 15,
   "metadata": {
    "scrolled": true
   },
   "outputs": [
    {
     "name": "stdout",
     "output_type": "stream",
     "text": [
      "27\n"
     ]
    }
   ],
   "source": [
    "print(len(mfcc_clips))"
   ]
  },
  {
   "cell_type": "code",
   "execution_count": 16,
   "metadata": {
    "scrolled": false
   },
   "outputs": [],
   "source": [
    "# Chose 134 from the number of bird species in the XenoCanto data\n",
    "n_clusters = 5\n",
    "\n",
    "# Fit clustering model\n",
    "clusters = AgglomerativeClustering(n_clusters=n_clusters, affinity='euclidean', linkage='ward').fit_predict(mfcc_clips)"
   ]
  },
  {
   "cell_type": "code",
   "execution_count": 17,
   "metadata": {
    "scrolled": false
   },
   "outputs": [
    {
     "ename": "NameError",
     "evalue": "name 'savepath' is not defined",
     "output_type": "error",
     "traceback": [
      "\u001b[0;31m---------------------------------------------------------------------------\u001b[0m",
      "\u001b[0;31mNameError\u001b[0m                                 Traceback (most recent call last)",
      "\u001b[0;32m<ipython-input-17-1b2c5a1bf7fc>\u001b[0m in \u001b[0;36m<module>\u001b[0;34m\u001b[0m\n\u001b[1;32m      1\u001b[0m \u001b[0;31m# savepath = '/Volumes/Elements/dendrogram'\u001b[0m\u001b[0;34m\u001b[0m\u001b[0;34m\u001b[0m\u001b[0;34m\u001b[0m\u001b[0m\n\u001b[0;32m----> 2\u001b[0;31m \u001b[0mplt\u001b[0m\u001b[0;34m.\u001b[0m\u001b[0msavefig\u001b[0m\u001b[0;34m(\u001b[0m\u001b[0msavepath\u001b[0m\u001b[0;34m,\u001b[0m \u001b[0mdpi\u001b[0m\u001b[0;34m=\u001b[0m\u001b[0;36m200\u001b[0m\u001b[0;34m,\u001b[0m \u001b[0mbbox_inches\u001b[0m\u001b[0;34m=\u001b[0m\u001b[0;34m\"tight\"\u001b[0m\u001b[0;34m)\u001b[0m\u001b[0;34m\u001b[0m\u001b[0;34m\u001b[0m\u001b[0m\n\u001b[0m",
      "\u001b[0;31mNameError\u001b[0m: name 'savepath' is not defined"
     ]
    }
   ],
   "source": [
    "# savepath = '/Volumes/Elements/dendrogram'\n",
    "plt.savefig(savepath, dpi=200, bbox_inches=\"tight\")"
   ]
  },
  {
   "cell_type": "code",
   "execution_count": 18,
   "metadata": {
    "scrolled": true
   },
   "outputs": [
    {
     "name": "stderr",
     "output_type": "stream",
     "text": [
      "/anaconda3/lib/python3.6/site-packages/matplotlib/cbook/__init__.py:424: MatplotlibDeprecationWarning: \n",
      "Passing one of 'on', 'true', 'off', 'false' as a boolean is deprecated; use an actual boolean (True/False) instead.\n",
      "  warn_deprecated(\"2.2\", \"Passing one of 'on', 'true', 'off', 'false' as a \"\n"
     ]
    },
    {
     "ename": "FileNotFoundError",
     "evalue": "[Errno 2] No such file or directory: '/Volumes/Elements/Madre_de_Dios_Xeno_Canto_Birdcalls/Clusters_XenoCanto/pca.png'",
     "output_type": "error",
     "traceback": [
      "\u001b[0;31m---------------------------------------------------------------------------\u001b[0m",
      "\u001b[0;31mFileNotFoundError\u001b[0m                         Traceback (most recent call last)",
      "\u001b[0;32m<ipython-input-18-059edbf630fc>\u001b[0m in \u001b[0;36m<module>\u001b[0;34m\u001b[0m\n\u001b[1;32m      4\u001b[0m \u001b[0mpos\u001b[0m \u001b[0;34m=\u001b[0m \u001b[0mmds\u001b[0m\u001b[0;34m.\u001b[0m\u001b[0mfit_transform\u001b[0m\u001b[0;34m(\u001b[0m\u001b[0mdist\u001b[0m\u001b[0;34m)\u001b[0m  \u001b[0;31m# shape (n_components, n_samples)\u001b[0m\u001b[0;34m\u001b[0m\u001b[0;34m\u001b[0m\u001b[0m\n\u001b[1;32m      5\u001b[0m \u001b[0;34m\u001b[0m\u001b[0m\n\u001b[0;32m----> 6\u001b[0;31m \u001b[0mcluster_plot\u001b[0m\u001b[0;34m(\u001b[0m\u001b[0mpos\u001b[0m\u001b[0;34m,\u001b[0m \u001b[0;34m'PCA Cluster Plot'\u001b[0m\u001b[0;34m,\u001b[0m \u001b[0mwithout_labels\u001b[0m\u001b[0;34m=\u001b[0m\u001b[0;32mTrue\u001b[0m\u001b[0;34m,\u001b[0m \u001b[0msavepath\u001b[0m\u001b[0;34m=\u001b[0m\u001b[0;34m'/Volumes/Elements/Madre_de_Dios_Xeno_Canto_Birdcalls/Clusters_XenoCanto/pca.png'\u001b[0m\u001b[0;34m)\u001b[0m\u001b[0;34m\u001b[0m\u001b[0;34m\u001b[0m\u001b[0m\n\u001b[0m",
      "\u001b[0;32m<ipython-input-14-7e7a7dffc44e>\u001b[0m in \u001b[0;36mcluster_plot\u001b[0;34m(pos, title, without_labels, width, height, savepath)\u001b[0m\n\u001b[1;32m     32\u001b[0m \u001b[0;34m\u001b[0m\u001b[0m\n\u001b[1;32m     33\u001b[0m     \u001b[0;32mif\u001b[0m \u001b[0msavepath\u001b[0m \u001b[0;34m!=\u001b[0m \u001b[0;34m''\u001b[0m\u001b[0;34m:\u001b[0m\u001b[0;34m\u001b[0m\u001b[0;34m\u001b[0m\u001b[0m\n\u001b[0;32m---> 34\u001b[0;31m         \u001b[0mplt\u001b[0m\u001b[0;34m.\u001b[0m\u001b[0msavefig\u001b[0m\u001b[0;34m(\u001b[0m\u001b[0msavepath\u001b[0m\u001b[0;34m,\u001b[0m \u001b[0mdpi\u001b[0m\u001b[0;34m=\u001b[0m\u001b[0;36m200\u001b[0m\u001b[0;34m,\u001b[0m \u001b[0mbbox_inches\u001b[0m\u001b[0;34m=\u001b[0m\u001b[0;34m\"tight\"\u001b[0m\u001b[0;34m)\u001b[0m\u001b[0;34m\u001b[0m\u001b[0;34m\u001b[0m\u001b[0m\n\u001b[0m\u001b[1;32m     35\u001b[0m \u001b[0;34m\u001b[0m\u001b[0m\n\u001b[1;32m     36\u001b[0m     \u001b[0mplt\u001b[0m\u001b[0;34m.\u001b[0m\u001b[0mshow\u001b[0m\u001b[0;34m(\u001b[0m\u001b[0;34m)\u001b[0m\u001b[0;34m\u001b[0m\u001b[0;34m\u001b[0m\u001b[0m\n",
      "\u001b[0;32m/anaconda3/lib/python3.6/site-packages/matplotlib/pyplot.py\u001b[0m in \u001b[0;36msavefig\u001b[0;34m(*args, **kwargs)\u001b[0m\n\u001b[1;32m    687\u001b[0m \u001b[0;32mdef\u001b[0m \u001b[0msavefig\u001b[0m\u001b[0;34m(\u001b[0m\u001b[0;34m*\u001b[0m\u001b[0margs\u001b[0m\u001b[0;34m,\u001b[0m \u001b[0;34m**\u001b[0m\u001b[0mkwargs\u001b[0m\u001b[0;34m)\u001b[0m\u001b[0;34m:\u001b[0m\u001b[0;34m\u001b[0m\u001b[0;34m\u001b[0m\u001b[0m\n\u001b[1;32m    688\u001b[0m     \u001b[0mfig\u001b[0m \u001b[0;34m=\u001b[0m \u001b[0mgcf\u001b[0m\u001b[0;34m(\u001b[0m\u001b[0;34m)\u001b[0m\u001b[0;34m\u001b[0m\u001b[0;34m\u001b[0m\u001b[0m\n\u001b[0;32m--> 689\u001b[0;31m     \u001b[0mres\u001b[0m \u001b[0;34m=\u001b[0m \u001b[0mfig\u001b[0m\u001b[0;34m.\u001b[0m\u001b[0msavefig\u001b[0m\u001b[0;34m(\u001b[0m\u001b[0;34m*\u001b[0m\u001b[0margs\u001b[0m\u001b[0;34m,\u001b[0m \u001b[0;34m**\u001b[0m\u001b[0mkwargs\u001b[0m\u001b[0;34m)\u001b[0m\u001b[0;34m\u001b[0m\u001b[0;34m\u001b[0m\u001b[0m\n\u001b[0m\u001b[1;32m    690\u001b[0m     \u001b[0mfig\u001b[0m\u001b[0;34m.\u001b[0m\u001b[0mcanvas\u001b[0m\u001b[0;34m.\u001b[0m\u001b[0mdraw_idle\u001b[0m\u001b[0;34m(\u001b[0m\u001b[0;34m)\u001b[0m   \u001b[0;31m# need this if 'transparent=True' to reset colors\u001b[0m\u001b[0;34m\u001b[0m\u001b[0;34m\u001b[0m\u001b[0m\n\u001b[1;32m    691\u001b[0m     \u001b[0;32mreturn\u001b[0m \u001b[0mres\u001b[0m\u001b[0;34m\u001b[0m\u001b[0;34m\u001b[0m\u001b[0m\n",
      "\u001b[0;32m/anaconda3/lib/python3.6/site-packages/matplotlib/figure.py\u001b[0m in \u001b[0;36msavefig\u001b[0;34m(self, fname, frameon, transparent, **kwargs)\u001b[0m\n\u001b[1;32m   2092\u001b[0m             \u001b[0mself\u001b[0m\u001b[0;34m.\u001b[0m\u001b[0mset_frameon\u001b[0m\u001b[0;34m(\u001b[0m\u001b[0mframeon\u001b[0m\u001b[0;34m)\u001b[0m\u001b[0;34m\u001b[0m\u001b[0;34m\u001b[0m\u001b[0m\n\u001b[1;32m   2093\u001b[0m \u001b[0;34m\u001b[0m\u001b[0m\n\u001b[0;32m-> 2094\u001b[0;31m         \u001b[0mself\u001b[0m\u001b[0;34m.\u001b[0m\u001b[0mcanvas\u001b[0m\u001b[0;34m.\u001b[0m\u001b[0mprint_figure\u001b[0m\u001b[0;34m(\u001b[0m\u001b[0mfname\u001b[0m\u001b[0;34m,\u001b[0m \u001b[0;34m**\u001b[0m\u001b[0mkwargs\u001b[0m\u001b[0;34m)\u001b[0m\u001b[0;34m\u001b[0m\u001b[0;34m\u001b[0m\u001b[0m\n\u001b[0m\u001b[1;32m   2095\u001b[0m \u001b[0;34m\u001b[0m\u001b[0m\n\u001b[1;32m   2096\u001b[0m         \u001b[0;32mif\u001b[0m \u001b[0mframeon\u001b[0m\u001b[0;34m:\u001b[0m\u001b[0;34m\u001b[0m\u001b[0;34m\u001b[0m\u001b[0m\n",
      "\u001b[0;32m/anaconda3/lib/python3.6/site-packages/matplotlib/backend_bases.py\u001b[0m in \u001b[0;36mprint_figure\u001b[0;34m(self, filename, dpi, facecolor, edgecolor, orientation, format, bbox_inches, **kwargs)\u001b[0m\n\u001b[1;32m   2073\u001b[0m                     \u001b[0morientation\u001b[0m\u001b[0;34m=\u001b[0m\u001b[0morientation\u001b[0m\u001b[0;34m,\u001b[0m\u001b[0;34m\u001b[0m\u001b[0;34m\u001b[0m\u001b[0m\n\u001b[1;32m   2074\u001b[0m                     \u001b[0mbbox_inches_restore\u001b[0m\u001b[0;34m=\u001b[0m\u001b[0m_bbox_inches_restore\u001b[0m\u001b[0;34m,\u001b[0m\u001b[0;34m\u001b[0m\u001b[0;34m\u001b[0m\u001b[0m\n\u001b[0;32m-> 2075\u001b[0;31m                     **kwargs)\n\u001b[0m\u001b[1;32m   2076\u001b[0m             \u001b[0;32mfinally\u001b[0m\u001b[0;34m:\u001b[0m\u001b[0;34m\u001b[0m\u001b[0;34m\u001b[0m\u001b[0m\n\u001b[1;32m   2077\u001b[0m                 \u001b[0;32mif\u001b[0m \u001b[0mbbox_inches\u001b[0m \u001b[0;32mand\u001b[0m \u001b[0mrestore_bbox\u001b[0m\u001b[0;34m:\u001b[0m\u001b[0;34m\u001b[0m\u001b[0;34m\u001b[0m\u001b[0m\n",
      "\u001b[0;32m/anaconda3/lib/python3.6/site-packages/matplotlib/backends/backend_agg.py\u001b[0m in \u001b[0;36mprint_png\u001b[0;34m(self, filename_or_obj, *args, **kwargs)\u001b[0m\n\u001b[1;32m    519\u001b[0m \u001b[0;34m\u001b[0m\u001b[0m\n\u001b[1;32m    520\u001b[0m         \u001b[0;32mwith\u001b[0m \u001b[0mcbook\u001b[0m\u001b[0;34m.\u001b[0m\u001b[0m_setattr_cm\u001b[0m\u001b[0;34m(\u001b[0m\u001b[0mrenderer\u001b[0m\u001b[0;34m,\u001b[0m \u001b[0mdpi\u001b[0m\u001b[0;34m=\u001b[0m\u001b[0mself\u001b[0m\u001b[0;34m.\u001b[0m\u001b[0mfigure\u001b[0m\u001b[0;34m.\u001b[0m\u001b[0mdpi\u001b[0m\u001b[0;34m)\u001b[0m\u001b[0;34m,\u001b[0m\u001b[0;31m \u001b[0m\u001b[0;31m\\\u001b[0m\u001b[0;34m\u001b[0m\u001b[0;34m\u001b[0m\u001b[0m\n\u001b[0;32m--> 521\u001b[0;31m                 \u001b[0mcbook\u001b[0m\u001b[0;34m.\u001b[0m\u001b[0mopen_file_cm\u001b[0m\u001b[0;34m(\u001b[0m\u001b[0mfilename_or_obj\u001b[0m\u001b[0;34m,\u001b[0m \u001b[0;34m\"wb\"\u001b[0m\u001b[0;34m)\u001b[0m \u001b[0;32mas\u001b[0m \u001b[0mfh\u001b[0m\u001b[0;34m:\u001b[0m\u001b[0;34m\u001b[0m\u001b[0;34m\u001b[0m\u001b[0m\n\u001b[0m\u001b[1;32m    522\u001b[0m             _png.write_png(renderer._renderer, fh,\n\u001b[1;32m    523\u001b[0m                             self.figure.dpi, metadata=metadata)\n",
      "\u001b[0;32m/anaconda3/lib/python3.6/contextlib.py\u001b[0m in \u001b[0;36m__enter__\u001b[0;34m(self)\u001b[0m\n\u001b[1;32m     79\u001b[0m     \u001b[0;32mdef\u001b[0m \u001b[0m__enter__\u001b[0m\u001b[0;34m(\u001b[0m\u001b[0mself\u001b[0m\u001b[0;34m)\u001b[0m\u001b[0;34m:\u001b[0m\u001b[0;34m\u001b[0m\u001b[0;34m\u001b[0m\u001b[0m\n\u001b[1;32m     80\u001b[0m         \u001b[0;32mtry\u001b[0m\u001b[0;34m:\u001b[0m\u001b[0;34m\u001b[0m\u001b[0;34m\u001b[0m\u001b[0m\n\u001b[0;32m---> 81\u001b[0;31m             \u001b[0;32mreturn\u001b[0m \u001b[0mnext\u001b[0m\u001b[0;34m(\u001b[0m\u001b[0mself\u001b[0m\u001b[0;34m.\u001b[0m\u001b[0mgen\u001b[0m\u001b[0;34m)\u001b[0m\u001b[0;34m\u001b[0m\u001b[0;34m\u001b[0m\u001b[0m\n\u001b[0m\u001b[1;32m     82\u001b[0m         \u001b[0;32mexcept\u001b[0m \u001b[0mStopIteration\u001b[0m\u001b[0;34m:\u001b[0m\u001b[0;34m\u001b[0m\u001b[0;34m\u001b[0m\u001b[0m\n\u001b[1;32m     83\u001b[0m             \u001b[0;32mraise\u001b[0m \u001b[0mRuntimeError\u001b[0m\u001b[0;34m(\u001b[0m\u001b[0;34m\"generator didn't yield\"\u001b[0m\u001b[0;34m)\u001b[0m \u001b[0;32mfrom\u001b[0m \u001b[0;32mNone\u001b[0m\u001b[0;34m\u001b[0m\u001b[0;34m\u001b[0m\u001b[0m\n",
      "\u001b[0;32m/anaconda3/lib/python3.6/site-packages/matplotlib/cbook/__init__.py\u001b[0m in \u001b[0;36mopen_file_cm\u001b[0;34m(path_or_file, mode, encoding)\u001b[0m\n\u001b[1;32m    405\u001b[0m \u001b[0;32mdef\u001b[0m \u001b[0mopen_file_cm\u001b[0m\u001b[0;34m(\u001b[0m\u001b[0mpath_or_file\u001b[0m\u001b[0;34m,\u001b[0m \u001b[0mmode\u001b[0m\u001b[0;34m=\u001b[0m\u001b[0;34m\"r\"\u001b[0m\u001b[0;34m,\u001b[0m \u001b[0mencoding\u001b[0m\u001b[0;34m=\u001b[0m\u001b[0;32mNone\u001b[0m\u001b[0;34m)\u001b[0m\u001b[0;34m:\u001b[0m\u001b[0;34m\u001b[0m\u001b[0;34m\u001b[0m\u001b[0m\n\u001b[1;32m    406\u001b[0m     \u001b[0;34mr\"\"\"Pass through file objects and context-manage `.PathLike`\\s.\"\"\"\u001b[0m\u001b[0;34m\u001b[0m\u001b[0;34m\u001b[0m\u001b[0m\n\u001b[0;32m--> 407\u001b[0;31m     \u001b[0mfh\u001b[0m\u001b[0;34m,\u001b[0m \u001b[0mopened\u001b[0m \u001b[0;34m=\u001b[0m \u001b[0mto_filehandle\u001b[0m\u001b[0;34m(\u001b[0m\u001b[0mpath_or_file\u001b[0m\u001b[0;34m,\u001b[0m \u001b[0mmode\u001b[0m\u001b[0;34m,\u001b[0m \u001b[0;32mTrue\u001b[0m\u001b[0;34m,\u001b[0m \u001b[0mencoding\u001b[0m\u001b[0;34m)\u001b[0m\u001b[0;34m\u001b[0m\u001b[0;34m\u001b[0m\u001b[0m\n\u001b[0m\u001b[1;32m    408\u001b[0m     \u001b[0;32mif\u001b[0m \u001b[0mopened\u001b[0m\u001b[0;34m:\u001b[0m\u001b[0;34m\u001b[0m\u001b[0;34m\u001b[0m\u001b[0m\n\u001b[1;32m    409\u001b[0m         \u001b[0;32mwith\u001b[0m \u001b[0mfh\u001b[0m\u001b[0;34m:\u001b[0m\u001b[0;34m\u001b[0m\u001b[0;34m\u001b[0m\u001b[0m\n",
      "\u001b[0;32m/anaconda3/lib/python3.6/site-packages/matplotlib/cbook/__init__.py\u001b[0m in \u001b[0;36mto_filehandle\u001b[0;34m(fname, flag, return_opened, encoding)\u001b[0m\n\u001b[1;32m    390\u001b[0m             \u001b[0mfh\u001b[0m \u001b[0;34m=\u001b[0m \u001b[0mbz2\u001b[0m\u001b[0;34m.\u001b[0m\u001b[0mBZ2File\u001b[0m\u001b[0;34m(\u001b[0m\u001b[0mfname\u001b[0m\u001b[0;34m,\u001b[0m \u001b[0mflag\u001b[0m\u001b[0;34m)\u001b[0m\u001b[0;34m\u001b[0m\u001b[0;34m\u001b[0m\u001b[0m\n\u001b[1;32m    391\u001b[0m         \u001b[0;32melse\u001b[0m\u001b[0;34m:\u001b[0m\u001b[0;34m\u001b[0m\u001b[0;34m\u001b[0m\u001b[0m\n\u001b[0;32m--> 392\u001b[0;31m             \u001b[0mfh\u001b[0m \u001b[0;34m=\u001b[0m \u001b[0mopen\u001b[0m\u001b[0;34m(\u001b[0m\u001b[0mfname\u001b[0m\u001b[0;34m,\u001b[0m \u001b[0mflag\u001b[0m\u001b[0;34m,\u001b[0m \u001b[0mencoding\u001b[0m\u001b[0;34m=\u001b[0m\u001b[0mencoding\u001b[0m\u001b[0;34m)\u001b[0m\u001b[0;34m\u001b[0m\u001b[0;34m\u001b[0m\u001b[0m\n\u001b[0m\u001b[1;32m    393\u001b[0m         \u001b[0mopened\u001b[0m \u001b[0;34m=\u001b[0m \u001b[0;32mTrue\u001b[0m\u001b[0;34m\u001b[0m\u001b[0;34m\u001b[0m\u001b[0m\n\u001b[1;32m    394\u001b[0m     \u001b[0;32melif\u001b[0m \u001b[0mhasattr\u001b[0m\u001b[0;34m(\u001b[0m\u001b[0mfname\u001b[0m\u001b[0;34m,\u001b[0m \u001b[0;34m'seek'\u001b[0m\u001b[0;34m)\u001b[0m\u001b[0;34m:\u001b[0m\u001b[0;34m\u001b[0m\u001b[0;34m\u001b[0m\u001b[0m\n",
      "\u001b[0;31mFileNotFoundError\u001b[0m: [Errno 2] No such file or directory: '/Volumes/Elements/Madre_de_Dios_Xeno_Canto_Birdcalls/Clusters_XenoCanto/pca.png'"
     ]
    },
    {
     "data": {
      "image/png": "[encoded data removed]",
      "text/plain": [
       "<Figure size 1440x1440 with 1 Axes>"
      ]
     },
     "metadata": {},
     "output_type": "display_data"
    }
   ],
   "source": [
    "# Project the data onto 2D graph - 10 clusters\n",
    "dist = 1 - cosine_similarity(mfcc_clips)\n",
    "mds = PCA(n_components=2, random_state=1)\n",
    "pos = mds.fit_transform(dist)  # shape (n_components, n_samples)\n",
    "\n",
    "cluster_plot(pos, 'PCA Cluster Plot', without_labels=True, savepath='/Volumes/Elements/Madre_de_Dios_Xeno_Canto_Birdcalls/Clusters_XenoCanto/pca.png')"
   ]
  },
  {
   "cell_type": "code",
   "execution_count": null,
   "metadata": {},
   "outputs": [],
   "source": [
    "# Project the data onto 2D graph - 10 clusters\n",
    "dist = 1 - cosine_similarity(mfcc_clips)\n",
    "mds = TSNE(n_components=2, random_state=1)\n",
    "pos = mds.fit_transform(dist)  # shape (n_components, n_samples)\n",
    "\n",
    "cluster_plot(pos, 'TSNE Cluster Plot', without_labels=True, savepath='/Volumes/Elements/Madre_de_Dios_Xeno_Canto_Birdcalls/Clusters_XenoCanto/tsne.png')"
   ]
  },
  {
   "cell_type": "markdown",
   "metadata": {},
   "source": [
    "# Cluster Interpretation"
   ]
  },
  {
   "cell_type": "code",
   "execution_count": 19,
   "metadata": {
    "scrolled": true
   },
   "outputs": [
    {
     "data": {
      "text/plain": [
       "[(0, 9), (2, 6), (3, 5), (1, 4), (4, 3)]"
      ]
     },
     "execution_count": 19,
     "metadata": {},
     "output_type": "execute_result"
    }
   ],
   "source": [
    "# Prints: (Cluster number, count of clips in cluster)\n",
    "Counter(clusters).most_common()"
   ]
  },
  {
   "cell_type": "code",
   "execution_count": 20,
   "metadata": {
    "scrolled": true
   },
   "outputs": [
    {
     "ename": "ValueError",
     "evalue": "empty range for randrange() (0,0, 0)",
     "output_type": "error",
     "traceback": [
      "\u001b[0;31m---------------------------------------------------------------------------\u001b[0m",
      "\u001b[0;31mValueError\u001b[0m                                Traceback (most recent call last)",
      "\u001b[0;32m<ipython-input-20-59aadce172bb>\u001b[0m in \u001b[0;36m<module>\u001b[0;34m\u001b[0m\n\u001b[0;32m----> 1\u001b[0;31m \u001b[0mplay_random_clip_in_cluster\u001b[0m\u001b[0;34m(\u001b[0m\u001b[0;36m6\u001b[0m\u001b[0;34m,\u001b[0m \u001b[0mclusters\u001b[0m\u001b[0;34m)\u001b[0m \u001b[0;31m# Play random clip in a cluster\u001b[0m\u001b[0;34m\u001b[0m\u001b[0;34m\u001b[0m\u001b[0m\n\u001b[0m",
      "\u001b[0;32m<ipython-input-2-339cb609b7b1>\u001b[0m in \u001b[0;36mplay_random_clip_in_cluster\u001b[0;34m(index, clusters, option)\u001b[0m\n\u001b[1;32m     14\u001b[0m \u001b[0;34m\u001b[0m\u001b[0m\n\u001b[1;32m     15\u001b[0m     \u001b[0mclips\u001b[0m \u001b[0;34m=\u001b[0m \u001b[0mget_clip_indexes\u001b[0m\u001b[0;34m(\u001b[0m\u001b[0mindex\u001b[0m\u001b[0;34m,\u001b[0m \u001b[0mclusters\u001b[0m\u001b[0;34m)\u001b[0m\u001b[0;34m\u001b[0m\u001b[0;34m\u001b[0m\u001b[0m\n\u001b[0;32m---> 16\u001b[0;31m     \u001b[0mclip_i\u001b[0m \u001b[0;34m=\u001b[0m \u001b[0mclips\u001b[0m\u001b[0;34m[\u001b[0m\u001b[0mrandom\u001b[0m\u001b[0;34m.\u001b[0m\u001b[0mrandint\u001b[0m\u001b[0;34m(\u001b[0m\u001b[0;36m0\u001b[0m\u001b[0;34m,\u001b[0m \u001b[0mlen\u001b[0m\u001b[0;34m(\u001b[0m\u001b[0mclips\u001b[0m\u001b[0;34m)\u001b[0m \u001b[0;34m-\u001b[0m \u001b[0;36m1\u001b[0m\u001b[0;34m)\u001b[0m\u001b[0;34m]\u001b[0m\u001b[0;34m\u001b[0m\u001b[0;34m\u001b[0m\u001b[0m\n\u001b[0m\u001b[1;32m     17\u001b[0m     \u001b[0mprint\u001b[0m\u001b[0;34m(\u001b[0m\u001b[0;34m'Playing clip index %d '\u001b[0m \u001b[0;34m%\u001b[0m \u001b[0mclip_i\u001b[0m\u001b[0;34m)\u001b[0m\u001b[0;34m\u001b[0m\u001b[0;34m\u001b[0m\u001b[0m\n\u001b[1;32m     18\u001b[0m     \u001b[0mplay_clip\u001b[0m\u001b[0;34m(\u001b[0m\u001b[0mclip_i\u001b[0m\u001b[0;34m)\u001b[0m\u001b[0;34m\u001b[0m\u001b[0;34m\u001b[0m\u001b[0m\n",
      "\u001b[0;32m/anaconda3/lib/python3.6/random.py\u001b[0m in \u001b[0;36mrandint\u001b[0;34m(self, a, b)\u001b[0m\n\u001b[1;32m    219\u001b[0m         \"\"\"\n\u001b[1;32m    220\u001b[0m \u001b[0;34m\u001b[0m\u001b[0m\n\u001b[0;32m--> 221\u001b[0;31m         \u001b[0;32mreturn\u001b[0m \u001b[0mself\u001b[0m\u001b[0;34m.\u001b[0m\u001b[0mrandrange\u001b[0m\u001b[0;34m(\u001b[0m\u001b[0ma\u001b[0m\u001b[0;34m,\u001b[0m \u001b[0mb\u001b[0m\u001b[0;34m+\u001b[0m\u001b[0;36m1\u001b[0m\u001b[0;34m)\u001b[0m\u001b[0;34m\u001b[0m\u001b[0;34m\u001b[0m\u001b[0m\n\u001b[0m\u001b[1;32m    222\u001b[0m \u001b[0;34m\u001b[0m\u001b[0m\n\u001b[1;32m    223\u001b[0m     def _randbelow(self, n, int=int, maxsize=1<<BPF, type=type,\n",
      "\u001b[0;32m/anaconda3/lib/python3.6/random.py\u001b[0m in \u001b[0;36mrandrange\u001b[0;34m(self, start, stop, step, _int)\u001b[0m\n\u001b[1;32m    197\u001b[0m             \u001b[0;32mreturn\u001b[0m \u001b[0mistart\u001b[0m \u001b[0;34m+\u001b[0m \u001b[0mself\u001b[0m\u001b[0;34m.\u001b[0m\u001b[0m_randbelow\u001b[0m\u001b[0;34m(\u001b[0m\u001b[0mwidth\u001b[0m\u001b[0;34m)\u001b[0m\u001b[0;34m\u001b[0m\u001b[0;34m\u001b[0m\u001b[0m\n\u001b[1;32m    198\u001b[0m         \u001b[0;32mif\u001b[0m \u001b[0mstep\u001b[0m \u001b[0;34m==\u001b[0m \u001b[0;36m1\u001b[0m\u001b[0;34m:\u001b[0m\u001b[0;34m\u001b[0m\u001b[0;34m\u001b[0m\u001b[0m\n\u001b[0;32m--> 199\u001b[0;31m             \u001b[0;32mraise\u001b[0m \u001b[0mValueError\u001b[0m\u001b[0;34m(\u001b[0m\u001b[0;34m\"empty range for randrange() (%d,%d, %d)\"\u001b[0m \u001b[0;34m%\u001b[0m \u001b[0;34m(\u001b[0m\u001b[0mistart\u001b[0m\u001b[0;34m,\u001b[0m \u001b[0mistop\u001b[0m\u001b[0;34m,\u001b[0m \u001b[0mwidth\u001b[0m\u001b[0;34m)\u001b[0m\u001b[0;34m)\u001b[0m\u001b[0;34m\u001b[0m\u001b[0;34m\u001b[0m\u001b[0m\n\u001b[0m\u001b[1;32m    200\u001b[0m \u001b[0;34m\u001b[0m\u001b[0m\n\u001b[1;32m    201\u001b[0m         \u001b[0;31m# Non-unit step argument supplied.\u001b[0m\u001b[0;34m\u001b[0m\u001b[0;34m\u001b[0m\u001b[0;34m\u001b[0m\u001b[0m\n",
      "\u001b[0;31mValueError\u001b[0m: empty range for randrange() (0,0, 0)"
     ]
    }
   ],
   "source": [
    "play_random_clip_in_cluster(6, clusters) # Play random clip in a cluster"
   ]
  },
  {
   "cell_type": "code",
   "execution_count": 20,
   "metadata": {},
   "outputs": [],
   "source": [
    "sd.stop() # Stop playing"
   ]
  },
  {
   "cell_type": "markdown",
   "metadata": {},
   "source": [
    "## Save clusters of audio files"
   ]
  },
  {
   "cell_type": "code",
   "execution_count": 79,
   "metadata": {},
   "outputs": [],
   "source": [
    "dirname = '/Volumes/Elements/Test/Clusters/'\n",
    "# dirname = '/Volumes/Elements/Test/Clusters/'\n",
    "\n",
    "for i in range(len(np.unique(clusters))):\n",
    "    os.mkdir(dirname + 'cluster_%d' % i)\n",
    "    for j in get_clip_indexes(i, clusters):\n",
    "        save_clip(dirname + 'cluster_%d/%s' % (i, file_names[j]), shorter_clips[j])"
   ]
  },
  {
   "cell_type": "code",
   "execution_count": 80,
   "metadata": {
    "scrolled": false
   },
   "outputs": [
    {
     "name": "stdout",
     "output_type": "stream",
     "text": [
      "3\n",
      "[0 1 2]\n",
      "[0, 1, 2]\n",
      "14\n",
      "14\n"
     ]
    }
   ],
   "source": [
    "print(len(np.unique(clusters)))\n",
    "print(np.unique(clusters))\n",
    "print(get_clip_indexes(i, clusters))\n",
    "print(len(clusters))\n",
    "print(len(file_names))"
   ]
  },
  {
   "cell_type": "markdown",
   "metadata": {},
   "source": [
    "## Analyze clusters \n",
    "Find the total number of bird species in cluster and also the list of dictionary of each file name corresponding to each cluster number"
   ]
  },
  {
   "cell_type": "code",
   "execution_count": 22,
   "metadata": {
    "scrolled": true
   },
   "outputs": [
    {
     "name": "stdout",
     "output_type": "stream",
     "text": [
      "['XC22269 - White-crested Spadebill - Platyrinchus platyrhynchos.mp3', 'XC22270 - White-crested Spadebill - Platyrinchus platyrhynchos.mp3', 'XC22404 - Black Antbird - Cercomacroides serva.mp3', 'XC22404 - Black Antbird - Cercomacroides serva.mp3', 'XC22404 - Black Antbird - Cercomacroides serva.mp3', 'XC22404 - Black Antbird - Cercomacroides serva.mp3', 'XC22458 - White-eyed Antwren - Epinecrophylla leucophthalma.mp3', 'XC22458 - White-eyed Antwren - Epinecrophylla leucophthalma.mp3', 'XC22458 - White-eyed Antwren - Epinecrophylla leucophthalma.mp3', 'XC22458 - White-eyed Antwren - Epinecrophylla leucophthalma.mp3', 'XC23428 - White-winged Shrike-Tanager - Lanio versicolor.mp3', 'XC23434 - White-winged Shrike-Tanager - Lanio versicolor.mp3', 'XC23434 - White-winged Shrike-Tanager - Lanio versicolor.mp3', 'XC23434 - White-winged Shrike-Tanager - Lanio versicolor.mp3', 'XC23434 - White-winged Shrike-Tanager - Lanio versicolor.mp3', \"XC40313 - Goeldi's Antbird - Akletos goeldii.mp3\", \"XC40313 - Goeldi's Antbird - Akletos goeldii.mp3\", \"XC40313 - Goeldi's Antbird - Akletos goeldii.mp3\", \"XC40313 - Goeldi's Antbird - Akletos goeldii.mp3\", \"XC40313 - Goeldi's Antbird - Akletos goeldii.mp3\", \"XC40313 - Goeldi's Antbird - Akletos goeldii.mp3\", \"XC40313 - Goeldi's Antbird - Akletos goeldii.mp3\", \"XC40313 - Goeldi's Antbird - Akletos goeldii.mp3\", \"XC40313 - Goeldi's Antbird - Akletos goeldii.mp3\", \"XC40313 - Goeldi's Antbird - Akletos goeldii.mp3\", \"XC40313 - Goeldi's Antbird - Akletos goeldii.mp3\", \"XC40313 - Goeldi's Antbird - Akletos goeldii.mp3\"]\n",
      "[0, 0, 0, 0, 0, 0, 0, 0, 0, 1, 1, 1, 1, 2, 2, 2, 2, 2, 2, 3, 3, 3, 3, 3, 4, 4, 4]\n",
      "set()\n"
     ]
    }
   ],
   "source": [
    "print(file_names)\n",
    "\n",
    "# num_bird_species = []\n",
    "cluster_list_ordered = []\n",
    "\n",
    "for i in range(len(np.unique(clusters))): \n",
    "    cluster_set = set()\n",
    "    for j in get_clip_indexes(i, clusters):\n",
    "        cluster_list_ordered.append(i)\n",
    "        \n",
    "#         bird_species = os.path.splitext(file_names[j])[0].split(\"-\",1)[1].strip()\n",
    "#         print(bird_species)\n",
    "#         print(type(bird_species))\n",
    "#         cluster_set.add(bird_species)\n",
    "#     num_bird_species.append(len(cluster_set))\n",
    "\n",
    "print(cluster_list_ordered)\n",
    "print(cluster_set)\n",
    "# print(num_bird_species)        "
   ]
  },
  {
   "cell_type": "markdown",
   "metadata": {},
   "source": [
    "## Save as .csv"
   ]
  },
  {
   "cell_type": "code",
   "execution_count": 23,
   "metadata": {
    "scrolled": true
   },
   "outputs": [
    {
     "name": "stdout",
     "output_type": "stream",
     "text": [
      "             File name Time in clip (seconds)  Cluster number\n",
      "0  20190610_022000.WAV                [0, 10]               0\n",
      "1  20190610_022000.WAV               [10, 20]               0\n",
      "2  20190610_022000.WAV               [20, 30]               0\n",
      "3  20190610_022000.WAV               [30, 40]               0\n",
      "4  20190610_022000.WAV               [40, 50]               0\n"
     ]
    }
   ],
   "source": [
    "## Save as .csv## pandas dataframe ## \n",
    "import pandas as pd \n",
    "\n",
    "bird_species = {\n",
    "    'File name': file_names,\n",
    "    'Time in clip (seconds)': timestamp,\n",
    "    'Cluster number': cluster_list_ordered\n",
    "}\n",
    "\n",
    "df = pd.DataFrame(bird_species, columns = ['File name', 'Time in clip (seconds)', 'Cluster number'])\n",
    "\n",
    "df.to_csv(r'/Users/yoo-jin/Desktop/export_dataframe_mixedAM_hierarchal_downsampled.csv',index = False, header=True)\n",
    "            \n",
    "print(df.head())\n",
    "# filename list \n",
    "# start and end time in the clip analyzed\n",
    "# sample rate \n",
    "# cluster number\n"
   ]
  },
  {
   "cell_type": "markdown",
   "metadata": {},
   "source": [
    "## Evaluation Metrics"
   ]
  },
  {
   "cell_type": "code",
   "execution_count": 36,
   "metadata": {},
   "outputs": [],
   "source": [
    "def cluster_plot(pos, title='', without_labels=False, width=20, height=20, savepath=''):\n",
    "    plt.rc('font', size=15)\n",
    "    \n",
    "    xs, ys = pos[:, 0], pos[:, 1]\n",
    "    \n",
    "    labels = range(len(shorter_clips))\n",
    "\n",
    "    # Data frame with TSNE data, the cluster numbers and titles\n",
    "    cluster_df = pd.DataFrame(dict(x=xs, y=ys, clusters=clusters, labels=labels)) \n",
    "\n",
    "    fig, ax = plt.subplots(figsize=(width, height))\n",
    "    ax.margins(0.05)\n",
    "    ax.set_title(title)\n",
    "\n",
    "    groups = cluster_df.groupby('clusters')\n",
    "    for name, group in groups:\n",
    "        ax.plot(group.x, group.y, marker='o', linestyle='', ms=12, mec='none', label=name)\n",
    "        ax.set_aspect('auto')\n",
    "        ax.tick_params(axis= 'x', which='both', bottom='off', top='off', labelbottom='off')\n",
    "        ax.tick_params(axis= 'y', which='both', left='off', top='off', labelleft='off')\n",
    "\n",
    "    ax.legend(numpoints=1)\n",
    "    ax.legend(bbox_to_anchor=(1.1, 1.05))\n",
    "\n",
    "    #Add labels\n",
    "    if not without_labels:\n",
    "        texts = []\n",
    "        for i in range(len(cluster_df)):\n",
    "            texts.append(ax.text(cluster_df.loc[i, 'x'], cluster_df.loc[i, 'y'], cluster_df.loc[i,'labels'], size=10)) \n",
    "\n",
    "        #adjust_text(texts, arrowprops=dict(arrowstyle='->', color='red'))\n",
    "    \n",
    "    if savepath != '':\n",
    "        plt.savefig(savepath, dpi=200, bbox_inches=\"tight\")\n",
    "\n",
    "    plt.show()"
   ]
  },
  {
   "cell_type": "code",
   "execution_count": 23,
   "metadata": {},
   "outputs": [
    {
     "name": "stdout",
     "output_type": "stream",
     "text": [
      "Silhouette score: 0.36360549442057\n",
      "Davies Bouldin Score: 3.8756739568263923\n",
      "Adjusted Random Score 0.39271955523772173\n",
      "Mutual Information based scores 0.59431813100388\n",
      "Homogeneity 0.7411884825497739\n",
      "Comepleteness 0.6889706563627497\n",
      "V-measure 0.7141262834555964\n",
      "Fowlkes-Mallows score 0.532114712647311\n"
     ]
    },
    {
     "name": "stderr",
     "output_type": "stream",
     "text": [
      "/anaconda3/lib/python3.6/site-packages/sklearn/metrics/cluster/unsupervised.py:342: RuntimeWarning: divide by zero encountered in true_divide\n",
      "  score = (intra_dists[:, None] + intra_dists) / centroid_distances\n",
      "/anaconda3/lib/python3.6/site-packages/sklearn/metrics/cluster/supervised.py:732: FutureWarning: The behavior of AMI will change in version 0.22. To match the behavior of 'v_measure_score', AMI will use average_method='arithmetic' by default.\n",
      "  FutureWarning)\n"
     ]
    }
   ],
   "source": [
    "# Reference:\n",
    "# https://scikit-learn.org/stable/auto_examples/cluster/plot_kmeans_silhouette_analysis.html#sphx-glr-auto-examples-cluster-plot-kmeans-silhouette-analysis-py\n",
    "from sklearn import metrics\n",
    "from sklearn.metrics import silhouette_score, davies_bouldin_score\n",
    "\n",
    "n_clusters = 5\n",
    "hierarchial_clusters = AgglomerativeClustering(n_clusters=n_clusters, affinity='euclidean', linkage='ward').fit(mfcc_clips)\n",
    "\n",
    "# print(\"Sum of squared distances of samples to their closest cluster center:\", hierarchial_clusters.inertia_)\n",
    "\n",
    "print(\"Silhouette score:\", silhouette_score(X, hierarchial_clusters.labels_))\n",
    "print(\"Davies Bouldin Score:\", davies_bouldin_score(X, hierarchial_clusters.labels_))\n",
    "\n",
    "# https://scikit-learn.org/stable/modules/clustering.html#clustering-performance-evaluation\n",
    "# Bad (e.g. independent labelings) have non-positive scores:\n",
    "print(\"Adjusted Random Score\", metrics.adjusted_rand_score(true_labels, hierarchial_clusters.labels_))\n",
    "\n",
    "print(\"Mutual Information based scores\", metrics.adjusted_mutual_info_score(true_labels, hierarchial_clusters.labels_))\n",
    "\n",
    "print(\"Homogeneity\", metrics.homogeneity_score(true_labels, hierarchial_clusters.labels_))\n",
    "\n",
    "print(\"Comepleteness\", metrics.completeness_score(true_labels, hierarchial_clusters.labels_))\n",
    "\n",
    "print(\"V-measure\", metrics.v_measure_score(true_labels, hierarchial_clusters.labels_))\n",
    "\n",
    "print(\"Fowlkes-Mallows score\", metrics.fowlkes_mallows_score(true_labels, hierarchial_clusters.labels_))\n"
   ]
  },
  {
   "cell_type": "code",
   "execution_count": null,
   "metadata": {},
   "outputs": [],
   "source": [
    "print(hierarchial_clusters)"
   ]
  },
  {
   "cell_type": "code",
   "execution_count": 24,
   "metadata": {},
   "outputs": [
    {
     "ename": "TypeError",
     "evalue": "object of type 'AgglomerativeClustering' has no len()",
     "output_type": "error",
     "traceback": [
      "\u001b[0;31m---------------------------------------------------------------------------\u001b[0m",
      "\u001b[0;31mTypeError\u001b[0m                                 Traceback (most recent call last)",
      "\u001b[0;32m<ipython-input-24-bf18f70ff2d6>\u001b[0m in \u001b[0;36m<module>\u001b[0;34m\u001b[0m\n\u001b[0;32m----> 1\u001b[0;31m \u001b[0mprint\u001b[0m\u001b[0;34m(\u001b[0m\u001b[0mlen\u001b[0m\u001b[0;34m(\u001b[0m\u001b[0mhierarchial_clusters\u001b[0m\u001b[0;34m)\u001b[0m\u001b[0;34m)\u001b[0m\u001b[0;34m\u001b[0m\u001b[0;34m\u001b[0m\u001b[0m\n\u001b[0m\u001b[1;32m      2\u001b[0m \u001b[0mprint\u001b[0m\u001b[0;34m(\u001b[0m\u001b[0mlen\u001b[0m\u001b[0;34m(\u001b[0m\u001b[0mhierarchial_clusters\u001b[0m\u001b[0;34m.\u001b[0m\u001b[0mlabels_\u001b[0m\u001b[0;34m)\u001b[0m\u001b[0;34m)\u001b[0m\u001b[0;34m\u001b[0m\u001b[0;34m\u001b[0m\u001b[0m\n",
      "\u001b[0;31mTypeError\u001b[0m: object of type 'AgglomerativeClustering' has no len()"
     ]
    }
   ],
   "source": [
    "print(len(hierarchial_clusters))\n",
    "print(len(hierarchial_clusters.labels_))"
   ]
  },
  {
   "cell_type": "code",
   "execution_count": 16,
   "metadata": {
    "scrolled": false
   },
   "outputs": [
    {
     "name": "stdout",
     "output_type": "stream",
     "text": [
      "3\n",
      "Average number of birds over clusters: 1.6666666666666667\n"
     ]
    },
    {
     "data": {
      "image/png": "[encoded data removed]",
      "text/plain": [
       "<Figure size 432x288 with 1 Axes>"
      ]
     },
     "metadata": {
      "needs_background": "light"
     },
     "output_type": "display_data"
    }
   ],
   "source": [
    "# Number of Bird Species in Every Cluster\n",
    "print(len(num_bird_species))\n",
    "cluster_num = range(0,len(num_bird_species))\n",
    "\n",
    "x = cluster_num \n",
    "y = num_bird_species\n",
    "\n",
    "# Add title, axes\n",
    "plt.bar(x,y)\n",
    "plt.title('Number of Bird Species in Every Cluster')\n",
    "plt.xlabel('Cluster Number')\n",
    "plt.ylabel('Number of Bird Species')\n",
    "\n",
    "average_num_birds = sum(num_bird_species)/len(num_bird_species)\n",
    "print(\"Average number of birds over clusters:\", average_num_birds)"
   ]
  },
  {
   "cell_type": "code",
   "execution_count": 17,
   "metadata": {},
   "outputs": [
    {
     "ename": "ValueError",
     "evalue": "Cannot extract more clusters than samples: 16 clusters where given for a tree with 14 leaves.",
     "output_type": "error",
     "traceback": [
      "\u001b[0;31m---------------------------------------------------------------------------\u001b[0m",
      "\u001b[0;31mValueError\u001b[0m                                Traceback (most recent call last)",
      "\u001b[0;32m<ipython-input-17-be9370d286e1>\u001b[0m in \u001b[0;36m<module>\u001b[0;34m\u001b[0m\n\u001b[1;32m      6\u001b[0m \u001b[0;32mfor\u001b[0m \u001b[0mn\u001b[0m \u001b[0;32min\u001b[0m \u001b[0mrange\u001b[0m\u001b[0;34m(\u001b[0m\u001b[0;36m1\u001b[0m\u001b[0;34m,\u001b[0m\u001b[0;36m130\u001b[0m\u001b[0;34m,\u001b[0m\u001b[0;36m5\u001b[0m\u001b[0;34m)\u001b[0m\u001b[0;34m:\u001b[0m\u001b[0;34m\u001b[0m\u001b[0;34m\u001b[0m\u001b[0m\n\u001b[1;32m      7\u001b[0m     \u001b[0mlist_num_of_clusters\u001b[0m\u001b[0;34m.\u001b[0m\u001b[0mappend\u001b[0m\u001b[0;34m(\u001b[0m\u001b[0mn\u001b[0m\u001b[0;34m)\u001b[0m\u001b[0;34m\u001b[0m\u001b[0;34m\u001b[0m\u001b[0m\n\u001b[0;32m----> 8\u001b[0;31m     \u001b[0mclusters\u001b[0m \u001b[0;34m=\u001b[0m \u001b[0mAgglomerativeClustering\u001b[0m\u001b[0;34m(\u001b[0m\u001b[0mn_clusters\u001b[0m\u001b[0;34m=\u001b[0m\u001b[0mn\u001b[0m\u001b[0;34m,\u001b[0m \u001b[0maffinity\u001b[0m\u001b[0;34m=\u001b[0m\u001b[0;34m'euclidean'\u001b[0m\u001b[0;34m,\u001b[0m \u001b[0mlinkage\u001b[0m\u001b[0;34m=\u001b[0m\u001b[0;34m'ward'\u001b[0m\u001b[0;34m)\u001b[0m\u001b[0;34m.\u001b[0m\u001b[0mfit_predict\u001b[0m\u001b[0;34m(\u001b[0m\u001b[0mmfcc_clips\u001b[0m\u001b[0;34m)\u001b[0m\u001b[0;34m\u001b[0m\u001b[0;34m\u001b[0m\u001b[0m\n\u001b[0m\u001b[1;32m      9\u001b[0m     \u001b[0mnum_bird_species\u001b[0m \u001b[0;34m=\u001b[0m \u001b[0;34m[\u001b[0m\u001b[0;34m]\u001b[0m\u001b[0;34m\u001b[0m\u001b[0;34m\u001b[0m\u001b[0m\n\u001b[1;32m     10\u001b[0m \u001b[0;34m\u001b[0m\u001b[0m\n",
      "\u001b[0;32m/anaconda3/lib/python3.6/site-packages/sklearn/base.py\u001b[0m in \u001b[0;36mfit_predict\u001b[0;34m(self, X, y)\u001b[0m\n\u001b[1;32m    353\u001b[0m         \u001b[0;31m# non-optimized default implementation; override when a better\u001b[0m\u001b[0;34m\u001b[0m\u001b[0;34m\u001b[0m\u001b[0;34m\u001b[0m\u001b[0m\n\u001b[1;32m    354\u001b[0m         \u001b[0;31m# method is possible for a given clustering algorithm\u001b[0m\u001b[0;34m\u001b[0m\u001b[0;34m\u001b[0m\u001b[0;34m\u001b[0m\u001b[0m\n\u001b[0;32m--> 355\u001b[0;31m         \u001b[0mself\u001b[0m\u001b[0;34m.\u001b[0m\u001b[0mfit\u001b[0m\u001b[0;34m(\u001b[0m\u001b[0mX\u001b[0m\u001b[0;34m)\u001b[0m\u001b[0;34m\u001b[0m\u001b[0;34m\u001b[0m\u001b[0m\n\u001b[0m\u001b[1;32m    356\u001b[0m         \u001b[0;32mreturn\u001b[0m \u001b[0mself\u001b[0m\u001b[0;34m.\u001b[0m\u001b[0mlabels_\u001b[0m\u001b[0;34m\u001b[0m\u001b[0;34m\u001b[0m\u001b[0m\n\u001b[1;32m    357\u001b[0m \u001b[0;34m\u001b[0m\u001b[0m\n",
      "\u001b[0;32m/anaconda3/lib/python3.6/site-packages/sklearn/cluster/hierarchical.py\u001b[0m in \u001b[0;36mfit\u001b[0;34m(self, X, y)\u001b[0m\n\u001b[1;32m    832\u001b[0m         \u001b[0;32mif\u001b[0m \u001b[0mcompute_full_tree\u001b[0m\u001b[0;34m:\u001b[0m\u001b[0;34m\u001b[0m\u001b[0;34m\u001b[0m\u001b[0m\n\u001b[1;32m    833\u001b[0m             self.labels_ = _hc_cut(self.n_clusters, self.children_,\n\u001b[0;32m--> 834\u001b[0;31m                                    self.n_leaves_)\n\u001b[0m\u001b[1;32m    835\u001b[0m         \u001b[0;32melse\u001b[0m\u001b[0;34m:\u001b[0m\u001b[0;34m\u001b[0m\u001b[0;34m\u001b[0m\u001b[0m\n\u001b[1;32m    836\u001b[0m             \u001b[0mlabels\u001b[0m \u001b[0;34m=\u001b[0m \u001b[0m_hierarchical\u001b[0m\u001b[0;34m.\u001b[0m\u001b[0mhc_get_heads\u001b[0m\u001b[0;34m(\u001b[0m\u001b[0mparents\u001b[0m\u001b[0;34m,\u001b[0m \u001b[0mcopy\u001b[0m\u001b[0;34m=\u001b[0m\u001b[0;32mFalse\u001b[0m\u001b[0;34m)\u001b[0m\u001b[0;34m\u001b[0m\u001b[0;34m\u001b[0m\u001b[0m\n",
      "\u001b[0;32m/anaconda3/lib/python3.6/site-packages/sklearn/cluster/hierarchical.py\u001b[0m in \u001b[0;36m_hc_cut\u001b[0;34m(n_clusters, children, n_leaves)\u001b[0m\n\u001b[1;32m    633\u001b[0m         raise ValueError('Cannot extract more clusters than samples: '\n\u001b[1;32m    634\u001b[0m                          \u001b[0;34m'%s clusters where given for a tree with %s leaves.'\u001b[0m\u001b[0;34m\u001b[0m\u001b[0;34m\u001b[0m\u001b[0m\n\u001b[0;32m--> 635\u001b[0;31m                          % (n_clusters, n_leaves))\n\u001b[0m\u001b[1;32m    636\u001b[0m     \u001b[0;31m# In this function, we store nodes as a heap to avoid recomputing\u001b[0m\u001b[0;34m\u001b[0m\u001b[0;34m\u001b[0m\u001b[0;34m\u001b[0m\u001b[0m\n\u001b[1;32m    637\u001b[0m     \u001b[0;31m# the max of the nodes: the first element is always the smallest\u001b[0m\u001b[0;34m\u001b[0m\u001b[0;34m\u001b[0m\u001b[0;34m\u001b[0m\u001b[0m\n",
      "\u001b[0;31mValueError\u001b[0m: Cannot extract more clusters than samples: 16 clusters where given for a tree with 14 leaves."
     ]
    }
   ],
   "source": [
    "### Plot average number of birds over clusters for clusters ranging from 1 to 134\n",
    "\n",
    "list_num_of_clusters = []\n",
    "list_of_average_num_birds = []\n",
    "\n",
    "for n in range(1,130,5):\n",
    "    list_num_of_clusters.append(n)\n",
    "    clusters = AgglomerativeClustering(n_clusters=n, affinity='euclidean', linkage='ward').fit_predict(mfcc_clips)\n",
    "    num_bird_species = []\n",
    "\n",
    "    for i in range(len(np.unique(clusters))): \n",
    "        cluster_set = set()\n",
    "        for j in get_clip_indexes(i, clusters):\n",
    "            \n",
    "            bird_species = os.path.splitext(file_names[j])[0].split(\"-\",1)[1].strip()\n",
    "    #         print(bird_species)\n",
    "    #         print(type(bird_species))\n",
    "            cluster_set.add(bird_species)\n",
    "        num_bird_species.append(len(cluster_set))\n",
    "            \n",
    "    average_num_bird_species = sum(num_bird_species)/len(num_bird_species)\n",
    "    list_of_average_num_birds.append(average_num_bird_species)\n",
    "    \n",
    "#     print(list_num_of_clusters)\n",
    "#     print(list_of_average_num_birds)\n",
    "    \n",
    "    "
   ]
  },
  {
   "cell_type": "code",
   "execution_count": 148,
   "metadata": {
    "scrolled": false
   },
   "outputs": [
    {
     "ename": "IndexError",
     "evalue": "too many indices for array",
     "output_type": "error",
     "traceback": [
      "\u001b[0;31m---------------------------------------------------------------------------\u001b[0m",
      "\u001b[0;31mIndexError\u001b[0m                                Traceback (most recent call last)",
      "\u001b[0;32m<ipython-input-148-a30b6588eb7a>\u001b[0m in \u001b[0;36m<module>\u001b[0;34m\u001b[0m\n\u001b[1;32m      1\u001b[0m \u001b[0;31m# Plot spectrogram of all clips in a cluster appended together\u001b[0m\u001b[0;34m\u001b[0m\u001b[0;34m\u001b[0m\u001b[0;34m\u001b[0m\u001b[0m\n\u001b[0;32m----> 2\u001b[0;31m \u001b[0mplot_spectrogram_of_cluster\u001b[0m\u001b[0;34m(\u001b[0m\u001b[0msamplerate\u001b[0m\u001b[0;34m,\u001b[0m \u001b[0mshorter_clips\u001b[0m\u001b[0;34m,\u001b[0m \u001b[0;36m7\u001b[0m\u001b[0;34m,\u001b[0m \u001b[0mclusters\u001b[0m\u001b[0;34m,\u001b[0m \u001b[0mseparate_channels\u001b[0m\u001b[0;34m=\u001b[0m\u001b[0;32mFalse\u001b[0m\u001b[0;34m)\u001b[0m\u001b[0;34m\u001b[0m\u001b[0;34m\u001b[0m\u001b[0m\n\u001b[0m",
      "\u001b[0;32m<ipython-input-130-fbe8c1b913da>\u001b[0m in \u001b[0;36mplot_spectrogram_of_cluster\u001b[0;34m(samplerate, shorter_clips, cluster_i, clusters, separate_channels)\u001b[0m\n\u001b[1;32m     25\u001b[0m     \u001b[0mclip_indexes\u001b[0m \u001b[0;34m=\u001b[0m \u001b[0mget_clip_indexes\u001b[0m\u001b[0;34m(\u001b[0m\u001b[0mcluster_i\u001b[0m\u001b[0;34m,\u001b[0m \u001b[0mclusters\u001b[0m\u001b[0;34m)\u001b[0m\u001b[0;34m\u001b[0m\u001b[0;34m\u001b[0m\u001b[0m\n\u001b[1;32m     26\u001b[0m \u001b[0;34m\u001b[0m\u001b[0m\n\u001b[0;32m---> 27\u001b[0;31m     \u001b[0mleft_channel\u001b[0m \u001b[0;34m=\u001b[0m \u001b[0mshorter_clips\u001b[0m\u001b[0;34m[\u001b[0m\u001b[0mclip_indexes\u001b[0m\u001b[0;34m[\u001b[0m\u001b[0;36m0\u001b[0m\u001b[0;34m]\u001b[0m\u001b[0;34m]\u001b[0m\u001b[0;34m[\u001b[0m\u001b[0;34m:\u001b[0m\u001b[0;34m,\u001b[0m \u001b[0;36m0\u001b[0m\u001b[0;34m]\u001b[0m\u001b[0;34m\u001b[0m\u001b[0;34m\u001b[0m\u001b[0m\n\u001b[0m\u001b[1;32m     28\u001b[0m     \u001b[0mright_channel\u001b[0m \u001b[0;34m=\u001b[0m \u001b[0mshorter_clips\u001b[0m\u001b[0;34m[\u001b[0m\u001b[0mclip_indexes\u001b[0m\u001b[0;34m[\u001b[0m\u001b[0;36m0\u001b[0m\u001b[0;34m]\u001b[0m\u001b[0;34m]\u001b[0m\u001b[0;34m[\u001b[0m\u001b[0;34m:\u001b[0m\u001b[0;34m,\u001b[0m \u001b[0;36m1\u001b[0m\u001b[0;34m]\u001b[0m\u001b[0;34m\u001b[0m\u001b[0;34m\u001b[0m\u001b[0m\n\u001b[1;32m     29\u001b[0m \u001b[0;34m\u001b[0m\u001b[0m\n",
      "\u001b[0;31mIndexError\u001b[0m: too many indices for array"
     ]
    }
   ],
   "source": [
    "# Plot spectrogram of all clips in a cluster appended together\n",
    "plot_spectrogram_of_cluster(samplerate, shorter_clips, 7, clusters, separate_channels=False)"
   ]
  },
  {
   "cell_type": "markdown",
   "metadata": {},
   "source": [
    "# Visualization"
   ]
  },
  {
   "cell_type": "code",
   "execution_count": null,
   "metadata": {},
   "outputs": [],
   "source": [
    "num_clips = len(shorter_clips)\n",
    "num_minutes = num_clips / 6\n",
    "num_hours = num_minutes / 60\n",
    "\n",
    "def clip_i_to_bin_i(clip_i):\n",
    "    return int(clip_i / (num_clips/num_minutes))\n",
    "\n",
    "def time_hist_for_cluster(cluster_i, clusters):\n",
    "    hist_data = []\n",
    "    for index in get_clip_indexes(cluster_i, clusters):\n",
    "        index = clip_i_to_bin_i(index)\n",
    "        hist_data.append(index)\n",
    "\n",
    "    plt.ylim(0, (num_clips/num_minutes))\n",
    "    plt.title('Cluster: %d (%s)' % (cluster_i, cluster_names[cluster_i]))\n",
    "    plt.hist(hist_data, bins=int(num_minutes), range=[0, num_minutes])\n",
    "    plt.show()\n",
    "    \n",
    "def colors(n):\n",
    "    ret = []\n",
    "    r = int(random.random() * 256)\n",
    "    g = int(random.random() * 256)\n",
    "    b = int(random.random() * 256)\n",
    "    step = 256 / n\n",
    "    for i in range(n):\n",
    "        r += step\n",
    "        g += step\n",
    "        b += step\n",
    "        r = int(r) % 256\n",
    "        g = int(g) % 256\n",
    "        b = int(b) % 256\n",
    "        ret.append((r,g,b)) \n",
    "    return ret\n",
    "\n",
    "def get_clusters_by_cluster_names(clusters, cluster_names):\n",
    "    uniq_names = np.unique(cluster_names)\n",
    "    print(uniq_names)\n",
    "    new_clusters = [-1] * len(clusters)\n",
    "    for uniq_name_i, uniq_name in enumerate(uniq_names):\n",
    "        for name_i, name in enumerate(cluster_names):\n",
    "            if name == uniq_name:\n",
    "                # Assign name_i to each index in the cluster that has the same index\n",
    "                for index in range(len(clusters)):\n",
    "                    if clusters[index] == name_i:\n",
    "                        new_clusters[index] = uniq_name_i\n",
    "    return new_clusters"
   ]
  },
  {
   "cell_type": "code",
   "execution_count": null,
   "metadata": {},
   "outputs": [],
   "source": [
    "named_clusters = get_clusters_by_cluster_names(clusters, cluster_names)\n",
    "Counter(named_clusters).most_common() \n",
    "cluster_names_to_plot = np.unique(cluster_names)\n",
    "\n",
    "# Colors for visualization\n",
    "jet = pl.get_cmap('jet', len(cluster_names_to_plot))\n",
    "cluster_colors = {}\n",
    "for i, name in enumerate(cluster_names_to_plot):\n",
    "    cluster_colors[name] = jet(i)"
   ]
  },
  {
   "cell_type": "markdown",
   "metadata": {},
   "source": [
    "Note: These are not real labels for the clusters, this is just a demonstration of the code. The histogram visualization will be replaced with better visualizations for cluster/time data such as Rose Plots."
   ]
  },
  {
   "cell_type": "code",
   "execution_count": null,
   "metadata": {},
   "outputs": [],
   "source": [
    "def plot_all_histograms(clusters, cluster_names):\n",
    "    plt.figure(figsize=(15,8))\n",
    "\n",
    "    for cluster_i in range(len(cluster_names)):\n",
    "        hist_data = []\n",
    "        for index in get_clip_indexes(cluster_i, clusters):\n",
    "            index = clip_i_to_bin_i(index)\n",
    "            hist_data.append(index)\n",
    "\n",
    "        cluster_name = cluster_names[cluster_i]\n",
    "        c = cluster_colors[cluster_name]\n",
    "        plt.hist(hist_data, bins=int(num_minutes), range=[0, num_minutes], alpha=0.5, color=c, label=cluster_name)\n",
    "\n",
    "        plt.ylabel('Number of 10-second audio clips')\n",
    "        plt.xlabel('Time in Minutes')\n",
    "        plt.legend(bbox_to_anchor=(1.2, 1.05))\n",
    "        plt.show()\n",
    "    \n",
    "clusters_to_plot = named_clusters\n",
    "cluster_names_to_plot = np.unique(cluster_names)\n",
    "plot_all_histograms(named_clusters, np.unique(cluster_names))"
   ]
  },
  {
   "cell_type": "markdown",
   "metadata": {},
   "source": [
    "### (Optional) testing convert_mp3_to_wav function with one file\n",
    "This is an extra step that I made to quickly check and troubleshoot the convert_mp3_to_wav function"
   ]
  },
  {
   "cell_type": "code",
   "execution_count": null,
   "metadata": {
    "scrolled": false
   },
   "outputs": [],
   "source": [
    "dir_path = '/Volumes/Elements/Madre_de_Dios_Xeno_Canto_Birdcalls/'\n",
    "file_path = dir_path + 'XC431125 - Rufous Twistwing - Cnipodectes superrufus.mp3'\n",
    "# file_path = dir_path + 'XC91323 - White-eyed Parakeet - Psittacara leucophthalmus.mp3'\n",
    "\n",
    "x, fs = convert_mp3_to_wav(file_path, overwrite=True)"
   ]
  },
  {
   "cell_type": "code",
   "execution_count": null,
   "metadata": {},
   "outputs": [],
   "source": [
    "# Graphs to sanity check output of load_audio with online mp3 to wav converter \n",
    "\n",
    "fig, (ax1, ax2) = plt.subplots(1, 2)\n",
    "ax1.plot(x)\n",
    "\n",
    "print(x.shape)\n",
    "\n",
    "# This file is from a random mp3 to wav convert I found here\n",
    "# https://online-audio-converter.com/ and then downloaded on Desktop\n",
    "check_dir_path = '/Users/yoo-jin/Desktop/XC431125 - Rufous Twistwing - Cnipodectes superrufus.wav'\n",
    "x_test, fs_test = sf.read(check_dir_path)\n",
    "\n",
    "x_test = np.mean(x_test, axis = 1) \n",
    "print(x_test.shape)\n",
    "\n",
    "ax2.plot(x_test)\n"
   ]
  },
  {
   "cell_type": "markdown",
   "metadata": {},
   "source": [
    "### Optional: For K-means clustsering \n",
    "The function, find_optimal_clusters is used to find the optimal number of clusters for K-means clustering. Take a look at this link for more information: https://hlab.stanford.edu/brian/number_of_clusters_.html."
   ]
  },
  {
   "cell_type": "code",
   "execution_count": null,
   "metadata": {
    "scrolled": true
   },
   "outputs": [],
   "source": [
    "## TODO: plot.ly\n",
    "\n",
    "def find_optimal_clusters(data, min_k, max_k): \n",
    "    iters= range(min_k, max_k+1, 2)\n",
    "    \n",
    "    sse = [] \n",
    "    for k in iters: \n",
    "        sse.append(MiniBatchKMeans(n_clusters=k, init_size=1024, batch_size=2048, random_state=20).fit(data).inertia_)\n",
    "    \n",
    "#     import pandas as pd\n",
    "#     sse_pct_diff = pd.Series(sse)\n",
    "#     sse_pct_diff.pct_change()\n",
    "#     print(sse_pct_diff)\n",
    "    \n",
    "    f, ax = plt.subplots(1,1)\n",
    "    ax.plot(iters, sse, marker = 'o')\n",
    "    ax.set_xlabel('Cluster Centers')\n",
    "#     ax.set_xticks(iters)\n",
    "#     f.autofmt_xdate()\n",
    "#     ax.set_xtickslabels(iters)\n",
    "    ax.set_ylabel('SSE')\n",
    "    ax.set_title('SSE by Number of Clusters')\n",
    "    \n",
    "#     ax[0].plot(iters, sse, marker = 'o')\n",
    "#     ax[0].set_xlabel('Cluster Centers')\n",
    "# #     ax.set_xticks(iters)\n",
    "# #     f.autofmt_xdate()\n",
    "# #     ax.set_xtickslabels(iters)\n",
    "#     ax[0].set_ylabel('SSE')\n",
    "#     ax[0].set_title('SSE by Number of Clusters')\n",
    "    \n",
    "#     ax[1].plot(iters, sse_pct_diff, marker = 'o')\n",
    "#     ax[1].set_xlabel('Cluster Centers')\n",
    "# #     ax.set_xticks(iters)\n",
    "# #     f.autofmt_xdate()\n",
    "# #     ax.set_xtickslabels(iters)\n",
    "#     ax[1].set_ylabel('Percentage Change of SSE')\n",
    "#     ax[1].set_title('Percentage Change of SSE by Number of Clusters')\n",
    "    \n",
    "    plt.tight_layout()\n",
    "\n",
    "        \n",
    "# Change the range here: \n",
    "find_optimal_clusters(X, 1, 150)"
   ]
  },
  {
   "cell_type": "code",
   "execution_count": null,
   "metadata": {
    "scrolled": true
   },
   "outputs": [],
   "source": [
    "# dir_path = '/Volumes/Elements/Madre_de_Dios_Xeno_Canto_Birdcalls/'\n",
    "dir_path = '/Volumes/Elements/Test/'\n",
    "samplerate = None\n",
    "wav_data = []\n",
    "bird_names_and_lengths = []\n",
    "num_files = 0\n",
    "\n",
    "for file in glob.glob(os.path.join(dir_path, '*.mp3')):\n",
    "#     print(file)\n",
    "#     convert_mp3_to_wav(file, overwrite=True)\n",
    "    num_files = num_files+1\n",
    "    try: \n",
    "        data, rate = convert_mp3_to_wav(file, overwrite=True)\n",
    "#         data = data.astype(int)\n",
    "        samplerate = rate\n",
    "        if wav_data == []:\n",
    "            wav_data = data\n",
    "        else:\n",
    "            wav_data = np.concatenate((wav_data, data))\n",
    "        clip_len = len(data) / samplerate\n",
    "        \n",
    "        # Input only bird species\n",
    "        bird_species = file.split(' - ')[2][:-4].replace(' ', '_')\n",
    "        bird_names_and_lengths.append([bird_species, clip_len])\n",
    "#         print(file)\n",
    "        \n",
    "        # TO DO: deal with warning, don't suppress\n",
    "        warnings.filterwarnings(\"ignore\", category=DeprecationWarning) \n",
    "        warnings.filterwarnings(\"ignore\", category=FutureWarning) \n",
    "    except Exception as e:\n",
    "        print('(failed) ' + file)\n",
    "        print('\\t' + str(e))\n",
    "        pass\n",
    "    \n",
    "print(bird_names_and_lengths)\n",
    "    \n",
    "# with warnings.catch_warnings():\n",
    "#     warnings.simplefilter(\"ignore\")\n",
    "#     fxn()"
   ]
  },
  {
   "cell_type": "markdown",
   "metadata": {},
   "source": [
    "### Optional: list all bird species included in the file"
   ]
  },
  {
   "cell_type": "code",
   "execution_count": null,
   "metadata": {},
   "outputs": [],
   "source": [
    "dir_path = '/Volumes/Elements/Test/'\n",
    "list_of_species = []\n",
    "\n",
    "for f in glob.glob(os.path.join(dir_path, '*.mp3')): \n",
    "    bird_name = os.path.splitext(f)[0].split(\" - \", 1)[1].strip()\n",
    "    if list_of_species == []: \n",
    "        list_of_species = [bird_name]\n",
    "    elif bird_name in list_of_species: \n",
    "        pass \n",
    "    else: \n",
    "        list_of_species.append(bird_name)\n",
    "\n",
    "print(list_of_species)\n",
    "# print(len(list_of_species))"
   ]
  },
  {
   "cell_type": "code",
   "execution_count": null,
   "metadata": {
    "scrolled": true
   },
   "outputs": [],
   "source": [
    "print(\"shape of wav_data\", len(wav_data))\n",
    "print(\"sample rate\", sr)\n",
    "print(\"type of wav_data\", type(wav_data))\n",
    "print('sample rate = %d' % samplerate)\n",
    "print(wav_data.shape)\n",
    "length = wav_data.shape[0] / samplerate\n",
    "print('length = %.1fs' % length)"
   ]
  },
  {
   "cell_type": "code",
   "execution_count": 83,
   "metadata": {
    "scrolled": true
   },
   "outputs": [
    {
     "name": "stdout",
     "output_type": "stream",
     "text": [
      "XC - White-lined Antbird - Myrmoborus lophotes\n",
      "\n",
      "XC - White-lined Antbird - Myrmoborus lophotes\n",
      "\n",
      "XC - White-lined Antbird - Myrmoborus lophotes\n",
      "\n",
      "XC - Great Jacamar - Jacamerops aureus\n",
      "\n",
      "XC - Great Jacamar - Jacamerops aureus\n",
      "\n",
      "XC - Cabanis's Spinetail - Synallaxis cabanisi\n",
      "\n",
      "XC - Cabanis's Spinetail - Synallaxis cabanisi\n",
      "\n",
      "XC - Cabanis's Spinetail - Synallaxis cabanisi\n",
      "\n",
      "XC - Cabanis's Spinetail - Synallaxis cabanisi\n",
      "\n",
      "XC - Cabanis's Spinetail - Synallaxis cabanisi\n",
      "\n",
      "XC - Cabanis's Spinetail - Synallaxis cabanisi\n",
      "\n",
      "XC - Blue-crowned Trogon - Trogon curucui\n",
      "\n",
      "XC - Blue-crowned Trogon - Trogon curucui\n",
      "\n",
      "XC - White-bellied Tody-Tyrant - Hemitriccus griseipectus\n",
      "\n",
      "[2, 1, 2]\n"
     ]
    }
   ],
   "source": [
    "# loop through all the cluster folders \n",
    "from os import listdir\n",
    "from os.path import isfile, join\n",
    "\n",
    "# dirname = '/Volumes/Elements/Madre_de_Dios_Xeno_Canto_Birdcalls/Clusters_XenoCanto/'\n",
    "dirname = '/Volumes/Elements/Test/Clusters/'\n",
    "directory_list = os.listdir(dirname)\n",
    "# print(directory_list)\n",
    "# make \"find . -name \".DS_Store\" -delete\" in the terminal \n",
    "\n",
    "final_bird_list = []\n",
    "num_bird_species = []\n",
    "\n",
    "for d in directory_list: \n",
    "    path = dirname + d\n",
    "    file_list = [f for f in os.listdir(path) if not f.startswith('.')]\n",
    "    \n",
    "    cluster_set = set()\n",
    "    for f in file_list: \n",
    "#         print(f)\n",
    "#         if not f.startswith('.'):\n",
    "        cluster_set = cluster_set | find_bird_species_from_file_name(f)\n",
    "#         print(f)\n",
    "    \n",
    "    num_bird_species.append(len(cluster_set))\n",
    "    final_bird_list.append(num_bird_species)\n",
    "        \n",
    "# print(final_bird_list)\n",
    "# print(cluster_set)\n",
    "print(num_bird_species)"
   ]
  }
 ],
 "metadata": {
  "kernelspec": {
   "display_name": "Python 3",
   "language": "python",
   "name": "python3"
  },
  "language_info": {
   "codemirror_mode": {
    "name": "ipython",
    "version": 3
   },
   "file_extension": ".py",
   "mimetype": "text/x-python",
   "name": "python",
   "nbconvert_exporter": "python",
   "pygments_lexer": "ipython3",
   "version": "3.6.8"
  }
 },
 "nbformat": 4,
 "nbformat_minor": 4
}
