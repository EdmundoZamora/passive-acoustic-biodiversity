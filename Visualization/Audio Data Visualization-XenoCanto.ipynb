{
 "cells": [
  {
   "cell_type": "code",
   "execution_count": 10,
   "metadata": {},
   "outputs": [],
   "source": [
    "from __future__ import division\n",
    "\n",
    "import glob\n",
    "import os\n",
    "import numpy as np\n",
    "import pandas as pd\n",
    "import pylab as pl\n",
    "import random\n",
    "import sounddevice as sd\n",
    "\n",
    "from scipy.io import wavfile\n",
    "import matplotlib.pyplot as plt\n",
    "import python_speech_features\n",
    "from python_speech_features import mfcc\n",
    "from sklearn.cluster import MiniBatchKMeans\n",
    "\n",
    "from sklearn.decomposition import PCA\n",
    "from sklearn.manifold import TSNE\n",
    "from sklearn.metrics.pairwise import cosine_similarity\n",
    "from adjustText import adjust_text\n",
    "from collections import Counter\n",
    "from scipy.io.wavfile import write\n",
    "from sklearn.cluster import AgglomerativeClustering\n",
    "\n",
    "from pyAudioAnalysis import audioBasicIO\n",
    "from pyAudioAnalysis import ShortTermFeatures\n",
    "\n",
    "# import librosa\n",
    "import pydub\n",
    "from pydub import AudioSegment\n",
    "import soundfile as sf\n",
    "import tempfile\n",
    "from pydub.utils import which\n",
    "from scipy.io.wavfile import write\n",
    "import scipy\n",
    "import warnings \n",
    "\n",
    "AudioSegment.converter = which(\"ffmpeg\")\n",
    "%matplotlib inline"
   ]
  },
  {
   "cell_type": "code",
   "execution_count": 11,
   "metadata": {},
   "outputs": [],
   "source": [
    "# Returns all clip indexes within a cluster\n",
    "def get_clip_indexes(cluster_label, clusters):\n",
    "    clips_i = []\n",
    "    for i in range(len(clusters)):\n",
    "        if clusters[i] == cluster_label:\n",
    "            clips_i.append(i)\n",
    "    return clips_i\n",
    "\n",
    "# Plays a random clip in a given cluster\n",
    "def play_random_clip_in_cluster(index, clusters, option='cluster'):\n",
    "    assert(option == 'cluster' or option == 'clip')\n",
    "    if option == 'clip':\n",
    "        index = find_cluster(index, clusters) # Get cluster index\n",
    "    \n",
    "    clips = get_clip_indexes(index, clusters)\n",
    "    clip_i = clips[random.randint(0, len(clips) - 1)]\n",
    "    print('Playing clip index %d ' % clip_i)\n",
    "    play_clip(clip_i)\n",
    "        \n",
    "# Returns the cluster label that a clip belongs to\n",
    "def find_cluster(clip_index, clusters):\n",
    "    return clusters[clip_index]\n",
    "\n",
    "# Plays an audio clip given the clip index\n",
    "def play_clip(clip_index):\n",
    "    samples = shorter_clips[clip_index]\n",
    "    sd.play(samples, samplerate)\n",
    "\n",
    "# Flattens a given list\n",
    "def list_flatten(l):\n",
    "    flat_list = []\n",
    "    for sublist in l:\n",
    "        for item in sublist:\n",
    "            flat_list.append(item)\n",
    "    return flat_list\n",
    "\n",
    "# Saves clip as a wav file\n",
    "def save_clip(filename, wav_array):\n",
    "#     assert('.' not in filename)\n",
    "    write(filename + '.wav', samplerate, wav_array)\n",
    "    \n",
    "# Saves all clips to a directory\n",
    "def save_clips_to_dir(shorter_clips, dirname):\n",
    "    for i, clip in enumerate(shorter_clips):\n",
    "        save_clip(dirname + '/%d' % i, clip) \n",
    "        \n",
    "# def make_bird_species_list(bird_species_list, bird_name, index): \n",
    "#     \"Define bird_species outside of function\"\n",
    "#     if bird_name not in bird_species_list[index]:\n",
    "#         bird_species[index].append(bird_name)\n",
    "# #     return bird_species_list\n",
    "            \n",
    "def convert_mp3_to_wav(mp3_path, sr=44100, mono=True, overwrite=False, dtype='float32'): \n",
    "    # Need to change sample rate to 44.1kHz if using audiomoths\n",
    "    # since mono=True by default, unless you pass mono=False, \n",
    "    # this function will save the wav as mono\n",
    "#     print(\"entering convert_mp3_to_wav\")\n",
    "    \"\"\"\n",
    "    Parts of code from \n",
    "    https://github.com/bill317996/Audio-to-midi/blob/master/cfp.py\n",
    "    \"\"\"\n",
    "    \n",
    "#     warnings.warn(\"deprecated\", DeprecationWarning)\n",
    "    \n",
    "    # in case there is an .MP3\n",
    "    assert mp3_path.lower().endswith('.mp3'), 'filename indicates not mp3'\n",
    "    wav_path_to_write = os.path.splitext(mp3_path)[0] + '.wav'\n",
    "    if not overwrite and os.path.exists(wav_path_to_write):\n",
    "        return\n",
    "    \n",
    "    mp3 = AudioSegment.from_file(mp3_path)\n",
    "    \n",
    "    _, temp_path = tempfile.mkstemp() \n",
    "    mp3.export(temp_path, format='wav')\n",
    "    del mp3\n",
    "    x, fs = sf.read(temp_path)\n",
    "    os.remove(temp_path)\n",
    "    \n",
    "    if mono and len(x.shape)>1: \n",
    "        x = np.mean(x, axis = 1) \n",
    "    if sr:\n",
    "        x = scipy.signal.resample_poly(x, sr, fs)\n",
    "        fs = sr \n",
    "    x = x.astype(dtype)\n",
    "    write(wav_path_to_write, fs, x)\n",
    "    return x, fs\n",
    "\n",
    "def convert_WAV_to_wav(WAV_path, sr=44100, mono=True, overwrite=False, dtype='float32'): \n",
    "    # Need to change sample rate to 44.1kHz if using audiomoths\n",
    "    # since mono=True by default, unless you pass mono=False, \n",
    "    # this function will save the wav as mono\n",
    "#     print(\"entering convert_mp3_to_wav\")\n",
    "    \"\"\"\n",
    "    Parts of code from \n",
    "    https://github.com/bill317996/Audio-to-midi/blob/master/cfp.py\n",
    "    \"\"\"\n",
    "    \n",
    "#     warnings.warn(\"deprecated\", DeprecationWarning)\n",
    "    \n",
    "    assert WAV_path.lower().endswith('.WAV'), 'filename indicates not WAV'\n",
    "    WAV_path_to_write = os.path.splitext(mp3_path)[0] + '.wav'\n",
    "    if not overwrite and os.path.exists(WAV_path_to_write):\n",
    "        return\n",
    "    \n",
    "    WAV = AudioSegment.from_file(WAV_path)\n",
    "    \n",
    "    _, temp_path = tempfile.mkstemp() \n",
    "    WAV.export(WAV_path, format='wav')\n",
    "    del WAV\n",
    "    x, fs = sf.read(temp_path)\n",
    "    os.remove(temp_path)\n",
    "    \n",
    "    if mono and len(x.shape)>1: \n",
    "        x = np.mean(x, axis = 1) \n",
    "    if sr:\n",
    "        x = scipy.signal.resample_poly(x, sr, fs)\n",
    "        fs = sr \n",
    "    x = x.astype(dtype)\n",
    "    write(wav_path_to_write, fs, x)\n",
    "    return x, fs\n",
    "\n",
    "\n",
    "def read(f, normalized=False):\n",
    "    \"\"\"MP3 to numpy array\"\"\"\n",
    "    a = pydub.AudioSegment.from_file(f)\n",
    "    y = np.array(a.get_array_of_samples())\n",
    "    if a.channels == 2:\n",
    "        y = y.reshape((-1, 2))\n",
    "    if normalized:\n",
    "        return a.frame_rate, np.float32(y) / 2**15\n",
    "    else:\n",
    "        return a.frame_rate, y"
   ]
  },
  {
   "cell_type": "markdown",
   "metadata": {},
   "source": [
    "## Load Audio Data"
   ]
  },
  {
   "cell_type": "code",
   "execution_count": 41,
   "metadata": {},
   "outputs": [],
   "source": [
    "def find_n_second_multiples_and_filenames(dir_path, n): \n",
    "    \"\"\" \n",
    "    dir_path (path): path of a directory with desired files\n",
    "    n (int): split data into n-second clips\n",
    "    \n",
    "    \"\"\"\n",
    "    wav_data = []\n",
    "    allfilenames = []\n",
    "    # entire filename \n",
    "    timestamp = []\n",
    "\n",
    "    for filename in os.listdir(dir_path):\n",
    "        # glob.glob(os.path.join(dir_path, '*.mp3'))\n",
    "        allfilenames.append(filename)\n",
    "        filepath = os.path.join(dir_path, filename)\n",
    "#         file_name = os.path.splitext(os.path.basename(filepath))\n",
    "        print(filepath)\n",
    "        \n",
    "        if filepath == \".DS_Store\": \n",
    "            pass \n",
    "        elif filename.endswith(\".mp3\") or filename.endswith(\".MP3\"): \n",
    "            data, sr = convert_mp3_to_wav(filepath)\n",
    "        elif filename.endswith(\".wav\") or filename.endswith(\".WAV\"):\n",
    "            data, sr = sf.read(filepath)\n",
    "            fs = 44100\n",
    "            data = scipy.signal.resample_poly(data, sr, fs)\n",
    "            sr = fs\n",
    "                \n",
    "        num_samples_in_n_seconds =  n  * sr \n",
    "        length_data = len(data)\n",
    "        length_in_seconds = length_data / sr \n",
    "        \n",
    "        if length_data < num_samples_in_n_seconds: \n",
    "            pass\n",
    "        \n",
    "        elif length_data > num_samples_in_n_seconds: \n",
    "            data = data[:-(length_data % num_samples_in_n_seconds)]\n",
    "            num_of_n_clips = int(np.floor(length_data / num_samples_in_n_seconds))\n",
    "            \n",
    "            for i in range(num_of_n_clips): \n",
    "#                 allfilenames.append(list_file_name[0]+list_file_name[1])\n",
    "                data_n_seconds = data[i*num_samples_in_n_seconds:(i+1)*num_samples_in_n_seconds]\n",
    "                timestamp.append([i*n,(i+1)*n])\n",
    "                wav_data.append(data_n_seconds)\n",
    "\n",
    "        else: #length_data == num_samples_in_n_seconds: \n",
    "            allfilenames.append(list_file_name[0]+list_file_name[1])\n",
    "            wav_data.append(data)\n",
    "            \n",
    "    return wav_data, allfilenames, timestamp"
   ]
  },
  {
   "cell_type": "code",
   "execution_count": null,
   "metadata": {
    "scrolled": true
   },
   "outputs": [
    {
     "name": "stdout",
     "output_type": "stream",
     "text": [
      "/Volumes/Elements/Mixed_AM_Dataset2/20190610_022000.WAV\n",
      "/Volumes/Elements/Mixed_AM_Dataset2/20190610_033000.WAV\n",
      "/Volumes/Elements/Mixed_AM_Dataset2/20190610_043000.WAV\n",
      "/Volumes/Elements/Mixed_AM_Dataset2/20190611_031000.WAV\n",
      "/Volumes/Elements/Mixed_AM_Dataset2/20190611_035000.WAV\n",
      "/Volumes/Elements/Mixed_AM_Dataset2/20190611_041000.WAV\n",
      "/Volumes/Elements/Mixed_AM_Dataset2/20190611_044000.WAV\n",
      "/Volumes/Elements/Mixed_AM_Dataset2/20190611_050000.WAV\n",
      "/Volumes/Elements/Mixed_AM_Dataset2/20190611_054000.WAV\n",
      "/Volumes/Elements/Mixed_AM_Dataset2/20190611_055000.WAV\n",
      "/Volumes/Elements/Mixed_AM_Dataset2/20190611_063000.WAV\n",
      "/Volumes/Elements/Mixed_AM_Dataset2/20190611_064000.WAV\n",
      "/Volumes/Elements/Mixed_AM_Dataset2/20190611_072000.WAV\n",
      "/Volumes/Elements/Mixed_AM_Dataset2/20190611_074000.WAV\n",
      "/Volumes/Elements/Mixed_AM_Dataset2/20190611_080000.WAV\n"
     ]
    }
   ],
   "source": [
    "# dir_path = '/Volumes/Elements/Test/'\n",
    "# dir_path = '/Volumes/Elements/Madre_de_Dios_Xeno_Canto_Birdcalls/'\n",
    "dir_path = '/Volumes/Elements/Mixed_AM_Dataset2/'\n",
    "# dir_path = '/Volumes/Elements/Mixed_AM_Dataset2_shorter/'\n",
    "\n",
    "shorter_clips, file_names, timestamp = find_n_second_multiples_and_filenames(dir_path, 10)\n",
    "print(file_names)\n",
    "print(len(file_names))\n",
    "print(timestamp)\n",
    "print(len(timestamp))"
   ]
  },
  {
   "cell_type": "markdown",
   "metadata": {},
   "source": [
    "## Split Audio Data"
   ]
  },
  {
   "cell_type": "markdown",
   "metadata": {},
   "source": [
    "# Spectrograms"
   ]
  },
  {
   "cell_type": "code",
   "execution_count": 130,
   "metadata": {},
   "outputs": [],
   "source": [
    "def plot_spectrogram(samplerate, shorter_clips, clip_index, separate_channels=False):\n",
    "    left_channel = shorter_clips[clip_index][:, 0]\n",
    "    right_channel = shorter_clips[clip_index][:, 1]\n",
    "    \n",
    "    plt.rcParams[\"figure.figsize\"] = (100, 100)\n",
    "    plt.rcParams.update({'font.size': 50})\n",
    "    plt.xlabel('Time')\n",
    "    plt.ylabel('Frequency')\n",
    "    \n",
    "    plt.subplot(211)\n",
    "    if separate_channels:\n",
    "        plt.title('Clip #%d (Left Channel)' % clip_index)\n",
    "        plt.specgram(left_channel, Fs=samplerate)\n",
    "        plt.subplot(212)\n",
    "        plt.title('Clip #%d (Right Channel)' % clip_index)\n",
    "        plt.specgram(right_channel, Fs=samplerate)\n",
    "    else:\n",
    "        plt.title('Clip #%d' % clip_index)\n",
    "        both_channels = left_channel + right_channel\n",
    "        plt.specgram(both_channels, Fs=samplerate)\n",
    "\n",
    "    plt.show()\n",
    "    \n",
    "def plot_spectrogram_of_cluster(samplerate, shorter_clips, cluster_i, clusters, separate_channels=False):\n",
    "    clip_indexes = get_clip_indexes(cluster_i, clusters)\n",
    "    \n",
    "    left_channel = shorter_clips[clip_indexes[0]][:, 0]\n",
    "    right_channel = shorter_clips[clip_indexes[0]][:, 1]\n",
    "    \n",
    "    for i in range(1, len(clip_indexes)):\n",
    "        left_channel = np.append(left_channel, shorter_clips[clip_indexes[i]][:, 0])\n",
    "        right_channel = np.append(right_channel, shorter_clips[clip_indexes[i]][:, 1])\n",
    "    \n",
    "    plt.rcParams[\"figure.figsize\"] = (100, 100)\n",
    "    plt.rcParams.update({'font.size': 50})\n",
    "    plt.xlabel('Time')\n",
    "    plt.ylabel('Frequency')\n",
    "    \n",
    "    plt.subplot(211)\n",
    "    if separate_channels:\n",
    "        plt.title('Cluster #%d (Left Channel)' % cluster_i)\n",
    "        plt.specgram(left_channel, Fs=samplerate)\n",
    "        plt.subplot(212)\n",
    "        plt.title('Cluster #%d (Right Channel)' % cluster_i)\n",
    "        plt.specgram(right_channel, Fs=samplerate)\n",
    "    else:\n",
    "        plt.title('Cluster #%d' % cluster_i)\n",
    "        both_channels = left_channel + right_channel\n",
    "        plt.specgram(both_channels, Fs=samplerate)\n",
    "\n",
    "    plt.show()"
   ]
  },
  {
   "cell_type": "markdown",
   "metadata": {},
   "source": [
    "# Feature Extraction"
   ]
  },
  {
   "cell_type": "code",
   "execution_count": 23,
   "metadata": {
    "scrolled": true
   },
   "outputs": [
    {
     "name": "stdout",
     "output_type": "stream",
     "text": [
      "Extracting features for each of the 0 audio clips\n",
      "done\n"
     ]
    }
   ],
   "source": [
    "# TODO: Add a way to select and evaluate features\n",
    "samplerate = 44100\n",
    "def extract_features(shorter_clips, mfcc_only=False, mono=False):\n",
    "    feat_clips = []\n",
    "\n",
    "    print('Extracting features for each of the %d audio clips' % len(shorter_clips))\n",
    "    for clip in shorter_clips:\n",
    "        print(\"clip\", clip)\n",
    "        if mono == False:\n",
    "            clip = clip[:, 0] + clip[:, 1] # Merging left and right channels\n",
    "\n",
    "        mfcc_feat=None\n",
    "        if mfcc_only:\n",
    "            mfcc_feat = mfcc(clip, samplerate, winlen=0.023, nfft = 1024).flatten()\n",
    "\n",
    "        else:\n",
    "            mfcc_feat = ShortTermFeatures.feature_extraction(clip, samplerate, 0.050*samplerate, 0.025*samplerate)\n",
    "            print('')\n",
    "            print(mfcc_feat[1])\n",
    "\n",
    "        # Append the features\n",
    "        if mfcc_only:\n",
    "            feat_clips.append(mfcc_feat)\n",
    "        else:\n",
    "            feat_clips.append(list_flatten(mfcc_feat[0]))\n",
    "\n",
    "    print('done')\n",
    "    return feat_clips\n",
    "    \n",
    "# Set mfcc_only to True to shorten runtime\n",
    "mfcc_clips = extract_features(shorter_clips, mfcc_only=True, mono=True)\n",
    "# mfcc_clips = extract_features(shorter_clips, mfcc_only=True, mono=True)\n",
    "#all_feat_clips = extract_features(shorter_clips)\n"
   ]
  },
  {
   "cell_type": "markdown",
   "metadata": {},
   "source": [
    "# Clustering"
   ]
  },
  {
   "cell_type": "code",
   "execution_count": 39,
   "metadata": {},
   "outputs": [],
   "source": [
    "dist = 1 - cosine_similarity(mfcc_clips)\n",
    "mds = PCA(n_components=2, random_state=1)\n",
    "pos = mds.fit_transform(dist)  # shape (n_components, n_samples)\n",
    "\n",
    "X = pos"
   ]
  },
  {
   "cell_type": "code",
   "execution_count": 40,
   "metadata": {
    "scrolled": true
   },
   "outputs": [
    {
     "data": {
      "image/png": "[encoded data removed]",
      "text/plain": [
       "<Figure size 1152x1152 with 1 Axes>"
      ]
     },
     "metadata": {
      "needs_background": "light"
     },
     "output_type": "display_data"
    }
   ],
   "source": [
    "from scipy.cluster.hierarchy import dendrogram, linkage\n",
    "from matplotlib import pyplot as plt\n",
    "\n",
    "linked = linkage(X, 'single')\n",
    "\n",
    "labelList = range(len(X))\n",
    "\n",
    "plt.figure(figsize=(16, 16))\n",
    "dendro = dendrogram(linked,\n",
    "#             p=7,\n",
    "            orientation='top',\n",
    "            #labels=labelList,\n",
    "            truncate_mode='level',\n",
    "            distance_sort='descending',\n",
    "            show_leaf_counts=True)\n",
    "plt.show()"
   ]
  },
  {
   "cell_type": "code",
   "execution_count": 134,
   "metadata": {
    "scrolled": false
   },
   "outputs": [],
   "source": [
    "def cluster_plot(pos, title='', without_labels=False, width=20, height=20, savepath=''):\n",
    "    plt.rc('font', size=15)\n",
    "    \n",
    "    xs, ys = pos[:, 0], pos[:, 1]\n",
    "    \n",
    "    labels = range(len(shorter_clips))\n",
    "\n",
    "    # Data frame with TSNE data, the cluster numbers and titles\n",
    "    cluster_df = pd.DataFrame(dict(x=xs, y=ys, clusters=clusters, labels=labels)) \n",
    "\n",
    "    fig, ax = plt.subplots(figsize=(width, height))\n",
    "    ax.margins(0.05)\n",
    "    ax.set_title(title)\n",
    "\n",
    "    groups = cluster_df.groupby('clusters')\n",
    "    for name, group in groups:\n",
    "        ax.plot(group.x, group.y, marker='o', linestyle='', ms=12, mec='none', label=name)\n",
    "        ax.set_aspect('auto')\n",
    "        ax.tick_params(axis= 'x', which='both', bottom='off', top='off', labelbottom='off')\n",
    "        ax.tick_params(axis= 'y', which='both', left='off', top='off', labelleft='off')\n",
    "\n",
    "    ax.legend(numpoints=1)\n",
    "    ax.legend(bbox_to_anchor=(1.1, 1.05))\n",
    "\n",
    "    #Add labels\n",
    "    if not without_labels:\n",
    "        texts = []\n",
    "        for i in range(len(cluster_df)):\n",
    "            texts.append(ax.text(cluster_df.loc[i, 'x'], cluster_df.loc[i, 'y'], cluster_df.loc[i,'labels'], size=10)) \n",
    "\n",
    "        #adjust_text(texts, arrowprops=dict(arrowstyle='->', color='red'))\n",
    "    \n",
    "    if savepath != '':\n",
    "        plt.savefig(savepath, dpi=200, bbox_inches=\"tight\")\n",
    "\n",
    "    plt.show()"
   ]
  },
  {
   "cell_type": "markdown",
   "metadata": {},
   "source": [
    "#### Choose number of clusters\n",
    "Note the the number of clusters needs to be less than the length of mfcc_clips"
   ]
  },
  {
   "cell_type": "code",
   "execution_count": 41,
   "metadata": {
    "scrolled": true
   },
   "outputs": [
    {
     "name": "stdout",
     "output_type": "stream",
     "text": [
      "14\n"
     ]
    }
   ],
   "source": [
    "print(len(mfcc_clips))"
   ]
  },
  {
   "cell_type": "code",
   "execution_count": 42,
   "metadata": {
    "scrolled": false
   },
   "outputs": [],
   "source": [
    "# Chose 134 from the number of bird species in the XenoCanto data\n",
    "n_clusters = 3\n",
    "\n",
    "# Fit clustering model\n",
    "clusters = AgglomerativeClustering(n_clusters=n_clusters, affinity='euclidean', linkage='ward').fit_predict(mfcc_clips)"
   ]
  },
  {
   "cell_type": "code",
   "execution_count": null,
   "metadata": {
    "scrolled": false
   },
   "outputs": [],
   "source": [
    "# savepath = '/Volumes/Elements/dendrogram'\n",
    "plt.savefig(savepath, dpi=200, bbox_inches=\"tight\")"
   ]
  },
  {
   "cell_type": "code",
   "execution_count": null,
   "metadata": {
    "scrolled": true
   },
   "outputs": [],
   "source": [
    "# Project the data onto 2D graph - 10 clusters\n",
    "dist = 1 - cosine_similarity(mfcc_clips)\n",
    "mds = PCA(n_components=2, random_state=1)\n",
    "pos = mds.fit_transform(dist)  # shape (n_components, n_samples)\n",
    "\n",
    "cluster_plot(pos, 'PCA Cluster Plot', without_labels=True, savepath='/Volumes/Elements/Madre_de_Dios_Xeno_Canto_Birdcalls/Clusters_XenoCanto/pca.png')"
   ]
  },
  {
   "cell_type": "code",
   "execution_count": null,
   "metadata": {},
   "outputs": [],
   "source": [
    "# Project the data onto 2D graph - 10 clusters\n",
    "dist = 1 - cosine_similarity(mfcc_clips)\n",
    "mds = TSNE(n_components=2, random_state=1)\n",
    "pos = mds.fit_transform(dist)  # shape (n_components, n_samples)\n",
    "\n",
    "cluster_plot(pos, 'TSNE Cluster Plot', without_labels=True, savepath='/Volumes/Elements/Madre_de_Dios_Xeno_Canto_Birdcalls/Clusters_XenoCanto/tsne.png')"
   ]
  },
  {
   "cell_type": "markdown",
   "metadata": {},
   "source": [
    "# Cluster Interpretation"
   ]
  },
  {
   "cell_type": "code",
   "execution_count": 217,
   "metadata": {
    "scrolled": true
   },
   "outputs": [
    {
     "data": {
      "text/plain": [
       "[(1, 6), (0, 5), (2, 3)]"
      ]
     },
     "execution_count": 217,
     "metadata": {},
     "output_type": "execute_result"
    }
   ],
   "source": [
    "# Prints: (Cluster number, count of clips in cluster)\n",
    "Counter(clusters).most_common()"
   ]
  },
  {
   "cell_type": "code",
   "execution_count": 218,
   "metadata": {
    "scrolled": true
   },
   "outputs": [
    {
     "ename": "ValueError",
     "evalue": "empty range for randrange() (0,0, 0)",
     "output_type": "error",
     "traceback": [
      "\u001b[0;31m---------------------------------------------------------------------------\u001b[0m",
      "\u001b[0;31mValueError\u001b[0m                                Traceback (most recent call last)",
      "\u001b[0;32m<ipython-input-218-59aadce172bb>\u001b[0m in \u001b[0;36m<module>\u001b[0;34m\u001b[0m\n\u001b[0;32m----> 1\u001b[0;31m \u001b[0mplay_random_clip_in_cluster\u001b[0m\u001b[0;34m(\u001b[0m\u001b[0;36m6\u001b[0m\u001b[0;34m,\u001b[0m \u001b[0mclusters\u001b[0m\u001b[0;34m)\u001b[0m \u001b[0;31m# Play random clip in a cluster\u001b[0m\u001b[0;34m\u001b[0m\u001b[0;34m\u001b[0m\u001b[0m\n\u001b[0m",
      "\u001b[0;32m<ipython-input-126-d578d8e56e2c>\u001b[0m in \u001b[0;36mplay_random_clip_in_cluster\u001b[0;34m(index, clusters, option)\u001b[0m\n\u001b[1;32m     14\u001b[0m \u001b[0;34m\u001b[0m\u001b[0m\n\u001b[1;32m     15\u001b[0m     \u001b[0mclips\u001b[0m \u001b[0;34m=\u001b[0m \u001b[0mget_clip_indexes\u001b[0m\u001b[0;34m(\u001b[0m\u001b[0mindex\u001b[0m\u001b[0;34m,\u001b[0m \u001b[0mclusters\u001b[0m\u001b[0;34m)\u001b[0m\u001b[0;34m\u001b[0m\u001b[0;34m\u001b[0m\u001b[0m\n\u001b[0;32m---> 16\u001b[0;31m     \u001b[0mclip_i\u001b[0m \u001b[0;34m=\u001b[0m \u001b[0mclips\u001b[0m\u001b[0;34m[\u001b[0m\u001b[0mrandom\u001b[0m\u001b[0;34m.\u001b[0m\u001b[0mrandint\u001b[0m\u001b[0;34m(\u001b[0m\u001b[0;36m0\u001b[0m\u001b[0;34m,\u001b[0m \u001b[0mlen\u001b[0m\u001b[0;34m(\u001b[0m\u001b[0mclips\u001b[0m\u001b[0;34m)\u001b[0m \u001b[0;34m-\u001b[0m \u001b[0;36m1\u001b[0m\u001b[0;34m)\u001b[0m\u001b[0;34m]\u001b[0m\u001b[0;34m\u001b[0m\u001b[0;34m\u001b[0m\u001b[0m\n\u001b[0m\u001b[1;32m     17\u001b[0m     \u001b[0mprint\u001b[0m\u001b[0;34m(\u001b[0m\u001b[0;34m'Playing clip index %d '\u001b[0m \u001b[0;34m%\u001b[0m \u001b[0mclip_i\u001b[0m\u001b[0;34m)\u001b[0m\u001b[0;34m\u001b[0m\u001b[0;34m\u001b[0m\u001b[0m\n\u001b[1;32m     18\u001b[0m     \u001b[0mplay_clip\u001b[0m\u001b[0;34m(\u001b[0m\u001b[0mclip_i\u001b[0m\u001b[0;34m)\u001b[0m\u001b[0;34m\u001b[0m\u001b[0;34m\u001b[0m\u001b[0m\n",
      "\u001b[0;32m/anaconda3/lib/python3.6/random.py\u001b[0m in \u001b[0;36mrandint\u001b[0;34m(self, a, b)\u001b[0m\n\u001b[1;32m    219\u001b[0m         \"\"\"\n\u001b[1;32m    220\u001b[0m \u001b[0;34m\u001b[0m\u001b[0m\n\u001b[0;32m--> 221\u001b[0;31m         \u001b[0;32mreturn\u001b[0m \u001b[0mself\u001b[0m\u001b[0;34m.\u001b[0m\u001b[0mrandrange\u001b[0m\u001b[0;34m(\u001b[0m\u001b[0ma\u001b[0m\u001b[0;34m,\u001b[0m \u001b[0mb\u001b[0m\u001b[0;34m+\u001b[0m\u001b[0;36m1\u001b[0m\u001b[0;34m)\u001b[0m\u001b[0;34m\u001b[0m\u001b[0;34m\u001b[0m\u001b[0m\n\u001b[0m\u001b[1;32m    222\u001b[0m \u001b[0;34m\u001b[0m\u001b[0m\n\u001b[1;32m    223\u001b[0m     def _randbelow(self, n, int=int, maxsize=1<<BPF, type=type,\n",
      "\u001b[0;32m/anaconda3/lib/python3.6/random.py\u001b[0m in \u001b[0;36mrandrange\u001b[0;34m(self, start, stop, step, _int)\u001b[0m\n\u001b[1;32m    197\u001b[0m             \u001b[0;32mreturn\u001b[0m \u001b[0mistart\u001b[0m \u001b[0;34m+\u001b[0m \u001b[0mself\u001b[0m\u001b[0;34m.\u001b[0m\u001b[0m_randbelow\u001b[0m\u001b[0;34m(\u001b[0m\u001b[0mwidth\u001b[0m\u001b[0;34m)\u001b[0m\u001b[0;34m\u001b[0m\u001b[0;34m\u001b[0m\u001b[0m\n\u001b[1;32m    198\u001b[0m         \u001b[0;32mif\u001b[0m \u001b[0mstep\u001b[0m \u001b[0;34m==\u001b[0m \u001b[0;36m1\u001b[0m\u001b[0;34m:\u001b[0m\u001b[0;34m\u001b[0m\u001b[0;34m\u001b[0m\u001b[0m\n\u001b[0;32m--> 199\u001b[0;31m             \u001b[0;32mraise\u001b[0m \u001b[0mValueError\u001b[0m\u001b[0;34m(\u001b[0m\u001b[0;34m\"empty range for randrange() (%d,%d, %d)\"\u001b[0m \u001b[0;34m%\u001b[0m \u001b[0;34m(\u001b[0m\u001b[0mistart\u001b[0m\u001b[0;34m,\u001b[0m \u001b[0mistop\u001b[0m\u001b[0;34m,\u001b[0m \u001b[0mwidth\u001b[0m\u001b[0;34m)\u001b[0m\u001b[0;34m)\u001b[0m\u001b[0;34m\u001b[0m\u001b[0;34m\u001b[0m\u001b[0m\n\u001b[0m\u001b[1;32m    200\u001b[0m \u001b[0;34m\u001b[0m\u001b[0m\n\u001b[1;32m    201\u001b[0m         \u001b[0;31m# Non-unit step argument supplied.\u001b[0m\u001b[0;34m\u001b[0m\u001b[0;34m\u001b[0m\u001b[0;34m\u001b[0m\u001b[0m\n",
      "\u001b[0;31mValueError\u001b[0m: empty range for randrange() (0,0, 0)"
     ]
    }
   ],
   "source": [
    "play_random_clip_in_cluster(6, clusters) # Play random clip in a cluster"
   ]
  },
  {
   "cell_type": "code",
   "execution_count": 139,
   "metadata": {},
   "outputs": [],
   "source": [
    "sd.stop() # Stop playing"
   ]
  },
  {
   "cell_type": "code",
   "execution_count": 140,
   "metadata": {},
   "outputs": [],
   "source": [
    "# Can assign a label to each cluster here\n",
    "#cluster_names = ['quiet', 'loud', 'quiet', 'rain', 'birds', 'crickets', 'birds', 'quiet', 'quiet', 'loud']"
   ]
  },
  {
   "cell_type": "code",
   "execution_count": 219,
   "metadata": {},
   "outputs": [
    {
     "ename": "IndexError",
     "evalue": "list index out of range",
     "output_type": "error",
     "traceback": [
      "\u001b[0;31m---------------------------------------------------------------------------\u001b[0m",
      "\u001b[0;31mIndexError\u001b[0m                                Traceback (most recent call last)",
      "\u001b[0;32m<ipython-input-219-790d4781977d>\u001b[0m in \u001b[0;36m<module>\u001b[0;34m\u001b[0m\n\u001b[0;32m----> 1\u001b[0;31m \u001b[0mplay_clip\u001b[0m\u001b[0;34m(\u001b[0m\u001b[0;36m36\u001b[0m\u001b[0;34m)\u001b[0m\u001b[0;34m\u001b[0m\u001b[0;34m\u001b[0m\u001b[0m\n\u001b[0m",
      "\u001b[0;32m<ipython-input-126-d578d8e56e2c>\u001b[0m in \u001b[0;36mplay_clip\u001b[0;34m(clip_index)\u001b[0m\n\u001b[1;32m     24\u001b[0m \u001b[0;31m# Plays an audio clip given the clip index\u001b[0m\u001b[0;34m\u001b[0m\u001b[0;34m\u001b[0m\u001b[0;34m\u001b[0m\u001b[0m\n\u001b[1;32m     25\u001b[0m \u001b[0;32mdef\u001b[0m \u001b[0mplay_clip\u001b[0m\u001b[0;34m(\u001b[0m\u001b[0mclip_index\u001b[0m\u001b[0;34m)\u001b[0m\u001b[0;34m:\u001b[0m\u001b[0;34m\u001b[0m\u001b[0;34m\u001b[0m\u001b[0m\n\u001b[0;32m---> 26\u001b[0;31m     \u001b[0msamples\u001b[0m \u001b[0;34m=\u001b[0m \u001b[0mshorter_clips\u001b[0m\u001b[0;34m[\u001b[0m\u001b[0mclip_index\u001b[0m\u001b[0;34m]\u001b[0m\u001b[0;34m\u001b[0m\u001b[0;34m\u001b[0m\u001b[0m\n\u001b[0m\u001b[1;32m     27\u001b[0m     \u001b[0msd\u001b[0m\u001b[0;34m.\u001b[0m\u001b[0mplay\u001b[0m\u001b[0;34m(\u001b[0m\u001b[0msamples\u001b[0m\u001b[0;34m,\u001b[0m \u001b[0msamplerate\u001b[0m\u001b[0;34m)\u001b[0m\u001b[0;34m\u001b[0m\u001b[0;34m\u001b[0m\u001b[0m\n\u001b[1;32m     28\u001b[0m \u001b[0;34m\u001b[0m\u001b[0m\n",
      "\u001b[0;31mIndexError\u001b[0m: list index out of range"
     ]
    }
   ],
   "source": [
    "play_clip(36) "
   ]
  },
  {
   "cell_type": "markdown",
   "metadata": {},
   "source": [
    "## Save clusters of audio files"
   ]
  },
  {
   "cell_type": "code",
   "execution_count": 79,
   "metadata": {},
   "outputs": [],
   "source": [
    "dirname = '/Volumes/Elements/Test/Clusters/'\n",
    "# dirname = '/Volumes/Elements/Test/Clusters/'\n",
    "\n",
    "for i in range(len(np.unique(clusters))):\n",
    "    os.mkdir(dirname + 'cluster_%d' % i)\n",
    "    for j in get_clip_indexes(i, clusters):\n",
    "        save_clip(dirname + 'cluster_%d/%s' % (i, file_names[j]), shorter_clips[j])"
   ]
  },
  {
   "cell_type": "code",
   "execution_count": 220,
   "metadata": {
    "scrolled": false
   },
   "outputs": [
    {
     "name": "stdout",
     "output_type": "stream",
     "text": [
      "3\n",
      "[0 1 2]\n",
      "[0, 1, 2]\n",
      "14\n",
      "14\n"
     ]
    }
   ],
   "source": [
    "print(len(np.unique(clusters)))\n",
    "print(np.unique(clusters))\n",
    "print(get_clip_indexes(i, clusters))\n",
    "print(len(clusters))\n",
    "print(len(file_names))"
   ]
  },
  {
   "cell_type": "markdown",
   "metadata": {},
   "source": [
    "## Analyze clusters \n",
    "Find the total number of bird species in cluster and also the list of dictionary of each file name corresponding to each cluster number"
   ]
  },
  {
   "cell_type": "code",
   "execution_count": 49,
   "metadata": {
    "scrolled": true
   },
   "outputs": [
    {
     "name": "stdout",
     "output_type": "stream",
     "text": [
      "['XC22019 - Blue-crowned Trogon - Trogon curucui.mp3', 'XC22019 - Blue-crowned Trogon - Trogon curucui.mp3', 'XC22035 - White-bellied Tody-Tyrant - Hemitriccus griseipectus.mp3', 'XC496773 - White-lined Antbird - Myrmoborus lophotes.mp3', 'XC496773 - White-lined Antbird - Myrmoborus lophotes.mp3', 'XC496773 - White-lined Antbird - Myrmoborus lophotes.mp3', 'XC496790 - Great Jacamar - Jacamerops aureus.mp3', 'XC496790 - Great Jacamar - Jacamerops aureus.mp3', \"XC91669 - Cabanis's Spinetail - Synallaxis cabanisi.mp3\", \"XC91669 - Cabanis's Spinetail - Synallaxis cabanisi.mp3\", \"XC91669 - Cabanis's Spinetail - Synallaxis cabanisi.mp3\", \"XC91669 - Cabanis's Spinetail - Synallaxis cabanisi.mp3\", \"XC91669 - Cabanis's Spinetail - Synallaxis cabanisi.mp3\", \"XC91669 - Cabanis's Spinetail - Synallaxis cabanisi.mp3\"]\n",
      "{'White-lined Antbird - Myrmoborus lophotes', 'Great Jacamar - Jacamerops aureus'}\n",
      "{\"Cabanis's Spinetail - Synallaxis cabanisi\"}\n",
      "{'Blue-crowned Trogon - Trogon curucui', 'White-bellied Tody-Tyrant - Hemitriccus griseipectus'}\n",
      "['XC22019 - Blue-crowned Trogon - Trogon curucui.mp3', 'XC22019 - Blue-crowned Trogon - Trogon curucui.mp3', 'XC22035 - White-bellied Tody-Tyrant - Hemitriccus griseipectus.mp3', 'XC496773 - White-lined Antbird - Myrmoborus lophotes.mp3', 'XC496773 - White-lined Antbird - Myrmoborus lophotes.mp3', 'XC496773 - White-lined Antbird - Myrmoborus lophotes.mp3', 'XC496790 - Great Jacamar - Jacamerops aureus.mp3', 'XC496790 - Great Jacamar - Jacamerops aureus.mp3', \"XC91669 - Cabanis's Spinetail - Synallaxis cabanisi.mp3\", \"XC91669 - Cabanis's Spinetail - Synallaxis cabanisi.mp3\", \"XC91669 - Cabanis's Spinetail - Synallaxis cabanisi.mp3\", \"XC91669 - Cabanis's Spinetail - Synallaxis cabanisi.mp3\", \"XC91669 - Cabanis's Spinetail - Synallaxis cabanisi.mp3\", \"XC91669 - Cabanis's Spinetail - Synallaxis cabanisi.mp3\"]\n",
      "[0, 0, 0, 0, 0, 1, 1, 1, 1, 1, 1, 2, 2, 2]\n"
     ]
    }
   ],
   "source": [
    "print(file_names)\n",
    "\n",
    "num_bird_species = []\n",
    "cluster_list_ordered = []\n",
    "\n",
    "for i in range(len(np.unique(clusters))): \n",
    "    cluster_set = set()\n",
    "    for j in get_clip_indexes(i, clusters):\n",
    "        cluster_list_ordered.append(i)\n",
    "        bird_species = os.path.splitext(file_names[j])[0].split(\"-\",1)[1].strip()\n",
    "#         print(bird_species)\n",
    "#         print(type(bird_species))\n",
    "        cluster_set.add(bird_species)\n",
    "    num_bird_species.append(len(cluster_set))\n",
    "    print(cluster_set)\n",
    "\n",
    "print(file_names)\n",
    "print(cluster_list_ordered)\n",
    "# print(num_bird_species)        "
   ]
  },
  {
   "cell_type": "code",
   "execution_count": 240,
   "metadata": {
    "scrolled": true
   },
   "outputs": [
    {
     "name": "stdout",
     "output_type": "stream",
     "text": [
      "134\n",
      "Average number of birds over clusters: 2.1492537313432836\n"
     ]
    },
    {
     "data": {
      "image/png": "[encoded data removed]",
      "text/plain": [
       "<Figure size 432x288 with 1 Axes>"
      ]
     },
     "metadata": {
      "needs_background": "light"
     },
     "output_type": "display_data"
    }
   ],
   "source": [
    "# Number of Bird Species in Every Cluster\n",
    "print(len(num_bird_species))\n",
    "cluster_num = range(0,len(num_bird_species))\n",
    "\n",
    "x = cluster_num \n",
    "y = num_bird_species\n",
    "\n",
    "# Add title, axes\n",
    "plt.bar(x,y)\n",
    "plt.title('Number of Bird Species in Every Cluster')\n",
    "plt.xlabel('Cluster Number')\n",
    "plt.ylabel('Number of Bird Species')\n",
    "\n",
    "average_num_birds = sum(num_bird_species)/len(num_bird_species)\n",
    "print(\"Average number of birds over clusters:\", average_num_birds)"
   ]
  },
  {
   "cell_type": "code",
   "execution_count": 158,
   "metadata": {},
   "outputs": [
    {
     "name": "stdout",
     "output_type": "stream",
     "text": [
      "[1]\n",
      "[122.0]\n",
      "[1, 6]\n",
      "[122.0, 30.333333333333332]\n",
      "[1, 6, 11]\n",
      "[122.0, 30.333333333333332, 17.818181818181817]\n",
      "[1, 6, 11, 16]\n",
      "[122.0, 30.333333333333332, 17.818181818181817, 13.1875]\n",
      "[1, 6, 11, 16, 21]\n",
      "[122.0, 30.333333333333332, 17.818181818181817, 13.1875, 10.19047619047619]\n",
      "[1, 6, 11, 16, 21, 26]\n",
      "[122.0, 30.333333333333332, 17.818181818181817, 13.1875, 10.19047619047619, 8.307692307692308]\n",
      "[1, 6, 11, 16, 21, 26, 31]\n",
      "[122.0, 30.333333333333332, 17.818181818181817, 13.1875, 10.19047619047619, 8.307692307692308, 7.096774193548387]\n",
      "[1, 6, 11, 16, 21, 26, 31, 36]\n",
      "[122.0, 30.333333333333332, 17.818181818181817, 13.1875, 10.19047619047619, 8.307692307692308, 7.096774193548387, 6.277777777777778]\n",
      "[1, 6, 11, 16, 21, 26, 31, 36, 41]\n",
      "[122.0, 30.333333333333332, 17.818181818181817, 13.1875, 10.19047619047619, 8.307692307692308, 7.096774193548387, 6.277777777777778, 5.658536585365853]\n",
      "[1, 6, 11, 16, 21, 26, 31, 36, 41, 46]\n",
      "[122.0, 30.333333333333332, 17.818181818181817, 13.1875, 10.19047619047619, 8.307692307692308, 7.096774193548387, 6.277777777777778, 5.658536585365853, 5.108695652173913]\n",
      "[1, 6, 11, 16, 21, 26, 31, 36, 41, 46, 51]\n",
      "[122.0, 30.333333333333332, 17.818181818181817, 13.1875, 10.19047619047619, 8.307692307692308, 7.096774193548387, 6.277777777777778, 5.658536585365853, 5.108695652173913, 4.647058823529412]\n",
      "[1, 6, 11, 16, 21, 26, 31, 36, 41, 46, 51, 56]\n",
      "[122.0, 30.333333333333332, 17.818181818181817, 13.1875, 10.19047619047619, 8.307692307692308, 7.096774193548387, 6.277777777777778, 5.658536585365853, 5.108695652173913, 4.647058823529412, 4.267857142857143]\n",
      "[1, 6, 11, 16, 21, 26, 31, 36, 41, 46, 51, 56, 61]\n",
      "[122.0, 30.333333333333332, 17.818181818181817, 13.1875, 10.19047619047619, 8.307692307692308, 7.096774193548387, 6.277777777777778, 5.658536585365853, 5.108695652173913, 4.647058823529412, 4.267857142857143, 3.9508196721311477]\n",
      "[1, 6, 11, 16, 21, 26, 31, 36, 41, 46, 51, 56, 61, 66]\n",
      "[122.0, 30.333333333333332, 17.818181818181817, 13.1875, 10.19047619047619, 8.307692307692308, 7.096774193548387, 6.277777777777778, 5.658536585365853, 5.108695652173913, 4.647058823529412, 4.267857142857143, 3.9508196721311477, 3.727272727272727]\n",
      "[1, 6, 11, 16, 21, 26, 31, 36, 41, 46, 51, 56, 61, 66, 71]\n",
      "[122.0, 30.333333333333332, 17.818181818181817, 13.1875, 10.19047619047619, 8.307692307692308, 7.096774193548387, 6.277777777777778, 5.658536585365853, 5.108695652173913, 4.647058823529412, 4.267857142857143, 3.9508196721311477, 3.727272727272727, 3.507042253521127]\n",
      "[1, 6, 11, 16, 21, 26, 31, 36, 41, 46, 51, 56, 61, 66, 71, 76]\n",
      "[122.0, 30.333333333333332, 17.818181818181817, 13.1875, 10.19047619047619, 8.307692307692308, 7.096774193548387, 6.277777777777778, 5.658536585365853, 5.108695652173913, 4.647058823529412, 4.267857142857143, 3.9508196721311477, 3.727272727272727, 3.507042253521127, 3.3157894736842106]\n",
      "[1, 6, 11, 16, 21, 26, 31, 36, 41, 46, 51, 56, 61, 66, 71, 76, 81]\n",
      "[122.0, 30.333333333333332, 17.818181818181817, 13.1875, 10.19047619047619, 8.307692307692308, 7.096774193548387, 6.277777777777778, 5.658536585365853, 5.108695652173913, 4.647058823529412, 4.267857142857143, 3.9508196721311477, 3.727272727272727, 3.507042253521127, 3.3157894736842106, 3.1481481481481484]\n"
     ]
    },
    {
     "ename": "KeyboardInterrupt",
     "evalue": "",
     "output_type": "error",
     "traceback": [
      "\u001b[0;31m---------------------------------------------------------------------------\u001b[0m",
      "\u001b[0;31mKeyboardInterrupt\u001b[0m                         Traceback (most recent call last)",
      "\u001b[0;32m<ipython-input-158-3a8f3ea80ce7>\u001b[0m in \u001b[0;36m<module>\u001b[0;34m\u001b[0m\n\u001b[1;32m      6\u001b[0m \u001b[0;32mfor\u001b[0m \u001b[0mn\u001b[0m \u001b[0;32min\u001b[0m \u001b[0mrange\u001b[0m\u001b[0;34m(\u001b[0m\u001b[0;36m1\u001b[0m\u001b[0;34m,\u001b[0m\u001b[0;36m130\u001b[0m\u001b[0;34m,\u001b[0m\u001b[0;36m5\u001b[0m\u001b[0;34m)\u001b[0m\u001b[0;34m:\u001b[0m\u001b[0;34m\u001b[0m\u001b[0;34m\u001b[0m\u001b[0m\n\u001b[1;32m      7\u001b[0m     \u001b[0mlist_cluster_num\u001b[0m\u001b[0;34m.\u001b[0m\u001b[0mappend\u001b[0m\u001b[0;34m(\u001b[0m\u001b[0mn\u001b[0m\u001b[0;34m)\u001b[0m\u001b[0;34m\u001b[0m\u001b[0;34m\u001b[0m\u001b[0m\n\u001b[0;32m----> 8\u001b[0;31m     \u001b[0mclusters\u001b[0m \u001b[0;34m=\u001b[0m \u001b[0mAgglomerativeClustering\u001b[0m\u001b[0;34m(\u001b[0m\u001b[0mn_clusters\u001b[0m\u001b[0;34m=\u001b[0m\u001b[0mn\u001b[0m\u001b[0;34m,\u001b[0m \u001b[0maffinity\u001b[0m\u001b[0;34m=\u001b[0m\u001b[0;34m'euclidean'\u001b[0m\u001b[0;34m,\u001b[0m \u001b[0mlinkage\u001b[0m\u001b[0;34m=\u001b[0m\u001b[0;34m'ward'\u001b[0m\u001b[0;34m)\u001b[0m\u001b[0;34m.\u001b[0m\u001b[0mfit_predict\u001b[0m\u001b[0;34m(\u001b[0m\u001b[0mmfcc_clips\u001b[0m\u001b[0;34m)\u001b[0m\u001b[0;34m\u001b[0m\u001b[0;34m\u001b[0m\u001b[0m\n\u001b[0m\u001b[1;32m      9\u001b[0m     \u001b[0mnum_bird_species\u001b[0m \u001b[0;34m=\u001b[0m \u001b[0;34m[\u001b[0m\u001b[0;34m]\u001b[0m\u001b[0;34m\u001b[0m\u001b[0;34m\u001b[0m\u001b[0m\n\u001b[1;32m     10\u001b[0m \u001b[0;34m\u001b[0m\u001b[0m\n",
      "\u001b[0;32m/anaconda3/lib/python3.6/site-packages/sklearn/cluster/_agglomerative.py\u001b[0m in \u001b[0;36mfit_predict\u001b[0;34m(self, X, y)\u001b[0m\n\u001b[1;32m    923\u001b[0m             \u001b[0mCluster\u001b[0m \u001b[0mlabels\u001b[0m\u001b[0;34m.\u001b[0m\u001b[0;34m\u001b[0m\u001b[0;34m\u001b[0m\u001b[0m\n\u001b[1;32m    924\u001b[0m         \"\"\"\n\u001b[0;32m--> 925\u001b[0;31m         \u001b[0;32mreturn\u001b[0m \u001b[0msuper\u001b[0m\u001b[0;34m(\u001b[0m\u001b[0;34m)\u001b[0m\u001b[0;34m.\u001b[0m\u001b[0mfit_predict\u001b[0m\u001b[0;34m(\u001b[0m\u001b[0mX\u001b[0m\u001b[0;34m,\u001b[0m \u001b[0my\u001b[0m\u001b[0;34m)\u001b[0m\u001b[0;34m\u001b[0m\u001b[0;34m\u001b[0m\u001b[0m\n\u001b[0m\u001b[1;32m    926\u001b[0m \u001b[0;34m\u001b[0m\u001b[0m\n\u001b[1;32m    927\u001b[0m \u001b[0;34m\u001b[0m\u001b[0m\n",
      "\u001b[0;32m/anaconda3/lib/python3.6/site-packages/sklearn/base.py\u001b[0m in \u001b[0;36mfit_predict\u001b[0;34m(self, X, y)\u001b[0m\n\u001b[1;32m    579\u001b[0m         \u001b[0;31m# non-optimized default implementation; override when a better\u001b[0m\u001b[0;34m\u001b[0m\u001b[0;34m\u001b[0m\u001b[0;34m\u001b[0m\u001b[0m\n\u001b[1;32m    580\u001b[0m         \u001b[0;31m# method is possible for a given clustering algorithm\u001b[0m\u001b[0;34m\u001b[0m\u001b[0;34m\u001b[0m\u001b[0;34m\u001b[0m\u001b[0m\n\u001b[0;32m--> 581\u001b[0;31m         \u001b[0mself\u001b[0m\u001b[0;34m.\u001b[0m\u001b[0mfit\u001b[0m\u001b[0;34m(\u001b[0m\u001b[0mX\u001b[0m\u001b[0;34m)\u001b[0m\u001b[0;34m\u001b[0m\u001b[0;34m\u001b[0m\u001b[0m\n\u001b[0m\u001b[1;32m    582\u001b[0m         \u001b[0;32mreturn\u001b[0m \u001b[0mself\u001b[0m\u001b[0;34m.\u001b[0m\u001b[0mlabels_\u001b[0m\u001b[0;34m\u001b[0m\u001b[0;34m\u001b[0m\u001b[0m\n\u001b[1;32m    583\u001b[0m \u001b[0;34m\u001b[0m\u001b[0m\n",
      "\u001b[0;32m/anaconda3/lib/python3.6/site-packages/sklearn/cluster/_agglomerative.py\u001b[0m in \u001b[0;36mfit\u001b[0;34m(self, X, y)\u001b[0m\n\u001b[1;32m    880\u001b[0m                                          \u001b[0mn_clusters\u001b[0m\u001b[0;34m=\u001b[0m\u001b[0mn_clusters\u001b[0m\u001b[0;34m,\u001b[0m\u001b[0;34m\u001b[0m\u001b[0;34m\u001b[0m\u001b[0m\n\u001b[1;32m    881\u001b[0m                                          \u001b[0mreturn_distance\u001b[0m\u001b[0;34m=\u001b[0m\u001b[0mreturn_distance\u001b[0m\u001b[0;34m,\u001b[0m\u001b[0;34m\u001b[0m\u001b[0;34m\u001b[0m\u001b[0m\n\u001b[0;32m--> 882\u001b[0;31m                                          **kwargs)\n\u001b[0m\u001b[1;32m    883\u001b[0m         (self.children_,\n\u001b[1;32m    884\u001b[0m          \u001b[0mself\u001b[0m\u001b[0;34m.\u001b[0m\u001b[0mn_connected_components_\u001b[0m\u001b[0;34m,\u001b[0m\u001b[0;34m\u001b[0m\u001b[0;34m\u001b[0m\u001b[0m\n",
      "\u001b[0;32m/anaconda3/lib/python3.6/site-packages/joblib/memory.py\u001b[0m in \u001b[0;36m__call__\u001b[0;34m(self, *args, **kwargs)\u001b[0m\n\u001b[1;32m    350\u001b[0m \u001b[0;34m\u001b[0m\u001b[0m\n\u001b[1;32m    351\u001b[0m     \u001b[0;32mdef\u001b[0m \u001b[0m__call__\u001b[0m\u001b[0;34m(\u001b[0m\u001b[0mself\u001b[0m\u001b[0;34m,\u001b[0m \u001b[0;34m*\u001b[0m\u001b[0margs\u001b[0m\u001b[0;34m,\u001b[0m \u001b[0;34m**\u001b[0m\u001b[0mkwargs\u001b[0m\u001b[0;34m)\u001b[0m\u001b[0;34m:\u001b[0m\u001b[0;34m\u001b[0m\u001b[0;34m\u001b[0m\u001b[0m\n\u001b[0;32m--> 352\u001b[0;31m         \u001b[0;32mreturn\u001b[0m \u001b[0mself\u001b[0m\u001b[0;34m.\u001b[0m\u001b[0mfunc\u001b[0m\u001b[0;34m(\u001b[0m\u001b[0;34m*\u001b[0m\u001b[0margs\u001b[0m\u001b[0;34m,\u001b[0m \u001b[0;34m**\u001b[0m\u001b[0mkwargs\u001b[0m\u001b[0;34m)\u001b[0m\u001b[0;34m\u001b[0m\u001b[0;34m\u001b[0m\u001b[0m\n\u001b[0m\u001b[1;32m    353\u001b[0m \u001b[0;34m\u001b[0m\u001b[0m\n\u001b[1;32m    354\u001b[0m     \u001b[0;32mdef\u001b[0m \u001b[0mcall_and_shelve\u001b[0m\u001b[0;34m(\u001b[0m\u001b[0mself\u001b[0m\u001b[0;34m,\u001b[0m \u001b[0;34m*\u001b[0m\u001b[0margs\u001b[0m\u001b[0;34m,\u001b[0m \u001b[0;34m**\u001b[0m\u001b[0mkwargs\u001b[0m\u001b[0;34m)\u001b[0m\u001b[0;34m:\u001b[0m\u001b[0;34m\u001b[0m\u001b[0;34m\u001b[0m\u001b[0m\n",
      "\u001b[0;32m/anaconda3/lib/python3.6/site-packages/sklearn/utils/validation.py\u001b[0m in \u001b[0;36minner_f\u001b[0;34m(*args, **kwargs)\u001b[0m\n\u001b[1;32m     71\u001b[0m                           FutureWarning)\n\u001b[1;32m     72\u001b[0m         \u001b[0mkwargs\u001b[0m\u001b[0;34m.\u001b[0m\u001b[0mupdate\u001b[0m\u001b[0;34m(\u001b[0m\u001b[0;34m{\u001b[0m\u001b[0mk\u001b[0m\u001b[0;34m:\u001b[0m \u001b[0marg\u001b[0m \u001b[0;32mfor\u001b[0m \u001b[0mk\u001b[0m\u001b[0;34m,\u001b[0m \u001b[0marg\u001b[0m \u001b[0;32min\u001b[0m \u001b[0mzip\u001b[0m\u001b[0;34m(\u001b[0m\u001b[0msig\u001b[0m\u001b[0;34m.\u001b[0m\u001b[0mparameters\u001b[0m\u001b[0;34m,\u001b[0m \u001b[0margs\u001b[0m\u001b[0;34m)\u001b[0m\u001b[0;34m}\u001b[0m\u001b[0;34m)\u001b[0m\u001b[0;34m\u001b[0m\u001b[0;34m\u001b[0m\u001b[0m\n\u001b[0;32m---> 73\u001b[0;31m         \u001b[0;32mreturn\u001b[0m \u001b[0mf\u001b[0m\u001b[0;34m(\u001b[0m\u001b[0;34m**\u001b[0m\u001b[0mkwargs\u001b[0m\u001b[0;34m)\u001b[0m\u001b[0;34m\u001b[0m\u001b[0;34m\u001b[0m\u001b[0m\n\u001b[0m\u001b[1;32m     74\u001b[0m     \u001b[0;32mreturn\u001b[0m \u001b[0minner_f\u001b[0m\u001b[0;34m\u001b[0m\u001b[0;34m\u001b[0m\u001b[0m\n\u001b[1;32m     75\u001b[0m \u001b[0;34m\u001b[0m\u001b[0m\n",
      "\u001b[0;32m/anaconda3/lib/python3.6/site-packages/sklearn/cluster/_agglomerative.py\u001b[0m in \u001b[0;36mward_tree\u001b[0;34m(X, connectivity, n_clusters, return_distance)\u001b[0m\n\u001b[1;32m    234\u001b[0m                           stacklevel=2)\n\u001b[1;32m    235\u001b[0m         \u001b[0mX\u001b[0m \u001b[0;34m=\u001b[0m \u001b[0mnp\u001b[0m\u001b[0;34m.\u001b[0m\u001b[0mrequire\u001b[0m\u001b[0;34m(\u001b[0m\u001b[0mX\u001b[0m\u001b[0;34m,\u001b[0m \u001b[0mrequirements\u001b[0m\u001b[0;34m=\u001b[0m\u001b[0;34m\"W\"\u001b[0m\u001b[0;34m)\u001b[0m\u001b[0;34m\u001b[0m\u001b[0;34m\u001b[0m\u001b[0m\n\u001b[0;32m--> 236\u001b[0;31m         \u001b[0mout\u001b[0m \u001b[0;34m=\u001b[0m \u001b[0mhierarchy\u001b[0m\u001b[0;34m.\u001b[0m\u001b[0mward\u001b[0m\u001b[0;34m(\u001b[0m\u001b[0mX\u001b[0m\u001b[0;34m)\u001b[0m\u001b[0;34m\u001b[0m\u001b[0;34m\u001b[0m\u001b[0m\n\u001b[0m\u001b[1;32m    237\u001b[0m         \u001b[0mchildren_\u001b[0m \u001b[0;34m=\u001b[0m \u001b[0mout\u001b[0m\u001b[0;34m[\u001b[0m\u001b[0;34m:\u001b[0m\u001b[0;34m,\u001b[0m \u001b[0;34m:\u001b[0m\u001b[0;36m2\u001b[0m\u001b[0;34m]\u001b[0m\u001b[0;34m.\u001b[0m\u001b[0mastype\u001b[0m\u001b[0;34m(\u001b[0m\u001b[0mnp\u001b[0m\u001b[0;34m.\u001b[0m\u001b[0mintp\u001b[0m\u001b[0;34m)\u001b[0m\u001b[0;34m\u001b[0m\u001b[0;34m\u001b[0m\u001b[0m\n\u001b[1;32m    238\u001b[0m \u001b[0;34m\u001b[0m\u001b[0m\n",
      "\u001b[0;32m/anaconda3/lib/python3.6/site-packages/scipy/cluster/hierarchy.py\u001b[0m in \u001b[0;36mward\u001b[0;34m(y)\u001b[0m\n\u001b[1;32m    824\u001b[0m \u001b[0;34m\u001b[0m\u001b[0m\n\u001b[1;32m    825\u001b[0m     \"\"\"\n\u001b[0;32m--> 826\u001b[0;31m     \u001b[0;32mreturn\u001b[0m \u001b[0mlinkage\u001b[0m\u001b[0;34m(\u001b[0m\u001b[0my\u001b[0m\u001b[0;34m,\u001b[0m \u001b[0mmethod\u001b[0m\u001b[0;34m=\u001b[0m\u001b[0;34m'ward'\u001b[0m\u001b[0;34m,\u001b[0m \u001b[0mmetric\u001b[0m\u001b[0;34m=\u001b[0m\u001b[0;34m'euclidean'\u001b[0m\u001b[0;34m)\u001b[0m\u001b[0;34m\u001b[0m\u001b[0;34m\u001b[0m\u001b[0m\n\u001b[0m\u001b[1;32m    827\u001b[0m \u001b[0;34m\u001b[0m\u001b[0m\n\u001b[1;32m    828\u001b[0m \u001b[0;34m\u001b[0m\u001b[0m\n",
      "\u001b[0;32m/anaconda3/lib/python3.6/site-packages/scipy/cluster/hierarchy.py\u001b[0m in \u001b[0;36mlinkage\u001b[0;34m(y, method, metric, optimal_ordering)\u001b[0m\n\u001b[1;32m   1050\u001b[0m                          \u001b[0;34m'matrix looks suspiciously like an uncondensed '\u001b[0m\u001b[0;34m\u001b[0m\u001b[0;34m\u001b[0m\u001b[0m\n\u001b[1;32m   1051\u001b[0m                          'distance matrix')\n\u001b[0;32m-> 1052\u001b[0;31m         \u001b[0my\u001b[0m \u001b[0;34m=\u001b[0m \u001b[0mdistance\u001b[0m\u001b[0;34m.\u001b[0m\u001b[0mpdist\u001b[0m\u001b[0;34m(\u001b[0m\u001b[0my\u001b[0m\u001b[0;34m,\u001b[0m \u001b[0mmetric\u001b[0m\u001b[0;34m)\u001b[0m\u001b[0;34m\u001b[0m\u001b[0;34m\u001b[0m\u001b[0m\n\u001b[0m\u001b[1;32m   1053\u001b[0m     \u001b[0;32melse\u001b[0m\u001b[0;34m:\u001b[0m\u001b[0;34m\u001b[0m\u001b[0;34m\u001b[0m\u001b[0m\n\u001b[1;32m   1054\u001b[0m         \u001b[0;32mraise\u001b[0m \u001b[0mValueError\u001b[0m\u001b[0;34m(\u001b[0m\u001b[0;34m\"`y` must be 1 or 2 dimensional.\"\u001b[0m\u001b[0;34m)\u001b[0m\u001b[0;34m\u001b[0m\u001b[0;34m\u001b[0m\u001b[0m\n",
      "\u001b[0;32m/anaconda3/lib/python3.6/site-packages/scipy/spatial/distance.py\u001b[0m in \u001b[0;36mpdist\u001b[0;34m(X, metric, *args, **kwargs)\u001b[0m\n\u001b[1;32m   2054\u001b[0m             pdist_fn = getattr(_distance_wrap,\n\u001b[1;32m   2055\u001b[0m                                \"pdist_%s_%s_wrap\" % (metric_name, typ))\n\u001b[0;32m-> 2056\u001b[0;31m             \u001b[0mpdist_fn\u001b[0m\u001b[0;34m(\u001b[0m\u001b[0mX\u001b[0m\u001b[0;34m,\u001b[0m \u001b[0mdm\u001b[0m\u001b[0;34m,\u001b[0m \u001b[0;34m**\u001b[0m\u001b[0mkwargs\u001b[0m\u001b[0;34m)\u001b[0m\u001b[0;34m\u001b[0m\u001b[0;34m\u001b[0m\u001b[0m\n\u001b[0m\u001b[1;32m   2057\u001b[0m             \u001b[0;32mreturn\u001b[0m \u001b[0mdm\u001b[0m\u001b[0;34m\u001b[0m\u001b[0;34m\u001b[0m\u001b[0m\n\u001b[1;32m   2058\u001b[0m \u001b[0;34m\u001b[0m\u001b[0m\n",
      "\u001b[0;31mKeyboardInterrupt\u001b[0m: "
     ]
    }
   ],
   "source": [
    "### Plot average number of birds over clusters for clusters ranging from 1 to 134\n",
    "\n",
    "list_num_of_clusters = []\n",
    "list_of_average_num_birds = []\n",
    "\n",
    "for n in range(1,130,5):\n",
    "    list_num_of_clusters.append(n)\n",
    "    clusters = AgglomerativeClustering(n_clusters=n, affinity='euclidean', linkage='ward').fit_predict(mfcc_clips)\n",
    "    num_bird_species = []\n",
    "\n",
    "    for i in range(len(np.unique(clusters))): \n",
    "        cluster_set = set()\n",
    "        for j in get_clip_indexes(i, clusters):\n",
    "            \n",
    "            bird_species = os.path.splitext(file_names[j])[0].split(\"-\",1)[1].strip()\n",
    "    #         print(bird_species)\n",
    "    #         print(type(bird_species))\n",
    "            cluster_set.add(bird_species)\n",
    "        num_bird_species.append(len(cluster_set))\n",
    "            \n",
    "    average_num_bird_species = sum(num_bird_species)/len(num_bird_species)\n",
    "    list_of_average_num_birds.append(average_num_bird_species)\n",
    "    \n",
    "#     print(list_num_of_clusters)\n",
    "#     print(list_of_average_num_birds)\n",
    "    \n",
    "    "
   ]
  },
  {
   "cell_type": "code",
   "execution_count": 148,
   "metadata": {
    "scrolled": false
   },
   "outputs": [
    {
     "ename": "IndexError",
     "evalue": "too many indices for array",
     "output_type": "error",
     "traceback": [
      "\u001b[0;31m---------------------------------------------------------------------------\u001b[0m",
      "\u001b[0;31mIndexError\u001b[0m                                Traceback (most recent call last)",
      "\u001b[0;32m<ipython-input-148-a30b6588eb7a>\u001b[0m in \u001b[0;36m<module>\u001b[0;34m\u001b[0m\n\u001b[1;32m      1\u001b[0m \u001b[0;31m# Plot spectrogram of all clips in a cluster appended together\u001b[0m\u001b[0;34m\u001b[0m\u001b[0;34m\u001b[0m\u001b[0;34m\u001b[0m\u001b[0m\n\u001b[0;32m----> 2\u001b[0;31m \u001b[0mplot_spectrogram_of_cluster\u001b[0m\u001b[0;34m(\u001b[0m\u001b[0msamplerate\u001b[0m\u001b[0;34m,\u001b[0m \u001b[0mshorter_clips\u001b[0m\u001b[0;34m,\u001b[0m \u001b[0;36m7\u001b[0m\u001b[0;34m,\u001b[0m \u001b[0mclusters\u001b[0m\u001b[0;34m,\u001b[0m \u001b[0mseparate_channels\u001b[0m\u001b[0;34m=\u001b[0m\u001b[0;32mFalse\u001b[0m\u001b[0;34m)\u001b[0m\u001b[0;34m\u001b[0m\u001b[0;34m\u001b[0m\u001b[0m\n\u001b[0m",
      "\u001b[0;32m<ipython-input-130-fbe8c1b913da>\u001b[0m in \u001b[0;36mplot_spectrogram_of_cluster\u001b[0;34m(samplerate, shorter_clips, cluster_i, clusters, separate_channels)\u001b[0m\n\u001b[1;32m     25\u001b[0m     \u001b[0mclip_indexes\u001b[0m \u001b[0;34m=\u001b[0m \u001b[0mget_clip_indexes\u001b[0m\u001b[0;34m(\u001b[0m\u001b[0mcluster_i\u001b[0m\u001b[0;34m,\u001b[0m \u001b[0mclusters\u001b[0m\u001b[0;34m)\u001b[0m\u001b[0;34m\u001b[0m\u001b[0;34m\u001b[0m\u001b[0m\n\u001b[1;32m     26\u001b[0m \u001b[0;34m\u001b[0m\u001b[0m\n\u001b[0;32m---> 27\u001b[0;31m     \u001b[0mleft_channel\u001b[0m \u001b[0;34m=\u001b[0m \u001b[0mshorter_clips\u001b[0m\u001b[0;34m[\u001b[0m\u001b[0mclip_indexes\u001b[0m\u001b[0;34m[\u001b[0m\u001b[0;36m0\u001b[0m\u001b[0;34m]\u001b[0m\u001b[0;34m]\u001b[0m\u001b[0;34m[\u001b[0m\u001b[0;34m:\u001b[0m\u001b[0;34m,\u001b[0m \u001b[0;36m0\u001b[0m\u001b[0;34m]\u001b[0m\u001b[0;34m\u001b[0m\u001b[0;34m\u001b[0m\u001b[0m\n\u001b[0m\u001b[1;32m     28\u001b[0m     \u001b[0mright_channel\u001b[0m \u001b[0;34m=\u001b[0m \u001b[0mshorter_clips\u001b[0m\u001b[0;34m[\u001b[0m\u001b[0mclip_indexes\u001b[0m\u001b[0;34m[\u001b[0m\u001b[0;36m0\u001b[0m\u001b[0;34m]\u001b[0m\u001b[0;34m]\u001b[0m\u001b[0;34m[\u001b[0m\u001b[0;34m:\u001b[0m\u001b[0;34m,\u001b[0m \u001b[0;36m1\u001b[0m\u001b[0;34m]\u001b[0m\u001b[0;34m\u001b[0m\u001b[0;34m\u001b[0m\u001b[0m\n\u001b[1;32m     29\u001b[0m \u001b[0;34m\u001b[0m\u001b[0m\n",
      "\u001b[0;31mIndexError\u001b[0m: too many indices for array"
     ]
    }
   ],
   "source": [
    "# Plot spectrogram of all clips in a cluster appended together\n",
    "plot_spectrogram_of_cluster(samplerate, shorter_clips, 7, clusters, separate_channels=False)"
   ]
  },
  {
   "cell_type": "markdown",
   "metadata": {},
   "source": [
    "## Save as .csv"
   ]
  },
  {
   "cell_type": "code",
   "execution_count": 50,
   "metadata": {},
   "outputs": [
    {
     "name": "stdout",
     "output_type": "stream",
     "text": [
      "                                            File name Time in clip (seconds)  \\\n",
      "0   XC22019 - Blue-crowned Trogon - Trogon curucui...                [0, 10]   \n",
      "1   XC22019 - Blue-crowned Trogon - Trogon curucui...               [10, 20]   \n",
      "2   XC22035 - White-bellied Tody-Tyrant - Hemitric...                [0, 10]   \n",
      "3   XC496773 - White-lined Antbird - Myrmoborus lo...                [0, 10]   \n",
      "4   XC496773 - White-lined Antbird - Myrmoborus lo...               [10, 20]   \n",
      "5   XC496773 - White-lined Antbird - Myrmoborus lo...               [20, 30]   \n",
      "6    XC496790 - Great Jacamar - Jacamerops aureus.mp3                [0, 10]   \n",
      "7    XC496790 - Great Jacamar - Jacamerops aureus.mp3               [10, 20]   \n",
      "8   XC91669 - Cabanis's Spinetail - Synallaxis cab...                [0, 10]   \n",
      "9   XC91669 - Cabanis's Spinetail - Synallaxis cab...               [10, 20]   \n",
      "10  XC91669 - Cabanis's Spinetail - Synallaxis cab...               [20, 30]   \n",
      "11  XC91669 - Cabanis's Spinetail - Synallaxis cab...               [30, 40]   \n",
      "12  XC91669 - Cabanis's Spinetail - Synallaxis cab...               [40, 50]   \n",
      "13  XC91669 - Cabanis's Spinetail - Synallaxis cab...               [50, 60]   \n",
      "\n",
      "    Cluster number  \n",
      "0                0  \n",
      "1                0  \n",
      "2                0  \n",
      "3                0  \n",
      "4                0  \n",
      "5                1  \n",
      "6                1  \n",
      "7                1  \n",
      "8                1  \n",
      "9                1  \n",
      "10               1  \n",
      "11               2  \n",
      "12               2  \n",
      "13               2  \n"
     ]
    }
   ],
   "source": [
    "## pandas dataframe ## \n",
    "import pandas as pd \n",
    "\n",
    "bird_species = {\n",
    "    'File name': file_names,\n",
    "    'Time in clip (seconds)': timestamp,\n",
    "    'Cluster number': cluster_list_ordered\n",
    "}\n",
    "\n",
    "df = pd.DataFrame(bird_species, columns = ['File name', 'Time in clip (seconds)', 'Cluster number'])\n",
    "\n",
    "df.to_csv(r'/Volumes/Elements/Madre_de_Dios_Xeno_Canto_Birdcalls/export_dataframe.csv',index = False, header=True)\n",
    "            \n",
    "print(df)\n",
    "# filename list \n",
    "# start and end time in the clip analyzed\n",
    "# sample rate \n",
    "# cluster number\n"
   ]
  },
  {
   "cell_type": "markdown",
   "metadata": {},
   "source": [
    "# Visualization"
   ]
  },
  {
   "cell_type": "code",
   "execution_count": null,
   "metadata": {},
   "outputs": [],
   "source": [
    "num_clips = len(shorter_clips)\n",
    "num_minutes = num_clips / 6\n",
    "num_hours = num_minutes / 60\n",
    "\n",
    "def clip_i_to_bin_i(clip_i):\n",
    "    return int(clip_i / (num_clips/num_minutes))\n",
    "\n",
    "def time_hist_for_cluster(cluster_i, clusters):\n",
    "    hist_data = []\n",
    "    for index in get_clip_indexes(cluster_i, clusters):\n",
    "        index = clip_i_to_bin_i(index)\n",
    "        hist_data.append(index)\n",
    "\n",
    "    plt.ylim(0, (num_clips/num_minutes))\n",
    "    plt.title('Cluster: %d (%s)' % (cluster_i, cluster_names[cluster_i]))\n",
    "    plt.hist(hist_data, bins=int(num_minutes), range=[0, num_minutes])\n",
    "    plt.show()\n",
    "    \n",
    "def colors(n):\n",
    "    ret = []\n",
    "    r = int(random.random() * 256)\n",
    "    g = int(random.random() * 256)\n",
    "    b = int(random.random() * 256)\n",
    "    step = 256 / n\n",
    "    for i in range(n):\n",
    "        r += step\n",
    "        g += step\n",
    "        b += step\n",
    "        r = int(r) % 256\n",
    "        g = int(g) % 256\n",
    "        b = int(b) % 256\n",
    "        ret.append((r,g,b)) \n",
    "    return ret\n",
    "\n",
    "def get_clusters_by_cluster_names(clusters, cluster_names):\n",
    "    uniq_names = np.unique(cluster_names)\n",
    "    print(uniq_names)\n",
    "    new_clusters = [-1] * len(clusters)\n",
    "    for uniq_name_i, uniq_name in enumerate(uniq_names):\n",
    "        for name_i, name in enumerate(cluster_names):\n",
    "            if name == uniq_name:\n",
    "                # Assign name_i to each index in the cluster that has the same index\n",
    "                for index in range(len(clusters)):\n",
    "                    if clusters[index] == name_i:\n",
    "                        new_clusters[index] = uniq_name_i\n",
    "    return new_clusters"
   ]
  },
  {
   "cell_type": "code",
   "execution_count": null,
   "metadata": {},
   "outputs": [],
   "source": [
    "named_clusters = get_clusters_by_cluster_names(clusters, cluster_names)\n",
    "Counter(named_clusters).most_common() \n",
    "cluster_names_to_plot = np.unique(cluster_names)\n",
    "\n",
    "# Colors for visualization\n",
    "jet = pl.get_cmap('jet', len(cluster_names_to_plot))\n",
    "cluster_colors = {}\n",
    "for i, name in enumerate(cluster_names_to_plot):\n",
    "    cluster_colors[name] = jet(i)"
   ]
  },
  {
   "cell_type": "markdown",
   "metadata": {},
   "source": [
    "Note: These are not real labels for the clusters, this is just a demonstration of the code. The histogram visualization will be replaced with better visualizations for cluster/time data such as Rose Plots."
   ]
  },
  {
   "cell_type": "code",
   "execution_count": null,
   "metadata": {},
   "outputs": [],
   "source": [
    "def plot_all_histograms(clusters, cluster_names):\n",
    "    plt.figure(figsize=(15,8))\n",
    "\n",
    "    for cluster_i in range(len(cluster_names)):\n",
    "        hist_data = []\n",
    "        for index in get_clip_indexes(cluster_i, clusters):\n",
    "            index = clip_i_to_bin_i(index)\n",
    "            hist_data.append(index)\n",
    "\n",
    "        cluster_name = cluster_names[cluster_i]\n",
    "        c = cluster_colors[cluster_name]\n",
    "        plt.hist(hist_data, bins=int(num_minutes), range=[0, num_minutes], alpha=0.5, color=c, label=cluster_name)\n",
    "\n",
    "        plt.ylabel('Number of 10-second audio clips')\n",
    "        plt.xlabel('Time in Minutes')\n",
    "        plt.legend(bbox_to_anchor=(1.2, 1.05))\n",
    "        plt.show()\n",
    "    \n",
    "clusters_to_plot = named_clusters\n",
    "cluster_names_to_plot = np.unique(cluster_names)\n",
    "plot_all_histograms(named_clusters, np.unique(cluster_names))"
   ]
  },
  {
   "cell_type": "markdown",
   "metadata": {},
   "source": [
    "### (Optional) testing convert_mp3_to_wav function with one file\n",
    "This is an extra step that I made to quickly check and troubleshoot the convert_mp3_to_wav function"
   ]
  },
  {
   "cell_type": "code",
   "execution_count": null,
   "metadata": {
    "scrolled": false
   },
   "outputs": [],
   "source": [
    "dir_path = '/Volumes/Elements/Madre_de_Dios_Xeno_Canto_Birdcalls/'\n",
    "file_path = dir_path + 'XC431125 - Rufous Twistwing - Cnipodectes superrufus.mp3'\n",
    "# file_path = dir_path + 'XC91323 - White-eyed Parakeet - Psittacara leucophthalmus.mp3'\n",
    "\n",
    "x, fs = convert_mp3_to_wav(file_path, overwrite=True)"
   ]
  },
  {
   "cell_type": "code",
   "execution_count": null,
   "metadata": {},
   "outputs": [],
   "source": [
    "# Graphs to sanity check output of load_audio with online mp3 to wav converter \n",
    "\n",
    "fig, (ax1, ax2) = plt.subplots(1, 2)\n",
    "ax1.plot(x)\n",
    "\n",
    "print(x.shape)\n",
    "\n",
    "# This file is from a random mp3 to wav convert I found here\n",
    "# https://online-audio-converter.com/ and then downloaded on Desktop\n",
    "check_dir_path = '/Users/yoo-jin/Desktop/XC431125 - Rufous Twistwing - Cnipodectes superrufus.wav'\n",
    "x_test, fs_test = sf.read(check_dir_path)\n",
    "\n",
    "x_test = np.mean(x_test, axis = 1) \n",
    "print(x_test.shape)\n",
    "\n",
    "ax2.plot(x_test)\n"
   ]
  },
  {
   "cell_type": "markdown",
   "metadata": {},
   "source": [
    "### Optional: For K-means clustsering \n",
    "The function, find_optimal_clusters is used to find the optimal number of clusters for K-means clustering. Take a look at this link for more information: https://hlab.stanford.edu/brian/number_of_clusters_.html."
   ]
  },
  {
   "cell_type": "code",
   "execution_count": null,
   "metadata": {
    "scrolled": true
   },
   "outputs": [],
   "source": [
    "## TODO: plot.ly\n",
    "\n",
    "def find_optimal_clusters(data, min_k, max_k): \n",
    "    iters= range(min_k, max_k+1, 2)\n",
    "    \n",
    "    sse = [] \n",
    "    for k in iters: \n",
    "        sse.append(MiniBatchKMeans(n_clusters=k, init_size=1024, batch_size=2048, random_state=20).fit(data).inertia_)\n",
    "    \n",
    "#     import pandas as pd\n",
    "#     sse_pct_diff = pd.Series(sse)\n",
    "#     sse_pct_diff.pct_change()\n",
    "#     print(sse_pct_diff)\n",
    "    \n",
    "    f, ax = plt.subplots(1,1)\n",
    "    ax.plot(iters, sse, marker = 'o')\n",
    "    ax.set_xlabel('Cluster Centers')\n",
    "#     ax.set_xticks(iters)\n",
    "#     f.autofmt_xdate()\n",
    "#     ax.set_xtickslabels(iters)\n",
    "    ax.set_ylabel('SSE')\n",
    "    ax.set_title('SSE by Number of Clusters')\n",
    "    \n",
    "#     ax[0].plot(iters, sse, marker = 'o')\n",
    "#     ax[0].set_xlabel('Cluster Centers')\n",
    "# #     ax.set_xticks(iters)\n",
    "# #     f.autofmt_xdate()\n",
    "# #     ax.set_xtickslabels(iters)\n",
    "#     ax[0].set_ylabel('SSE')\n",
    "#     ax[0].set_title('SSE by Number of Clusters')\n",
    "    \n",
    "#     ax[1].plot(iters, sse_pct_diff, marker = 'o')\n",
    "#     ax[1].set_xlabel('Cluster Centers')\n",
    "# #     ax.set_xticks(iters)\n",
    "# #     f.autofmt_xdate()\n",
    "# #     ax.set_xtickslabels(iters)\n",
    "#     ax[1].set_ylabel('Percentage Change of SSE')\n",
    "#     ax[1].set_title('Percentage Change of SSE by Number of Clusters')\n",
    "    \n",
    "    plt.tight_layout()\n",
    "\n",
    "        \n",
    "# Change the range here: \n",
    "find_optimal_clusters(X, 1, 150)"
   ]
  },
  {
   "cell_type": "code",
   "execution_count": null,
   "metadata": {
    "scrolled": true
   },
   "outputs": [],
   "source": [
    "# dir_path = '/Volumes/Elements/Madre_de_Dios_Xeno_Canto_Birdcalls/'\n",
    "dir_path = '/Volumes/Elements/Test/'\n",
    "samplerate = None\n",
    "wav_data = []\n",
    "bird_names_and_lengths = []\n",
    "num_files = 0\n",
    "\n",
    "for file in glob.glob(os.path.join(dir_path, '*.mp3')):\n",
    "#     print(file)\n",
    "#     convert_mp3_to_wav(file, overwrite=True)\n",
    "    num_files = num_files+1\n",
    "    try: \n",
    "        data, rate = convert_mp3_to_wav(file, overwrite=True)\n",
    "#         data = data.astype(int)\n",
    "        samplerate = rate\n",
    "        if wav_data == []:\n",
    "            wav_data = data\n",
    "        else:\n",
    "            wav_data = np.concatenate((wav_data, data))\n",
    "        clip_len = len(data) / samplerate\n",
    "        \n",
    "        # Input only bird species\n",
    "        bird_species = file.split(' - ')[2][:-4].replace(' ', '_')\n",
    "        bird_names_and_lengths.append([bird_species, clip_len])\n",
    "#         print(file)\n",
    "        \n",
    "        # TO DO: deal with warning, don't suppress\n",
    "        warnings.filterwarnings(\"ignore\", category=DeprecationWarning) \n",
    "        warnings.filterwarnings(\"ignore\", category=FutureWarning) \n",
    "    except Exception as e:\n",
    "        print('(failed) ' + file)\n",
    "        print('\\t' + str(e))\n",
    "        pass\n",
    "    \n",
    "print(bird_names_and_lengths)\n",
    "    \n",
    "# with warnings.catch_warnings():\n",
    "#     warnings.simplefilter(\"ignore\")\n",
    "#     fxn()"
   ]
  },
  {
   "cell_type": "markdown",
   "metadata": {},
   "source": [
    "### Optional: list all bird species included in the file"
   ]
  },
  {
   "cell_type": "code",
   "execution_count": null,
   "metadata": {},
   "outputs": [],
   "source": [
    "dir_path = '/Volumes/Elements/Test/'\n",
    "list_of_species = []\n",
    "\n",
    "for f in glob.glob(os.path.join(dir_path, '*.mp3')): \n",
    "    bird_name = os.path.splitext(f)[0].split(\" - \", 1)[1].strip()\n",
    "    if list_of_species == []: \n",
    "        list_of_species = [bird_name]\n",
    "    elif bird_name in list_of_species: \n",
    "        pass \n",
    "    else: \n",
    "        list_of_species.append(bird_name)\n",
    "\n",
    "print(list_of_species)\n",
    "# print(len(list_of_species))"
   ]
  },
  {
   "cell_type": "code",
   "execution_count": null,
   "metadata": {},
   "outputs": [],
   "source": [
    "# Get n-minute clips\n",
    "# def split_into_minutes(wav_data, samplerate, n=1):\n",
    "#     length_in_seconds = len(wav_data) / samplerate\n",
    "#     length_in_minutes = length_in_seconds / 60\n",
    "#     length_in_minutes = int(length_in_minutes / n)\n",
    "\n",
    "#     cut_wav_data = wav_data[:-((len(wav_data)) % length_in_minutes)]\n",
    "#     shorter_clips = np.split(cut_wav_data, length_in_minutes)\n",
    "#     print('%d %d-minute clips' % (len(shorter_clips), n))\n",
    "#     return shorter_clips\n",
    "\n",
    "# Get n-second clips\n",
    "def split_into_n_seconds(wav_data, wav_names_and_lengths, samplerate, n):\n",
    "    \"\"\"\n",
    "    wav_data: numpy array of length equal to the length of the all audio files\n",
    "    wav_names_and_lengths: list of list of length 2 where the first element is \n",
    "    the name of the bird species associated with the file and the second element\n",
    "    is the length (in seconds) of the file\n",
    "    samplerate: int (in Hz)\n",
    "    n: (int) to divide the data into n-seconds \n",
    "    \"\"\"\n",
    "    \n",
    "    # TODO: \n",
    "    # if n > 5: take like the first 5 seconds\n",
    "    # if n < 2: ignore \n",
    "    # csv file: metadata of clips entered, cluster number with its filename\n",
    "    # just have the names and don't save data\n",
    "    \n",
    "    file_names = []\n",
    "    length_in_seconds = len(wav_data) / samplerate \n",
    "    print(\"length in seconds\", length_in_seconds)\n",
    "    \n",
    "#     length_in_minutes = length_in_seconds / 60\n",
    "#     print(length_in_minutes)\n",
    "    \n",
    "    # Rounding down    \n",
    "    n_chunks = int(np.floor(length_in_seconds/n))\n",
    "    print(\"n_chunks\", n_chunks)\n",
    "        \n",
    "    try:\n",
    "        second_clips = np.split(wav_data, n_chunks)\n",
    "    except ValueError:\n",
    "        cut_wav_data = wav_data[:-(len(wav_data) % n_chunks)]\n",
    "        erased_amount = len(wav_data) % n_chunks\n",
    "        erased_amount_s = erased_amount/samplerate\n",
    "        shortest_wav_s = min([x[1] for x in wav_names_and_lengths])\n",
    "        print([x[1] for x in wav_names_and_lengths])\n",
    "        assert erased_amount_s < shortest_wav_s\n",
    "        wav_names_and_lengths[-1][1] = wav_names_and_lengths[-1][1] - erased_amount_s\n",
    "        # n = 1\n",
    "        # wav_names_and_lengths = [['1.2s_wav', 1.2],...,['3.5s_wav', 3.5]]\n",
    "        second_clips = np.split(cut_wav_data, n_chunks)\n",
    "#         print(\"second_clips\", second_clips)\n",
    "        print(\"length of each array\", [x.shape for x in second_clips])\n",
    "\n",
    "    ### NAMING FILES ###\n",
    "    \n",
    "#     [['Trogon_curucui', 25.33877551020408], ['Hemitriccus_griseipectus', 14.78530612244898], \n",
    "#      ['Amazilia_lactea', 6.034285714285715], ['Myrmoborus_lophotes', 30.48], \n",
    "#      ['Jacamerops_aureus', 25.944013605442176], ['Tityra_cayana', 4.675918367346939], \n",
    "#      ['Synallaxis_cabanisi', 67.05632653061224]]\n",
    "        \n",
    "    ### PSEUDOCODE ###\n",
    "    \n",
    "#     length in seconds 174.31462585034015\n",
    "#     n_chunks 11\n",
    "    # 15.8 seconds\n",
    "    num_of_seconds_in_chunk = length_in_seconds/n_chunks\n",
    "        \n",
    "    ### here ###\n",
    "#     n_leftover = 0\n",
    "#     filenames = []\n",
    "#     i = 0\n",
    "#     while i < len(wav_names_and_lengths)-1: \n",
    "#         if wav_names_and_lengths[i][1] < n:\n",
    "#             n_leftover = 0\n",
    "#             filenames.append(wav_names_and_lengths[i][0])\n",
    "#             print(\"first case\")\n",
    "#             print(\"wav_names_and_lengths[i][1]\", wav_names_and_lengths[i][1])\n",
    "# #             filenames[i] = wav_names_and_lengths[i][0]\n",
    "#             print(\"filenames\", filenames)\n",
    "#             print()\n",
    "#             print(\"n_leftover\", n_leftover)\n",
    "#             n_leftover = n_leftover + wav_names_and_lengths[i][1]\n",
    "\n",
    "#             while n_leftover < n:\n",
    "#                 print(\"length of filenames\", len(filenames))\n",
    "#                 print(\"filenames\", filenames)\n",
    "#                 filenames[-1] += wav_names_and_lengths[i+1][0]\n",
    "#                 n_leftover = n_leftover + wav_names_and_lengths[i+1][1]\n",
    "#                 i = i +1\n",
    "            \n",
    "#         elif wav_names_and_lengths[i][1] == n: \n",
    "#             print(\"second case\")\n",
    "#             filenames.append(wav_names_and_lengths[i][0])\n",
    "#             i = i + 1\n",
    "\n",
    "#         else: #filename_and_len[i][1] > n: \n",
    "#             print(\"third case\")\n",
    "#             print(\"i\", i)\n",
    "#             print(\"filenames\", filenames)\n",
    "#             filenames.append(wav_names_and_lengths[i][0])\n",
    "#             while wav_names_and_lengths[i][1] > n: \n",
    "#                 print(\"len(filenames)\",len(filenames))\n",
    "#                 print(\"filenames\", filenames)\n",
    "#                 wav_names_and_lengths[i][1] = wav_names_and_lengths[i][1] - n\n",
    "#                 i = i + 1\n",
    "    \n",
    "#     raise NotImplementedError('finish me')\n",
    "\n",
    "    i = 0\n",
    "    amount_left = 0\n",
    "    first_case_count = 0 \n",
    "\n",
    "    while i < len(wav_names_and_lengths):\n",
    "        if wav_names_and_lengths[i][1] >= num_of_seconds_in_chunk and amount_left == 0:  \n",
    "            file_names.append(wav_names_and_lengths[i][0] + str(first_case_count))   \n",
    "            wav_names_and_lengths[i][1] = wav_names_and_lengths[i][1] - num_of_seconds_in_chunk\n",
    "            first_case_count+=1\n",
    "        \n",
    "        # create new clip and leave it unfinished\n",
    "        elif wav_names_and_lengths[i][1] < num_of_seconds_in_chunk and amount_left == 0:  \n",
    "            if i != len(wav_names_and_lengths)-1 :\n",
    "                file_names.append(wav_names_and_lengths[i][0] + \"_\") \n",
    "            else: \n",
    "                file_names.append(wav_names_and_lengths[i][0]) \n",
    "            amount_left = num_of_seconds_in_chunk - wav_names_and_lengths[i][1]\n",
    "            wav_names_and_lengths[i][1] = 0\n",
    "            i = i +1\n",
    "            \n",
    "        # finish prev clip\n",
    "        elif wav_names_and_lengths[i][1] >= amount_left and amount_left > 0:\n",
    "            file_names[-1] += wav_names_and_lengths[i][0]\n",
    "            wav_names_and_lengths[i][1] -= amount_left\n",
    "            amount_left = 0\n",
    "            \n",
    "        elif int(wav_names_and_lengths[i][1]) == 0:\n",
    "#             print(\"Hits zero case\")\n",
    "#             print(\"i\", i)\n",
    "#             print(\"amount_left\", amount_left)\n",
    "#             print()\n",
    "            i+=1\n",
    "            \n",
    "        elif wav_names_and_lengths[i][1] < amount_left and amount_left > 0: \n",
    "            if i == len(wav_names_and_lengths)-1:\n",
    "                file_names[-1] += wav_names_and_lengths[i][0]\n",
    "            else:  \n",
    "                file_names[-1] += wav_names_and_lengths[i][0] + \"_\"\n",
    "            amount_left = num_of_seconds_in_chunk - wav_names_and_lengths[i][1]\n",
    "            wav_names_and_lengths[i][1] = 0\n",
    "            i = i+1\n",
    "            \n",
    "    print('%d %d-second clips' % (len(second_clips), n))\n",
    "    return second_clips, file_names"
   ]
  },
  {
   "cell_type": "code",
   "execution_count": null,
   "metadata": {
    "scrolled": true
   },
   "outputs": [],
   "source": [
    "print(\"shape of wav_data\", len(wav_data))\n",
    "print(\"sample rate\", sr)\n",
    "print(\"type of wav_data\", type(wav_data))\n",
    "print('sample rate = %d' % samplerate)\n",
    "print(wav_data.shape)\n",
    "length = wav_data.shape[0] / samplerate\n",
    "print('length = %.1fs' % length)"
   ]
  },
  {
   "cell_type": "code",
   "execution_count": 83,
   "metadata": {
    "scrolled": true
   },
   "outputs": [
    {
     "name": "stdout",
     "output_type": "stream",
     "text": [
      "XC - White-lined Antbird - Myrmoborus lophotes\n",
      "\n",
      "XC - White-lined Antbird - Myrmoborus lophotes\n",
      "\n",
      "XC - White-lined Antbird - Myrmoborus lophotes\n",
      "\n",
      "XC - Great Jacamar - Jacamerops aureus\n",
      "\n",
      "XC - Great Jacamar - Jacamerops aureus\n",
      "\n",
      "XC - Cabanis's Spinetail - Synallaxis cabanisi\n",
      "\n",
      "XC - Cabanis's Spinetail - Synallaxis cabanisi\n",
      "\n",
      "XC - Cabanis's Spinetail - Synallaxis cabanisi\n",
      "\n",
      "XC - Cabanis's Spinetail - Synallaxis cabanisi\n",
      "\n",
      "XC - Cabanis's Spinetail - Synallaxis cabanisi\n",
      "\n",
      "XC - Cabanis's Spinetail - Synallaxis cabanisi\n",
      "\n",
      "XC - Blue-crowned Trogon - Trogon curucui\n",
      "\n",
      "XC - Blue-crowned Trogon - Trogon curucui\n",
      "\n",
      "XC - White-bellied Tody-Tyrant - Hemitriccus griseipectus\n",
      "\n",
      "[2, 1, 2]\n"
     ]
    }
   ],
   "source": [
    "# loop through all the cluster folders \n",
    "from os import listdir\n",
    "from os.path import isfile, join\n",
    "\n",
    "# dirname = '/Volumes/Elements/Madre_de_Dios_Xeno_Canto_Birdcalls/Clusters_XenoCanto/'\n",
    "dirname = '/Volumes/Elements/Test/Clusters/'\n",
    "directory_list = os.listdir(dirname)\n",
    "# print(directory_list)\n",
    "# make \"find . -name \".DS_Store\" -delete\" in the terminal \n",
    "\n",
    "final_bird_list = []\n",
    "num_bird_species = []\n",
    "\n",
    "for d in directory_list: \n",
    "    path = dirname + d\n",
    "    file_list = [f for f in os.listdir(path) if not f.startswith('.')]\n",
    "    \n",
    "    cluster_set = set()\n",
    "    for f in file_list: \n",
    "#         print(f)\n",
    "#         if not f.startswith('.'):\n",
    "        cluster_set = cluster_set | find_bird_species_from_file_name(f)\n",
    "#         print(f)\n",
    "    \n",
    "    num_bird_species.append(len(cluster_set))\n",
    "    final_bird_list.append(num_bird_species)\n",
    "        \n",
    "# print(final_bird_list)\n",
    "# print(cluster_set)\n",
    "print(num_bird_species)"
   ]
  }
 ],
 "metadata": {
  "kernelspec": {
   "display_name": "Python 3",
   "language": "python",
   "name": "python3"
  },
  "language_info": {
   "codemirror_mode": {
    "name": "ipython",
    "version": 3
   },
   "file_extension": ".py",
   "mimetype": "text/x-python",
   "name": "python",
   "nbconvert_exporter": "python",
   "pygments_lexer": "ipython3",
   "version": "3.6.8"
  }
 },
 "nbformat": 4,
 "nbformat_minor": 4
}
