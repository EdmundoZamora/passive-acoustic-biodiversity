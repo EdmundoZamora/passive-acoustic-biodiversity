{
 "cells": [
  {
   "cell_type": "markdown",
   "metadata": {},
   "source": [
    "### K-means spherical clustering\n",
    "Some functions of this code is based on work derived from Dan Stowell. Will put in the doc-string as necessary.\n",
    "\n",
    "His work is from here: https://core.ac.uk/reader/30341728 and code is located here https://dfzljdn9uc3pi.cloudfront.net/2014/488/1/oskmeans.py.txt\n",
    "\n",
    "#### Outline of work\n",
    "##### Preprocessing step\n",
    "- Resample to standard 44.1kHz\n",
    "- Spectrogram (?)\n",
    "- Calculate Mel spectrogram for each file (frame size of 1024 frames with Hamming windowing and no overlap)\n",
    "- High-pass filtering (filter spectral energy below 500 Hz to reduce environmental noise)\n",
    "- RMS normalization\n",
    "- Spectral median noise reduction\n",
    "- Normalize and PCA-whiten the data: https://dfzljdn9uc3pi.cloudfront.net/2014/488/1/oskmeans.py.txt\n",
    "\n",
    "##### Classification\n",
    "- Apply spherical k-means clustering\n",
    "- Use random forest classifier on feature data (from scikit-learn)"
   ]
  },
  {
   "cell_type": "code",
   "execution_count": null,
   "metadata": {},
   "outputs": [],
   "source": [
    "import os \n",
    "import pydub\n",
    "from pydub import AudioSegment\n",
    "from scipy.io import wavfile\n",
    "import samplerate\n",
    "import librosa\n",
    "import aasi_filters as filters"
   ]
  },
  {
   "cell_type": "markdown",
   "metadata": {},
   "source": [
    "#### Preprocessing Step\n",
    "- Functions and implementation included in this section"
   ]
  },
  {
   "cell_type": "code",
   "execution_count": 1,
   "metadata": {},
   "outputs": [],
   "source": [
    "def read_mp3(f, normalized=False):\n",
    "    \"\"\"\n",
    "    Inputs: MP3 to numpy array, f = filename\n",
    "    Output: a.frame_rate (sampling rate)\n",
    "    \"\"\"\n",
    "    a = pydub.AudioSegment.from_file(f)\n",
    "    y = np.array(a.get_array_of_samples())\n",
    "    if a.channels == 2:\n",
    "        y = y.reshape((-1, 2))\n",
    "    if normalized:\n",
    "        return np.float32(y) / 2**15, a.frame_rate\n",
    "    else:\n",
    "        return y, a.frame_rate\n",
    "\n",
    "def resample(filename, des_sr=44100): \n",
    "    \"\"\"\n",
    "    filename = name of desired file\n",
    "    data = input data from audio file\n",
    "    des_sr = desired sampling rate in Hz\n",
    "    \"\"\"\n",
    "    if filename.endswith(\".mp3\") or filename.endswith(\".MP3\"): \n",
    "        data, sr = read_mp3(filename)\n",
    "        data = samplerate.resample(data, des_sr/sr, 'sinc_best')\n",
    "    elif filename.endswith(\".wav\") or filename.endswith(\".WAV\"): \n",
    "        sr, data = wavfile.read(filepath)\n",
    "        data = samplerate.resample(data,des_sr /sr, 'sinc_best')\n",
    "    else: \n",
    "        print(\"Not a valid file type (not .wav or .mp3)\")\n",
    "        pass \n",
    "        \n",
    "    return data, des_sr\n",
    "\n",
    "def make_mel_spectrogram(input_data, sr, n_fft = 1024): \n",
    "    \"\"\"\n",
    "    input_data (array): input array from a file \n",
    "    sr = sampling rate (Hz)\n",
    "    \"\"\"\n",
    "    # TODO: figure out Hamming windowing and no overlap\n",
    "    output = librosa.feature.melspectrogram(y=input_data, sr=sr)\n",
    "    return output\n",
    "\n",
    "def high_pass_filter(data, freq_cutoff=500, sr): \n",
    "    \"\"\"\n",
    "    data (numpy array): data of the desired file\n",
    "    freq_cutoff: frequency cut off (Hz) \n",
    "    sr: sample rate of the file\n",
    "    \n",
    "    \"\"\"\n",
    "    sosfilter = filters.design_highpass_butter_filter(fcutoff, order, samplerate, sos=True)\n",
    "    filt_data_sos = filters.filter(data, sosfilter, stereo=is_stereo)\n",
    "    #filters.plot_specgrams(data, filt_data_sos, samplerate, stereo=is_stereo)\n",
    "    \n",
    "    return filt_data_sos\n",
    "\n",
    "def RMS_normalize(): \n",
    "    \"\"\"\n",
    "    \n",
    "    \"\"\"\n",
    "    \n",
    "    "
   ]
  },
  {
   "cell_type": "code",
   "execution_count": 5,
   "metadata": {},
   "outputs": [],
   "source": [
    "def plot_spectrogram(samplerate, shorter_clips, clip_index, separate_channels=False):\n",
    "    left_channel = shorter_clips[clip_index][:, 0]\n",
    "    right_channel = shorter_clips[clip_index][:, 1]\n",
    "    \n",
    "    plt.rcParams[\"figure.figsize\"] = (100, 100)\n",
    "    plt.rcParams.update({'font.size': 50})\n",
    "    plt.xlabel('Time')\n",
    "    plt.ylabel('Frequency')\n",
    "    \n",
    "    plt.subplot(211)\n",
    "    if separate_channels:\n",
    "        plt.title('Clip #%d (Left Channel)' % clip_index)\n",
    "        plt.specgram(left_channel, Fs=samplerate)\n",
    "        plt.subplot(212)\n",
    "        plt.title('Clip #%d (Right Channel)' % clip_index)\n",
    "        plt.specgram(right_channel, Fs=samplerate)\n",
    "    else:\n",
    "        plt.title('Clip #%d' % clip_index)\n",
    "        both_channels = left_channel + right_channel\n",
    "        plt.specgram(both_channels, Fs=samplerate)\n",
    "\n",
    "    plt.show()\n",
    "    \n",
    "def plot_spectrogram_of_cluster(samplerate, shorter_clips, cluster_i, clusters, separate_channels=False):\n",
    "    clip_indexes = get_clip_indexes(cluster_i, clusters)\n",
    "    \n",
    "    left_channel = shorter_clips[clip_indexes[0]][:, 0]\n",
    "    right_channel = shorter_clips[clip_indexes[0]][:, 1]\n",
    "    \n",
    "    for i in range(1, len(clip_indexes)):\n",
    "        left_channel = np.append(left_channel, shorter_clips[clip_indexes[i]][:, 0])\n",
    "        right_channel = np.append(right_channel, shorter_clips[clip_indexes[i]][:, 1])\n",
    "    \n",
    "    plt.rcParams[\"figure.figsize\"] = (100, 100)\n",
    "    plt.rcParams.update({'font.size': 50})\n",
    "    plt.xlabel('Time')\n",
    "    plt.ylabel('Frequency')\n",
    "    \n",
    "    plt.subplot(211)\n",
    "    if separate_channels:\n",
    "        plt.title('Cluster #%d (Left Channel)' % cluster_i)\n",
    "        plt.specgram(left_channel, Fs=samplerate)\n",
    "        plt.subplot(212)\n",
    "        plt.title('Cluster #%d (Right Channel)' % cluster_i)\n",
    "        plt.specgram(right_channel, Fs=samplerate)\n",
    "    else:\n",
    "        plt.title('Cluster #%d' % cluster_i)\n",
    "        both_channels = left_channel + right_channel\n",
    "        plt.specgram(both_channels, Fs=samplerate)\n",
    "\n",
    "    plt.show()"
   ]
  },
  {
   "cell_type": "markdown",
   "metadata": {},
   "source": [
    "## Pre-processing Step \n",
    "- Perform Mel spectra energy on data\n",
    "- Normalize and PCA-whiten the data\n",
    "- Apply spherical k-means clustering"
   ]
  },
  {
   "cell_type": "code",
   "execution_count": 6,
   "metadata": {},
   "outputs": [],
   "source": [
    "def normalize_and_whiten(input_matrix, bias=1e-8):\n",
    "    \"Edited from: https://dfzljdn9uc3pi.cloudfront.net/2014/488/1/oskmeans.py.txt\" \n",
    "    \n",
    "    # Normalize Data \n",
    "    mean = np.mean(input_matrix)\n",
    "    normdata = input_matrix - mean\n",
    "    \n",
    "    # PCA Whitening\n",
    "    # this snippet is based on an example by Patrick Mineault\n",
    "    cov = np.dot(normdata.T, normdata) / len(normdata) # covariance matrix\n",
    "    eigs, eigv = np.linalg.eigh(cov) # docs say the eigenvalues are NOT NECESSARILY ORDERED, but this seems to be the case in practice...\n",
    "    print(\"  computing number of components to retain %.2f of the variance...\" % retain)\n",
    "    \n",
    "    d, V = np.linalg.eigh(Xcov)\n",
    "    D = np.diag(1. / np.sqrt(d+bias)) #need a small factor so small eigenvalues do not get overamplified\n",
    "    W = np.dot(np.dot(V, D), V.T)\n",
    "    X_white = np.dot(X, W)\n",
    "    \n",
    "    return X_white"
   ]
  },
  {
   "cell_type": "markdown",
   "metadata": {},
   "source": [
    "# Feature Extraction"
   ]
  },
  {
   "cell_type": "code",
   "execution_count": 36,
   "metadata": {
    "scrolled": true
   },
   "outputs": [
    {
     "name": "stdout",
     "output_type": "stream",
     "text": [
      "Extracting features for each of the 14 audio clips\n",
      "done\n",
      "14\n",
      "12987\n"
     ]
    }
   ],
   "source": [
    "samplerate = 44100\n",
    "def extract_features(shorter_clips, mfcc_only=False, mono=False):\n",
    "    feat_clips = []\n",
    "\n",
    "    print('Extracting features for each of the %d audio clips' % len(shorter_clips))\n",
    "    for clip in shorter_clips:\n",
    "#         print(\"clip\", clip)\n",
    "        if mono == False:\n",
    "            clip = clip[:, 0] + clip[:, 1] # Merging left and right channels\n",
    "\n",
    "        mfcc_feat=None\n",
    "        if mfcc_only:\n",
    "            mfcc_feat = mfcc(clip, samplerate, winlen=0.023, nfft = 1024).flatten()\n",
    "\n",
    "        else:\n",
    "            mfcc_feat = ShortTermFeatures.feature_extraction(clip, samplerate, 0.050*samplerate, 0.025*samplerate)\n",
    "\n",
    "        # Append the features\n",
    "        if mfcc_only:\n",
    "            feat_clips.append(mfcc_feat)\n",
    "        else:\n",
    "            feat_clips.append(list_flatten(mfcc_feat[0]))\n",
    "\n",
    "    print('done')\n",
    "    return feat_clips\n",
    "    \n",
    "# Set mfcc_only to True to shorten runtime\n",
    "mfcc_clips = extract_features(shorter_clips, mfcc_only=True, mono=True)\n",
    "\n",
    "print(len(mfcc_clips))\n",
    "print(len(mfcc_clips[0]))\n",
    "# mfcc_clips = extract_features(shorter_clips, mfcc_only=True, mono=True)\n",
    "#all_feat_clips = extract_features(shorter_clips)\n"
   ]
  },
  {
   "cell_type": "code",
   "execution_count": 43,
   "metadata": {},
   "outputs": [],
   "source": [
    "# data_matrix = np.vstack(mfcc_clips)\n",
    "\n",
    "pca = PCA(n_components=2, random_state=1, whiten=True)\n",
    "# pca.fit(data_matrix)\n",
    "whitened = pca.fit(mfcc_clips)\n",
    "\n",
    "X = whitened.singular_values_\n",
    "# array.reshape(-1, 1)\n",
    "# pca.fit(mfcc_clips)"
   ]
  },
  {
   "cell_type": "code",
   "execution_count": 44,
   "metadata": {},
   "outputs": [
    {
     "ename": "ValueError",
     "evalue": "Expected 2D array, got 1D array instead:\narray=[3818.15792346 2700.14442065].\nReshape your data either using array.reshape(-1, 1) if your data has a single feature or array.reshape(1, -1) if it contains a single sample.",
     "output_type": "error",
     "traceback": [
      "\u001b[0;31m---------------------------------------------------------------------------\u001b[0m",
      "\u001b[0;31mValueError\u001b[0m                                Traceback (most recent call last)",
      "\u001b[0;32m<ipython-input-44-85983cc50546>\u001b[0m in \u001b[0;36m<module>\u001b[0;34m\u001b[0m\n\u001b[1;32m      2\u001b[0m \u001b[0mn_clusters\u001b[0m \u001b[0;34m=\u001b[0m \u001b[0;36m3\u001b[0m\u001b[0;34m\u001b[0m\u001b[0;34m\u001b[0m\u001b[0m\n\u001b[1;32m      3\u001b[0m \u001b[0;34m\u001b[0m\u001b[0m\n\u001b[0;32m----> 4\u001b[0;31m \u001b[0mclusters\u001b[0m \u001b[0;34m=\u001b[0m \u001b[0mSphericalKMeans\u001b[0m\u001b[0;34m(\u001b[0m\u001b[0mn_clusters\u001b[0m\u001b[0;34m)\u001b[0m\u001b[0;34m.\u001b[0m\u001b[0mfit_predict\u001b[0m\u001b[0;34m(\u001b[0m\u001b[0mX\u001b[0m\u001b[0;34m)\u001b[0m\u001b[0;34m\u001b[0m\u001b[0;34m\u001b[0m\u001b[0m\n\u001b[0m\u001b[1;32m      5\u001b[0m \u001b[0mprint\u001b[0m\u001b[0;34m(\u001b[0m\u001b[0mclusters\u001b[0m\u001b[0;34m)\u001b[0m\u001b[0;34m\u001b[0m\u001b[0;34m\u001b[0m\u001b[0m\n",
      "\u001b[0;32m/anaconda3/lib/python3.6/site-packages/sklearn/cluster/k_means_.py\u001b[0m in \u001b[0;36mfit_predict\u001b[0;34m(self, X, y, sample_weight)\u001b[0m\n\u001b[1;32m    992\u001b[0m             \u001b[0mIndex\u001b[0m \u001b[0mof\u001b[0m \u001b[0mthe\u001b[0m \u001b[0mcluster\u001b[0m \u001b[0meach\u001b[0m \u001b[0msample\u001b[0m \u001b[0mbelongs\u001b[0m \u001b[0mto\u001b[0m\u001b[0;34m.\u001b[0m\u001b[0;34m\u001b[0m\u001b[0;34m\u001b[0m\u001b[0m\n\u001b[1;32m    993\u001b[0m         \"\"\"\n\u001b[0;32m--> 994\u001b[0;31m         \u001b[0;32mreturn\u001b[0m \u001b[0mself\u001b[0m\u001b[0;34m.\u001b[0m\u001b[0mfit\u001b[0m\u001b[0;34m(\u001b[0m\u001b[0mX\u001b[0m\u001b[0;34m,\u001b[0m \u001b[0msample_weight\u001b[0m\u001b[0;34m=\u001b[0m\u001b[0msample_weight\u001b[0m\u001b[0;34m)\u001b[0m\u001b[0;34m.\u001b[0m\u001b[0mlabels_\u001b[0m\u001b[0;34m\u001b[0m\u001b[0;34m\u001b[0m\u001b[0m\n\u001b[0m\u001b[1;32m    995\u001b[0m \u001b[0;34m\u001b[0m\u001b[0m\n\u001b[1;32m    996\u001b[0m     \u001b[0;32mdef\u001b[0m \u001b[0mfit_transform\u001b[0m\u001b[0;34m(\u001b[0m\u001b[0mself\u001b[0m\u001b[0;34m,\u001b[0m \u001b[0mX\u001b[0m\u001b[0;34m,\u001b[0m \u001b[0my\u001b[0m\u001b[0;34m=\u001b[0m\u001b[0;32mNone\u001b[0m\u001b[0;34m,\u001b[0m \u001b[0msample_weight\u001b[0m\u001b[0;34m=\u001b[0m\u001b[0;32mNone\u001b[0m\u001b[0;34m)\u001b[0m\u001b[0;34m:\u001b[0m\u001b[0;34m\u001b[0m\u001b[0;34m\u001b[0m\u001b[0m\n",
      "\u001b[0;32m/anaconda3/lib/python3.6/site-packages/spherecluster/spherical_kmeans.py\u001b[0m in \u001b[0;36mfit\u001b[0;34m(self, X, y, sample_weight)\u001b[0m\n\u001b[1;32m    343\u001b[0m         \"\"\"\n\u001b[1;32m    344\u001b[0m         \u001b[0;32mif\u001b[0m \u001b[0mself\u001b[0m\u001b[0;34m.\u001b[0m\u001b[0mnormalize\u001b[0m\u001b[0;34m:\u001b[0m\u001b[0;34m\u001b[0m\u001b[0;34m\u001b[0m\u001b[0m\n\u001b[0;32m--> 345\u001b[0;31m             \u001b[0mX\u001b[0m \u001b[0;34m=\u001b[0m \u001b[0mnormalize\u001b[0m\u001b[0;34m(\u001b[0m\u001b[0mX\u001b[0m\u001b[0;34m)\u001b[0m\u001b[0;34m\u001b[0m\u001b[0;34m\u001b[0m\u001b[0m\n\u001b[0m\u001b[1;32m    346\u001b[0m \u001b[0;34m\u001b[0m\u001b[0m\n\u001b[1;32m    347\u001b[0m         \u001b[0mrandom_state\u001b[0m \u001b[0;34m=\u001b[0m \u001b[0mcheck_random_state\u001b[0m\u001b[0;34m(\u001b[0m\u001b[0mself\u001b[0m\u001b[0;34m.\u001b[0m\u001b[0mrandom_state\u001b[0m\u001b[0;34m)\u001b[0m\u001b[0;34m\u001b[0m\u001b[0;34m\u001b[0m\u001b[0m\n",
      "\u001b[0;32m/anaconda3/lib/python3.6/site-packages/sklearn/preprocessing/data.py\u001b[0m in \u001b[0;36mnormalize\u001b[0;34m(X, norm, axis, copy, return_norm)\u001b[0m\n\u001b[1;32m   1544\u001b[0m \u001b[0;34m\u001b[0m\u001b[0m\n\u001b[1;32m   1545\u001b[0m     X = check_array(X, sparse_format, copy=copy,\n\u001b[0;32m-> 1546\u001b[0;31m                     estimator='the normalize function', dtype=FLOAT_DTYPES)\n\u001b[0m\u001b[1;32m   1547\u001b[0m     \u001b[0;32mif\u001b[0m \u001b[0maxis\u001b[0m \u001b[0;34m==\u001b[0m \u001b[0;36m0\u001b[0m\u001b[0;34m:\u001b[0m\u001b[0;34m\u001b[0m\u001b[0;34m\u001b[0m\u001b[0m\n\u001b[1;32m   1548\u001b[0m         \u001b[0mX\u001b[0m \u001b[0;34m=\u001b[0m \u001b[0mX\u001b[0m\u001b[0;34m.\u001b[0m\u001b[0mT\u001b[0m\u001b[0;34m\u001b[0m\u001b[0;34m\u001b[0m\u001b[0m\n",
      "\u001b[0;32m/anaconda3/lib/python3.6/site-packages/sklearn/utils/validation.py\u001b[0m in \u001b[0;36mcheck_array\u001b[0;34m(array, accept_sparse, accept_large_sparse, dtype, order, copy, force_all_finite, ensure_2d, allow_nd, ensure_min_samples, ensure_min_features, warn_on_dtype, estimator)\u001b[0m\n\u001b[1;32m    545\u001b[0m                     \u001b[0;34m\"Reshape your data either using array.reshape(-1, 1) if \"\u001b[0m\u001b[0;34m\u001b[0m\u001b[0;34m\u001b[0m\u001b[0m\n\u001b[1;32m    546\u001b[0m                     \u001b[0;34m\"your data has a single feature or array.reshape(1, -1) \"\u001b[0m\u001b[0;34m\u001b[0m\u001b[0;34m\u001b[0m\u001b[0m\n\u001b[0;32m--> 547\u001b[0;31m                     \"if it contains a single sample.\".format(array))\n\u001b[0m\u001b[1;32m    548\u001b[0m \u001b[0;34m\u001b[0m\u001b[0m\n\u001b[1;32m    549\u001b[0m         \u001b[0;31m# in the future np.flexible dtypes will be handled like object dtypes\u001b[0m\u001b[0;34m\u001b[0m\u001b[0;34m\u001b[0m\u001b[0;34m\u001b[0m\u001b[0m\n",
      "\u001b[0;31mValueError\u001b[0m: Expected 2D array, got 1D array instead:\narray=[3818.15792346 2700.14442065].\nReshape your data either using array.reshape(-1, 1) if your data has a single feature or array.reshape(1, -1) if it contains a single sample."
     ]
    }
   ],
   "source": [
    "# from sklearn.externals.joblib import Parallel\n",
    "n_clusters = 3\n",
    "\n",
    "clusters = SphericalKMeans(n_clusters).fit_predict(X)\n",
    "print(clusters)"
   ]
  },
  {
   "cell_type": "markdown",
   "metadata": {},
   "source": [
    "# Clustering\n",
    "Graph elbow method and visualization of clusters"
   ]
  },
  {
   "cell_type": "code",
   "execution_count": 234,
   "metadata": {},
   "outputs": [],
   "source": [
    "dist = 1 - cosine_similarity(mfcc_clips)\n",
    "mds = PCA(n_components=2, random_state=1)\n",
    "pos = mds.fit_transform(dist)  # shape (n_components, n_samples)\n",
    "\n",
    "X = pos"
   ]
  },
  {
   "cell_type": "code",
   "execution_count": null,
   "metadata": {},
   "outputs": [],
   "source": [
    "Error =[]\n",
    "for i in range(1, 11):\n",
    "    kmeans = KMeans(n_clusters = i).fit(X)\n",
    "    kmeans.fit(x)\n",
    "    Error.append(kmeans.inertia_)\n",
    "import matplotlib.pyplot as plt\n",
    "plt.plot(range(1, 11), Error)\n",
    "plt.title('Elbow method')\n",
    "plt.xlabel('No of clusters')\n",
    "plt.ylabel('Error')\n",
    "plt.show()"
   ]
  },
  {
   "cell_type": "code",
   "execution_count": 134,
   "metadata": {
    "scrolled": false
   },
   "outputs": [],
   "source": [
    "def cluster_plot(pos, title='', without_labels=False, width=20, height=20, savepath=''):\n",
    "    plt.rc('font', size=15)\n",
    "    \n",
    "    xs, ys = pos[:, 0], pos[:, 1]\n",
    "    \n",
    "    labels = range(len(shorter_clips))\n",
    "\n",
    "    # Data frame with TSNE data, the cluster numbers and titles\n",
    "    cluster_df = pd.DataFrame(dict(x=xs, y=ys, clusters=clusters, labels=labels)) \n",
    "\n",
    "    fig, ax = plt.subplots(figsize=(width, height))\n",
    "    ax.margins(0.05)\n",
    "    ax.set_title(title)\n",
    "\n",
    "    groups = cluster_df.groupby('clusters')\n",
    "    for name, group in groups:\n",
    "        ax.plot(group.x, group.y, marker='o', linestyle='', ms=12, mec='none', label=name)\n",
    "        ax.set_aspect('auto')\n",
    "        ax.tick_params(axis= 'x', which='both', bottom='off', top='off', labelbottom='off')\n",
    "        ax.tick_params(axis= 'y', which='both', left='off', top='off', labelleft='off')\n",
    "\n",
    "    ax.legend(numpoints=1)\n",
    "    ax.legend(bbox_to_anchor=(1.1, 1.05))\n",
    "\n",
    "    #Add labels\n",
    "    if not without_labels:\n",
    "        texts = []\n",
    "        for i in range(len(cluster_df)):\n",
    "            texts.append(ax.text(cluster_df.loc[i, 'x'], cluster_df.loc[i, 'y'], cluster_df.loc[i,'labels'], size=10)) \n",
    "\n",
    "        #adjust_text(texts, arrowprops=dict(arrowstyle='->', color='red'))\n",
    "    \n",
    "    if savepath != '':\n",
    "        plt.savefig(savepath, dpi=200, bbox_inches=\"tight\")\n",
    "\n",
    "    plt.show()"
   ]
  },
  {
   "cell_type": "markdown",
   "metadata": {},
   "source": [
    "#### Choose number of clusters\n",
    "Note the the number of clusters needs to be less than the length of mfcc_clips"
   ]
  },
  {
   "cell_type": "code",
   "execution_count": 236,
   "metadata": {
    "scrolled": false
   },
   "outputs": [
    {
     "name": "stdout",
     "output_type": "stream",
     "text": [
      "1337\n"
     ]
    }
   ],
   "source": [
    "print(len(mfcc_clips))"
   ]
  },
  {
   "cell_type": "code",
   "execution_count": 237,
   "metadata": {
    "scrolled": false
   },
   "outputs": [],
   "source": [
    "# Chose 134 from the number of bird species in the XenoCanto data\n",
    "n_clusters = 134\n",
    "\n",
    "# Fit clustering model\n",
    "clusters = AgglomerativeClustering(n_clusters=n_clusters, affinity='euclidean', linkage='ward').fit_predict(mfcc_clips)"
   ]
  },
  {
   "cell_type": "code",
   "execution_count": null,
   "metadata": {
    "scrolled": false
   },
   "outputs": [],
   "source": [
    "# savepath = '/Volumes/Elements/dendrogram'\n",
    "plt.savefig(savepath, dpi=200, bbox_inches=\"tight\")"
   ]
  },
  {
   "cell_type": "code",
   "execution_count": null,
   "metadata": {},
   "outputs": [],
   "source": [
    "# Project the data onto 2D graph - 10 clusters\n",
    "dist = 1 - cosine_similarity(mfcc_clips)\n",
    "mds = TSNE(n_components=2, random_state=1)\n",
    "pos = mds.fit_transform(dist)  # shape (n_components, n_samples)\n",
    "\n",
    "cluster_plot(pos, 'TSNE Cluster Plot', without_labels=True, savepath='/Volumes/Elements/Madre_de_Dios_Xeno_Canto_Birdcalls/Clusters_XenoCanto/tsne.png')"
   ]
  },
  {
   "cell_type": "markdown",
   "metadata": {},
   "source": [
    "# Cluster Interpretation"
   ]
  },
  {
   "cell_type": "code",
   "execution_count": 217,
   "metadata": {
    "scrolled": true
   },
   "outputs": [
    {
     "data": {
      "text/plain": [
       "[(1, 6), (0, 5), (2, 3)]"
      ]
     },
     "execution_count": 217,
     "metadata": {},
     "output_type": "execute_result"
    }
   ],
   "source": [
    "# Prints: (Cluster number, count of clips in cluster)\n",
    "Counter(clusters).most_common()"
   ]
  },
  {
   "cell_type": "code",
   "execution_count": 218,
   "metadata": {},
   "outputs": [
    {
     "ename": "ValueError",
     "evalue": "empty range for randrange() (0,0, 0)",
     "output_type": "error",
     "traceback": [
      "\u001b[0;31m---------------------------------------------------------------------------\u001b[0m",
      "\u001b[0;31mValueError\u001b[0m                                Traceback (most recent call last)",
      "\u001b[0;32m<ipython-input-218-59aadce172bb>\u001b[0m in \u001b[0;36m<module>\u001b[0;34m\u001b[0m\n\u001b[0;32m----> 1\u001b[0;31m \u001b[0mplay_random_clip_in_cluster\u001b[0m\u001b[0;34m(\u001b[0m\u001b[0;36m6\u001b[0m\u001b[0;34m,\u001b[0m \u001b[0mclusters\u001b[0m\u001b[0;34m)\u001b[0m \u001b[0;31m# Play random clip in a cluster\u001b[0m\u001b[0;34m\u001b[0m\u001b[0;34m\u001b[0m\u001b[0m\n\u001b[0m",
      "\u001b[0;32m<ipython-input-126-d578d8e56e2c>\u001b[0m in \u001b[0;36mplay_random_clip_in_cluster\u001b[0;34m(index, clusters, option)\u001b[0m\n\u001b[1;32m     14\u001b[0m \u001b[0;34m\u001b[0m\u001b[0m\n\u001b[1;32m     15\u001b[0m     \u001b[0mclips\u001b[0m \u001b[0;34m=\u001b[0m \u001b[0mget_clip_indexes\u001b[0m\u001b[0;34m(\u001b[0m\u001b[0mindex\u001b[0m\u001b[0;34m,\u001b[0m \u001b[0mclusters\u001b[0m\u001b[0;34m)\u001b[0m\u001b[0;34m\u001b[0m\u001b[0;34m\u001b[0m\u001b[0m\n\u001b[0;32m---> 16\u001b[0;31m     \u001b[0mclip_i\u001b[0m \u001b[0;34m=\u001b[0m \u001b[0mclips\u001b[0m\u001b[0;34m[\u001b[0m\u001b[0mrandom\u001b[0m\u001b[0;34m.\u001b[0m\u001b[0mrandint\u001b[0m\u001b[0;34m(\u001b[0m\u001b[0;36m0\u001b[0m\u001b[0;34m,\u001b[0m \u001b[0mlen\u001b[0m\u001b[0;34m(\u001b[0m\u001b[0mclips\u001b[0m\u001b[0;34m)\u001b[0m \u001b[0;34m-\u001b[0m \u001b[0;36m1\u001b[0m\u001b[0;34m)\u001b[0m\u001b[0;34m]\u001b[0m\u001b[0;34m\u001b[0m\u001b[0;34m\u001b[0m\u001b[0m\n\u001b[0m\u001b[1;32m     17\u001b[0m     \u001b[0mprint\u001b[0m\u001b[0;34m(\u001b[0m\u001b[0;34m'Playing clip index %d '\u001b[0m \u001b[0;34m%\u001b[0m \u001b[0mclip_i\u001b[0m\u001b[0;34m)\u001b[0m\u001b[0;34m\u001b[0m\u001b[0;34m\u001b[0m\u001b[0m\n\u001b[1;32m     18\u001b[0m     \u001b[0mplay_clip\u001b[0m\u001b[0;34m(\u001b[0m\u001b[0mclip_i\u001b[0m\u001b[0;34m)\u001b[0m\u001b[0;34m\u001b[0m\u001b[0;34m\u001b[0m\u001b[0m\n",
      "\u001b[0;32m/anaconda3/lib/python3.6/random.py\u001b[0m in \u001b[0;36mrandint\u001b[0;34m(self, a, b)\u001b[0m\n\u001b[1;32m    219\u001b[0m         \"\"\"\n\u001b[1;32m    220\u001b[0m \u001b[0;34m\u001b[0m\u001b[0m\n\u001b[0;32m--> 221\u001b[0;31m         \u001b[0;32mreturn\u001b[0m \u001b[0mself\u001b[0m\u001b[0;34m.\u001b[0m\u001b[0mrandrange\u001b[0m\u001b[0;34m(\u001b[0m\u001b[0ma\u001b[0m\u001b[0;34m,\u001b[0m \u001b[0mb\u001b[0m\u001b[0;34m+\u001b[0m\u001b[0;36m1\u001b[0m\u001b[0;34m)\u001b[0m\u001b[0;34m\u001b[0m\u001b[0;34m\u001b[0m\u001b[0m\n\u001b[0m\u001b[1;32m    222\u001b[0m \u001b[0;34m\u001b[0m\u001b[0m\n\u001b[1;32m    223\u001b[0m     def _randbelow(self, n, int=int, maxsize=1<<BPF, type=type,\n",
      "\u001b[0;32m/anaconda3/lib/python3.6/random.py\u001b[0m in \u001b[0;36mrandrange\u001b[0;34m(self, start, stop, step, _int)\u001b[0m\n\u001b[1;32m    197\u001b[0m             \u001b[0;32mreturn\u001b[0m \u001b[0mistart\u001b[0m \u001b[0;34m+\u001b[0m \u001b[0mself\u001b[0m\u001b[0;34m.\u001b[0m\u001b[0m_randbelow\u001b[0m\u001b[0;34m(\u001b[0m\u001b[0mwidth\u001b[0m\u001b[0;34m)\u001b[0m\u001b[0;34m\u001b[0m\u001b[0;34m\u001b[0m\u001b[0m\n\u001b[1;32m    198\u001b[0m         \u001b[0;32mif\u001b[0m \u001b[0mstep\u001b[0m \u001b[0;34m==\u001b[0m \u001b[0;36m1\u001b[0m\u001b[0;34m:\u001b[0m\u001b[0;34m\u001b[0m\u001b[0;34m\u001b[0m\u001b[0m\n\u001b[0;32m--> 199\u001b[0;31m             \u001b[0;32mraise\u001b[0m \u001b[0mValueError\u001b[0m\u001b[0;34m(\u001b[0m\u001b[0;34m\"empty range for randrange() (%d,%d, %d)\"\u001b[0m \u001b[0;34m%\u001b[0m \u001b[0;34m(\u001b[0m\u001b[0mistart\u001b[0m\u001b[0;34m,\u001b[0m \u001b[0mistop\u001b[0m\u001b[0;34m,\u001b[0m \u001b[0mwidth\u001b[0m\u001b[0;34m)\u001b[0m\u001b[0;34m)\u001b[0m\u001b[0;34m\u001b[0m\u001b[0;34m\u001b[0m\u001b[0m\n\u001b[0m\u001b[1;32m    200\u001b[0m \u001b[0;34m\u001b[0m\u001b[0m\n\u001b[1;32m    201\u001b[0m         \u001b[0;31m# Non-unit step argument supplied.\u001b[0m\u001b[0;34m\u001b[0m\u001b[0;34m\u001b[0m\u001b[0;34m\u001b[0m\u001b[0m\n",
      "\u001b[0;31mValueError\u001b[0m: empty range for randrange() (0,0, 0)"
     ]
    }
   ],
   "source": [
    "play_random_clip_in_cluster(6, clusters) # Play random clip in a cluster"
   ]
  },
  {
   "cell_type": "code",
   "execution_count": 139,
   "metadata": {},
   "outputs": [],
   "source": [
    "sd.stop() # Stop playing"
   ]
  },
  {
   "cell_type": "code",
   "execution_count": 140,
   "metadata": {},
   "outputs": [],
   "source": [
    "# Can assign a label to each cluster here\n",
    "#cluster_names = ['quiet', 'loud', 'quiet', 'rain', 'birds', 'crickets', 'birds', 'quiet', 'quiet', 'loud']"
   ]
  },
  {
   "cell_type": "code",
   "execution_count": 219,
   "metadata": {},
   "outputs": [
    {
     "ename": "IndexError",
     "evalue": "list index out of range",
     "output_type": "error",
     "traceback": [
      "\u001b[0;31m---------------------------------------------------------------------------\u001b[0m",
      "\u001b[0;31mIndexError\u001b[0m                                Traceback (most recent call last)",
      "\u001b[0;32m<ipython-input-219-790d4781977d>\u001b[0m in \u001b[0;36m<module>\u001b[0;34m\u001b[0m\n\u001b[0;32m----> 1\u001b[0;31m \u001b[0mplay_clip\u001b[0m\u001b[0;34m(\u001b[0m\u001b[0;36m36\u001b[0m\u001b[0;34m)\u001b[0m\u001b[0;34m\u001b[0m\u001b[0;34m\u001b[0m\u001b[0m\n\u001b[0m",
      "\u001b[0;32m<ipython-input-126-d578d8e56e2c>\u001b[0m in \u001b[0;36mplay_clip\u001b[0;34m(clip_index)\u001b[0m\n\u001b[1;32m     24\u001b[0m \u001b[0;31m# Plays an audio clip given the clip index\u001b[0m\u001b[0;34m\u001b[0m\u001b[0;34m\u001b[0m\u001b[0;34m\u001b[0m\u001b[0m\n\u001b[1;32m     25\u001b[0m \u001b[0;32mdef\u001b[0m \u001b[0mplay_clip\u001b[0m\u001b[0;34m(\u001b[0m\u001b[0mclip_index\u001b[0m\u001b[0;34m)\u001b[0m\u001b[0;34m:\u001b[0m\u001b[0;34m\u001b[0m\u001b[0;34m\u001b[0m\u001b[0m\n\u001b[0;32m---> 26\u001b[0;31m     \u001b[0msamples\u001b[0m \u001b[0;34m=\u001b[0m \u001b[0mshorter_clips\u001b[0m\u001b[0;34m[\u001b[0m\u001b[0mclip_index\u001b[0m\u001b[0;34m]\u001b[0m\u001b[0;34m\u001b[0m\u001b[0;34m\u001b[0m\u001b[0m\n\u001b[0m\u001b[1;32m     27\u001b[0m     \u001b[0msd\u001b[0m\u001b[0;34m.\u001b[0m\u001b[0mplay\u001b[0m\u001b[0;34m(\u001b[0m\u001b[0msamples\u001b[0m\u001b[0;34m,\u001b[0m \u001b[0msamplerate\u001b[0m\u001b[0;34m)\u001b[0m\u001b[0;34m\u001b[0m\u001b[0;34m\u001b[0m\u001b[0m\n\u001b[1;32m     28\u001b[0m \u001b[0;34m\u001b[0m\u001b[0m\n",
      "\u001b[0;31mIndexError\u001b[0m: list index out of range"
     ]
    }
   ],
   "source": [
    "play_clip(36) "
   ]
  },
  {
   "cell_type": "markdown",
   "metadata": {},
   "source": [
    "## Save clusters of audio files"
   ]
  },
  {
   "cell_type": "code",
   "execution_count": 79,
   "metadata": {},
   "outputs": [],
   "source": [
    "dirname = '/Volumes/Elements/Test/Clusters/'\n",
    "# dirname = '/Volumes/Elements/Test/Clusters/'\n",
    "\n",
    "for i in range(len(np.unique(clusters))):\n",
    "    os.mkdir(dirname + 'cluster_%d' % i)\n",
    "    for j in get_clip_indexes(i, clusters):\n",
    "        save_clip(dirname + 'cluster_%d/%s' % (i, file_names[j]), shorter_clips[j])"
   ]
  },
  {
   "cell_type": "code",
   "execution_count": 220,
   "metadata": {
    "scrolled": true
   },
   "outputs": [
    {
     "name": "stdout",
     "output_type": "stream",
     "text": [
      "3\n",
      "[0 1 2]\n",
      "[0, 1, 2]\n",
      "14\n",
      "14\n"
     ]
    }
   ],
   "source": [
    "print(len(np.unique(clusters)))\n",
    "print(np.unique(clusters))\n",
    "print(get_clip_indexes(i, clusters))\n",
    "print(len(clusters))\n",
    "print(len(file_names))"
   ]
  },
  {
   "cell_type": "markdown",
   "metadata": {},
   "source": [
    "## Analyze clusters \n",
    "Find the total number of bird species in cluster and also the list of dictionary of each file name corresponding to each cluster number"
   ]
  },
  {
   "cell_type": "code",
   "execution_count": 238,
   "metadata": {
    "scrolled": true
   },
   "outputs": [
    {
     "name": "stdout",
     "output_type": "stream",
     "text": [
      "{'Yellow Tyrannulet - Capsiempis flaveola flaveola_', 'Paint-billed Crake - Neocrex erythrops'}\n",
      "{'Greyish Saltator - Saltator coerulescens', 'Riparian Antbird - Cercomacroides fuscicauda', 'Speckled Chachalaca - Ortalis guttata', 'Chestnut-headed Crake - Anurolimnas castaneiceps'}\n",
      "{'Mouse-colored Tyrannulet - Phaeomyias murina wagae'}\n",
      "{'Tropical Gnatcatcher - Polioptila plumbea parvirostris', 'Mato Grosso Swift - Chaetura viridipennis', 'Bright-rumped Attila - Attila spadiceus', 'Rusty-fronted Tody-Flycatcher - Poecilotriccus latirostris', 'Greyish Saltator - Saltator coerulescens', 'Black-faced Cotinga - Conioptilon mcilhennyi'}\n",
      "{'Yellow-breasted Warbling Antbird - Hypocnemis subflava', 'Spot-breasted Woodpecker - Colaptes punctigula', 'Chestnut-bellied Seed Finch - Oryzoborus angolensis'}\n",
      "{'Chattering Gnatwren - Ramphocaenus sticturus obscurus', 'Sunbittern - Eurypyga helias helias', 'Sulphury Flycatcher - Tyrannopsis sulphurea'}\n",
      "{'Stripe-chested Antwren - Myrmotherula longicauda', 'Streaked Flycatcher - Myiodynastes maculatus solitarius', 'Chattering Gnatwren - Ramphocaenus sticturus obscurus', 'Olive-faced Flatbill - Tolmomyias viridiceps', 'Yellow Tyrannulet - Capsiempis flaveola flaveola_'}\n",
      "{'Rufous-capped Nunlet - Nonnula ruficapilla', 'Boat-billed Flycatcher - Megarynchus pitangua', 'Rufous-fronted Antthrush - Formicarius rufifrons'}\n",
      "{'Rufous Twistwing - Cnipodectes superrufus'}\n",
      "{'Yellow Tyrannulet - Capsiempis flaveola flaveola_', 'Rusty-belted Tapaculo - Liosceles thoracicus', 'Paint-billed Crake - Neocrex erythrops'}\n",
      "{'Plumbeous Antbird - Myrmelastes hyperythrus', 'Rufous-fronted Antthrush - Formicarius rufifrons'}\n",
      "{'Southern Mealy Amazon - Amazona farinosa', 'Yellow-rumped Cacique - Cacicus cela', 'Stripe-chested Antwren - Myrmotherula longicauda', 'Chestnut-crowned Foliage-gleaner - Automolus rufipileatus', 'Yellow Tyrannulet - Capsiempis flaveola flaveola_'}\n",
      "{'Bluish-fronted Jacamar - Galbula cyanescens', 'Violaceous Jay - Cyanocorax violaceus'}\n",
      "{'Long-billed Starthroat - Heliomaster longirostris', 'Olive-sided Flycatcher - Contopus cooperi', 'Rusty-belted Tapaculo - Liosceles thoracicus', 'Black-capped Parakeet - Pyrrhura rupicola lowlands'}\n",
      "{'Rufous Twistwing - Cnipodectes superrufus', 'Yellow-browed Sparrow - Ammodramus aurifrons'}\n",
      "{'Eastern Wood Pewee - Contopus virens', 'Yellow-browed Sparrow - Ammodramus aurifrons', 'Tui Parakeet - Brotogeris sanctithomae', 'Black-faced Cotinga - Conioptilon mcilhennyi'}\n",
      "{'Sulphury Flycatcher - Tyrannopsis sulphurea', 'Bananaquit - Coereba flaveola'}\n",
      "{'Southern Chestnut-tailed Antbird - Sciaphylax hemimelaena', 'Black Antbird - Cercomacroides serva', 'Paradise Tanager - Tangara chilensis'}\n",
      "{'Black-throated Antbird - Myrmophylax atrothorax', 'Large-headed Flatbill - Ramphotrigon megacephalum'}\n",
      "{'Sunbittern - Eurypyga helias helias'}\n",
      "{'Rusty-margined Flycatcher - Myiozetetes cayanensis', 'Fork-tailed Woodnymph - Thalurania furcata', 'Acre Tody-Tyrant - Hemitriccus cohnhafti'}\n",
      "{'Silver-beaked Tanager - Ramphocelus carbo', 'White-winged Becard - Pachyramphus polychopterus nigriventris', 'Plumbeous Kite - Ictinia plumbea', 'Yellow-browed Sparrow - Ammodramus aurifrons', 'Rufous-breasted Hermit - Glaucis hirsutus'}\n",
      "{'Bamboo Antshrike - Cymbilaimus sanctaemariae', 'Peruvian Recurvebill - Syndactyla ucayalae'}\n",
      "{'Yellow Tyrannulet - Capsiempis flaveola flaveola_', 'Olivaceous Flatbill - Rhynchocyclus olivaceus', \"Sclater's Antwren - Myrmotherula sclateri\"}\n",
      "{'Black-and-white Tanager - Conothraupis speculigera', 'Acre Tody-Tyrant - Hemitriccus cohnhafti', 'Crested Oropendola - Psarocolius decumanus', \"Ihering's Antwren - Myrmotherula iheringi\"}\n",
      "{'Rufous Twistwing - Cnipodectes superrufus', 'Double-collared Seedeater - Sporophila caerulescens'}\n",
      "{'Rufous-fronted Antthrush - Formicarius rufifrons', 'Peruvian Recurvebill - Syndactyla ucayalae'}\n",
      "{'Rufous Twistwing - Cnipodectes superrufus', 'White-throated Jacamar - Brachygalba albogularis', 'Slender-billed Kite - Helicolestes hamatus'}\n",
      "{'Black-throated Antbird - Myrmophylax atrothorax', 'Large-headed Flatbill - Ramphotrigon megacephalum'}\n",
      "{'Greyish Saltator - Saltator coerulescens', 'Buff-throated Saltator - Saltator maximus'}\n",
      "{'Yellow-breasted Warbling Antbird - Hypocnemis subflava', 'Rusty-fronted Tody-Flycatcher - Poecilotriccus latirostris', 'Acre Tody-Tyrant - Hemitriccus cohnhafti', 'Black-faced Cotinga - Conioptilon mcilhennyi', 'Yellow Tyrannulet - Capsiempis flaveola flaveola_'}\n",
      "{'Moustached Wren - Pheugopedius genibarbis', 'Slate-colored Grosbeak - Saltator grossus', 'Great Jacamar - Jacamerops aureus', 'White-lined Antbird - Myrmoborus lophotes', 'Peruvian Recurvebill - Syndactyla ucayalae', 'Lemon-throated Barbet - Eubucco richardsoni'}\n",
      "{'Bamboo Antshrike - Cymbilaimus sanctaemariae', 'Peruvian Recurvebill - Syndactyla ucayalae'}\n",
      "{'Bright-rumped Attila - Attila spadiceus', 'Rufous-fronted Antthrush - Formicarius rufifrons'}\n",
      "{'Rufous-fronted Antthrush - Formicarius rufifrons'}\n",
      "{'Rufous Twistwing - Cnipodectes superrufus', 'Grey-lined Hawk - Buteo nitidus'}\n",
      "{'Black-throated Antbird - Myrmophylax atrothorax'}\n",
      "{'Greyish Saltator - Saltator coerulescens', 'Yellow-browed Sparrow - Ammodramus aurifrons'}\n",
      "{'Paint-billed Crake - Neocrex erythrops', 'Black-capped Parakeet - Pyrrhura rupicola lowlands', 'Black-faced Cotinga - Conioptilon mcilhennyi', 'Yellow-cheeked Becard - Pachyramphus xanthogenys', 'Rufous-fronted Antthrush - Formicarius rufifrons'}\n",
      "{'Bamboo Antshrike - Cymbilaimus sanctaemariae'}\n",
      "{'Rufous-fronted Antthrush - Formicarius rufifrons', \"Ihering's Antwren - Myrmotherula iheringi\"}\n",
      "{'Fine-barred Piculet - Picumnus subtilis'}\n",
      "{'Red-necked Woodpecker - Campephilus rubricollis', 'Sulphury Flycatcher - Tyrannopsis sulphurea', 'Three-striped Flycatcher - Conopias trivirgatus'}\n",
      "{'Rufous Twistwing - Cnipodectes superrufus', 'Black Hawk-Eagle - Spizaetus tyrannus', 'Chattering Gnatwren - Ramphocaenus sticturus obscurus', 'Lined Seedeater - Sporophila lineola'}\n",
      "{'Slender-billed Kite - Helicolestes hamatus'}\n",
      "{'Rusty-belted Tapaculo - Liosceles thoracicus', 'Stripe-chested Antwren - Myrmotherula longicauda', 'Sulphury Flycatcher - Tyrannopsis sulphurea', \"Ihering's Antwren - Myrmotherula iheringi\", 'Chattering Gnatwren - Ramphocaenus sticturus obscurus', \"Johannes's Tody-Tyrant - Hemitriccus iohannis\", 'Riparian Antbird - Cercomacroides fuscicauda', 'Rufous-headed Woodpecker - Celeus spectabilis'}\n",
      "{'White-bearded Hermit - Phaethornis hispidus', 'Green Ibis - Mesembrinibis cayennensis'}\n",
      "{'Violaceous Jay - Cyanocorax violaceus (1)', 'Violaceous Jay - Cyanocorax violaceus'}\n",
      "{'White-lined Antbird - Myrmoborus lophotes'}\n",
      "{'White-bearded Hermit - Phaethornis hispidus', 'Olivaceous Flatbill - Rhynchocyclus olivaceus'}\n",
      "{'White-bearded Hermit - Phaethornis hispidus', 'Red-eyed Vireo - Vireo olivaceus', 'Olivaceous Flatbill - Rhynchocyclus olivaceus', 'White-chinned Sapphire - Hylocharis cyanus'}\n",
      "{'Little Woodpecker - Veniliornis passerinus', \"Sclater's Antwren - Myrmotherula sclateri\"}\n",
      "{'Sulphur-bellied Tyrant-Manakin - Neopelma sulphureiventer', 'Mato Grosso Swift - Chaetura viridipennis', 'Paint-billed Crake - Neocrex erythrops', 'Black-faced Cotinga - Conioptilon mcilhennyi'}\n",
      "{\"Cabanis's Spinetail - Synallaxis cabanisi\", 'Black-and-white Tanager - Conothraupis speculigera', \"Ihering's Antwren - Myrmotherula iheringi\"}\n",
      "{'Grey-lined Hawk - Buteo nitidus'}\n",
      "{'Chattering Gnatwren - Ramphocaenus sticturus obscurus', 'Yellow-breasted Warbling Antbird - Hypocnemis subflava'}\n",
      "{'White-throated Jacamar - Brachygalba albogularis', 'Large-headed Flatbill - Ramphotrigon megacephalum'}\n",
      "{'Double-collared Seedeater - Sporophila caerulescens'}\n",
      "{'Olive Oropendola - Psarocolius bifasciatus yuracares', 'Yungas Tyrannulet - Phyllomyias weedeni'}\n",
      "{'Rufous Twistwing - Cnipodectes superrufus', 'Chattering Gnatwren - Ramphocaenus sticturus obscurus'}\n",
      "{'Great Antshrike - Taraba major'}\n",
      "{'Bluish-fronted Jacamar - Galbula cyanescens', 'Dusky-headed Parakeet - Aratinga weddellii', 'Riparian Antbird - Cercomacroides fuscicauda', 'Peruvian Recurvebill - Syndactyla ucayalae'}\n",
      "{'Yungas Tyrannulet - Phyllomyias weedeni', 'Olivaceous Flatbill - Rhynchocyclus olivaceus', \"Ihering's Antwren - Myrmotherula iheringi\"}\n",
      "{'White-bearded Hermit - Phaethornis hispidus', 'Olivaceous Flatbill - Rhynchocyclus olivaceus', \"Sclater's Antwren - Myrmotherula sclateri\"}\n",
      "{'Yellow Tyrannulet - Capsiempis flaveola flaveola_'}\n",
      "{'Blue-crowned Trogon - Trogon curucui', 'Red-billed Pied Tanager - Lamprospiza melanoleuca'}\n",
      "{'White-bearded Hermit - Phaethornis hispidus', 'Slate-colored Seedeater - Sporophila schistacea'}\n",
      "{'Long-billed Starthroat - Heliomaster longirostris', 'Black-throated Antbird - Myrmophylax atrothorax', \"Johannes's Tody-Tyrant - Hemitriccus iohannis\", 'Scarlet Tanager - Piranga olivacea'}\n",
      "{'Purus Jacamar - Galbalcyrhynchus purusianus', \"Ihering's Antwren - Myrmotherula iheringi\"}\n",
      "{'Acre Tody-Tyrant - Hemitriccus cohnhafti'}\n",
      "{'Black-and-white Tanager - Conothraupis speculigera', \"Cabanis's Spinetail - Synallaxis cabanisi\"}\n",
      "{'Blue-black Grassquit - Volatinia jacarina'}\n",
      "{'Tui Parakeet - Brotogeris sanctithomae'}\n",
      "{\"Goeldi's Antbird - Akletos goeldii\"}\n",
      "{'Stripe-chested Antwren - Myrmotherula longicauda', \"Johannes's Tody-Tyrant - Hemitriccus iohannis\", 'Long-billed Starthroat - Heliomaster longirostris'}\n",
      "{'Acre Tody-Tyrant - Hemitriccus cohnhafti'}\n",
      "{'Rufous Twistwing - Cnipodectes superrufus', 'Bamboo Antshrike - Cymbilaimus sanctaemariae', 'Rufous-headed Woodpecker - Celeus spectabilis'}\n",
      "{'Olivaceous Flatbill - Rhynchocyclus olivaceus'}\n",
      "{'Grey-crowned Flatbill - Tolmomyias poliocephalus'}\n",
      "{'White-crested Spadebill - Platyrinchus platyrhynchos', 'Silky-tailed Nightjar - Antrostomus sericocaudatus', 'White-eyed Antwren - Epinecrophylla leucophthalma', 'White-winged Shrike-Tanager - Lanio versicolor', 'White-bellied Tody-Tyrant - Hemitriccus griseipectus'}\n",
      "{'Riparian Antbird - Cercomacroides fuscicauda', 'White-winged Becard - Pachyramphus polychopterus nigriventris', 'Rufous-breasted Piculet - Picumnus rufiventris', 'Black-capped Parakeet - Pyrrhura rupicola lowlands'}\n",
      "{'Acre Tody-Tyrant - Hemitriccus cohnhafti'}\n",
      "{'Tui Parakeet - Brotogeris sanctithomae', 'White-eyed Attila - Attila bolivianus'}\n",
      "{'Black-throated Antbird - Myrmophylax atrothorax'}\n",
      "{'Russet-backed Oropendola - Psarocolius angustifrons'}\n",
      "{'Manu Antbird - Cercomacra manu'}\n",
      "{'Acre Tody-Tyrant - Hemitriccus cohnhafti'}\n",
      "{'Acre Tody-Tyrant - Hemitriccus cohnhafti'}\n",
      "{'Lined Seedeater - Sporophila lineola', 'Barred Antshrike - Thamnophilus doliatus'}\n",
      "{'Slender-billed Kite - Helicolestes hamatus', 'Yellow-tufted Woodpecker - Melanerpes cruentatus', 'Rufous Twistwing - Cnipodectes superrufus', 'Black-faced Cotinga - Conioptilon mcilhennyi', 'Rufous-fronted Antthrush - Formicarius rufifrons'}\n",
      "{'Black-throated Antbird - Myrmophylax atrothorax', 'Large-headed Flatbill - Ramphotrigon megacephalum'}\n",
      "{'Stripe-chested Antwren - Myrmotherula longicauda', 'Yellow-crowned Amazon - Amazona ochrocephala'}\n",
      "{'Chestnut-crowned Foliage-gleaner - Automolus rufipileatus'}\n",
      "{\"Ihering's Antwren - Myrmotherula iheringi\"}\n",
      "{'Yellow-breasted Warbling Antbird - Hypocnemis subflava'}\n",
      "{'Yellow-rumped Cacique - Cacicus cela', 'Olive Oropendola - Psarocolius bifasciatus yuracares', 'Acre Tody-Tyrant - Hemitriccus cohnhafti', 'Pale-rumped Swift - Chaetura egregia'}\n",
      "{\"Sclater's Antwren - Myrmotherula sclateri\"}\n",
      "{'Violaceous Jay - Cyanocorax violaceus (1)', 'Violaceous Jay - Cyanocorax violaceus'}\n",
      "{'Rufous-fronted Antthrush - Formicarius rufifrons'}\n",
      "{'Rufous Twistwing - Cnipodectes superrufus', 'Chattering Gnatwren - Ramphocaenus sticturus obscurus'}\n",
      "{'Rufous Twistwing - Cnipodectes superrufus', 'Black-capped Tinamou - Crypturellus atrocapillus'}\n",
      "{'Rufous-browed Peppershrike - Cyclarhis gujanensis gujanensis_'}\n",
      "{'Black-capped Parakeet - Pyrrhura rupicola lowlands'}\n",
      "{'Flammulated Bamboo Tyrant - Hemitriccus flammulatus'}\n",
      "{'Acre Tody-Tyrant - Hemitriccus cohnhafti'}\n",
      "{'Long-billed Woodcreeper - Nasica longirostris', 'Rufous-fronted Antthrush - Formicarius rufifrons'}\n",
      "{'Violaceous Jay - Cyanocorax violaceus (1)', 'Violaceous Jay - Cyanocorax violaceus'}\n",
      "{'Double-collared Seedeater - Sporophila caerulescens'}\n",
      "{'Channel-billed Toucan - Ramphastos vitellinus', 'Red-necked Woodpecker - Campephilus rubricollis', 'Screaming Piha - Lipaugus vociferans', 'Slaty-capped Shrike-Vireo - Vireolanius leucotis'}\n",
      "{'Tropical Kingbird - Tyrannus melancholicus'}\n",
      "{'Rufous-fronted Antthrush - Formicarius rufifrons'}\n",
      "{'Rufous Twistwing - Cnipodectes superrufus'}\n",
      "{\"Goeldi's Antbird - Akletos goeldii\"}\n",
      "{'Boat-billed Flycatcher - Megarynchus pitangua'}\n",
      "{'Amazonian Antpitta - Hylopezus berlepschi', 'Greyish Saltator - Saltator coerulescens azarae', 'Yungas Tyrannulet - Phyllomyias weedeni'}\n",
      "{'Eastern Wood Pewee - Contopus virens', 'Little Woodpecker - Veniliornis passerinus'}\n",
      "{'Rufous-breasted Piculet - Picumnus rufiventris'}\n",
      "{'Violaceous Jay - Cyanocorax violaceus (1)', 'Violaceous Jay - Cyanocorax violaceus'}\n",
      "{'Rufous Twistwing - Cnipodectes superrufus'}\n",
      "{'Paint-billed Crake - Neocrex erythrops'}\n",
      "{'Chattering Gnatwren - Ramphocaenus sticturus obscurus'}\n",
      "{'Greyish Saltator - Saltator coerulescens'}\n",
      "{'Black-throated Antbird - Myrmophylax atrothorax'}\n",
      "{'Yellow-browed Sparrow - Ammodramus aurifrons'}\n",
      "{'Grey-breasted Crake - Laterallus exilis', 'Chestnut-bellied Seedeater - Sporophila castaneiventris'}\n",
      "{'Olive Oropendola - Psarocolius bifasciatus yuracares'}\n",
      "{'Sulphur-bellied Tyrant-Manakin - Neopelma sulphureiventer'}\n",
      "{'Yellow-breasted Warbling Antbird - Hypocnemis subflava', 'Yungas Tyrannulet - Phyllomyias weedeni'}\n",
      "{'Rufous Twistwing - Cnipodectes superrufus'}\n",
      "{'Chestnut-capped Puffbird - Bucco macrodactylus'}\n",
      "{'Rusty-belted Tapaculo - Liosceles thoracicus'}\n",
      "{'Violaceous Jay - Cyanocorax violaceus (1)', 'Violaceous Jay - Cyanocorax violaceus'}\n",
      "{'Little Woodpecker - Veniliornis passerinus', 'Yellow-crowned Amazon - Amazona ochrocephala'}\n",
      "{'Rufous Twistwing - Cnipodectes superrufus'}\n",
      "['XC146509 - Three-striped Flycatcher - Conopias trivirgatus', 'XC146509 - Three-striped Flycatcher - Conopias trivirgatus', 'XC146509 - Three-striped Flycatcher - Conopias trivirgatus', 'XC146509 - Three-striped Flycatcher - Conopias trivirgatus', 'XC146509 - Three-striped Flycatcher - Conopias trivirgatus', 'XC146509 - Three-striped Flycatcher - Conopias trivirgatus', 'XC146509 - Three-striped Flycatcher - Conopias trivirgatus', 'XC146509 - Three-striped Flycatcher - Conopias trivirgatus', 'XC146509 - Three-striped Flycatcher - Conopias trivirgatus', 'XC146509 - Three-striped Flycatcher - Conopias trivirgatus', 'XC146509 - Three-striped Flycatcher - Conopias trivirgatus', 'XC146509 - Three-striped Flycatcher - Conopias trivirgatus', 'XC146509 - Three-striped Flycatcher - Conopias trivirgatus', 'XC146509 - Three-striped Flycatcher - Conopias trivirgatus', 'XC146509 - Three-striped Flycatcher - Conopias trivirgatus', 'XC146524 - Black-faced Cotinga - Conioptilon mcilhennyi', 'XC146525 - Olive Oropendola - Psarocolius bifasciatus yuracares', 'XC146525 - Olive Oropendola - Psarocolius bifasciatus yuracares', 'XC146525 - Olive Oropendola - Psarocolius bifasciatus yuracares', 'XC146525 - Olive Oropendola - Psarocolius bifasciatus yuracares', 'XC146525 - Olive Oropendola - Psarocolius bifasciatus yuracares', 'XC146525 - Olive Oropendola - Psarocolius bifasciatus yuracares', 'XC146525 - Olive Oropendola - Psarocolius bifasciatus yuracares', 'XC146525 - Olive Oropendola - Psarocolius bifasciatus yuracares', 'XC146525 - Olive Oropendola - Psarocolius bifasciatus yuracares', 'XC146525 - Olive Oropendola - Psarocolius bifasciatus yuracares', 'XC146526 - Mato Grosso Swift - Chaetura viridipennis', 'XC146527 - Buff-throated Saltator - Saltator maximus', 'XC146527 - Buff-throated Saltator - Saltator maximus', 'XC146528 - Buff-throated Saltator - Saltator maximus', 'XC146528 - Buff-throated Saltator - Saltator maximus', 'XC146528 - Buff-throated Saltator - Saltator maximus', 'XC146528 - Buff-throated Saltator - Saltator maximus', 'XC146528 - Buff-throated Saltator - Saltator maximus', 'XC146528 - Buff-throated Saltator - Saltator maximus', 'XC146528 - Buff-throated Saltator - Saltator maximus', 'XC146528 - Buff-throated Saltator - Saltator maximus', 'XC146528 - Buff-throated Saltator - Saltator maximus', 'XC146528 - Buff-throated Saltator - Saltator maximus', 'XC146529 - Yellow-browed Sparrow - Ammodramus aurifrons', 'XC146529 - Yellow-browed Sparrow - Ammodramus aurifrons', 'XC146529 - Yellow-browed Sparrow - Ammodramus aurifrons', 'XC146529 - Yellow-browed Sparrow - Ammodramus aurifrons', 'XC146529 - Yellow-browed Sparrow - Ammodramus aurifrons', 'XC146530 - Tui Parakeet - Brotogeris sanctithomae', 'XC146530 - Tui Parakeet - Brotogeris sanctithomae', 'XC146530 - Tui Parakeet - Brotogeris sanctithomae', 'XC146530 - Tui Parakeet - Brotogeris sanctithomae', 'XC146530 - Tui Parakeet - Brotogeris sanctithomae', 'XC146530 - Tui Parakeet - Brotogeris sanctithomae', 'XC146530 - Tui Parakeet - Brotogeris sanctithomae', 'XC146531 - Black-faced Cotinga - Conioptilon mcilhennyi', 'XC146532 - Tui Parakeet - Brotogeris sanctithomae', 'XC146532 - Tui Parakeet - Brotogeris sanctithomae', 'XC146532 - Tui Parakeet - Brotogeris sanctithomae', 'XC146532 - Tui Parakeet - Brotogeris sanctithomae', 'XC146532 - Tui Parakeet - Brotogeris sanctithomae', 'XC146532 - Tui Parakeet - Brotogeris sanctithomae', 'XC146533 - Eastern Wood Pewee - Contopus virens', 'XC146533 - Eastern Wood Pewee - Contopus virens', 'XC146533 - Eastern Wood Pewee - Contopus virens', 'XC146533 - Eastern Wood Pewee - Contopus virens', 'XC146533 - Eastern Wood Pewee - Contopus virens', 'XC146533 - Eastern Wood Pewee - Contopus virens', 'XC146533 - Eastern Wood Pewee - Contopus virens', 'XC146533 - Eastern Wood Pewee - Contopus virens', 'XC146533 - Eastern Wood Pewee - Contopus virens', 'XC146533 - Eastern Wood Pewee - Contopus virens', 'XC146533 - Eastern Wood Pewee - Contopus virens', 'XC146533 - Eastern Wood Pewee - Contopus virens', 'XC146534 - Greyish Saltator - Saltator coerulescens', 'XC146535 - Greyish Saltator - Saltator coerulescens', 'XC146535 - Greyish Saltator - Saltator coerulescens', 'XC146535 - Greyish Saltator - Saltator coerulescens', 'XC146535 - Greyish Saltator - Saltator coerulescens', 'XC146535 - Greyish Saltator - Saltator coerulescens', 'XC146535 - Greyish Saltator - Saltator coerulescens', 'XC146535 - Greyish Saltator - Saltator coerulescens', 'XC146535 - Greyish Saltator - Saltator coerulescens', 'XC146538 - Blue-black Grassquit - Volatinia jacarina', 'XC146538 - Blue-black Grassquit - Volatinia jacarina', 'XC146538 - Blue-black Grassquit - Volatinia jacarina', 'XC146538 - Blue-black Grassquit - Volatinia jacarina', 'XC146538 - Blue-black Grassquit - Volatinia jacarina', 'XC146538 - Blue-black Grassquit - Volatinia jacarina', 'XC146538 - Blue-black Grassquit - Volatinia jacarina', 'XC146538 - Blue-black Grassquit - Volatinia jacarina', 'XC146538 - Blue-black Grassquit - Volatinia jacarina', 'XC146538 - Blue-black Grassquit - Volatinia jacarina', 'XC146538 - Blue-black Grassquit - Volatinia jacarina', 'XC146539 - Chestnut-bellied Seedeater - Sporophila castaneiventris', 'XC146539 - Chestnut-bellied Seedeater - Sporophila castaneiventris', 'XC146539 - Chestnut-bellied Seedeater - Sporophila castaneiventris', 'XC146539 - Chestnut-bellied Seedeater - Sporophila castaneiventris', 'XC146540 - Blue-black Grassquit - Volatinia jacarina', 'XC146540 - Blue-black Grassquit - Volatinia jacarina', 'XC146540 - Blue-black Grassquit - Volatinia jacarina', 'XC146540 - Blue-black Grassquit - Volatinia jacarina', 'XC146540 - Blue-black Grassquit - Volatinia jacarina', 'XC146540 - Blue-black Grassquit - Volatinia jacarina', 'XC146540 - Blue-black Grassquit - Volatinia jacarina', 'XC146541 - Great Antshrike - Taraba major', 'XC146541 - Great Antshrike - Taraba major', 'XC146541 - Great Antshrike - Taraba major', 'XC146541 - Great Antshrike - Taraba major', 'XC146541 - Great Antshrike - Taraba major', 'XC146541 - Great Antshrike - Taraba major', 'XC146541 - Great Antshrike - Taraba major', 'XC146541 - Great Antshrike - Taraba major', 'XC146541 - Great Antshrike - Taraba major', 'XC146541 - Great Antshrike - Taraba major', 'XC146541 - Great Antshrike - Taraba major', 'XC146541 - Great Antshrike - Taraba major', 'XC146541 - Great Antshrike - Taraba major', 'XC146541 - Great Antshrike - Taraba major', 'XC146541 - Great Antshrike - Taraba major', 'XC146541 - Great Antshrike - Taraba major', 'XC146541 - Great Antshrike - Taraba major', 'XC146542 - Grey-breasted Crake - Laterallus exilis', 'XC146542 - Grey-breasted Crake - Laterallus exilis', 'XC146542 - Grey-breasted Crake - Laterallus exilis', 'XC146543 - Tropical Kingbird - Tyrannus melancholicus', 'XC146543 - Tropical Kingbird - Tyrannus melancholicus', 'XC146543 - Tropical Kingbird - Tyrannus melancholicus', 'XC146543 - Tropical Kingbird - Tyrannus melancholicus', 'XC146543 - Tropical Kingbird - Tyrannus melancholicus', 'XC146543 - Tropical Kingbird - Tyrannus melancholicus', 'XC146543 - Tropical Kingbird - Tyrannus melancholicus', 'XC146543 - Tropical Kingbird - Tyrannus melancholicus', 'XC146544 - Silver-beaked Tanager - Ramphocelus carbo', 'XC146544 - Silver-beaked Tanager - Ramphocelus carbo', 'XC146544 - Silver-beaked Tanager - Ramphocelus carbo', 'XC146544 - Silver-beaked Tanager - Ramphocelus carbo', 'XC146545 - Rufous-browed Peppershrike - Cyclarhis gujanensis gujanensis_', 'XC146545 - Rufous-browed Peppershrike - Cyclarhis gujanensis gujanensis_', 'XC146545 - Rufous-browed Peppershrike - Cyclarhis gujanensis gujanensis_', 'XC146545 - Rufous-browed Peppershrike - Cyclarhis gujanensis gujanensis_', 'XC146545 - Rufous-browed Peppershrike - Cyclarhis gujanensis gujanensis_', 'XC146545 - Rufous-browed Peppershrike - Cyclarhis gujanensis gujanensis_', 'XC146545 - Rufous-browed Peppershrike - Cyclarhis gujanensis gujanensis_', 'XC146545 - Rufous-browed Peppershrike - Cyclarhis gujanensis gujanensis_', 'XC146545 - Rufous-browed Peppershrike - Cyclarhis gujanensis gujanensis_', 'XC146545 - Rufous-browed Peppershrike - Cyclarhis gujanensis gujanensis_', 'XC146545 - Rufous-browed Peppershrike - Cyclarhis gujanensis gujanensis_', 'XC146545 - Rufous-browed Peppershrike - Cyclarhis gujanensis gujanensis_', 'XC146545 - Rufous-browed Peppershrike - Cyclarhis gujanensis gujanensis_', 'XC146545 - Rufous-browed Peppershrike - Cyclarhis gujanensis gujanensis_', 'XC146545 - Rufous-browed Peppershrike - Cyclarhis gujanensis gujanensis_', 'XC146545 - Rufous-browed Peppershrike - Cyclarhis gujanensis gujanensis_', 'XC146546 - Chattering Gnatwren - Ramphocaenus sticturus obscurus', 'XC146546 - Chattering Gnatwren - Ramphocaenus sticturus obscurus', 'XC146546 - Chattering Gnatwren - Ramphocaenus sticturus obscurus', 'XC146546 - Chattering Gnatwren - Ramphocaenus sticturus obscurus', 'XC146546 - Chattering Gnatwren - Ramphocaenus sticturus obscurus', 'XC146546 - Chattering Gnatwren - Ramphocaenus sticturus obscurus', 'XC146546 - Chattering Gnatwren - Ramphocaenus sticturus obscurus', \"XC146547 - Johannes's Tody-Tyrant - Hemitriccus iohannis\", \"XC146547 - Johannes's Tody-Tyrant - Hemitriccus iohannis\", \"XC146547 - Johannes's Tody-Tyrant - Hemitriccus iohannis\", \"XC146547 - Johannes's Tody-Tyrant - Hemitriccus iohannis\", \"XC146547 - Johannes's Tody-Tyrant - Hemitriccus iohannis\", \"XC146547 - Johannes's Tody-Tyrant - Hemitriccus iohannis\", \"XC146547 - Johannes's Tody-Tyrant - Hemitriccus iohannis\", \"XC146547 - Johannes's Tody-Tyrant - Hemitriccus iohannis\", \"XC146547 - Johannes's Tody-Tyrant - Hemitriccus iohannis\", 'XC146548 - Manu Antbird - Cercomacra manu', 'XC146548 - Manu Antbird - Cercomacra manu', 'XC146548 - Manu Antbird - Cercomacra manu', 'XC146548 - Manu Antbird - Cercomacra manu', 'XC146548 - Manu Antbird - Cercomacra manu', 'XC146548 - Manu Antbird - Cercomacra manu', 'XC146548 - Manu Antbird - Cercomacra manu', 'XC146548 - Manu Antbird - Cercomacra manu', 'XC146548 - Manu Antbird - Cercomacra manu', 'XC146548 - Manu Antbird - Cercomacra manu', 'XC146549 - Amazonian Antpitta - Hylopezus berlepschi', 'XC146549 - Amazonian Antpitta - Hylopezus berlepschi', 'XC146549 - Amazonian Antpitta - Hylopezus berlepschi', 'XC146549 - Amazonian Antpitta - Hylopezus berlepschi', 'XC146549 - Amazonian Antpitta - Hylopezus berlepschi', 'XC146549 - Amazonian Antpitta - Hylopezus berlepschi', 'XC146549 - Amazonian Antpitta - Hylopezus berlepschi', 'XC146549 - Amazonian Antpitta - Hylopezus berlepschi', 'XC188746 - Acre Tody-Tyrant - Hemitriccus cohnhafti', 'XC188746 - Acre Tody-Tyrant - Hemitriccus cohnhafti', 'XC188746 - Acre Tody-Tyrant - Hemitriccus cohnhafti', 'XC188746 - Acre Tody-Tyrant - Hemitriccus cohnhafti', 'XC188746 - Acre Tody-Tyrant - Hemitriccus cohnhafti', 'XC188746 - Acre Tody-Tyrant - Hemitriccus cohnhafti', 'XC188746 - Acre Tody-Tyrant - Hemitriccus cohnhafti', 'XC188746 - Acre Tody-Tyrant - Hemitriccus cohnhafti', 'XC22019 - Blue-crowned Trogon - Trogon curucui', 'XC22019 - Blue-crowned Trogon - Trogon curucui', 'XC22035 - White-bellied Tody-Tyrant - Hemitriccus griseipectus', 'XC22082 - Channel-billed Toucan - Ramphastos vitellinus', 'XC22087 - Silky-tailed Nightjar - Antrostomus sericocaudatus', 'XC22087 - Silky-tailed Nightjar - Antrostomus sericocaudatus', 'XC22099 - White-bellied Tody-Tyrant - Hemitriccus griseipectus', 'XC22193 - Red-necked Woodpecker - Campephilus rubricollis', 'XC22208 - White-crested Spadebill - Platyrinchus platyrhynchos', 'XC22211 - White-bellied Tody-Tyrant - Hemitriccus griseipectus', 'XC22211 - White-bellied Tody-Tyrant - Hemitriccus griseipectus', 'XC22211 - White-bellied Tody-Tyrant - Hemitriccus griseipectus', 'XC22211 - White-bellied Tody-Tyrant - Hemitriccus griseipectus', 'XC22404 - Black Antbird - Cercomacroides serva', 'XC22404 - Black Antbird - Cercomacroides serva', 'XC22458 - White-eyed Antwren - Epinecrophylla leucophthalma', 'XC22458 - White-eyed Antwren - Epinecrophylla leucophthalma', 'XC22503 - Southern Chestnut-tailed Antbird - Sciaphylax hemimelaena', 'XC22503 - Southern Chestnut-tailed Antbird - Sciaphylax hemimelaena', 'XC22516 - Screaming Piha - Lipaugus vociferans', 'XC22516 - Screaming Piha - Lipaugus vociferans', 'XC23101 - Slaty-capped Shrike-Vireo - Vireolanius leucotis', 'XC23400 - Red-billed Pied Tanager - Lamprospiza melanoleuca', 'XC23400 - Red-billed Pied Tanager - Lamprospiza melanoleuca', 'XC23400 - Red-billed Pied Tanager - Lamprospiza melanoleuca', 'XC23434 - White-winged Shrike-Tanager - Lanio versicolor', 'XC23434 - White-winged Shrike-Tanager - Lanio versicolor', 'XC23435 - Paradise Tanager - Tangara chilensis', 'XC23435 - Paradise Tanager - Tangara chilensis', 'XC343100 - Russet-backed Oropendola - Psarocolius angustifrons', 'XC343100 - Russet-backed Oropendola - Psarocolius angustifrons', 'XC343100 - Russet-backed Oropendola - Psarocolius angustifrons', 'XC40220 - Rufous Twistwing - Cnipodectes superrufus', 'XC40220 - Rufous Twistwing - Cnipodectes superrufus', 'XC40220 - Rufous Twistwing - Cnipodectes superrufus', 'XC40220 - Rufous Twistwing - Cnipodectes superrufus', 'XC40220 - Rufous Twistwing - Cnipodectes superrufus', 'XC40220 - Rufous Twistwing - Cnipodectes superrufus', 'XC40221 - Rufous Twistwing - Cnipodectes superrufus', 'XC40221 - Rufous Twistwing - Cnipodectes superrufus', 'XC40221 - Rufous Twistwing - Cnipodectes superrufus', 'XC40221 - Rufous Twistwing - Cnipodectes superrufus', 'XC40221 - Rufous Twistwing - Cnipodectes superrufus', 'XC40221 - Rufous Twistwing - Cnipodectes superrufus', 'XC40221 - Rufous Twistwing - Cnipodectes superrufus', 'XC40221 - Rufous Twistwing - Cnipodectes superrufus', 'XC40221 - Rufous Twistwing - Cnipodectes superrufus', 'XC40223 - Rufous Twistwing - Cnipodectes superrufus', 'XC40223 - Rufous Twistwing - Cnipodectes superrufus', 'XC40223 - Rufous Twistwing - Cnipodectes superrufus', 'XC40223 - Rufous Twistwing - Cnipodectes superrufus', 'XC40223 - Rufous Twistwing - Cnipodectes superrufus', 'XC40223 - Rufous Twistwing - Cnipodectes superrufus', 'XC40223 - Rufous Twistwing - Cnipodectes superrufus', 'XC40223 - Rufous Twistwing - Cnipodectes superrufus', 'XC40223 - Rufous Twistwing - Cnipodectes superrufus', 'XC40223 - Rufous Twistwing - Cnipodectes superrufus', 'XC40223 - Rufous Twistwing - Cnipodectes superrufus', 'XC40223 - Rufous Twistwing - Cnipodectes superrufus', 'XC40223 - Rufous Twistwing - Cnipodectes superrufus', 'XC40223 - Rufous Twistwing - Cnipodectes superrufus', 'XC40223 - Rufous Twistwing - Cnipodectes superrufus', 'XC40224 - Rufous Twistwing - Cnipodectes superrufus', 'XC40224 - Rufous Twistwing - Cnipodectes superrufus', 'XC40224 - Rufous Twistwing - Cnipodectes superrufus', 'XC40224 - Rufous Twistwing - Cnipodectes superrufus', 'XC40226 - Rufous Twistwing - Cnipodectes superrufus', 'XC40226 - Rufous Twistwing - Cnipodectes superrufus', 'XC40226 - Rufous Twistwing - Cnipodectes superrufus', 'XC40307 - Fine-barred Piculet - Picumnus subtilis', 'XC40307 - Fine-barred Piculet - Picumnus subtilis', 'XC40307 - Fine-barred Piculet - Picumnus subtilis', 'XC40307 - Fine-barred Piculet - Picumnus subtilis', 'XC40307 - Fine-barred Piculet - Picumnus subtilis', 'XC40307 - Fine-barred Piculet - Picumnus subtilis', 'XC40307 - Fine-barred Piculet - Picumnus subtilis', 'XC40307 - Fine-barred Piculet - Picumnus subtilis', 'XC40307 - Fine-barred Piculet - Picumnus subtilis', 'XC40307 - Fine-barred Piculet - Picumnus subtilis', 'XC40307 - Fine-barred Piculet - Picumnus subtilis', 'XC40307 - Fine-barred Piculet - Picumnus subtilis', 'XC40307 - Fine-barred Piculet - Picumnus subtilis', 'XC40309 - White-throated Jacamar - Brachygalba albogularis', 'XC40309 - White-throated Jacamar - Brachygalba albogularis', 'XC40309 - White-throated Jacamar - Brachygalba albogularis', 'XC40309 - White-throated Jacamar - Brachygalba albogularis', 'XC40310 - White-throated Jacamar - Brachygalba albogularis', 'XC40311 - White-throated Jacamar - Brachygalba albogularis', 'XC40311 - White-throated Jacamar - Brachygalba albogularis', 'XC40311 - White-throated Jacamar - Brachygalba albogularis', 'XC40312 - Chestnut-capped Puffbird - Bucco macrodactylus', 'XC40312 - Chestnut-capped Puffbird - Bucco macrodactylus', 'XC40312 - Chestnut-capped Puffbird - Bucco macrodactylus', 'XC40312 - Chestnut-capped Puffbird - Bucco macrodactylus', \"XC40313 - Goeldi's Antbird - Akletos goeldii\", \"XC40313 - Goeldi's Antbird - Akletos goeldii\", \"XC40313 - Goeldi's Antbird - Akletos goeldii\", \"XC40313 - Goeldi's Antbird - Akletos goeldii\", \"XC40313 - Goeldi's Antbird - Akletos goeldii\", \"XC40313 - Goeldi's Antbird - Akletos goeldii\", 'XC40314 - White-lined Antbird - Myrmoborus lophotes', 'XC40314 - White-lined Antbird - Myrmoborus lophotes', 'XC40314 - White-lined Antbird - Myrmoborus lophotes', 'XC40314 - White-lined Antbird - Myrmoborus lophotes', 'XC40314 - White-lined Antbird - Myrmoborus lophotes', 'XC40315 - Slender-billed Kite - Helicolestes hamatus', 'XC40315 - Slender-billed Kite - Helicolestes hamatus', 'XC40315 - Slender-billed Kite - Helicolestes hamatus', 'XC40315 - Slender-billed Kite - Helicolestes hamatus', 'XC40315 - Slender-billed Kite - Helicolestes hamatus', 'XC40315 - Slender-billed Kite - Helicolestes hamatus', 'XC40315 - Slender-billed Kite - Helicolestes hamatus', 'XC40315 - Slender-billed Kite - Helicolestes hamatus', 'XC40315 - Slender-billed Kite - Helicolestes hamatus', 'XC40315 - Slender-billed Kite - Helicolestes hamatus', 'XC40315 - Slender-billed Kite - Helicolestes hamatus', 'XC40315 - Slender-billed Kite - Helicolestes hamatus', 'XC40316 - Bamboo Antshrike - Cymbilaimus sanctaemariae', 'XC40316 - Bamboo Antshrike - Cymbilaimus sanctaemariae', 'XC40316 - Bamboo Antshrike - Cymbilaimus sanctaemariae', 'XC40317 - Black-capped Tinamou - Crypturellus atrocapillus', 'XC40544 - Rufous Twistwing - Cnipodectes superrufus', 'XC40544 - Rufous Twistwing - Cnipodectes superrufus', 'XC40544 - Rufous Twistwing - Cnipodectes superrufus', 'XC40545 - Rufous Twistwing - Cnipodectes superrufus', 'XC40545 - Rufous Twistwing - Cnipodectes superrufus', 'XC40545 - Rufous Twistwing - Cnipodectes superrufus', 'XC431120 - Rufous Twistwing - Cnipodectes superrufus', 'XC431120 - Rufous Twistwing - Cnipodectes superrufus', 'XC431120 - Rufous Twistwing - Cnipodectes superrufus', 'XC431120 - Rufous Twistwing - Cnipodectes superrufus', 'XC431120 - Rufous Twistwing - Cnipodectes superrufus', 'XC431120 - Rufous Twistwing - Cnipodectes superrufus', 'XC431125 - Rufous Twistwing - Cnipodectes superrufus', 'XC431125 - Rufous Twistwing - Cnipodectes superrufus', 'XC431125 - Rufous Twistwing - Cnipodectes superrufus', 'XC431131 - Acre Tody-Tyrant - Hemitriccus cohnhafti', 'XC431131 - Acre Tody-Tyrant - Hemitriccus cohnhafti', 'XC431131 - Acre Tody-Tyrant - Hemitriccus cohnhafti', 'XC431131 - Acre Tody-Tyrant - Hemitriccus cohnhafti', 'XC431131 - Acre Tody-Tyrant - Hemitriccus cohnhafti', 'XC431131 - Acre Tody-Tyrant - Hemitriccus cohnhafti', 'XC431131 - Acre Tody-Tyrant - Hemitriccus cohnhafti', 'XC47471 - Riparian Antbird - Cercomacroides fuscicauda', 'XC47471 - Riparian Antbird - Cercomacroides fuscicauda', 'XC47471 - Riparian Antbird - Cercomacroides fuscicauda', 'XC47471 - Riparian Antbird - Cercomacroides fuscicauda', 'XC47471 - Riparian Antbird - Cercomacroides fuscicauda', 'XC47472 - Black-throated Antbird - Myrmophylax atrothorax', 'XC47472 - Black-throated Antbird - Myrmophylax atrothorax', 'XC47472 - Black-throated Antbird - Myrmophylax atrothorax', 'XC47473 - Bluish-fronted Jacamar - Galbula cyanescens', 'XC47473 - Bluish-fronted Jacamar - Galbula cyanescens', 'XC47473 - Bluish-fronted Jacamar - Galbula cyanescens', 'XC47473 - Bluish-fronted Jacamar - Galbula cyanescens', 'XC47473 - Bluish-fronted Jacamar - Galbula cyanescens', 'XC47473 - Bluish-fronted Jacamar - Galbula cyanescens', 'XC47473 - Bluish-fronted Jacamar - Galbula cyanescens', 'XC47475 - Peruvian Recurvebill - Syndactyla ucayalae', 'XC47475 - Peruvian Recurvebill - Syndactyla ucayalae', 'XC47475 - Peruvian Recurvebill - Syndactyla ucayalae', 'XC47476 - Peruvian Recurvebill - Syndactyla ucayalae', 'XC47477 - Peruvian Recurvebill - Syndactyla ucayalae', 'XC47477 - Peruvian Recurvebill - Syndactyla ucayalae', 'XC47478 - Purus Jacamar - Galbalcyrhynchus purusianus', 'XC47478 - Purus Jacamar - Galbalcyrhynchus purusianus', 'XC47478 - Purus Jacamar - Galbalcyrhynchus purusianus', 'XC47478 - Purus Jacamar - Galbalcyrhynchus purusianus', 'XC47478 - Purus Jacamar - Galbalcyrhynchus purusianus', 'XC47478 - Purus Jacamar - Galbalcyrhynchus purusianus', 'XC47480 - Yellow-breasted Warbling Antbird - Hypocnemis subflava', 'XC47480 - Yellow-breasted Warbling Antbird - Hypocnemis subflava', 'XC47480 - Yellow-breasted Warbling Antbird - Hypocnemis subflava', 'XC47480 - Yellow-breasted Warbling Antbird - Hypocnemis subflava', 'XC47480 - Yellow-breasted Warbling Antbird - Hypocnemis subflava', 'XC47480 - Yellow-breasted Warbling Antbird - Hypocnemis subflava', 'XC47480 - Yellow-breasted Warbling Antbird - Hypocnemis subflava', 'XC47480 - Yellow-breasted Warbling Antbird - Hypocnemis subflava', 'XC47480 - Yellow-breasted Warbling Antbird - Hypocnemis subflava', 'XC47481 - Yellow-breasted Warbling Antbird - Hypocnemis subflava', 'XC47481 - Yellow-breasted Warbling Antbird - Hypocnemis subflava', 'XC47481 - Yellow-breasted Warbling Antbird - Hypocnemis subflava', 'XC47482 - Yellow-breasted Warbling Antbird - Hypocnemis subflava', 'XC47482 - Yellow-breasted Warbling Antbird - Hypocnemis subflava', 'XC47482 - Yellow-breasted Warbling Antbird - Hypocnemis subflava', 'XC47550 - Riparian Antbird - Cercomacroides fuscicauda', 'XC47551 - Black-throated Antbird - Myrmophylax atrothorax', 'XC47551 - Black-throated Antbird - Myrmophylax atrothorax', 'XC47551 - Black-throated Antbird - Myrmophylax atrothorax', 'XC47552 - Black-throated Antbird - Myrmophylax atrothorax', 'XC47552 - Black-throated Antbird - Myrmophylax atrothorax', 'XC47552 - Black-throated Antbird - Myrmophylax atrothorax', 'XC47552 - Black-throated Antbird - Myrmophylax atrothorax', 'XC47553 - Chestnut-crowned Foliage-gleaner - Automolus rufipileatus', 'XC47554 - White-eyed Attila - Attila bolivianus', 'XC47555 - Dusky-headed Parakeet - Aratinga weddellii', 'XC47555 - Dusky-headed Parakeet - Aratinga weddellii', 'XC47556 - Grey-lined Hawk - Buteo nitidus', 'XC47556 - Grey-lined Hawk - Buteo nitidus', 'XC47556 - Grey-lined Hawk - Buteo nitidus', \"XC47557 - Johannes's Tody-Tyrant - Hemitriccus iohannis\", \"XC47557 - Johannes's Tody-Tyrant - Hemitriccus iohannis\", \"XC47557 - Johannes's Tody-Tyrant - Hemitriccus iohannis\", 'XC47558 - Long-billed Woodcreeper - Nasica longirostris', 'XC47559 - Plumbeous Antbird - Myrmelastes hyperythrus', 'XC47559 - Plumbeous Antbird - Myrmelastes hyperythrus', 'XC47559 - Plumbeous Antbird - Myrmelastes hyperythrus', 'XC47559 - Plumbeous Antbird - Myrmelastes hyperythrus', 'XC47559 - Plumbeous Antbird - Myrmelastes hyperythrus', 'XC47560 - Rufous-breasted Piculet - Picumnus rufiventris', 'XC47560 - Rufous-breasted Piculet - Picumnus rufiventris', 'XC47561 - Rufous-breasted Piculet - Picumnus rufiventris', 'XC47561 - Rufous-breasted Piculet - Picumnus rufiventris', 'XC47561 - Rufous-breasted Piculet - Picumnus rufiventris', 'XC47561 - Rufous-breasted Piculet - Picumnus rufiventris', 'XC47562 - Rufous-breasted Piculet - Picumnus rufiventris', 'XC47562 - Rufous-breasted Piculet - Picumnus rufiventris', 'XC47564 - Speckled Chachalaca - Ortalis guttata', 'XC47564 - Speckled Chachalaca - Ortalis guttata', 'XC47564 - Speckled Chachalaca - Ortalis guttata', 'XC47566 - Tui Parakeet - Brotogeris sanctithomae', 'XC47566 - Tui Parakeet - Brotogeris sanctithomae', 'XC47566 - Tui Parakeet - Brotogeris sanctithomae', 'XC47567 - Tui Parakeet - Brotogeris sanctithomae', 'XC47567 - Tui Parakeet - Brotogeris sanctithomae', 'XC47567 - Tui Parakeet - Brotogeris sanctithomae', 'XC47568 - White-winged Becard - Pachyramphus polychopterus nigriventris', 'XC47568 - White-winged Becard - Pachyramphus polychopterus nigriventris', 'XC47568 - White-winged Becard - Pachyramphus polychopterus nigriventris', 'XC47568 - White-winged Becard - Pachyramphus polychopterus nigriventris', 'XC47569 - White-winged Becard - Pachyramphus polychopterus nigriventris', 'XC47569 - White-winged Becard - Pachyramphus polychopterus nigriventris', 'XC47569 - White-winged Becard - Pachyramphus polychopterus nigriventris', 'XC47570 - Yellow-browed Sparrow - Ammodramus aurifrons', 'XC47570 - Yellow-browed Sparrow - Ammodramus aurifrons', 'XC47673 - Greyish Saltator - Saltator coerulescens azarae', 'XC47678 - Violaceous Jay - Cyanocorax violaceus', 'XC47678 - Violaceous Jay - Cyanocorax violaceus', 'XC47843 - Rufous-breasted Hermit - Glaucis hirsutus', 'XC496773 - White-lined Antbird - Myrmoborus lophotes', 'XC496773 - White-lined Antbird - Myrmoborus lophotes', 'XC496773 - White-lined Antbird - Myrmoborus lophotes', 'XC496780 - Chestnut-crowned Foliage-gleaner - Automolus rufipileatus', 'XC496780 - Chestnut-crowned Foliage-gleaner - Automolus rufipileatus', 'XC496789 - Yellow-breasted Warbling Antbird - Hypocnemis subflava', 'XC496789 - Yellow-breasted Warbling Antbird - Hypocnemis subflava', 'XC496790 - Great Jacamar - Jacamerops aureus', 'XC496790 - Great Jacamar - Jacamerops aureus', 'XC496791 - Riparian Antbird - Cercomacroides fuscicauda', 'XC496791 - Riparian Antbird - Cercomacroides fuscicauda', 'XC496793 - Rufous-headed Woodpecker - Celeus spectabilis', 'XC496793 - Rufous-headed Woodpecker - Celeus spectabilis', 'XC496922 - Slate-colored Grosbeak - Saltator grossus', 'XC496967 - Moustached Wren - Pheugopedius genibarbis', 'XC496967 - Moustached Wren - Pheugopedius genibarbis', 'XC497062 - Bright-rumped Attila - Attila spadiceus', 'XC497062 - Bright-rumped Attila - Attila spadiceus', 'XC497294 - Peruvian Recurvebill - Syndactyla ucayalae', 'XC497294 - Peruvian Recurvebill - Syndactyla ucayalae', 'XC497294 - Peruvian Recurvebill - Syndactyla ucayalae', 'XC497294 - Peruvian Recurvebill - Syndactyla ucayalae', 'XC497312 - Lemon-throated Barbet - Eubucco richardsoni', 'XC497312 - Lemon-throated Barbet - Eubucco richardsoni', 'XC91306 - Mato Grosso Swift - Chaetura viridipennis', 'XC91306 - Mato Grosso Swift - Chaetura viridipennis', 'XC91306 - Mato Grosso Swift - Chaetura viridipennis', 'XC91306 - Mato Grosso Swift - Chaetura viridipennis', 'XC91306 - Mato Grosso Swift - Chaetura viridipennis', 'XC91306 - Mato Grosso Swift - Chaetura viridipennis', 'XC91306 - Mato Grosso Swift - Chaetura viridipennis', 'XC91317 - Mouse-colored Tyrannulet - Phaeomyias murina wagae', 'XC91317 - Mouse-colored Tyrannulet - Phaeomyias murina wagae', 'XC91317 - Mouse-colored Tyrannulet - Phaeomyias murina wagae', 'XC91317 - Mouse-colored Tyrannulet - Phaeomyias murina wagae', 'XC91317 - Mouse-colored Tyrannulet - Phaeomyias murina wagae', 'XC91317 - Mouse-colored Tyrannulet - Phaeomyias murina wagae', 'XC91317 - Mouse-colored Tyrannulet - Phaeomyias murina wagae', 'XC91318 - Rusty-fronted Tody-Flycatcher - Poecilotriccus latirostris', 'XC91318 - Rusty-fronted Tody-Flycatcher - Poecilotriccus latirostris', 'XC91319 - Rusty-margined Flycatcher - Myiozetetes cayanensis', 'XC91319 - Rusty-margined Flycatcher - Myiozetetes cayanensis', 'XC91319 - Rusty-margined Flycatcher - Myiozetetes cayanensis', 'XC91319 - Rusty-margined Flycatcher - Myiozetetes cayanensis', 'XC91319 - Rusty-margined Flycatcher - Myiozetetes cayanensis', 'XC91319 - Rusty-margined Flycatcher - Myiozetetes cayanensis', 'XC91319 - Rusty-margined Flycatcher - Myiozetetes cayanensis', 'XC91319 - Rusty-margined Flycatcher - Myiozetetes cayanensis', 'XC91319 - Rusty-margined Flycatcher - Myiozetetes cayanensis', 'XC91319 - Rusty-margined Flycatcher - Myiozetetes cayanensis', 'XC91319 - Rusty-margined Flycatcher - Myiozetetes cayanensis', 'XC91319 - Rusty-margined Flycatcher - Myiozetetes cayanensis', 'XC91319 - Rusty-margined Flycatcher - Myiozetetes cayanensis', 'XC91320 - Paint-billed Crake - Neocrex erythrops', 'XC91320 - Paint-billed Crake - Neocrex erythrops', 'XC91320 - Paint-billed Crake - Neocrex erythrops', 'XC91320 - Paint-billed Crake - Neocrex erythrops', 'XC91320 - Paint-billed Crake - Neocrex erythrops', 'XC91320 - Paint-billed Crake - Neocrex erythrops', 'XC91320 - Paint-billed Crake - Neocrex erythrops', 'XC91320 - Paint-billed Crake - Neocrex erythrops', 'XC91320 - Paint-billed Crake - Neocrex erythrops', 'XC91321 - Paint-billed Crake - Neocrex erythrops', 'XC91321 - Paint-billed Crake - Neocrex erythrops', 'XC91321 - Paint-billed Crake - Neocrex erythrops', 'XC91321 - Paint-billed Crake - Neocrex erythrops', 'XC91321 - Paint-billed Crake - Neocrex erythrops', 'XC91321 - Paint-billed Crake - Neocrex erythrops', 'XC91321 - Paint-billed Crake - Neocrex erythrops', 'XC91321 - Paint-billed Crake - Neocrex erythrops', 'XC91321 - Paint-billed Crake - Neocrex erythrops', 'XC91321 - Paint-billed Crake - Neocrex erythrops', 'XC91321 - Paint-billed Crake - Neocrex erythrops', 'XC91321 - Paint-billed Crake - Neocrex erythrops', 'XC91321 - Paint-billed Crake - Neocrex erythrops', 'XC91322 - Paint-billed Crake - Neocrex erythrops', 'XC91322 - Paint-billed Crake - Neocrex erythrops', 'XC91322 - Paint-billed Crake - Neocrex erythrops', 'XC91322 - Paint-billed Crake - Neocrex erythrops', 'XC91322 - Paint-billed Crake - Neocrex erythrops', 'XC91322 - Paint-billed Crake - Neocrex erythrops', 'XC91322 - Paint-billed Crake - Neocrex erythrops', 'XC91322 - Paint-billed Crake - Neocrex erythrops', 'XC91322 - Paint-billed Crake - Neocrex erythrops', 'XC91322 - Paint-billed Crake - Neocrex erythrops', 'XC91322 - Paint-billed Crake - Neocrex erythrops', 'XC91324 - Stripe-chested Antwren - Myrmotherula longicauda', 'XC91324 - Stripe-chested Antwren - Myrmotherula longicauda', 'XC91324 - Stripe-chested Antwren - Myrmotherula longicauda', 'XC91324 - Stripe-chested Antwren - Myrmotherula longicauda', 'XC91324 - Stripe-chested Antwren - Myrmotherula longicauda', 'XC91324 - Stripe-chested Antwren - Myrmotherula longicauda', 'XC91324 - Stripe-chested Antwren - Myrmotherula longicauda', 'XC91324 - Stripe-chested Antwren - Myrmotherula longicauda', 'XC91324 - Stripe-chested Antwren - Myrmotherula longicauda', 'XC91324 - Stripe-chested Antwren - Myrmotherula longicauda', 'XC91324 - Stripe-chested Antwren - Myrmotherula longicauda', 'XC91324 - Stripe-chested Antwren - Myrmotherula longicauda', 'XC91324 - Stripe-chested Antwren - Myrmotherula longicauda', 'XC91324 - Stripe-chested Antwren - Myrmotherula longicauda', 'XC91324 - Stripe-chested Antwren - Myrmotherula longicauda', 'XC91324 - Stripe-chested Antwren - Myrmotherula longicauda', 'XC91324 - Stripe-chested Antwren - Myrmotherula longicauda', 'XC91324 - Stripe-chested Antwren - Myrmotherula longicauda', 'XC91325 - Southern Mealy Amazon - Amazona farinosa', 'XC91326 - Spot-breasted Woodpecker - Colaptes punctigula', 'XC91326 - Spot-breasted Woodpecker - Colaptes punctigula', 'XC91326 - Spot-breasted Woodpecker - Colaptes punctigula', 'XC91326 - Spot-breasted Woodpecker - Colaptes punctigula', 'XC91326 - Spot-breasted Woodpecker - Colaptes punctigula', 'XC91326 - Spot-breasted Woodpecker - Colaptes punctigula', 'XC91327 - Chestnut-bellied Seed Finch - Oryzoborus angolensis', 'XC91327 - Chestnut-bellied Seed Finch - Oryzoborus angolensis', 'XC91327 - Chestnut-bellied Seed Finch - Oryzoborus angolensis', 'XC91327 - Chestnut-bellied Seed Finch - Oryzoborus angolensis', 'XC91327 - Chestnut-bellied Seed Finch - Oryzoborus angolensis', 'XC91328 - Yellow-browed Sparrow - Ammodramus aurifrons', 'XC91328 - Yellow-browed Sparrow - Ammodramus aurifrons', 'XC91328 - Yellow-browed Sparrow - Ammodramus aurifrons', 'XC91328 - Yellow-browed Sparrow - Ammodramus aurifrons', 'XC91328 - Yellow-browed Sparrow - Ammodramus aurifrons', 'XC91329 - Yellow-tufted Woodpecker - Melanerpes cruentatus', 'XC91330 - Sunbittern - Eurypyga helias helias', 'XC91330 - Sunbittern - Eurypyga helias helias', 'XC91330 - Sunbittern - Eurypyga helias helias', 'XC91330 - Sunbittern - Eurypyga helias helias', 'XC91330 - Sunbittern - Eurypyga helias helias', 'XC91330 - Sunbittern - Eurypyga helias helias', 'XC91330 - Sunbittern - Eurypyga helias helias', 'XC91330 - Sunbittern - Eurypyga helias helias', 'XC91330 - Sunbittern - Eurypyga helias helias', 'XC91330 - Sunbittern - Eurypyga helias helias', 'XC91330 - Sunbittern - Eurypyga helias helias', 'XC91330 - Sunbittern - Eurypyga helias helias', 'XC91331 - Rufous Twistwing - Cnipodectes superrufus', 'XC91331 - Rufous Twistwing - Cnipodectes superrufus', 'XC91331 - Rufous Twistwing - Cnipodectes superrufus', 'XC91331 - Rufous Twistwing - Cnipodectes superrufus', 'XC91331 - Rufous Twistwing - Cnipodectes superrufus', 'XC91331 - Rufous Twistwing - Cnipodectes superrufus', 'XC91331 - Rufous Twistwing - Cnipodectes superrufus', 'XC91331 - Rufous Twistwing - Cnipodectes superrufus', 'XC91331 - Rufous Twistwing - Cnipodectes superrufus', 'XC91331 - Rufous Twistwing - Cnipodectes superrufus', 'XC91331 - Rufous Twistwing - Cnipodectes superrufus', 'XC91331 - Rufous Twistwing - Cnipodectes superrufus', 'XC91331 - Rufous Twistwing - Cnipodectes superrufus', 'XC91331 - Rufous Twistwing - Cnipodectes superrufus', 'XC91332 - Rufous Twistwing - Cnipodectes superrufus', 'XC91332 - Rufous Twistwing - Cnipodectes superrufus', 'XC91332 - Rufous Twistwing - Cnipodectes superrufus', 'XC91332 - Rufous Twistwing - Cnipodectes superrufus', 'XC91332 - Rufous Twistwing - Cnipodectes superrufus', 'XC91332 - Rufous Twistwing - Cnipodectes superrufus', 'XC91332 - Rufous Twistwing - Cnipodectes superrufus', 'XC91332 - Rufous Twistwing - Cnipodectes superrufus', 'XC91333 - Rufous-capped Nunlet - Nonnula ruficapilla', 'XC91333 - Rufous-capped Nunlet - Nonnula ruficapilla', 'XC91333 - Rufous-capped Nunlet - Nonnula ruficapilla', 'XC91333 - Rufous-capped Nunlet - Nonnula ruficapilla', 'XC91333 - Rufous-capped Nunlet - Nonnula ruficapilla', 'XC91333 - Rufous-capped Nunlet - Nonnula ruficapilla', 'XC91333 - Rufous-capped Nunlet - Nonnula ruficapilla', 'XC91333 - Rufous-capped Nunlet - Nonnula ruficapilla', 'XC91333 - Rufous-capped Nunlet - Nonnula ruficapilla', 'XC91334 - Long-billed Starthroat - Heliomaster longirostris', 'XC91334 - Long-billed Starthroat - Heliomaster longirostris', 'XC91334 - Long-billed Starthroat - Heliomaster longirostris', 'XC91335 - Yellow-cheeked Becard - Pachyramphus xanthogenys', 'XC91335 - Yellow-cheeked Becard - Pachyramphus xanthogenys', 'XC91336 - Greyish Saltator - Saltator coerulescens', 'XC91336 - Greyish Saltator - Saltator coerulescens', 'XC91336 - Greyish Saltator - Saltator coerulescens', 'XC91337 - Paint-billed Crake - Neocrex erythrops', 'XC91337 - Paint-billed Crake - Neocrex erythrops', 'XC91337 - Paint-billed Crake - Neocrex erythrops', 'XC91337 - Paint-billed Crake - Neocrex erythrops', 'XC91338 - Double-collared Seedeater - Sporophila caerulescens', 'XC91338 - Double-collared Seedeater - Sporophila caerulescens', 'XC91338 - Double-collared Seedeater - Sporophila caerulescens', 'XC91338 - Double-collared Seedeater - Sporophila caerulescens', 'XC91338 - Double-collared Seedeater - Sporophila caerulescens', 'XC91338 - Double-collared Seedeater - Sporophila caerulescens', 'XC91338 - Double-collared Seedeater - Sporophila caerulescens', 'XC91338 - Double-collared Seedeater - Sporophila caerulescens', 'XC91338 - Double-collared Seedeater - Sporophila caerulescens', 'XC91339 - Double-collared Seedeater - Sporophila caerulescens', 'XC91339 - Double-collared Seedeater - Sporophila caerulescens', 'XC91339 - Double-collared Seedeater - Sporophila caerulescens', 'XC91339 - Double-collared Seedeater - Sporophila caerulescens', 'XC91438 - Pale-rumped Swift - Chaetura egregia', 'XC91438 - Pale-rumped Swift - Chaetura egregia', 'XC91438 - Pale-rumped Swift - Chaetura egregia', 'XC91440 - Yellow-rumped Cacique - Cacicus cela', 'XC91440 - Yellow-rumped Cacique - Cacicus cela', 'XC91440 - Yellow-rumped Cacique - Cacicus cela', 'XC91440 - Yellow-rumped Cacique - Cacicus cela', 'XC91440 - Yellow-rumped Cacique - Cacicus cela', 'XC91440 - Yellow-rumped Cacique - Cacicus cela', 'XC91440 - Yellow-rumped Cacique - Cacicus cela', 'XC91440 - Yellow-rumped Cacique - Cacicus cela', 'XC91440 - Yellow-rumped Cacique - Cacicus cela', 'XC91440 - Yellow-rumped Cacique - Cacicus cela', 'XC91440 - Yellow-rumped Cacique - Cacicus cela', 'XC91440 - Yellow-rumped Cacique - Cacicus cela', 'XC91441 - Yellow-rumped Cacique - Cacicus cela', 'XC91441 - Yellow-rumped Cacique - Cacicus cela', 'XC91441 - Yellow-rumped Cacique - Cacicus cela', 'XC91441 - Yellow-rumped Cacique - Cacicus cela', 'XC91441 - Yellow-rumped Cacique - Cacicus cela', 'XC91441 - Yellow-rumped Cacique - Cacicus cela', 'XC91441 - Yellow-rumped Cacique - Cacicus cela', 'XC91441 - Yellow-rumped Cacique - Cacicus cela', 'XC91442 - Yellow-browed Sparrow - Ammodramus aurifrons', 'XC91442 - Yellow-browed Sparrow - Ammodramus aurifrons', 'XC91442 - Yellow-browed Sparrow - Ammodramus aurifrons', 'XC91442 - Yellow-browed Sparrow - Ammodramus aurifrons', 'XC91442 - Yellow-browed Sparrow - Ammodramus aurifrons', 'XC91442 - Yellow-browed Sparrow - Ammodramus aurifrons', 'XC91442 - Yellow-browed Sparrow - Ammodramus aurifrons', 'XC91442 - Yellow-browed Sparrow - Ammodramus aurifrons', 'XC91442 - Yellow-browed Sparrow - Ammodramus aurifrons', 'XC91442 - Yellow-browed Sparrow - Ammodramus aurifrons', 'XC91443 - Eastern Wood Pewee - Contopus virens', 'XC91443 - Eastern Wood Pewee - Contopus virens', 'XC91443 - Eastern Wood Pewee - Contopus virens', 'XC91443 - Eastern Wood Pewee - Contopus virens', 'XC91443 - Eastern Wood Pewee - Contopus virens', 'XC91443 - Eastern Wood Pewee - Contopus virens', 'XC91443 - Eastern Wood Pewee - Contopus virens', 'XC91443 - Eastern Wood Pewee - Contopus virens', 'XC91443 - Eastern Wood Pewee - Contopus virens', 'XC91443 - Eastern Wood Pewee - Contopus virens', 'XC91443 - Eastern Wood Pewee - Contopus virens', 'XC91443 - Eastern Wood Pewee - Contopus virens', 'XC91444 - Little Woodpecker - Veniliornis passerinus', 'XC91444 - Little Woodpecker - Veniliornis passerinus', 'XC91444 - Little Woodpecker - Veniliornis passerinus', 'XC91444 - Little Woodpecker - Veniliornis passerinus', 'XC91444 - Little Woodpecker - Veniliornis passerinus', 'XC91444 - Little Woodpecker - Veniliornis passerinus', 'XC91444 - Little Woodpecker - Veniliornis passerinus', 'XC91444 - Little Woodpecker - Veniliornis passerinus', 'XC91444 - Little Woodpecker - Veniliornis passerinus', 'XC91444 - Little Woodpecker - Veniliornis passerinus', 'XC91444 - Little Woodpecker - Veniliornis passerinus', 'XC91444 - Little Woodpecker - Veniliornis passerinus', 'XC91444 - Little Woodpecker - Veniliornis passerinus', 'XC91444 - Little Woodpecker - Veniliornis passerinus', 'XC91444 - Little Woodpecker - Veniliornis passerinus', \"XC91445 - Ihering's Antwren - Myrmotherula iheringi\", \"XC91445 - Ihering's Antwren - Myrmotherula iheringi\", \"XC91445 - Ihering's Antwren - Myrmotherula iheringi\", \"XC91445 - Ihering's Antwren - Myrmotherula iheringi\", \"XC91445 - Ihering's Antwren - Myrmotherula iheringi\", \"XC91445 - Ihering's Antwren - Myrmotherula iheringi\", \"XC91445 - Ihering's Antwren - Myrmotherula iheringi\", \"XC91445 - Ihering's Antwren - Myrmotherula iheringi\", \"XC91445 - Ihering's Antwren - Myrmotherula iheringi\", \"XC91445 - Ihering's Antwren - Myrmotherula iheringi\", \"XC91445 - Ihering's Antwren - Myrmotherula iheringi\", \"XC91445 - Ihering's Antwren - Myrmotherula iheringi\", \"XC91445 - Ihering's Antwren - Myrmotherula iheringi\", \"XC91445 - Ihering's Antwren - Myrmotherula iheringi\", \"XC91445 - Ihering's Antwren - Myrmotherula iheringi\", \"XC91445 - Ihering's Antwren - Myrmotherula iheringi\", \"XC91445 - Ihering's Antwren - Myrmotherula iheringi\", 'XC91446 - Rusty-belted Tapaculo - Liosceles thoracicus', 'XC91446 - Rusty-belted Tapaculo - Liosceles thoracicus', 'XC91446 - Rusty-belted Tapaculo - Liosceles thoracicus', 'XC91446 - Rusty-belted Tapaculo - Liosceles thoracicus', 'XC91446 - Rusty-belted Tapaculo - Liosceles thoracicus', 'XC91446 - Rusty-belted Tapaculo - Liosceles thoracicus', 'XC91447 - Rusty-belted Tapaculo - Liosceles thoracicus', 'XC91447 - Rusty-belted Tapaculo - Liosceles thoracicus', 'XC91447 - Rusty-belted Tapaculo - Liosceles thoracicus', 'XC91447 - Rusty-belted Tapaculo - Liosceles thoracicus', 'XC91447 - Rusty-belted Tapaculo - Liosceles thoracicus', 'XC91447 - Rusty-belted Tapaculo - Liosceles thoracicus', 'XC91447 - Rusty-belted Tapaculo - Liosceles thoracicus', 'XC91448 - Red-necked Woodpecker - Campephilus rubricollis', 'XC91449 - Black-faced Cotinga - Conioptilon mcilhennyi', 'XC91449 - Black-faced Cotinga - Conioptilon mcilhennyi', 'XC91449 - Black-faced Cotinga - Conioptilon mcilhennyi', 'XC91449 - Black-faced Cotinga - Conioptilon mcilhennyi', 'XC91449 - Black-faced Cotinga - Conioptilon mcilhennyi', 'XC91449 - Black-faced Cotinga - Conioptilon mcilhennyi', 'XC91449 - Black-faced Cotinga - Conioptilon mcilhennyi', 'XC91449 - Black-faced Cotinga - Conioptilon mcilhennyi', 'XC91451 - Black-faced Cotinga - Conioptilon mcilhennyi', 'XC91452 - Black-faced Cotinga - Conioptilon mcilhennyi', \"XC91453 - Ihering's Antwren - Myrmotherula iheringi\", \"XC91453 - Ihering's Antwren - Myrmotherula iheringi\", \"XC91453 - Ihering's Antwren - Myrmotherula iheringi\", \"XC91453 - Ihering's Antwren - Myrmotherula iheringi\", \"XC91453 - Ihering's Antwren - Myrmotherula iheringi\", \"XC91453 - Ihering's Antwren - Myrmotherula iheringi\", \"XC91453 - Ihering's Antwren - Myrmotherula iheringi\", \"XC91454 - Ihering's Antwren - Myrmotherula iheringi\", \"XC91454 - Ihering's Antwren - Myrmotherula iheringi\", \"XC91454 - Ihering's Antwren - Myrmotherula iheringi\", \"XC91454 - Ihering's Antwren - Myrmotherula iheringi\", \"XC91454 - Ihering's Antwren - Myrmotherula iheringi\", \"XC91455 - Ihering's Antwren - Myrmotherula iheringi\", \"XC91455 - Ihering's Antwren - Myrmotherula iheringi\", \"XC91455 - Ihering's Antwren - Myrmotherula iheringi\", \"XC91456 - Ihering's Antwren - Myrmotherula iheringi\", \"XC91456 - Ihering's Antwren - Myrmotherula iheringi\", \"XC91456 - Ihering's Antwren - Myrmotherula iheringi\", \"XC91456 - Ihering's Antwren - Myrmotherula iheringi\", \"XC91456 - Ihering's Antwren - Myrmotherula iheringi\", \"XC91456 - Ihering's Antwren - Myrmotherula iheringi\", \"XC91456 - Ihering's Antwren - Myrmotherula iheringi\", 'XC91457 - Black-capped Parakeet - Pyrrhura rupicola lowlands', 'XC91457 - Black-capped Parakeet - Pyrrhura rupicola lowlands', 'XC91457 - Black-capped Parakeet - Pyrrhura rupicola lowlands', 'XC91460 - Black Hawk-Eagle - Spizaetus tyrannus', 'XC91492 - Yellow Tyrannulet - Capsiempis flaveola flaveola_', 'XC91492 - Yellow Tyrannulet - Capsiempis flaveola flaveola_', 'XC91492 - Yellow Tyrannulet - Capsiempis flaveola flaveola_', 'XC91492 - Yellow Tyrannulet - Capsiempis flaveola flaveola_', 'XC91492 - Yellow Tyrannulet - Capsiempis flaveola flaveola_', 'XC91492 - Yellow Tyrannulet - Capsiempis flaveola flaveola_', 'XC91492 - Yellow Tyrannulet - Capsiempis flaveola flaveola_', 'XC91493 - Yellow Tyrannulet - Capsiempis flaveola flaveola_', 'XC91493 - Yellow Tyrannulet - Capsiempis flaveola flaveola_', 'XC91493 - Yellow Tyrannulet - Capsiempis flaveola flaveola_', 'XC91493 - Yellow Tyrannulet - Capsiempis flaveola flaveola_', 'XC91494 - Violaceous Jay - Cyanocorax violaceus (1)', 'XC91494 - Violaceous Jay - Cyanocorax violaceus (1)', 'XC91494 - Violaceous Jay - Cyanocorax violaceus (1)', 'XC91494 - Violaceous Jay - Cyanocorax violaceus (1)', 'XC91494 - Violaceous Jay - Cyanocorax violaceus (1)', 'XC91494 - Violaceous Jay - Cyanocorax violaceus (1)', 'XC91494 - Violaceous Jay - Cyanocorax violaceus (1)', 'XC91494 - Violaceous Jay - Cyanocorax violaceus (1)', 'XC91494 - Violaceous Jay - Cyanocorax violaceus', 'XC91494 - Violaceous Jay - Cyanocorax violaceus', 'XC91494 - Violaceous Jay - Cyanocorax violaceus', 'XC91494 - Violaceous Jay - Cyanocorax violaceus', 'XC91494 - Violaceous Jay - Cyanocorax violaceus', 'XC91494 - Violaceous Jay - Cyanocorax violaceus', 'XC91494 - Violaceous Jay - Cyanocorax violaceus', 'XC91494 - Violaceous Jay - Cyanocorax violaceus', 'XC91495 - Chestnut-headed Crake - Anurolimnas castaneiceps', 'XC91495 - Chestnut-headed Crake - Anurolimnas castaneiceps', 'XC91495 - Chestnut-headed Crake - Anurolimnas castaneiceps', 'XC91495 - Chestnut-headed Crake - Anurolimnas castaneiceps', 'XC91495 - Chestnut-headed Crake - Anurolimnas castaneiceps', 'XC91496 - Fork-tailed Woodnymph - Thalurania furcata', \"XC91498 - Sclater's Antwren - Myrmotherula sclateri\", \"XC91498 - Sclater's Antwren - Myrmotherula sclateri\", \"XC91498 - Sclater's Antwren - Myrmotherula sclateri\", \"XC91501 - Sclater's Antwren - Myrmotherula sclateri\", \"XC91501 - Sclater's Antwren - Myrmotherula sclateri\", \"XC91501 - Sclater's Antwren - Myrmotherula sclateri\", \"XC91501 - Sclater's Antwren - Myrmotherula sclateri\", \"XC91501 - Sclater's Antwren - Myrmotherula sclateri\", \"XC91501 - Sclater's Antwren - Myrmotherula sclateri\", \"XC91501 - Sclater's Antwren - Myrmotherula sclateri\", \"XC91501 - Sclater's Antwren - Myrmotherula sclateri\", \"XC91501 - Sclater's Antwren - Myrmotherula sclateri\", \"XC91501 - Sclater's Antwren - Myrmotherula sclateri\", \"XC91501 - Sclater's Antwren - Myrmotherula sclateri\", \"XC91501 - Sclater's Antwren - Myrmotherula sclateri\", \"XC91501 - Sclater's Antwren - Myrmotherula sclateri\", \"XC91501 - Sclater's Antwren - Myrmotherula sclateri\", 'XC91502 - Olivaceous Flatbill - Rhynchocyclus olivaceus', 'XC91502 - Olivaceous Flatbill - Rhynchocyclus olivaceus', 'XC91502 - Olivaceous Flatbill - Rhynchocyclus olivaceus', 'XC91502 - Olivaceous Flatbill - Rhynchocyclus olivaceus', 'XC91502 - Olivaceous Flatbill - Rhynchocyclus olivaceus', 'XC91502 - Olivaceous Flatbill - Rhynchocyclus olivaceus', 'XC91502 - Olivaceous Flatbill - Rhynchocyclus olivaceus', 'XC91502 - Olivaceous Flatbill - Rhynchocyclus olivaceus', 'XC91502 - Olivaceous Flatbill - Rhynchocyclus olivaceus', 'XC91502 - Olivaceous Flatbill - Rhynchocyclus olivaceus', 'XC91502 - Olivaceous Flatbill - Rhynchocyclus olivaceus', 'XC91502 - Olivaceous Flatbill - Rhynchocyclus olivaceus', 'XC91502 - Olivaceous Flatbill - Rhynchocyclus olivaceus', 'XC91502 - Olivaceous Flatbill - Rhynchocyclus olivaceus', 'XC91502 - Olivaceous Flatbill - Rhynchocyclus olivaceus', 'XC91502 - Olivaceous Flatbill - Rhynchocyclus olivaceus', 'XC91503 - White-chinned Sapphire - Hylocharis cyanus', 'XC91505 - White-bearded Hermit - Phaethornis hispidus', 'XC91507 - White-bearded Hermit - Phaethornis hispidus', 'XC91507 - White-bearded Hermit - Phaethornis hispidus', 'XC91507 - White-bearded Hermit - Phaethornis hispidus', 'XC91507 - White-bearded Hermit - Phaethornis hispidus', 'XC91507 - White-bearded Hermit - Phaethornis hispidus', 'XC91507 - White-bearded Hermit - Phaethornis hispidus', 'XC91507 - White-bearded Hermit - Phaethornis hispidus', 'XC91507 - White-bearded Hermit - Phaethornis hispidus', 'XC91507 - White-bearded Hermit - Phaethornis hispidus', 'XC91507 - White-bearded Hermit - Phaethornis hispidus', 'XC91508 - White-bearded Hermit - Phaethornis hispidus', 'XC91508 - White-bearded Hermit - Phaethornis hispidus', 'XC91508 - White-bearded Hermit - Phaethornis hispidus', 'XC91508 - White-bearded Hermit - Phaethornis hispidus', 'XC91508 - White-bearded Hermit - Phaethornis hispidus', 'XC91508 - White-bearded Hermit - Phaethornis hispidus', 'XC91508 - White-bearded Hermit - Phaethornis hispidus', 'XC91509 - Olivaceous Flatbill - Rhynchocyclus olivaceus', 'XC91509 - Olivaceous Flatbill - Rhynchocyclus olivaceus', 'XC91509 - Olivaceous Flatbill - Rhynchocyclus olivaceus', 'XC91509 - Olivaceous Flatbill - Rhynchocyclus olivaceus', 'XC91509 - Olivaceous Flatbill - Rhynchocyclus olivaceus', 'XC91509 - Olivaceous Flatbill - Rhynchocyclus olivaceus', 'XC91509 - Olivaceous Flatbill - Rhynchocyclus olivaceus', 'XC91509 - Olivaceous Flatbill - Rhynchocyclus olivaceus', 'XC91510 - Red-eyed Vireo - Vireo olivaceus', 'XC91511 - Sulphury Flycatcher - Tyrannopsis sulphurea', 'XC91511 - Sulphury Flycatcher - Tyrannopsis sulphurea', 'XC91511 - Sulphury Flycatcher - Tyrannopsis sulphurea', 'XC91511 - Sulphury Flycatcher - Tyrannopsis sulphurea', 'XC91511 - Sulphury Flycatcher - Tyrannopsis sulphurea', 'XC91511 - Sulphury Flycatcher - Tyrannopsis sulphurea', 'XC91511 - Sulphury Flycatcher - Tyrannopsis sulphurea', 'XC91511 - Sulphury Flycatcher - Tyrannopsis sulphurea', 'XC91512 - Sulphury Flycatcher - Tyrannopsis sulphurea', 'XC91512 - Sulphury Flycatcher - Tyrannopsis sulphurea', 'XC91512 - Sulphury Flycatcher - Tyrannopsis sulphurea', \"XC91513 - Johannes's Tody-Tyrant - Hemitriccus iohannis\", \"XC91513 - Johannes's Tody-Tyrant - Hemitriccus iohannis\", \"XC91513 - Johannes's Tody-Tyrant - Hemitriccus iohannis\", \"XC91513 - Johannes's Tody-Tyrant - Hemitriccus iohannis\", \"XC91513 - Johannes's Tody-Tyrant - Hemitriccus iohannis\", \"XC91513 - Johannes's Tody-Tyrant - Hemitriccus iohannis\", \"XC91513 - Johannes's Tody-Tyrant - Hemitriccus iohannis\", \"XC91513 - Johannes's Tody-Tyrant - Hemitriccus iohannis\", \"XC91513 - Johannes's Tody-Tyrant - Hemitriccus iohannis\", \"XC91513 - Johannes's Tody-Tyrant - Hemitriccus iohannis\", \"XC91513 - Johannes's Tody-Tyrant - Hemitriccus iohannis\", \"XC91513 - Johannes's Tody-Tyrant - Hemitriccus iohannis\", \"XC91513 - Johannes's Tody-Tyrant - Hemitriccus iohannis\", \"XC91513 - Johannes's Tody-Tyrant - Hemitriccus iohannis\", \"XC91513 - Johannes's Tody-Tyrant - Hemitriccus iohannis\", \"XC91513 - Johannes's Tody-Tyrant - Hemitriccus iohannis\", \"XC91513 - Johannes's Tody-Tyrant - Hemitriccus iohannis\", 'XC91514 - Tui Parakeet - Brotogeris sanctithomae', 'XC91514 - Tui Parakeet - Brotogeris sanctithomae', 'XC91514 - Tui Parakeet - Brotogeris sanctithomae', 'XC91514 - Tui Parakeet - Brotogeris sanctithomae', 'XC91514 - Tui Parakeet - Brotogeris sanctithomae', 'XC91514 - Tui Parakeet - Brotogeris sanctithomae', 'XC91514 - Tui Parakeet - Brotogeris sanctithomae', 'XC91514 - Tui Parakeet - Brotogeris sanctithomae', 'XC91514 - Tui Parakeet - Brotogeris sanctithomae', 'XC91514 - Tui Parakeet - Brotogeris sanctithomae', 'XC91514 - Tui Parakeet - Brotogeris sanctithomae', 'XC91514 - Tui Parakeet - Brotogeris sanctithomae', 'XC91515 - Plumbeous Kite - Ictinia plumbea', 'XC91515 - Plumbeous Kite - Ictinia plumbea', 'XC91515 - Plumbeous Kite - Ictinia plumbea', 'XC91515 - Plumbeous Kite - Ictinia plumbea', 'XC91516 - Rufous-fronted Antthrush - Formicarius rufifrons', 'XC91516 - Rufous-fronted Antthrush - Formicarius rufifrons', 'XC91516 - Rufous-fronted Antthrush - Formicarius rufifrons', 'XC91516 - Rufous-fronted Antthrush - Formicarius rufifrons', 'XC91516 - Rufous-fronted Antthrush - Formicarius rufifrons', 'XC91516 - Rufous-fronted Antthrush - Formicarius rufifrons', 'XC91516 - Rufous-fronted Antthrush - Formicarius rufifrons', 'XC91516 - Rufous-fronted Antthrush - Formicarius rufifrons', 'XC91516 - Rufous-fronted Antthrush - Formicarius rufifrons', 'XC91516 - Rufous-fronted Antthrush - Formicarius rufifrons', 'XC91516 - Rufous-fronted Antthrush - Formicarius rufifrons', 'XC91516 - Rufous-fronted Antthrush - Formicarius rufifrons', 'XC91517 - Chattering Gnatwren - Ramphocaenus sticturus obscurus', 'XC91517 - Chattering Gnatwren - Ramphocaenus sticturus obscurus', 'XC91517 - Chattering Gnatwren - Ramphocaenus sticturus obscurus', 'XC91517 - Chattering Gnatwren - Ramphocaenus sticturus obscurus', 'XC91517 - Chattering Gnatwren - Ramphocaenus sticturus obscurus', 'XC91517 - Chattering Gnatwren - Ramphocaenus sticturus obscurus', 'XC91517 - Chattering Gnatwren - Ramphocaenus sticturus obscurus', 'XC91518 - Flammulated Bamboo Tyrant - Hemitriccus flammulatus', 'XC91518 - Flammulated Bamboo Tyrant - Hemitriccus flammulatus', 'XC91518 - Flammulated Bamboo Tyrant - Hemitriccus flammulatus', 'XC91518 - Flammulated Bamboo Tyrant - Hemitriccus flammulatus', 'XC91519 - Rusty-fronted Tody-Flycatcher - Poecilotriccus latirostris', 'XC91519 - Rusty-fronted Tody-Flycatcher - Poecilotriccus latirostris', 'XC91558 - Greyish Saltator - Saltator coerulescens', 'XC91559 - Black-faced Cotinga - Conioptilon mcilhennyi', 'XC91559 - Black-faced Cotinga - Conioptilon mcilhennyi', 'XC91559 - Black-faced Cotinga - Conioptilon mcilhennyi', 'XC91559 - Black-faced Cotinga - Conioptilon mcilhennyi', 'XC91559 - Black-faced Cotinga - Conioptilon mcilhennyi', 'XC91559 - Black-faced Cotinga - Conioptilon mcilhennyi', 'XC91559 - Black-faced Cotinga - Conioptilon mcilhennyi', 'XC91559 - Black-faced Cotinga - Conioptilon mcilhennyi', 'XC91561 - Yellow-crowned Amazon - Amazona ochrocephala', 'XC91561 - Yellow-crowned Amazon - Amazona ochrocephala', 'XC91562 - Yellow-crowned Amazon - Amazona ochrocephala', 'XC91562 - Yellow-crowned Amazon - Amazona ochrocephala', 'XC91563 - Olive-faced Flatbill - Tolmomyias viridiceps', 'XC91563 - Olive-faced Flatbill - Tolmomyias viridiceps', 'XC91563 - Olive-faced Flatbill - Tolmomyias viridiceps', 'XC91563 - Olive-faced Flatbill - Tolmomyias viridiceps', 'XC91563 - Olive-faced Flatbill - Tolmomyias viridiceps', 'XC91564 - Slate-colored Seedeater - Sporophila schistacea', 'XC91564 - Slate-colored Seedeater - Sporophila schistacea', 'XC91564 - Slate-colored Seedeater - Sporophila schistacea', 'XC91564 - Slate-colored Seedeater - Sporophila schistacea', 'XC91564 - Slate-colored Seedeater - Sporophila schistacea', 'XC91565 - Black-throated Antbird - Myrmophylax atrothorax', 'XC91565 - Black-throated Antbird - Myrmophylax atrothorax', 'XC91565 - Black-throated Antbird - Myrmophylax atrothorax', 'XC91565 - Black-throated Antbird - Myrmophylax atrothorax', 'XC91565 - Black-throated Antbird - Myrmophylax atrothorax', 'XC91565 - Black-throated Antbird - Myrmophylax atrothorax', 'XC91565 - Black-throated Antbird - Myrmophylax atrothorax', 'XC91567 - Large-headed Flatbill - Ramphotrigon megacephalum', 'XC91567 - Large-headed Flatbill - Ramphotrigon megacephalum', 'XC91567 - Large-headed Flatbill - Ramphotrigon megacephalum', 'XC91567 - Large-headed Flatbill - Ramphotrigon megacephalum', 'XC91567 - Large-headed Flatbill - Ramphotrigon megacephalum', 'XC91567 - Large-headed Flatbill - Ramphotrigon megacephalum', 'XC91567 - Large-headed Flatbill - Ramphotrigon megacephalum', 'XC91567 - Large-headed Flatbill - Ramphotrigon megacephalum', 'XC91567 - Large-headed Flatbill - Ramphotrigon megacephalum', 'XC91569 - Yellow Tyrannulet - Capsiempis flaveola flaveola_', 'XC91569 - Yellow Tyrannulet - Capsiempis flaveola flaveola_', 'XC91569 - Yellow Tyrannulet - Capsiempis flaveola flaveola_', 'XC91569 - Yellow Tyrannulet - Capsiempis flaveola flaveola_', 'XC91569 - Yellow Tyrannulet - Capsiempis flaveola flaveola_', 'XC91569 - Yellow Tyrannulet - Capsiempis flaveola flaveola_', 'XC91569 - Yellow Tyrannulet - Capsiempis flaveola flaveola_', 'XC91569 - Yellow Tyrannulet - Capsiempis flaveola flaveola_', 'XC91569 - Yellow Tyrannulet - Capsiempis flaveola flaveola_', 'XC91569 - Yellow Tyrannulet - Capsiempis flaveola flaveola_', 'XC91569 - Yellow Tyrannulet - Capsiempis flaveola flaveola_', 'XC91569 - Yellow Tyrannulet - Capsiempis flaveola flaveola_', 'XC91570 - Olive-sided Flycatcher - Contopus cooperi', 'XC91571 - Crested Oropendola - Psarocolius decumanus', 'XC91571 - Crested Oropendola - Psarocolius decumanus', 'XC91571 - Crested Oropendola - Psarocolius decumanus', 'XC91571 - Crested Oropendola - Psarocolius decumanus', 'XC91571 - Crested Oropendola - Psarocolius decumanus', 'XC91572 - Bamboo Antshrike - Cymbilaimus sanctaemariae', 'XC91572 - Bamboo Antshrike - Cymbilaimus sanctaemariae', 'XC91572 - Bamboo Antshrike - Cymbilaimus sanctaemariae', 'XC91572 - Bamboo Antshrike - Cymbilaimus sanctaemariae', 'XC91572 - Bamboo Antshrike - Cymbilaimus sanctaemariae', 'XC91572 - Bamboo Antshrike - Cymbilaimus sanctaemariae', 'XC91572 - Bamboo Antshrike - Cymbilaimus sanctaemariae', 'XC91572 - Bamboo Antshrike - Cymbilaimus sanctaemariae', 'XC91572 - Bamboo Antshrike - Cymbilaimus sanctaemariae', 'XC91572 - Bamboo Antshrike - Cymbilaimus sanctaemariae', 'XC91572 - Bamboo Antshrike - Cymbilaimus sanctaemariae', 'XC91572 - Bamboo Antshrike - Cymbilaimus sanctaemariae', 'XC91572 - Bamboo Antshrike - Cymbilaimus sanctaemariae', 'XC91572 - Bamboo Antshrike - Cymbilaimus sanctaemariae', 'XC91572 - Bamboo Antshrike - Cymbilaimus sanctaemariae', 'XC91573 - Grey-crowned Flatbill - Tolmomyias poliocephalus', 'XC91573 - Grey-crowned Flatbill - Tolmomyias poliocephalus', 'XC91573 - Grey-crowned Flatbill - Tolmomyias poliocephalus', 'XC91573 - Grey-crowned Flatbill - Tolmomyias poliocephalus', 'XC91573 - Grey-crowned Flatbill - Tolmomyias poliocephalus', 'XC91573 - Grey-crowned Flatbill - Tolmomyias poliocephalus', 'XC91573 - Grey-crowned Flatbill - Tolmomyias poliocephalus', 'XC91573 - Grey-crowned Flatbill - Tolmomyias poliocephalus', 'XC91573 - Grey-crowned Flatbill - Tolmomyias poliocephalus', 'XC91573 - Grey-crowned Flatbill - Tolmomyias poliocephalus', 'XC91573 - Grey-crowned Flatbill - Tolmomyias poliocephalus', 'XC91573 - Grey-crowned Flatbill - Tolmomyias poliocephalus', 'XC91575 - Barred Antshrike - Thamnophilus doliatus', 'XC91576 - Grey-lined Hawk - Buteo nitidus', 'XC91576 - Grey-lined Hawk - Buteo nitidus', 'XC91576 - Grey-lined Hawk - Buteo nitidus', 'XC91576 - Grey-lined Hawk - Buteo nitidus', 'XC91576 - Grey-lined Hawk - Buteo nitidus', 'XC91576 - Grey-lined Hawk - Buteo nitidus', 'XC91576 - Grey-lined Hawk - Buteo nitidus', 'XC91576 - Grey-lined Hawk - Buteo nitidus', 'XC91576 - Grey-lined Hawk - Buteo nitidus', 'XC91576 - Grey-lined Hawk - Buteo nitidus', 'XC91576 - Grey-lined Hawk - Buteo nitidus', 'XC91576 - Grey-lined Hawk - Buteo nitidus', 'XC91576 - Grey-lined Hawk - Buteo nitidus', 'XC91576 - Grey-lined Hawk - Buteo nitidus', 'XC91576 - Grey-lined Hawk - Buteo nitidus', 'XC91576 - Grey-lined Hawk - Buteo nitidus', 'XC91576 - Grey-lined Hawk - Buteo nitidus', 'XC91584 - Tropical Gnatcatcher - Polioptila plumbea parvirostris', 'XC91588 - Black-capped Parakeet - Pyrrhura rupicola lowlands', 'XC91588 - Black-capped Parakeet - Pyrrhura rupicola lowlands', 'XC91588 - Black-capped Parakeet - Pyrrhura rupicola lowlands', 'XC91588 - Black-capped Parakeet - Pyrrhura rupicola lowlands', 'XC91588 - Black-capped Parakeet - Pyrrhura rupicola lowlands', 'XC91588 - Black-capped Parakeet - Pyrrhura rupicola lowlands', 'XC91588 - Black-capped Parakeet - Pyrrhura rupicola lowlands', 'XC91588 - Black-capped Parakeet - Pyrrhura rupicola lowlands', 'XC91588 - Black-capped Parakeet - Pyrrhura rupicola lowlands', 'XC91592 - Lined Seedeater - Sporophila lineola', 'XC91592 - Lined Seedeater - Sporophila lineola', 'XC91592 - Lined Seedeater - Sporophila lineola', 'XC91592 - Lined Seedeater - Sporophila lineola', 'XC91592 - Lined Seedeater - Sporophila lineola', 'XC91592 - Lined Seedeater - Sporophila lineola', 'XC91592 - Lined Seedeater - Sporophila lineola', 'XC91592 - Lined Seedeater - Sporophila lineola', 'XC91592 - Lined Seedeater - Sporophila lineola', 'XC91592 - Lined Seedeater - Sporophila lineola', 'XC91592 - Lined Seedeater - Sporophila lineola', 'XC91592 - Lined Seedeater - Sporophila lineola', 'XC91592 - Lined Seedeater - Sporophila lineola', 'XC91658 - Boat-billed Flycatcher - Megarynchus pitangua', 'XC91658 - Boat-billed Flycatcher - Megarynchus pitangua', 'XC91658 - Boat-billed Flycatcher - Megarynchus pitangua', 'XC91658 - Boat-billed Flycatcher - Megarynchus pitangua', 'XC91658 - Boat-billed Flycatcher - Megarynchus pitangua', 'XC91658 - Boat-billed Flycatcher - Megarynchus pitangua', 'XC91659 - Boat-billed Flycatcher - Megarynchus pitangua', 'XC91659 - Boat-billed Flycatcher - Megarynchus pitangua', 'XC91659 - Boat-billed Flycatcher - Megarynchus pitangua', 'XC91659 - Boat-billed Flycatcher - Megarynchus pitangua', 'XC91659 - Boat-billed Flycatcher - Megarynchus pitangua', 'XC91659 - Boat-billed Flycatcher - Megarynchus pitangua', 'XC91659 - Boat-billed Flycatcher - Megarynchus pitangua', 'XC91660 - Yellow-breasted Warbling Antbird - Hypocnemis subflava', 'XC91660 - Yellow-breasted Warbling Antbird - Hypocnemis subflava', 'XC91660 - Yellow-breasted Warbling Antbird - Hypocnemis subflava', 'XC91660 - Yellow-breasted Warbling Antbird - Hypocnemis subflava', 'XC91660 - Yellow-breasted Warbling Antbird - Hypocnemis subflava', 'XC91661 - Olive Oropendola - Psarocolius bifasciatus yuracares', 'XC91661 - Olive Oropendola - Psarocolius bifasciatus yuracares', 'XC91662 - Chattering Gnatwren - Ramphocaenus sticturus obscurus', 'XC91662 - Chattering Gnatwren - Ramphocaenus sticturus obscurus', 'XC91662 - Chattering Gnatwren - Ramphocaenus sticturus obscurus', 'XC91662 - Chattering Gnatwren - Ramphocaenus sticturus obscurus', 'XC91662 - Chattering Gnatwren - Ramphocaenus sticturus obscurus', 'XC91663 - Chattering Gnatwren - Ramphocaenus sticturus obscurus', 'XC91663 - Chattering Gnatwren - Ramphocaenus sticturus obscurus', 'XC91663 - Chattering Gnatwren - Ramphocaenus sticturus obscurus', 'XC91663 - Chattering Gnatwren - Ramphocaenus sticturus obscurus', 'XC91663 - Chattering Gnatwren - Ramphocaenus sticturus obscurus', 'XC91663 - Chattering Gnatwren - Ramphocaenus sticturus obscurus', 'XC91663 - Chattering Gnatwren - Ramphocaenus sticturus obscurus', 'XC91663 - Chattering Gnatwren - Ramphocaenus sticturus obscurus', 'XC91663 - Chattering Gnatwren - Ramphocaenus sticturus obscurus', 'XC91663 - Chattering Gnatwren - Ramphocaenus sticturus obscurus', 'XC91663 - Chattering Gnatwren - Ramphocaenus sticturus obscurus', 'XC91664 - Double-collared Seedeater - Sporophila caerulescens', 'XC91664 - Double-collared Seedeater - Sporophila caerulescens', 'XC91664 - Double-collared Seedeater - Sporophila caerulescens', 'XC91664 - Double-collared Seedeater - Sporophila caerulescens', 'XC91664 - Double-collared Seedeater - Sporophila caerulescens', 'XC91664 - Double-collared Seedeater - Sporophila caerulescens', 'XC91664 - Double-collared Seedeater - Sporophila caerulescens', 'XC91664 - Double-collared Seedeater - Sporophila caerulescens', 'XC91664 - Double-collared Seedeater - Sporophila caerulescens', 'XC91664 - Double-collared Seedeater - Sporophila caerulescens', 'XC91664 - Double-collared Seedeater - Sporophila caerulescens', 'XC91664 - Double-collared Seedeater - Sporophila caerulescens', 'XC91665 - Chattering Gnatwren - Ramphocaenus sticturus obscurus', 'XC91665 - Chattering Gnatwren - Ramphocaenus sticturus obscurus', 'XC91666 - Black-and-white Tanager - Conothraupis speculigera', 'XC91666 - Black-and-white Tanager - Conothraupis speculigera', 'XC91666 - Black-and-white Tanager - Conothraupis speculigera', 'XC91666 - Black-and-white Tanager - Conothraupis speculigera', 'XC91668 - Black-and-white Tanager - Conothraupis speculigera', 'XC91668 - Black-and-white Tanager - Conothraupis speculigera', 'XC91668 - Black-and-white Tanager - Conothraupis speculigera', \"XC91669 - Cabanis's Spinetail - Synallaxis cabanisi\", \"XC91669 - Cabanis's Spinetail - Synallaxis cabanisi\", \"XC91669 - Cabanis's Spinetail - Synallaxis cabanisi\", \"XC91669 - Cabanis's Spinetail - Synallaxis cabanisi\", \"XC91669 - Cabanis's Spinetail - Synallaxis cabanisi\", \"XC91669 - Cabanis's Spinetail - Synallaxis cabanisi\", \"XC91671 - Cabanis's Spinetail - Synallaxis cabanisi\", \"XC91671 - Cabanis's Spinetail - Synallaxis cabanisi\", \"XC91671 - Cabanis's Spinetail - Synallaxis cabanisi\", \"XC91671 - Cabanis's Spinetail - Synallaxis cabanisi\", \"XC91672 - Cabanis's Spinetail - Synallaxis cabanisi\", \"XC91672 - Cabanis's Spinetail - Synallaxis cabanisi\", \"XC91672 - Cabanis's Spinetail - Synallaxis cabanisi\", \"XC91672 - Cabanis's Spinetail - Synallaxis cabanisi\", \"XC91672 - Cabanis's Spinetail - Synallaxis cabanisi\", \"XC91672 - Cabanis's Spinetail - Synallaxis cabanisi\", \"XC91672 - Cabanis's Spinetail - Synallaxis cabanisi\", 'XC91673 - Bananaquit - Coereba flaveola', 'XC91673 - Bananaquit - Coereba flaveola', 'XC91673 - Bananaquit - Coereba flaveola', 'XC91673 - Bananaquit - Coereba flaveola', 'XC91673 - Bananaquit - Coereba flaveola', 'XC91673 - Bananaquit - Coereba flaveola', 'XC91675 - Rufous-fronted Antthrush - Formicarius rufifrons', 'XC91675 - Rufous-fronted Antthrush - Formicarius rufifrons', 'XC91675 - Rufous-fronted Antthrush - Formicarius rufifrons', 'XC91675 - Rufous-fronted Antthrush - Formicarius rufifrons', 'XC91675 - Rufous-fronted Antthrush - Formicarius rufifrons', 'XC91675 - Rufous-fronted Antthrush - Formicarius rufifrons', 'XC91675 - Rufous-fronted Antthrush - Formicarius rufifrons', 'XC91675 - Rufous-fronted Antthrush - Formicarius rufifrons', 'XC91675 - Rufous-fronted Antthrush - Formicarius rufifrons', 'XC91676 - Sulphur-bellied Tyrant-Manakin - Neopelma sulphureiventer', 'XC91676 - Sulphur-bellied Tyrant-Manakin - Neopelma sulphureiventer', 'XC91676 - Sulphur-bellied Tyrant-Manakin - Neopelma sulphureiventer', 'XC91676 - Sulphur-bellied Tyrant-Manakin - Neopelma sulphureiventer', 'XC91676 - Sulphur-bellied Tyrant-Manakin - Neopelma sulphureiventer', 'XC91676 - Sulphur-bellied Tyrant-Manakin - Neopelma sulphureiventer', 'XC91677 - Sulphur-bellied Tyrant-Manakin - Neopelma sulphureiventer', 'XC91677 - Sulphur-bellied Tyrant-Manakin - Neopelma sulphureiventer', 'XC91677 - Sulphur-bellied Tyrant-Manakin - Neopelma sulphureiventer', 'XC91677 - Sulphur-bellied Tyrant-Manakin - Neopelma sulphureiventer', 'XC91677 - Sulphur-bellied Tyrant-Manakin - Neopelma sulphureiventer', 'XC91677 - Sulphur-bellied Tyrant-Manakin - Neopelma sulphureiventer', 'XC91677 - Sulphur-bellied Tyrant-Manakin - Neopelma sulphureiventer', 'XC91677 - Sulphur-bellied Tyrant-Manakin - Neopelma sulphureiventer', 'XC91677 - Sulphur-bellied Tyrant-Manakin - Neopelma sulphureiventer', 'XC91677 - Sulphur-bellied Tyrant-Manakin - Neopelma sulphureiventer', 'XC91678 - Rufous-headed Woodpecker - Celeus spectabilis', 'XC91678 - Rufous-headed Woodpecker - Celeus spectabilis', 'XC91678 - Rufous-headed Woodpecker - Celeus spectabilis', 'XC91679 - Rufous-headed Woodpecker - Celeus spectabilis', 'XC91679 - Rufous-headed Woodpecker - Celeus spectabilis', 'XC91679 - Rufous-headed Woodpecker - Celeus spectabilis', 'XC91679 - Rufous-headed Woodpecker - Celeus spectabilis', 'XC91679 - Rufous-headed Woodpecker - Celeus spectabilis', 'XC91679 - Rufous-headed Woodpecker - Celeus spectabilis', 'XC91679 - Rufous-headed Woodpecker - Celeus spectabilis', 'XC91679 - Rufous-headed Woodpecker - Celeus spectabilis', 'XC91679 - Rufous-headed Woodpecker - Celeus spectabilis', 'XC91679 - Rufous-headed Woodpecker - Celeus spectabilis', 'XC91679 - Rufous-headed Woodpecker - Celeus spectabilis', 'XC91679 - Rufous-headed Woodpecker - Celeus spectabilis', 'XC91679 - Rufous-headed Woodpecker - Celeus spectabilis', 'XC91679 - Rufous-headed Woodpecker - Celeus spectabilis', 'XC91680 - Chattering Gnatwren - Ramphocaenus sticturus obscurus', 'XC91680 - Chattering Gnatwren - Ramphocaenus sticturus obscurus', 'XC91680 - Chattering Gnatwren - Ramphocaenus sticturus obscurus', 'XC91680 - Chattering Gnatwren - Ramphocaenus sticturus obscurus', 'XC91680 - Chattering Gnatwren - Ramphocaenus sticturus obscurus', 'XC91681 - Scarlet Tanager - Piranga olivacea', 'XC91681 - Scarlet Tanager - Piranga olivacea', 'XC91681 - Scarlet Tanager - Piranga olivacea', 'XC91681 - Scarlet Tanager - Piranga olivacea', 'XC91681 - Scarlet Tanager - Piranga olivacea', 'XC91682 - Streaked Flycatcher - Myiodynastes maculatus solitarius', 'XC91682 - Streaked Flycatcher - Myiodynastes maculatus solitarius', 'XC91682 - Streaked Flycatcher - Myiodynastes maculatus solitarius', 'XC91683 - Green Ibis - Mesembrinibis cayennensis', 'XC91683 - Green Ibis - Mesembrinibis cayennensis', 'XC91684 - Paint-billed Crake - Neocrex erythrops', 'XC91684 - Paint-billed Crake - Neocrex erythrops', 'XC91684 - Paint-billed Crake - Neocrex erythrops', 'XC91684 - Paint-billed Crake - Neocrex erythrops', 'XC91684 - Paint-billed Crake - Neocrex erythrops', 'XC91685 - Rufous-fronted Antthrush - Formicarius rufifrons', 'XC91685 - Rufous-fronted Antthrush - Formicarius rufifrons', 'XC91685 - Rufous-fronted Antthrush - Formicarius rufifrons', 'XC91685 - Rufous-fronted Antthrush - Formicarius rufifrons', 'XC91685 - Rufous-fronted Antthrush - Formicarius rufifrons', 'XC91685 - Rufous-fronted Antthrush - Formicarius rufifrons', 'XC91685 - Rufous-fronted Antthrush - Formicarius rufifrons', 'XC91685 - Rufous-fronted Antthrush - Formicarius rufifrons', 'XC91685 - Rufous-fronted Antthrush - Formicarius rufifrons', 'XC91685 - Rufous-fronted Antthrush - Formicarius rufifrons', 'XC91685 - Rufous-fronted Antthrush - Formicarius rufifrons', 'XC91687 - Rufous Twistwing - Cnipodectes superrufus', 'XC91687 - Rufous Twistwing - Cnipodectes superrufus', 'XC91687 - Rufous Twistwing - Cnipodectes superrufus', 'XC91687 - Rufous Twistwing - Cnipodectes superrufus', 'XC91687 - Rufous Twistwing - Cnipodectes superrufus', 'XC91687 - Rufous Twistwing - Cnipodectes superrufus', 'XC91687 - Rufous Twistwing - Cnipodectes superrufus', 'XC91687 - Rufous Twistwing - Cnipodectes superrufus', 'XC91687 - Rufous Twistwing - Cnipodectes superrufus', 'XC91688 - Rufous Twistwing - Cnipodectes superrufus', 'XC91688 - Rufous Twistwing - Cnipodectes superrufus', 'XC91688 - Rufous Twistwing - Cnipodectes superrufus', 'XC91688 - Rufous Twistwing - Cnipodectes superrufus', 'XC91688 - Rufous Twistwing - Cnipodectes superrufus', 'XC91688 - Rufous Twistwing - Cnipodectes superrufus', 'XC91688 - Rufous Twistwing - Cnipodectes superrufus', 'XC91688 - Rufous Twistwing - Cnipodectes superrufus', 'XC91688 - Rufous Twistwing - Cnipodectes superrufus', 'XC91688 - Rufous Twistwing - Cnipodectes superrufus', 'XC91688 - Rufous Twistwing - Cnipodectes superrufus', 'XC91689 - Rufous Twistwing - Cnipodectes superrufus', 'XC91689 - Rufous Twistwing - Cnipodectes superrufus', 'XC91689 - Rufous Twistwing - Cnipodectes superrufus', 'XC91689 - Rufous Twistwing - Cnipodectes superrufus', 'XC91689 - Rufous Twistwing - Cnipodectes superrufus', 'XC91689 - Rufous Twistwing - Cnipodectes superrufus', 'XC91690 - Rufous Twistwing - Cnipodectes superrufus', 'XC91690 - Rufous Twistwing - Cnipodectes superrufus', 'XC91690 - Rufous Twistwing - Cnipodectes superrufus', 'XC91690 - Rufous Twistwing - Cnipodectes superrufus', 'XC91690 - Rufous Twistwing - Cnipodectes superrufus', 'XC91690 - Rufous Twistwing - Cnipodectes superrufus', 'XC91690 - Rufous Twistwing - Cnipodectes superrufus', 'XC91690 - Rufous Twistwing - Cnipodectes superrufus', 'XC91690 - Rufous Twistwing - Cnipodectes superrufus', 'XC91690 - Rufous Twistwing - Cnipodectes superrufus', 'XC91690 - Rufous Twistwing - Cnipodectes superrufus', 'XC91690 - Rufous Twistwing - Cnipodectes superrufus', 'XC91690 - Rufous Twistwing - Cnipodectes superrufus', 'XC91690 - Rufous Twistwing - Cnipodectes superrufus', 'XC91690 - Rufous Twistwing - Cnipodectes superrufus', 'XC91690 - Rufous Twistwing - Cnipodectes superrufus', 'XC91691 - Rufous Twistwing - Cnipodectes superrufus', 'XC91691 - Rufous Twistwing - Cnipodectes superrufus', 'XC91691 - Rufous Twistwing - Cnipodectes superrufus', 'XC91691 - Rufous Twistwing - Cnipodectes superrufus', 'XC91691 - Rufous Twistwing - Cnipodectes superrufus', 'XC91691 - Rufous Twistwing - Cnipodectes superrufus', 'XC91691 - Rufous Twistwing - Cnipodectes superrufus', 'XC91691 - Rufous Twistwing - Cnipodectes superrufus', 'XC91691 - Rufous Twistwing - Cnipodectes superrufus', 'XC91691 - Rufous Twistwing - Cnipodectes superrufus', 'XC91691 - Rufous Twistwing - Cnipodectes superrufus', 'XC91691 - Rufous Twistwing - Cnipodectes superrufus', 'XC91691 - Rufous Twistwing - Cnipodectes superrufus', 'XC91691 - Rufous Twistwing - Cnipodectes superrufus', 'XC91691 - Rufous Twistwing - Cnipodectes superrufus', 'XC91691 - Rufous Twistwing - Cnipodectes superrufus', 'XC91691 - Rufous Twistwing - Cnipodectes superrufus', 'XC91691 - Rufous Twistwing - Cnipodectes superrufus', 'XC91692 - Yungas Tyrannulet - Phyllomyias weedeni', 'XC91692 - Yungas Tyrannulet - Phyllomyias weedeni', 'XC91692 - Yungas Tyrannulet - Phyllomyias weedeni', 'XC91692 - Yungas Tyrannulet - Phyllomyias weedeni', 'XC91692 - Yungas Tyrannulet - Phyllomyias weedeni', 'XC91692 - Yungas Tyrannulet - Phyllomyias weedeni', 'XC91692 - Yungas Tyrannulet - Phyllomyias weedeni', 'XC91692 - Yungas Tyrannulet - Phyllomyias weedeni', 'XC91692 - Yungas Tyrannulet - Phyllomyias weedeni', 'XC91692 - Yungas Tyrannulet - Phyllomyias weedeni', 'XC91692 - Yungas Tyrannulet - Phyllomyias weedeni', 'XC91692 - Yungas Tyrannulet - Phyllomyias weedeni', 'XC91692 - Yungas Tyrannulet - Phyllomyias weedeni', 'XC91692 - Yungas Tyrannulet - Phyllomyias weedeni', 'XC91692 - Yungas Tyrannulet - Phyllomyias weedeni', 'XC91692 - Yungas Tyrannulet - Phyllomyias weedeni', 'XC91692 - Yungas Tyrannulet - Phyllomyias weedeni', 'XC91692 - Yungas Tyrannulet - Phyllomyias weedeni', 'XC91693 - Yungas Tyrannulet - Phyllomyias weedeni', 'XC91693 - Yungas Tyrannulet - Phyllomyias weedeni', 'XC91693 - Yungas Tyrannulet - Phyllomyias weedeni', 'XC91693 - Yungas Tyrannulet - Phyllomyias weedeni', 'XC91693 - Yungas Tyrannulet - Phyllomyias weedeni', 'XC91693 - Yungas Tyrannulet - Phyllomyias weedeni', 'XC91693 - Yungas Tyrannulet - Phyllomyias weedeni', 'XC91693 - Yungas Tyrannulet - Phyllomyias weedeni', 'XC91693 - Yungas Tyrannulet - Phyllomyias weedeni', 'XC91693 - Yungas Tyrannulet - Phyllomyias weedeni', 'XC91693 - Yungas Tyrannulet - Phyllomyias weedeni', 'XC91693 - Yungas Tyrannulet - Phyllomyias weedeni', 'XC91693 - Yungas Tyrannulet - Phyllomyias weedeni', 'XC91693 - Yungas Tyrannulet - Phyllomyias weedeni', 'XC91693 - Yungas Tyrannulet - Phyllomyias weedeni', 'XC91694 - Yungas Tyrannulet - Phyllomyias weedeni', 'XC91694 - Yungas Tyrannulet - Phyllomyias weedeni', 'XC91694 - Yungas Tyrannulet - Phyllomyias weedeni', 'XC91694 - Yungas Tyrannulet - Phyllomyias weedeni', 'XC97439 - Acre Tody-Tyrant - Hemitriccus cohnhafti', 'XC97439 - Acre Tody-Tyrant - Hemitriccus cohnhafti', 'XC97439 - Acre Tody-Tyrant - Hemitriccus cohnhafti', 'XC97439 - Acre Tody-Tyrant - Hemitriccus cohnhafti', 'XC97439 - Acre Tody-Tyrant - Hemitriccus cohnhafti', 'XC97439 - Acre Tody-Tyrant - Hemitriccus cohnhafti', 'XC97439 - Acre Tody-Tyrant - Hemitriccus cohnhafti', 'XC97439 - Acre Tody-Tyrant - Hemitriccus cohnhafti', 'XC97439 - Acre Tody-Tyrant - Hemitriccus cohnhafti', 'XC97439 - Acre Tody-Tyrant - Hemitriccus cohnhafti', 'XC97439 - Acre Tody-Tyrant - Hemitriccus cohnhafti', 'XC97441 - Acre Tody-Tyrant - Hemitriccus cohnhafti', 'XC97441 - Acre Tody-Tyrant - Hemitriccus cohnhafti', 'XC97441 - Acre Tody-Tyrant - Hemitriccus cohnhafti', 'XC97441 - Acre Tody-Tyrant - Hemitriccus cohnhafti', 'XC97441 - Acre Tody-Tyrant - Hemitriccus cohnhafti', 'XC97441 - Acre Tody-Tyrant - Hemitriccus cohnhafti', 'XC97441 - Acre Tody-Tyrant - Hemitriccus cohnhafti', 'XC97441 - Acre Tody-Tyrant - Hemitriccus cohnhafti', 'XC97441 - Acre Tody-Tyrant - Hemitriccus cohnhafti', 'XC97441 - Acre Tody-Tyrant - Hemitriccus cohnhafti', 'XC97441 - Acre Tody-Tyrant - Hemitriccus cohnhafti', 'XC97441 - Acre Tody-Tyrant - Hemitriccus cohnhafti', 'XC97441 - Acre Tody-Tyrant - Hemitriccus cohnhafti', 'XC97441 - Acre Tody-Tyrant - Hemitriccus cohnhafti', 'XC97443 - Acre Tody-Tyrant - Hemitriccus cohnhafti', 'XC97443 - Acre Tody-Tyrant - Hemitriccus cohnhafti', 'XC97443 - Acre Tody-Tyrant - Hemitriccus cohnhafti', 'XC97443 - Acre Tody-Tyrant - Hemitriccus cohnhafti', 'XC97443 - Acre Tody-Tyrant - Hemitriccus cohnhafti', 'XC97443 - Acre Tody-Tyrant - Hemitriccus cohnhafti', 'XC97443 - Acre Tody-Tyrant - Hemitriccus cohnhafti', 'XC97443 - Acre Tody-Tyrant - Hemitriccus cohnhafti', 'XC97443 - Acre Tody-Tyrant - Hemitriccus cohnhafti', 'XC97443 - Acre Tody-Tyrant - Hemitriccus cohnhafti', 'XC97443 - Acre Tody-Tyrant - Hemitriccus cohnhafti', 'XC97443 - Acre Tody-Tyrant - Hemitriccus cohnhafti', 'XC97443 - Acre Tody-Tyrant - Hemitriccus cohnhafti', 'XC97443 - Acre Tody-Tyrant - Hemitriccus cohnhafti', 'XC97443 - Acre Tody-Tyrant - Hemitriccus cohnhafti', 'XC97443 - Acre Tody-Tyrant - Hemitriccus cohnhafti', 'XC97444 - Acre Tody-Tyrant - Hemitriccus cohnhafti', 'XC97444 - Acre Tody-Tyrant - Hemitriccus cohnhafti', 'XC97444 - Acre Tody-Tyrant - Hemitriccus cohnhafti', 'XC97444 - Acre Tody-Tyrant - Hemitriccus cohnhafti', 'XC97444 - Acre Tody-Tyrant - Hemitriccus cohnhafti', 'XC97444 - Acre Tody-Tyrant - Hemitriccus cohnhafti', 'XC97444 - Acre Tody-Tyrant - Hemitriccus cohnhafti', 'XC97444 - Acre Tody-Tyrant - Hemitriccus cohnhafti', 'XC97444 - Acre Tody-Tyrant - Hemitriccus cohnhafti', 'XC97444 - Acre Tody-Tyrant - Hemitriccus cohnhafti', 'XC97444 - Acre Tody-Tyrant - Hemitriccus cohnhafti']\n",
      "[0, 0, 0, 0, 0, 0, 0, 0, 0, 0, 0, 0, 0, 0, 0, 1, 1, 1, 1, 1, 1, 1, 1, 1, 1, 2, 2, 2, 2, 2, 2, 2, 3, 3, 3, 3, 3, 3, 3, 3, 3, 3, 3, 3, 3, 3, 3, 3, 3, 3, 3, 3, 4, 4, 4, 4, 4, 4, 4, 4, 4, 4, 4, 4, 5, 5, 5, 5, 5, 5, 5, 5, 5, 5, 5, 5, 5, 5, 5, 6, 6, 6, 6, 6, 6, 6, 6, 6, 6, 6, 6, 6, 6, 6, 6, 6, 6, 6, 6, 6, 6, 6, 7, 7, 7, 7, 7, 7, 7, 7, 7, 7, 7, 7, 7, 7, 7, 7, 7, 7, 7, 7, 8, 8, 8, 8, 8, 8, 8, 8, 8, 9, 9, 9, 9, 9, 9, 9, 9, 9, 9, 9, 9, 9, 9, 9, 9, 9, 9, 9, 9, 9, 9, 10, 10, 10, 10, 10, 10, 11, 11, 11, 11, 11, 11, 11, 11, 11, 11, 11, 11, 11, 11, 11, 11, 11, 11, 11, 12, 12, 12, 12, 12, 12, 12, 12, 13, 13, 13, 13, 13, 13, 13, 13, 13, 14, 14, 14, 14, 14, 14, 14, 14, 14, 14, 14, 14, 14, 14, 14, 14, 14, 14, 14, 14, 14, 14, 14, 14, 14, 14, 14, 14, 14, 14, 14, 14, 14, 14, 14, 14, 15, 15, 15, 15, 15, 15, 15, 15, 15, 15, 15, 15, 15, 15, 15, 15, 15, 15, 15, 15, 15, 15, 15, 15, 15, 15, 15, 15, 15, 15, 15, 16, 16, 16, 16, 16, 16, 16, 17, 17, 17, 17, 17, 17, 18, 18, 18, 18, 18, 19, 19, 19, 19, 19, 19, 19, 19, 19, 19, 20, 20, 20, 20, 20, 20, 20, 20, 20, 20, 20, 20, 20, 20, 20, 21, 21, 21, 21, 21, 21, 21, 21, 21, 21, 21, 21, 21, 21, 21, 21, 21, 21, 21, 22, 22, 22, 22, 22, 23, 23, 23, 23, 23, 23, 23, 23, 23, 23, 23, 24, 24, 24, 24, 24, 24, 24, 24, 24, 24, 24, 24, 25, 25, 25, 25, 25, 25, 25, 25, 25, 25, 25, 26, 26, 26, 26, 26, 27, 27, 27, 27, 27, 27, 27, 28, 28, 28, 28, 28, 29, 29, 29, 29, 29, 29, 29, 29, 29, 29, 29, 29, 29, 30, 30, 30, 30, 30, 30, 30, 30, 30, 30, 30, 30, 30, 30, 30, 30, 30, 30, 30, 31, 31, 31, 31, 31, 31, 31, 31, 31, 31, 31, 31, 31, 31, 32, 32, 32, 33, 33, 33, 34, 34, 34, 35, 35, 35, 35, 35, 35, 35, 35, 35, 35, 35, 35, 35, 35, 35, 36, 36, 37, 37, 37, 38, 38, 38, 38, 38, 38, 38, 38, 38, 38, 38, 38, 38, 38, 39, 39, 39, 39, 39, 39, 39, 39, 39, 39, 39, 39, 40, 40, 40, 40, 40, 40, 40, 40, 40, 40, 40, 40, 41, 41, 41, 41, 41, 41, 41, 41, 41, 41, 41, 41, 41, 42, 42, 42, 42, 42, 42, 42, 42, 42, 42, 42, 42, 42, 42, 42, 42, 42, 43, 43, 43, 43, 43, 43, 43, 43, 43, 43, 43, 44, 44, 44, 44, 44, 44, 44, 44, 45, 45, 45, 45, 45, 45, 45, 45, 45, 45, 45, 45, 45, 45, 45, 45, 45, 45, 45, 45, 45, 45, 45, 45, 45, 45, 45, 45, 45, 45, 45, 45, 45, 45, 46, 46, 46, 46, 46, 46, 46, 46, 46, 46, 46, 47, 47, 47, 47, 47, 47, 48, 48, 48, 48, 48, 49, 49, 49, 49, 50, 50, 50, 50, 50, 50, 50, 50, 51, 51, 51, 51, 51, 51, 51, 51, 51, 52, 52, 52, 52, 52, 52, 52, 52, 52, 52, 52, 52, 52, 53, 53, 53, 53, 53, 53, 53, 53, 53, 53, 53, 53, 53, 53, 53, 53, 53, 53, 54, 54, 54, 54, 54, 54, 54, 54, 54, 54, 54, 54, 54, 54, 54, 54, 54, 55, 55, 55, 55, 55, 56, 56, 56, 56, 56, 57, 57, 57, 57, 57, 58, 58, 58, 58, 58, 58, 58, 58, 58, 58, 58, 58, 58, 59, 59, 59, 59, 59, 59, 60, 60, 60, 60, 60, 60, 60, 60, 60, 60, 60, 60, 60, 60, 60, 60, 60, 61, 61, 61, 61, 61, 61, 61, 61, 62, 62, 62, 62, 62, 62, 62, 62, 62, 62, 62, 62, 62, 62, 62, 62, 62, 62, 62, 62, 62, 62, 62, 62, 63, 63, 63, 63, 63, 63, 63, 63, 63, 64, 64, 64, 64, 64, 65, 65, 65, 65, 65, 66, 66, 66, 66, 66, 66, 66, 66, 67, 67, 67, 67, 67, 67, 67, 67, 67, 67, 67, 67, 68, 68, 68, 68, 68, 68, 68, 69, 69, 69, 69, 69, 69, 69, 70, 70, 70, 70, 70, 70, 70, 70, 70, 71, 71, 71, 71, 71, 71, 71, 71, 71, 71, 71, 71, 71, 71, 71, 71, 71, 71, 72, 72, 72, 72, 72, 72, 72, 72, 72, 72, 72, 72, 73, 73, 73, 74, 74, 74, 74, 74, 74, 74, 74, 74, 74, 74, 75, 75, 75, 75, 75, 75, 75, 75, 75, 75, 75, 76, 76, 76, 76, 76, 76, 76, 76, 76, 76, 76, 76, 76, 76, 76, 76, 76, 76, 76, 77, 77, 77, 77, 77, 78, 78, 78, 78, 78, 78, 78, 78, 78, 78, 78, 78, 79, 79, 79, 79, 79, 79, 79, 79, 79, 79, 79, 79, 79, 80, 80, 80, 80, 80, 80, 80, 80, 80, 80, 80, 81, 81, 81, 81, 81, 81, 81, 81, 81, 81, 81, 81, 82, 82, 82, 82, 82, 82, 82, 83, 83, 83, 83, 83, 84, 84, 84, 85, 85, 85, 85, 85, 85, 85, 85, 85, 85, 86, 86, 86, 86, 86, 86, 86, 86, 86, 86, 86, 86, 86, 86, 87, 87, 87, 87, 87, 87, 87, 87, 88, 88, 88, 88, 88, 88, 88, 88, 88, 88, 88, 88, 88, 89, 89, 89, 89, 89, 89, 89, 89, 89, 89, 89, 89, 89, 89, 89, 89, 89, 89, 89, 89, 89, 89, 89, 89, 90, 90, 90, 91, 91, 91, 91, 92, 92, 93, 93, 93, 93, 93, 93, 93, 93, 93, 93, 93, 93, 93, 94, 94, 94, 94, 94, 94, 94, 94, 94, 94, 94, 94, 95, 95, 95, 95, 95, 95, 95, 95, 95, 95, 95, 95, 95, 95, 95, 95, 95, 96, 96, 96, 96, 97, 97, 98, 98, 98, 99, 99, 99, 99, 99, 100, 100, 100, 100, 100, 100, 100, 101, 101, 101, 101, 101, 101, 101, 101, 101, 101, 101, 101, 101, 101, 101, 101, 102, 102, 102, 102, 102, 102, 102, 102, 102, 103, 103, 103, 103, 104, 104, 104, 104, 104, 104, 104, 104, 104, 104, 104, 105, 105, 105, 105, 105, 105, 106, 106, 106, 106, 107, 107, 107, 107, 107, 107, 107, 107, 107, 107, 107, 107, 108, 108, 108, 108, 108, 109, 109, 109, 109, 109, 109, 109, 109, 110, 110, 111, 111, 111, 111, 111, 111, 111, 111, 111, 111, 111, 111, 111, 111, 111, 111, 111, 111, 112, 112, 112, 113, 113, 113, 113, 113, 113, 113, 114, 114, 114, 114, 114, 114, 114, 114, 114, 114, 114, 114, 114, 115, 115, 115, 115, 115, 115, 115, 115, 115, 115, 115, 115, 115, 115, 115, 115, 115, 115, 115, 115, 115, 115, 115, 116, 116, 117, 117, 118, 118, 118, 118, 118, 118, 118, 118, 118, 118, 118, 118, 118, 118, 118, 118, 118, 118, 118, 118, 118, 118, 119, 119, 119, 119, 120, 120, 120, 120, 120, 120, 120, 121, 121, 121, 121, 121, 121, 121, 121, 122, 122, 123, 123, 123, 123, 124, 124, 124, 124, 124, 124, 124, 125, 125, 125, 125, 125, 125, 125, 125, 125, 125, 126, 126, 126, 126, 126, 126, 127, 127, 127, 127, 127, 127, 127, 128, 128, 128, 129, 129, 129, 129, 130, 130, 130, 130, 131, 131, 132, 132, 132, 132, 133, 133, 133]\n"
     ]
    }
   ],
   "source": [
    "num_bird_species = []\n",
    "cluster_list_ordered = []\n",
    "\n",
    "for i in range(len(np.unique(clusters))): \n",
    "    cluster_set = set()\n",
    "    for j in get_clip_indexes(i, clusters):\n",
    "        cluster_list_ordered.append(i)\n",
    "        bird_species = os.path.splitext(file_names[j])[0].split(\"-\",1)[1].strip()\n",
    "#         print(bird_species)\n",
    "#         print(type(bird_species))\n",
    "        cluster_set.add(bird_species)\n",
    "    num_bird_species.append(len(cluster_set))\n",
    "    print(cluster_set)\n",
    "\n",
    "print(file_names)\n",
    "print(cluster_list_ordered)\n",
    "# print(num_bird_species)        "
   ]
  },
  {
   "cell_type": "code",
   "execution_count": 240,
   "metadata": {
    "scrolled": false
   },
   "outputs": [
    {
     "name": "stdout",
     "output_type": "stream",
     "text": [
      "134\n",
      "Average number of birds over clusters: 2.1492537313432836\n"
     ]
    },
    {
     "data": {
      "image/png": "[encoded data removed]",
      "text/plain": [
       "<Figure size 432x288 with 1 Axes>"
      ]
     },
     "metadata": {
      "needs_background": "light"
     },
     "output_type": "display_data"
    }
   ],
   "source": [
    "# Number of Bird Species in Every Cluster\n",
    "print(len(num_bird_species))\n",
    "cluster_num = range(0,len(num_bird_species))\n",
    "\n",
    "x = cluster_num \n",
    "y = num_bird_species\n",
    "\n",
    "# Add title, axes\n",
    "plt.bar(x,y)\n",
    "plt.title('Number of Bird Species in Every Cluster')\n",
    "plt.xlabel('Cluster Number')\n",
    "plt.ylabel('Number of Bird Species')\n",
    "\n",
    "average_num_birds = sum(num_bird_species)/len(num_bird_species)\n",
    "print(\"Average number of birds over clusters:\", average_num_birds)"
   ]
  },
  {
   "cell_type": "code",
   "execution_count": 158,
   "metadata": {},
   "outputs": [
    {
     "name": "stdout",
     "output_type": "stream",
     "text": [
      "[1]\n",
      "[122.0]\n",
      "[1, 6]\n",
      "[122.0, 30.333333333333332]\n",
      "[1, 6, 11]\n",
      "[122.0, 30.333333333333332, 17.818181818181817]\n",
      "[1, 6, 11, 16]\n",
      "[122.0, 30.333333333333332, 17.818181818181817, 13.1875]\n",
      "[1, 6, 11, 16, 21]\n",
      "[122.0, 30.333333333333332, 17.818181818181817, 13.1875, 10.19047619047619]\n",
      "[1, 6, 11, 16, 21, 26]\n",
      "[122.0, 30.333333333333332, 17.818181818181817, 13.1875, 10.19047619047619, 8.307692307692308]\n",
      "[1, 6, 11, 16, 21, 26, 31]\n",
      "[122.0, 30.333333333333332, 17.818181818181817, 13.1875, 10.19047619047619, 8.307692307692308, 7.096774193548387]\n",
      "[1, 6, 11, 16, 21, 26, 31, 36]\n",
      "[122.0, 30.333333333333332, 17.818181818181817, 13.1875, 10.19047619047619, 8.307692307692308, 7.096774193548387, 6.277777777777778]\n",
      "[1, 6, 11, 16, 21, 26, 31, 36, 41]\n",
      "[122.0, 30.333333333333332, 17.818181818181817, 13.1875, 10.19047619047619, 8.307692307692308, 7.096774193548387, 6.277777777777778, 5.658536585365853]\n",
      "[1, 6, 11, 16, 21, 26, 31, 36, 41, 46]\n",
      "[122.0, 30.333333333333332, 17.818181818181817, 13.1875, 10.19047619047619, 8.307692307692308, 7.096774193548387, 6.277777777777778, 5.658536585365853, 5.108695652173913]\n",
      "[1, 6, 11, 16, 21, 26, 31, 36, 41, 46, 51]\n",
      "[122.0, 30.333333333333332, 17.818181818181817, 13.1875, 10.19047619047619, 8.307692307692308, 7.096774193548387, 6.277777777777778, 5.658536585365853, 5.108695652173913, 4.647058823529412]\n",
      "[1, 6, 11, 16, 21, 26, 31, 36, 41, 46, 51, 56]\n",
      "[122.0, 30.333333333333332, 17.818181818181817, 13.1875, 10.19047619047619, 8.307692307692308, 7.096774193548387, 6.277777777777778, 5.658536585365853, 5.108695652173913, 4.647058823529412, 4.267857142857143]\n",
      "[1, 6, 11, 16, 21, 26, 31, 36, 41, 46, 51, 56, 61]\n",
      "[122.0, 30.333333333333332, 17.818181818181817, 13.1875, 10.19047619047619, 8.307692307692308, 7.096774193548387, 6.277777777777778, 5.658536585365853, 5.108695652173913, 4.647058823529412, 4.267857142857143, 3.9508196721311477]\n",
      "[1, 6, 11, 16, 21, 26, 31, 36, 41, 46, 51, 56, 61, 66]\n",
      "[122.0, 30.333333333333332, 17.818181818181817, 13.1875, 10.19047619047619, 8.307692307692308, 7.096774193548387, 6.277777777777778, 5.658536585365853, 5.108695652173913, 4.647058823529412, 4.267857142857143, 3.9508196721311477, 3.727272727272727]\n",
      "[1, 6, 11, 16, 21, 26, 31, 36, 41, 46, 51, 56, 61, 66, 71]\n",
      "[122.0, 30.333333333333332, 17.818181818181817, 13.1875, 10.19047619047619, 8.307692307692308, 7.096774193548387, 6.277777777777778, 5.658536585365853, 5.108695652173913, 4.647058823529412, 4.267857142857143, 3.9508196721311477, 3.727272727272727, 3.507042253521127]\n",
      "[1, 6, 11, 16, 21, 26, 31, 36, 41, 46, 51, 56, 61, 66, 71, 76]\n",
      "[122.0, 30.333333333333332, 17.818181818181817, 13.1875, 10.19047619047619, 8.307692307692308, 7.096774193548387, 6.277777777777778, 5.658536585365853, 5.108695652173913, 4.647058823529412, 4.267857142857143, 3.9508196721311477, 3.727272727272727, 3.507042253521127, 3.3157894736842106]\n",
      "[1, 6, 11, 16, 21, 26, 31, 36, 41, 46, 51, 56, 61, 66, 71, 76, 81]\n",
      "[122.0, 30.333333333333332, 17.818181818181817, 13.1875, 10.19047619047619, 8.307692307692308, 7.096774193548387, 6.277777777777778, 5.658536585365853, 5.108695652173913, 4.647058823529412, 4.267857142857143, 3.9508196721311477, 3.727272727272727, 3.507042253521127, 3.3157894736842106, 3.1481481481481484]\n"
     ]
    },
    {
     "ename": "KeyboardInterrupt",
     "evalue": "",
     "output_type": "error",
     "traceback": [
      "\u001b[0;31m---------------------------------------------------------------------------\u001b[0m",
      "\u001b[0;31mKeyboardInterrupt\u001b[0m                         Traceback (most recent call last)",
      "\u001b[0;32m<ipython-input-158-3a8f3ea80ce7>\u001b[0m in \u001b[0;36m<module>\u001b[0;34m\u001b[0m\n\u001b[1;32m      6\u001b[0m \u001b[0;32mfor\u001b[0m \u001b[0mn\u001b[0m \u001b[0;32min\u001b[0m \u001b[0mrange\u001b[0m\u001b[0;34m(\u001b[0m\u001b[0;36m1\u001b[0m\u001b[0;34m,\u001b[0m\u001b[0;36m130\u001b[0m\u001b[0;34m,\u001b[0m\u001b[0;36m5\u001b[0m\u001b[0;34m)\u001b[0m\u001b[0;34m:\u001b[0m\u001b[0;34m\u001b[0m\u001b[0;34m\u001b[0m\u001b[0m\n\u001b[1;32m      7\u001b[0m     \u001b[0mlist_cluster_num\u001b[0m\u001b[0;34m.\u001b[0m\u001b[0mappend\u001b[0m\u001b[0;34m(\u001b[0m\u001b[0mn\u001b[0m\u001b[0;34m)\u001b[0m\u001b[0;34m\u001b[0m\u001b[0;34m\u001b[0m\u001b[0m\n\u001b[0;32m----> 8\u001b[0;31m     \u001b[0mclusters\u001b[0m \u001b[0;34m=\u001b[0m \u001b[0mAgglomerativeClustering\u001b[0m\u001b[0;34m(\u001b[0m\u001b[0mn_clusters\u001b[0m\u001b[0;34m=\u001b[0m\u001b[0mn\u001b[0m\u001b[0;34m,\u001b[0m \u001b[0maffinity\u001b[0m\u001b[0;34m=\u001b[0m\u001b[0;34m'euclidean'\u001b[0m\u001b[0;34m,\u001b[0m \u001b[0mlinkage\u001b[0m\u001b[0;34m=\u001b[0m\u001b[0;34m'ward'\u001b[0m\u001b[0;34m)\u001b[0m\u001b[0;34m.\u001b[0m\u001b[0mfit_predict\u001b[0m\u001b[0;34m(\u001b[0m\u001b[0mmfcc_clips\u001b[0m\u001b[0;34m)\u001b[0m\u001b[0;34m\u001b[0m\u001b[0;34m\u001b[0m\u001b[0m\n\u001b[0m\u001b[1;32m      9\u001b[0m     \u001b[0mnum_bird_species\u001b[0m \u001b[0;34m=\u001b[0m \u001b[0;34m[\u001b[0m\u001b[0;34m]\u001b[0m\u001b[0;34m\u001b[0m\u001b[0;34m\u001b[0m\u001b[0m\n\u001b[1;32m     10\u001b[0m \u001b[0;34m\u001b[0m\u001b[0m\n",
      "\u001b[0;32m/anaconda3/lib/python3.6/site-packages/sklearn/cluster/_agglomerative.py\u001b[0m in \u001b[0;36mfit_predict\u001b[0;34m(self, X, y)\u001b[0m\n\u001b[1;32m    923\u001b[0m             \u001b[0mCluster\u001b[0m \u001b[0mlabels\u001b[0m\u001b[0;34m.\u001b[0m\u001b[0;34m\u001b[0m\u001b[0;34m\u001b[0m\u001b[0m\n\u001b[1;32m    924\u001b[0m         \"\"\"\n\u001b[0;32m--> 925\u001b[0;31m         \u001b[0;32mreturn\u001b[0m \u001b[0msuper\u001b[0m\u001b[0;34m(\u001b[0m\u001b[0;34m)\u001b[0m\u001b[0;34m.\u001b[0m\u001b[0mfit_predict\u001b[0m\u001b[0;34m(\u001b[0m\u001b[0mX\u001b[0m\u001b[0;34m,\u001b[0m \u001b[0my\u001b[0m\u001b[0;34m)\u001b[0m\u001b[0;34m\u001b[0m\u001b[0;34m\u001b[0m\u001b[0m\n\u001b[0m\u001b[1;32m    926\u001b[0m \u001b[0;34m\u001b[0m\u001b[0m\n\u001b[1;32m    927\u001b[0m \u001b[0;34m\u001b[0m\u001b[0m\n",
      "\u001b[0;32m/anaconda3/lib/python3.6/site-packages/sklearn/base.py\u001b[0m in \u001b[0;36mfit_predict\u001b[0;34m(self, X, y)\u001b[0m\n\u001b[1;32m    579\u001b[0m         \u001b[0;31m# non-optimized default implementation; override when a better\u001b[0m\u001b[0;34m\u001b[0m\u001b[0;34m\u001b[0m\u001b[0;34m\u001b[0m\u001b[0m\n\u001b[1;32m    580\u001b[0m         \u001b[0;31m# method is possible for a given clustering algorithm\u001b[0m\u001b[0;34m\u001b[0m\u001b[0;34m\u001b[0m\u001b[0;34m\u001b[0m\u001b[0m\n\u001b[0;32m--> 581\u001b[0;31m         \u001b[0mself\u001b[0m\u001b[0;34m.\u001b[0m\u001b[0mfit\u001b[0m\u001b[0;34m(\u001b[0m\u001b[0mX\u001b[0m\u001b[0;34m)\u001b[0m\u001b[0;34m\u001b[0m\u001b[0;34m\u001b[0m\u001b[0m\n\u001b[0m\u001b[1;32m    582\u001b[0m         \u001b[0;32mreturn\u001b[0m \u001b[0mself\u001b[0m\u001b[0;34m.\u001b[0m\u001b[0mlabels_\u001b[0m\u001b[0;34m\u001b[0m\u001b[0;34m\u001b[0m\u001b[0m\n\u001b[1;32m    583\u001b[0m \u001b[0;34m\u001b[0m\u001b[0m\n",
      "\u001b[0;32m/anaconda3/lib/python3.6/site-packages/sklearn/cluster/_agglomerative.py\u001b[0m in \u001b[0;36mfit\u001b[0;34m(self, X, y)\u001b[0m\n\u001b[1;32m    880\u001b[0m                                          \u001b[0mn_clusters\u001b[0m\u001b[0;34m=\u001b[0m\u001b[0mn_clusters\u001b[0m\u001b[0;34m,\u001b[0m\u001b[0;34m\u001b[0m\u001b[0;34m\u001b[0m\u001b[0m\n\u001b[1;32m    881\u001b[0m                                          \u001b[0mreturn_distance\u001b[0m\u001b[0;34m=\u001b[0m\u001b[0mreturn_distance\u001b[0m\u001b[0;34m,\u001b[0m\u001b[0;34m\u001b[0m\u001b[0;34m\u001b[0m\u001b[0m\n\u001b[0;32m--> 882\u001b[0;31m                                          **kwargs)\n\u001b[0m\u001b[1;32m    883\u001b[0m         (self.children_,\n\u001b[1;32m    884\u001b[0m          \u001b[0mself\u001b[0m\u001b[0;34m.\u001b[0m\u001b[0mn_connected_components_\u001b[0m\u001b[0;34m,\u001b[0m\u001b[0;34m\u001b[0m\u001b[0;34m\u001b[0m\u001b[0m\n",
      "\u001b[0;32m/anaconda3/lib/python3.6/site-packages/joblib/memory.py\u001b[0m in \u001b[0;36m__call__\u001b[0;34m(self, *args, **kwargs)\u001b[0m\n\u001b[1;32m    350\u001b[0m \u001b[0;34m\u001b[0m\u001b[0m\n\u001b[1;32m    351\u001b[0m     \u001b[0;32mdef\u001b[0m \u001b[0m__call__\u001b[0m\u001b[0;34m(\u001b[0m\u001b[0mself\u001b[0m\u001b[0;34m,\u001b[0m \u001b[0;34m*\u001b[0m\u001b[0margs\u001b[0m\u001b[0;34m,\u001b[0m \u001b[0;34m**\u001b[0m\u001b[0mkwargs\u001b[0m\u001b[0;34m)\u001b[0m\u001b[0;34m:\u001b[0m\u001b[0;34m\u001b[0m\u001b[0;34m\u001b[0m\u001b[0m\n\u001b[0;32m--> 352\u001b[0;31m         \u001b[0;32mreturn\u001b[0m \u001b[0mself\u001b[0m\u001b[0;34m.\u001b[0m\u001b[0mfunc\u001b[0m\u001b[0;34m(\u001b[0m\u001b[0;34m*\u001b[0m\u001b[0margs\u001b[0m\u001b[0;34m,\u001b[0m \u001b[0;34m**\u001b[0m\u001b[0mkwargs\u001b[0m\u001b[0;34m)\u001b[0m\u001b[0;34m\u001b[0m\u001b[0;34m\u001b[0m\u001b[0m\n\u001b[0m\u001b[1;32m    353\u001b[0m \u001b[0;34m\u001b[0m\u001b[0m\n\u001b[1;32m    354\u001b[0m     \u001b[0;32mdef\u001b[0m \u001b[0mcall_and_shelve\u001b[0m\u001b[0;34m(\u001b[0m\u001b[0mself\u001b[0m\u001b[0;34m,\u001b[0m \u001b[0;34m*\u001b[0m\u001b[0margs\u001b[0m\u001b[0;34m,\u001b[0m \u001b[0;34m**\u001b[0m\u001b[0mkwargs\u001b[0m\u001b[0;34m)\u001b[0m\u001b[0;34m:\u001b[0m\u001b[0;34m\u001b[0m\u001b[0;34m\u001b[0m\u001b[0m\n",
      "\u001b[0;32m/anaconda3/lib/python3.6/site-packages/sklearn/utils/validation.py\u001b[0m in \u001b[0;36minner_f\u001b[0;34m(*args, **kwargs)\u001b[0m\n\u001b[1;32m     71\u001b[0m                           FutureWarning)\n\u001b[1;32m     72\u001b[0m         \u001b[0mkwargs\u001b[0m\u001b[0;34m.\u001b[0m\u001b[0mupdate\u001b[0m\u001b[0;34m(\u001b[0m\u001b[0;34m{\u001b[0m\u001b[0mk\u001b[0m\u001b[0;34m:\u001b[0m \u001b[0marg\u001b[0m \u001b[0;32mfor\u001b[0m \u001b[0mk\u001b[0m\u001b[0;34m,\u001b[0m \u001b[0marg\u001b[0m \u001b[0;32min\u001b[0m \u001b[0mzip\u001b[0m\u001b[0;34m(\u001b[0m\u001b[0msig\u001b[0m\u001b[0;34m.\u001b[0m\u001b[0mparameters\u001b[0m\u001b[0;34m,\u001b[0m \u001b[0margs\u001b[0m\u001b[0;34m)\u001b[0m\u001b[0;34m}\u001b[0m\u001b[0;34m)\u001b[0m\u001b[0;34m\u001b[0m\u001b[0;34m\u001b[0m\u001b[0m\n\u001b[0;32m---> 73\u001b[0;31m         \u001b[0;32mreturn\u001b[0m \u001b[0mf\u001b[0m\u001b[0;34m(\u001b[0m\u001b[0;34m**\u001b[0m\u001b[0mkwargs\u001b[0m\u001b[0;34m)\u001b[0m\u001b[0;34m\u001b[0m\u001b[0;34m\u001b[0m\u001b[0m\n\u001b[0m\u001b[1;32m     74\u001b[0m     \u001b[0;32mreturn\u001b[0m \u001b[0minner_f\u001b[0m\u001b[0;34m\u001b[0m\u001b[0;34m\u001b[0m\u001b[0m\n\u001b[1;32m     75\u001b[0m \u001b[0;34m\u001b[0m\u001b[0m\n",
      "\u001b[0;32m/anaconda3/lib/python3.6/site-packages/sklearn/cluster/_agglomerative.py\u001b[0m in \u001b[0;36mward_tree\u001b[0;34m(X, connectivity, n_clusters, return_distance)\u001b[0m\n\u001b[1;32m    234\u001b[0m                           stacklevel=2)\n\u001b[1;32m    235\u001b[0m         \u001b[0mX\u001b[0m \u001b[0;34m=\u001b[0m \u001b[0mnp\u001b[0m\u001b[0;34m.\u001b[0m\u001b[0mrequire\u001b[0m\u001b[0;34m(\u001b[0m\u001b[0mX\u001b[0m\u001b[0;34m,\u001b[0m \u001b[0mrequirements\u001b[0m\u001b[0;34m=\u001b[0m\u001b[0;34m\"W\"\u001b[0m\u001b[0;34m)\u001b[0m\u001b[0;34m\u001b[0m\u001b[0;34m\u001b[0m\u001b[0m\n\u001b[0;32m--> 236\u001b[0;31m         \u001b[0mout\u001b[0m \u001b[0;34m=\u001b[0m \u001b[0mhierarchy\u001b[0m\u001b[0;34m.\u001b[0m\u001b[0mward\u001b[0m\u001b[0;34m(\u001b[0m\u001b[0mX\u001b[0m\u001b[0;34m)\u001b[0m\u001b[0;34m\u001b[0m\u001b[0;34m\u001b[0m\u001b[0m\n\u001b[0m\u001b[1;32m    237\u001b[0m         \u001b[0mchildren_\u001b[0m \u001b[0;34m=\u001b[0m \u001b[0mout\u001b[0m\u001b[0;34m[\u001b[0m\u001b[0;34m:\u001b[0m\u001b[0;34m,\u001b[0m \u001b[0;34m:\u001b[0m\u001b[0;36m2\u001b[0m\u001b[0;34m]\u001b[0m\u001b[0;34m.\u001b[0m\u001b[0mastype\u001b[0m\u001b[0;34m(\u001b[0m\u001b[0mnp\u001b[0m\u001b[0;34m.\u001b[0m\u001b[0mintp\u001b[0m\u001b[0;34m)\u001b[0m\u001b[0;34m\u001b[0m\u001b[0;34m\u001b[0m\u001b[0m\n\u001b[1;32m    238\u001b[0m \u001b[0;34m\u001b[0m\u001b[0m\n",
      "\u001b[0;32m/anaconda3/lib/python3.6/site-packages/scipy/cluster/hierarchy.py\u001b[0m in \u001b[0;36mward\u001b[0;34m(y)\u001b[0m\n\u001b[1;32m    824\u001b[0m \u001b[0;34m\u001b[0m\u001b[0m\n\u001b[1;32m    825\u001b[0m     \"\"\"\n\u001b[0;32m--> 826\u001b[0;31m     \u001b[0;32mreturn\u001b[0m \u001b[0mlinkage\u001b[0m\u001b[0;34m(\u001b[0m\u001b[0my\u001b[0m\u001b[0;34m,\u001b[0m \u001b[0mmethod\u001b[0m\u001b[0;34m=\u001b[0m\u001b[0;34m'ward'\u001b[0m\u001b[0;34m,\u001b[0m \u001b[0mmetric\u001b[0m\u001b[0;34m=\u001b[0m\u001b[0;34m'euclidean'\u001b[0m\u001b[0;34m)\u001b[0m\u001b[0;34m\u001b[0m\u001b[0;34m\u001b[0m\u001b[0m\n\u001b[0m\u001b[1;32m    827\u001b[0m \u001b[0;34m\u001b[0m\u001b[0m\n\u001b[1;32m    828\u001b[0m \u001b[0;34m\u001b[0m\u001b[0m\n",
      "\u001b[0;32m/anaconda3/lib/python3.6/site-packages/scipy/cluster/hierarchy.py\u001b[0m in \u001b[0;36mlinkage\u001b[0;34m(y, method, metric, optimal_ordering)\u001b[0m\n\u001b[1;32m   1050\u001b[0m                          \u001b[0;34m'matrix looks suspiciously like an uncondensed '\u001b[0m\u001b[0;34m\u001b[0m\u001b[0;34m\u001b[0m\u001b[0m\n\u001b[1;32m   1051\u001b[0m                          'distance matrix')\n\u001b[0;32m-> 1052\u001b[0;31m         \u001b[0my\u001b[0m \u001b[0;34m=\u001b[0m \u001b[0mdistance\u001b[0m\u001b[0;34m.\u001b[0m\u001b[0mpdist\u001b[0m\u001b[0;34m(\u001b[0m\u001b[0my\u001b[0m\u001b[0;34m,\u001b[0m \u001b[0mmetric\u001b[0m\u001b[0;34m)\u001b[0m\u001b[0;34m\u001b[0m\u001b[0;34m\u001b[0m\u001b[0m\n\u001b[0m\u001b[1;32m   1053\u001b[0m     \u001b[0;32melse\u001b[0m\u001b[0;34m:\u001b[0m\u001b[0;34m\u001b[0m\u001b[0;34m\u001b[0m\u001b[0m\n\u001b[1;32m   1054\u001b[0m         \u001b[0;32mraise\u001b[0m \u001b[0mValueError\u001b[0m\u001b[0;34m(\u001b[0m\u001b[0;34m\"`y` must be 1 or 2 dimensional.\"\u001b[0m\u001b[0;34m)\u001b[0m\u001b[0;34m\u001b[0m\u001b[0;34m\u001b[0m\u001b[0m\n",
      "\u001b[0;32m/anaconda3/lib/python3.6/site-packages/scipy/spatial/distance.py\u001b[0m in \u001b[0;36mpdist\u001b[0;34m(X, metric, *args, **kwargs)\u001b[0m\n\u001b[1;32m   2054\u001b[0m             pdist_fn = getattr(_distance_wrap,\n\u001b[1;32m   2055\u001b[0m                                \"pdist_%s_%s_wrap\" % (metric_name, typ))\n\u001b[0;32m-> 2056\u001b[0;31m             \u001b[0mpdist_fn\u001b[0m\u001b[0;34m(\u001b[0m\u001b[0mX\u001b[0m\u001b[0;34m,\u001b[0m \u001b[0mdm\u001b[0m\u001b[0;34m,\u001b[0m \u001b[0;34m**\u001b[0m\u001b[0mkwargs\u001b[0m\u001b[0;34m)\u001b[0m\u001b[0;34m\u001b[0m\u001b[0;34m\u001b[0m\u001b[0m\n\u001b[0m\u001b[1;32m   2057\u001b[0m             \u001b[0;32mreturn\u001b[0m \u001b[0mdm\u001b[0m\u001b[0;34m\u001b[0m\u001b[0;34m\u001b[0m\u001b[0m\n\u001b[1;32m   2058\u001b[0m \u001b[0;34m\u001b[0m\u001b[0m\n",
      "\u001b[0;31mKeyboardInterrupt\u001b[0m: "
     ]
    }
   ],
   "source": [
    "### Plot average number of birds over clusters for clusters ranging from 1 to 134\n",
    "\n",
    "list_num_of_clusters = []\n",
    "list_of_average_num_birds = []\n",
    "\n",
    "for n in range(1,130,5):\n",
    "    list_num_of_clusters.append(n)\n",
    "    clusters = AgglomerativeClustering(n_clusters=n, affinity='euclidean', linkage='ward').fit_predict(mfcc_clips)\n",
    "    num_bird_species = []\n",
    "\n",
    "    for i in range(len(np.unique(clusters))): \n",
    "        cluster_set = set()\n",
    "        for j in get_clip_indexes(i, clusters):\n",
    "            \n",
    "            bird_species = os.path.splitext(file_names[j])[0].split(\"-\",1)[1].strip()\n",
    "    #         print(bird_species)\n",
    "    #         print(type(bird_species))\n",
    "            cluster_set.add(bird_species)\n",
    "        num_bird_species.append(len(cluster_set))\n",
    "            \n",
    "    average_num_bird_species = sum(num_bird_species)/len(num_bird_species)\n",
    "    list_of_average_num_birds.append(average_num_bird_species)\n",
    "    \n",
    "#     print(list_num_of_clusters)\n",
    "#     print(list_of_average_num_birds)\n",
    "    \n",
    "    "
   ]
  },
  {
   "cell_type": "code",
   "execution_count": 148,
   "metadata": {
    "scrolled": false
   },
   "outputs": [
    {
     "ename": "IndexError",
     "evalue": "too many indices for array",
     "output_type": "error",
     "traceback": [
      "\u001b[0;31m---------------------------------------------------------------------------\u001b[0m",
      "\u001b[0;31mIndexError\u001b[0m                                Traceback (most recent call last)",
      "\u001b[0;32m<ipython-input-148-a30b6588eb7a>\u001b[0m in \u001b[0;36m<module>\u001b[0;34m\u001b[0m\n\u001b[1;32m      1\u001b[0m \u001b[0;31m# Plot spectrogram of all clips in a cluster appended together\u001b[0m\u001b[0;34m\u001b[0m\u001b[0;34m\u001b[0m\u001b[0;34m\u001b[0m\u001b[0m\n\u001b[0;32m----> 2\u001b[0;31m \u001b[0mplot_spectrogram_of_cluster\u001b[0m\u001b[0;34m(\u001b[0m\u001b[0msamplerate\u001b[0m\u001b[0;34m,\u001b[0m \u001b[0mshorter_clips\u001b[0m\u001b[0;34m,\u001b[0m \u001b[0;36m7\u001b[0m\u001b[0;34m,\u001b[0m \u001b[0mclusters\u001b[0m\u001b[0;34m,\u001b[0m \u001b[0mseparate_channels\u001b[0m\u001b[0;34m=\u001b[0m\u001b[0;32mFalse\u001b[0m\u001b[0;34m)\u001b[0m\u001b[0;34m\u001b[0m\u001b[0;34m\u001b[0m\u001b[0m\n\u001b[0m",
      "\u001b[0;32m<ipython-input-130-fbe8c1b913da>\u001b[0m in \u001b[0;36mplot_spectrogram_of_cluster\u001b[0;34m(samplerate, shorter_clips, cluster_i, clusters, separate_channels)\u001b[0m\n\u001b[1;32m     25\u001b[0m     \u001b[0mclip_indexes\u001b[0m \u001b[0;34m=\u001b[0m \u001b[0mget_clip_indexes\u001b[0m\u001b[0;34m(\u001b[0m\u001b[0mcluster_i\u001b[0m\u001b[0;34m,\u001b[0m \u001b[0mclusters\u001b[0m\u001b[0;34m)\u001b[0m\u001b[0;34m\u001b[0m\u001b[0;34m\u001b[0m\u001b[0m\n\u001b[1;32m     26\u001b[0m \u001b[0;34m\u001b[0m\u001b[0m\n\u001b[0;32m---> 27\u001b[0;31m     \u001b[0mleft_channel\u001b[0m \u001b[0;34m=\u001b[0m \u001b[0mshorter_clips\u001b[0m\u001b[0;34m[\u001b[0m\u001b[0mclip_indexes\u001b[0m\u001b[0;34m[\u001b[0m\u001b[0;36m0\u001b[0m\u001b[0;34m]\u001b[0m\u001b[0;34m]\u001b[0m\u001b[0;34m[\u001b[0m\u001b[0;34m:\u001b[0m\u001b[0;34m,\u001b[0m \u001b[0;36m0\u001b[0m\u001b[0;34m]\u001b[0m\u001b[0;34m\u001b[0m\u001b[0;34m\u001b[0m\u001b[0m\n\u001b[0m\u001b[1;32m     28\u001b[0m     \u001b[0mright_channel\u001b[0m \u001b[0;34m=\u001b[0m \u001b[0mshorter_clips\u001b[0m\u001b[0;34m[\u001b[0m\u001b[0mclip_indexes\u001b[0m\u001b[0;34m[\u001b[0m\u001b[0;36m0\u001b[0m\u001b[0;34m]\u001b[0m\u001b[0;34m]\u001b[0m\u001b[0;34m[\u001b[0m\u001b[0;34m:\u001b[0m\u001b[0;34m,\u001b[0m \u001b[0;36m1\u001b[0m\u001b[0;34m]\u001b[0m\u001b[0;34m\u001b[0m\u001b[0;34m\u001b[0m\u001b[0m\n\u001b[1;32m     29\u001b[0m \u001b[0;34m\u001b[0m\u001b[0m\n",
      "\u001b[0;31mIndexError\u001b[0m: too many indices for array"
     ]
    }
   ],
   "source": [
    "# Plot spectrogram of all clips in a cluster appended together\n",
    "plot_spectrogram_of_cluster(samplerate, shorter_clips, 7, clusters, separate_channels=False)"
   ]
  },
  {
   "cell_type": "markdown",
   "metadata": {},
   "source": [
    "## Save as .csv"
   ]
  },
  {
   "cell_type": "code",
   "execution_count": 45,
   "metadata": {},
   "outputs": [
    {
     "ename": "NameError",
     "evalue": "name 'cluster_list_ordered' is not defined",
     "output_type": "error",
     "traceback": [
      "\u001b[0;31m---------------------------------------------------------------------------\u001b[0m",
      "\u001b[0;31mNameError\u001b[0m                                 Traceback (most recent call last)",
      "\u001b[0;32m<ipython-input-45-d2adfdc7f2e3>\u001b[0m in \u001b[0;36m<module>\u001b[0;34m\u001b[0m\n\u001b[1;32m      5\u001b[0m     \u001b[0;34m'File name'\u001b[0m\u001b[0;34m:\u001b[0m \u001b[0mfile_names\u001b[0m\u001b[0;34m,\u001b[0m\u001b[0;34m\u001b[0m\u001b[0;34m\u001b[0m\u001b[0m\n\u001b[1;32m      6\u001b[0m     \u001b[0;34m'Time in clip (seconds)'\u001b[0m\u001b[0;34m:\u001b[0m \u001b[0mtimestamp\u001b[0m\u001b[0;34m,\u001b[0m\u001b[0;34m\u001b[0m\u001b[0;34m\u001b[0m\u001b[0m\n\u001b[0;32m----> 7\u001b[0;31m     \u001b[0;34m'Cluster number'\u001b[0m\u001b[0;34m:\u001b[0m \u001b[0mcluster_list_ordered\u001b[0m\u001b[0;34m\u001b[0m\u001b[0;34m\u001b[0m\u001b[0m\n\u001b[0m\u001b[1;32m      8\u001b[0m }\n\u001b[1;32m      9\u001b[0m \u001b[0;34m\u001b[0m\u001b[0m\n",
      "\u001b[0;31mNameError\u001b[0m: name 'cluster_list_ordered' is not defined"
     ]
    }
   ],
   "source": [
    "## pandas dataframe ## \n",
    "import pandas as pd \n",
    "\n",
    "bird_species = {\n",
    "    'File name': file_names,\n",
    "    'Time in clip (seconds)': timestamp,\n",
    "    'Cluster number': cluster_list_ordered\n",
    "}\n",
    "\n",
    "df = pd.DataFrame(bird_species, columns = ['File name', 'Time in clip (seconds)', 'Cluster number'])\n",
    "\n",
    "df.to_csv(r'/Volumes/Elements/Madre_de_Dios_Xeno_Canto_Birdcalls/export_dataframe.csv',index = False, header=True)\n",
    "            \n",
    "print(head(df))\n",
    "# filename list \n",
    "# start and end time in the clip analyzed\n",
    "# sample rate \n",
    "# cluster number\n"
   ]
  },
  {
   "cell_type": "markdown",
   "metadata": {},
   "source": [
    "# Visualization"
   ]
  },
  {
   "cell_type": "code",
   "execution_count": null,
   "metadata": {},
   "outputs": [],
   "source": [
    "num_clips = len(shorter_clips)\n",
    "num_minutes = num_clips / 6\n",
    "num_hours = num_minutes / 60\n",
    "\n",
    "def clip_i_to_bin_i(clip_i):\n",
    "    return int(clip_i / (num_clips/num_minutes))\n",
    "\n",
    "def time_hist_for_cluster(cluster_i, clusters):\n",
    "    hist_data = []\n",
    "    for index in get_clip_indexes(cluster_i, clusters):\n",
    "        index = clip_i_to_bin_i(index)\n",
    "        hist_data.append(index)\n",
    "\n",
    "    plt.ylim(0, (num_clips/num_minutes))\n",
    "    plt.title('Cluster: %d (%s)' % (cluster_i, cluster_names[cluster_i]))\n",
    "    plt.hist(hist_data, bins=int(num_minutes), range=[0, num_minutes])\n",
    "    plt.show()\n",
    "    \n",
    "def colors(n):\n",
    "    ret = []\n",
    "    r = int(random.random() * 256)\n",
    "    g = int(random.random() * 256)\n",
    "    b = int(random.random() * 256)\n",
    "    step = 256 / n\n",
    "    for i in range(n):\n",
    "        r += step\n",
    "        g += step\n",
    "        b += step\n",
    "        r = int(r) % 256\n",
    "        g = int(g) % 256\n",
    "        b = int(b) % 256\n",
    "        ret.append((r,g,b)) \n",
    "    return ret\n",
    "\n",
    "def get_clusters_by_cluster_names(clusters, cluster_names):\n",
    "    uniq_names = np.unique(cluster_names)\n",
    "    print(uniq_names)\n",
    "    new_clusters = [-1] * len(clusters)\n",
    "    for uniq_name_i, uniq_name in enumerate(uniq_names):\n",
    "        for name_i, name in enumerate(cluster_names):\n",
    "            if name == uniq_name:\n",
    "                # Assign name_i to each index in the cluster that has the same index\n",
    "                for index in range(len(clusters)):\n",
    "                    if clusters[index] == name_i:\n",
    "                        new_clusters[index] = uniq_name_i\n",
    "    return new_clusters"
   ]
  },
  {
   "cell_type": "code",
   "execution_count": null,
   "metadata": {},
   "outputs": [],
   "source": [
    "named_clusters = get_clusters_by_cluster_names(clusters, cluster_names)\n",
    "Counter(named_clusters).most_common() \n",
    "cluster_names_to_plot = np.unique(cluster_names)\n",
    "\n",
    "# Colors for visualization\n",
    "jet = pl.get_cmap('jet', len(cluster_names_to_plot))\n",
    "cluster_colors = {}\n",
    "for i, name in enumerate(cluster_names_to_plot):\n",
    "    cluster_colors[name] = jet(i)"
   ]
  },
  {
   "cell_type": "markdown",
   "metadata": {},
   "source": [
    "Note: These are not real labels for the clusters, this is just a demonstration of the code. The histogram visualization will be replaced with better visualizations for cluster/time data such as Rose Plots."
   ]
  },
  {
   "cell_type": "code",
   "execution_count": null,
   "metadata": {},
   "outputs": [],
   "source": [
    "def plot_all_histograms(clusters, cluster_names):\n",
    "    plt.figure(figsize=(15,8))\n",
    "\n",
    "    for cluster_i in range(len(cluster_names)):\n",
    "        hist_data = []\n",
    "        for index in get_clip_indexes(cluster_i, clusters):\n",
    "            index = clip_i_to_bin_i(index)\n",
    "            hist_data.append(index)\n",
    "\n",
    "        cluster_name = cluster_names[cluster_i]\n",
    "        c = cluster_colors[cluster_name]\n",
    "        plt.hist(hist_data, bins=int(num_minutes), range=[0, num_minutes], alpha=0.5, color=c, label=cluster_name)\n",
    "\n",
    "        plt.ylabel('Number of 10-second audio clips')\n",
    "        plt.xlabel('Time in Minutes')\n",
    "        plt.legend(bbox_to_anchor=(1.2, 1.05))\n",
    "        plt.show()\n",
    "    \n",
    "clusters_to_plot = named_clusters\n",
    "cluster_names_to_plot = np.unique(cluster_names)\n",
    "plot_all_histograms(named_clusters, np.unique(cluster_names))"
   ]
  },
  {
   "cell_type": "markdown",
   "metadata": {},
   "source": [
    "### (Optional) testing convert_mp3_to_wav function with one file\n",
    "This is an extra step that I made to quickly check and troubleshoot the convert_mp3_to_wav function"
   ]
  },
  {
   "cell_type": "code",
   "execution_count": null,
   "metadata": {
    "scrolled": false
   },
   "outputs": [],
   "source": [
    "dir_path = '/Volumes/Elements/Madre_de_Dios_Xeno_Canto_Birdcalls/'\n",
    "file_path = dir_path + 'XC431125 - Rufous Twistwing - Cnipodectes superrufus.mp3'\n",
    "# file_path = dir_path + 'XC91323 - White-eyed Parakeet - Psittacara leucophthalmus.mp3'\n",
    "\n",
    "x, fs = convert_mp3_to_wav(file_path, overwrite=True)"
   ]
  },
  {
   "cell_type": "code",
   "execution_count": null,
   "metadata": {},
   "outputs": [],
   "source": [
    "# Graphs to sanity check output of load_audio with online mp3 to wav converter \n",
    "\n",
    "fig, (ax1, ax2) = plt.subplots(1, 2)\n",
    "ax1.plot(x)\n",
    "\n",
    "print(x.shape)\n",
    "\n",
    "# This file is from a random mp3 to wav convert I found here\n",
    "# https://online-audio-converter.com/ and then downloaded on Desktop\n",
    "check_dir_path = '/Users/yoo-jin/Desktop/XC431125 - Rufous Twistwing - Cnipodectes superrufus.wav'\n",
    "x_test, fs_test = sf.read(check_dir_path)\n",
    "\n",
    "x_test = np.mean(x_test, axis = 1) \n",
    "print(x_test.shape)\n",
    "\n",
    "ax2.plot(x_test)\n"
   ]
  },
  {
   "cell_type": "markdown",
   "metadata": {},
   "source": [
    "### Optional: For K-means clustsering \n",
    "The function, find_optimal_clusters is used to find the optimal number of clusters for K-means clustering. Take a look at this link for more information: https://hlab.stanford.edu/brian/number_of_clusters_.html."
   ]
  },
  {
   "cell_type": "code",
   "execution_count": null,
   "metadata": {
    "scrolled": true
   },
   "outputs": [],
   "source": [
    "## TODO: plot.ly\n",
    "\n",
    "def find_optimal_clusters(data, min_k, max_k): \n",
    "    iters= range(min_k, max_k+1, 2)\n",
    "    \n",
    "    sse = [] \n",
    "    for k in iters: \n",
    "        sse.append(MiniBatchKMeans(n_clusters=k, init_size=1024, batch_size=2048, random_state=20).fit(data).inertia_)\n",
    "    \n",
    "#     import pandas as pd\n",
    "#     sse_pct_diff = pd.Series(sse)\n",
    "#     sse_pct_diff.pct_change()\n",
    "#     print(sse_pct_diff)\n",
    "    \n",
    "    f, ax = plt.subplots(1,1)\n",
    "    ax.plot(iters, sse, marker = 'o')\n",
    "    ax.set_xlabel('Cluster Centers')\n",
    "#     ax.set_xticks(iters)\n",
    "#     f.autofmt_xdate()\n",
    "#     ax.set_xtickslabels(iters)\n",
    "    ax.set_ylabel('SSE')\n",
    "    ax.set_title('SSE by Number of Clusters')\n",
    "    \n",
    "#     ax[0].plot(iters, sse, marker = 'o')\n",
    "#     ax[0].set_xlabel('Cluster Centers')\n",
    "# #     ax.set_xticks(iters)\n",
    "# #     f.autofmt_xdate()\n",
    "# #     ax.set_xtickslabels(iters)\n",
    "#     ax[0].set_ylabel('SSE')\n",
    "#     ax[0].set_title('SSE by Number of Clusters')\n",
    "    \n",
    "#     ax[1].plot(iters, sse_pct_diff, marker = 'o')\n",
    "#     ax[1].set_xlabel('Cluster Centers')\n",
    "# #     ax.set_xticks(iters)\n",
    "# #     f.autofmt_xdate()\n",
    "# #     ax.set_xtickslabels(iters)\n",
    "#     ax[1].set_ylabel('Percentage Change of SSE')\n",
    "#     ax[1].set_title('Percentage Change of SSE by Number of Clusters')\n",
    "    \n",
    "    plt.tight_layout()\n",
    "\n",
    "        \n",
    "# Change the range here: \n",
    "find_optimal_clusters(X, 1, 150)"
   ]
  },
  {
   "cell_type": "code",
   "execution_count": null,
   "metadata": {
    "scrolled": true
   },
   "outputs": [],
   "source": [
    "# dir_path = '/Volumes/Elements/Madre_de_Dios_Xeno_Canto_Birdcalls/'\n",
    "dir_path = '/Volumes/Elements/Test/'\n",
    "samplerate = None\n",
    "wav_data = []\n",
    "bird_names_and_lengths = []\n",
    "num_files = 0\n",
    "\n",
    "for file in glob.glob(os.path.join(dir_path, '*.mp3')):\n",
    "#     print(file)\n",
    "#     convert_mp3_to_wav(file, overwrite=True)\n",
    "    num_files = num_files+1\n",
    "    try: \n",
    "        data, rate = convert_mp3_to_wav(file, overwrite=True)\n",
    "#         data = data.astype(int)\n",
    "        samplerate = rate\n",
    "        if wav_data == []:\n",
    "            wav_data = data\n",
    "        else:\n",
    "            wav_data = np.concatenate((wav_data, data))\n",
    "        clip_len = len(data) / samplerate\n",
    "        \n",
    "        # Input only bird species\n",
    "        bird_species = file.split(' - ')[2][:-4].replace(' ', '_')\n",
    "        bird_names_and_lengths.append([bird_species, clip_len])\n",
    "#         print(file)\n",
    "        \n",
    "        # TO DO: deal with warning, don't suppress\n",
    "        warnings.filterwarnings(\"ignore\", category=DeprecationWarning) \n",
    "        warnings.filterwarnings(\"ignore\", category=FutureWarning) \n",
    "    except Exception as e:\n",
    "        print('(failed) ' + file)\n",
    "        print('\\t' + str(e))\n",
    "        pass\n",
    "    \n",
    "print(bird_names_and_lengths)\n",
    "    \n",
    "# with warnings.catch_warnings():\n",
    "#     warnings.simplefilter(\"ignore\")\n",
    "#     fxn()"
   ]
  },
  {
   "cell_type": "markdown",
   "metadata": {},
   "source": [
    "### Optional: list all bird species included in the file"
   ]
  },
  {
   "cell_type": "code",
   "execution_count": null,
   "metadata": {},
   "outputs": [],
   "source": [
    "dir_path = '/Volumes/Elements/Test/'\n",
    "list_of_species = []\n",
    "\n",
    "for f in glob.glob(os.path.join(dir_path, '*.mp3')): \n",
    "    bird_name = os.path.splitext(f)[0].split(\" - \", 1)[1].strip()\n",
    "    if list_of_species == []: \n",
    "        list_of_species = [bird_name]\n",
    "    elif bird_name in list_of_species: \n",
    "        pass \n",
    "    else: \n",
    "        list_of_species.append(bird_name)\n",
    "\n",
    "print(list_of_species)\n",
    "# print(len(list_of_species))"
   ]
  },
  {
   "cell_type": "code",
   "execution_count": null,
   "metadata": {},
   "outputs": [],
   "source": [
    "# Get n-minute clips\n",
    "# def split_into_minutes(wav_data, samplerate, n=1):\n",
    "#     length_in_seconds = len(wav_data) / samplerate\n",
    "#     length_in_minutes = length_in_seconds / 60\n",
    "#     length_in_minutes = int(length_in_minutes / n)\n",
    "\n",
    "#     cut_wav_data = wav_data[:-((len(wav_data)) % length_in_minutes)]\n",
    "#     shorter_clips = np.split(cut_wav_data, length_in_minutes)\n",
    "#     print('%d %d-minute clips' % (len(shorter_clips), n))\n",
    "#     return shorter_clips\n",
    "\n",
    "# Get n-second clips\n",
    "def split_into_n_seconds(wav_data, wav_names_and_lengths, samplerate, n):\n",
    "    \"\"\"\n",
    "    wav_data: numpy array of length equal to the length of the all audio files\n",
    "    wav_names_and_lengths: list of list of length 2 where the first element is \n",
    "    the name of the bird species associated with the file and the second element\n",
    "    is the length (in seconds) of the file\n",
    "    samplerate: int (in Hz)\n",
    "    n: (int) to divide the data into n-seconds \n",
    "    \"\"\"\n",
    "    \n",
    "    # TODO: \n",
    "    # if n > 5: take like the first 5 seconds\n",
    "    # if n < 2: ignore \n",
    "    # csv file: metadata of clips entered, cluster number with its filename\n",
    "    # just have the names and don't save data\n",
    "    \n",
    "    file_names = []\n",
    "    length_in_seconds = len(wav_data) / samplerate \n",
    "    print(\"length in seconds\", length_in_seconds)\n",
    "    \n",
    "#     length_in_minutes = length_in_seconds / 60\n",
    "#     print(length_in_minutes)\n",
    "    \n",
    "    # Rounding down    \n",
    "    n_chunks = int(np.floor(length_in_seconds/n))\n",
    "    print(\"n_chunks\", n_chunks)\n",
    "        \n",
    "    try:\n",
    "        second_clips = np.split(wav_data, n_chunks)\n",
    "    except ValueError:\n",
    "        cut_wav_data = wav_data[:-(len(wav_data) % n_chunks)]\n",
    "        erased_amount = len(wav_data) % n_chunks\n",
    "        erased_amount_s = erased_amount/samplerate\n",
    "        shortest_wav_s = min([x[1] for x in wav_names_and_lengths])\n",
    "        print([x[1] for x in wav_names_and_lengths])\n",
    "        assert erased_amount_s < shortest_wav_s\n",
    "        wav_names_and_lengths[-1][1] = wav_names_and_lengths[-1][1] - erased_amount_s\n",
    "        # n = 1\n",
    "        # wav_names_and_lengths = [['1.2s_wav', 1.2],...,['3.5s_wav', 3.5]]\n",
    "        second_clips = np.split(cut_wav_data, n_chunks)\n",
    "#         print(\"second_clips\", second_clips)\n",
    "        print(\"length of each array\", [x.shape for x in second_clips])\n",
    "\n",
    "    ### NAMING FILES ###\n",
    "    \n",
    "#     [['Trogon_curucui', 25.33877551020408], ['Hemitriccus_griseipectus', 14.78530612244898], \n",
    "#      ['Amazilia_lactea', 6.034285714285715], ['Myrmoborus_lophotes', 30.48], \n",
    "#      ['Jacamerops_aureus', 25.944013605442176], ['Tityra_cayana', 4.675918367346939], \n",
    "#      ['Synallaxis_cabanisi', 67.05632653061224]]\n",
    "        \n",
    "    ### PSEUDOCODE ###\n",
    "    \n",
    "#     length in seconds 174.31462585034015\n",
    "#     n_chunks 11\n",
    "    # 15.8 seconds\n",
    "    num_of_seconds_in_chunk = length_in_seconds/n_chunks\n",
    "        \n",
    "    ### here ###\n",
    "#     n_leftover = 0\n",
    "#     filenames = []\n",
    "#     i = 0\n",
    "#     while i < len(wav_names_and_lengths)-1: \n",
    "#         if wav_names_and_lengths[i][1] < n:\n",
    "#             n_leftover = 0\n",
    "#             filenames.append(wav_names_and_lengths[i][0])\n",
    "#             print(\"first case\")\n",
    "#             print(\"wav_names_and_lengths[i][1]\", wav_names_and_lengths[i][1])\n",
    "# #             filenames[i] = wav_names_and_lengths[i][0]\n",
    "#             print(\"filenames\", filenames)\n",
    "#             print()\n",
    "#             print(\"n_leftover\", n_leftover)\n",
    "#             n_leftover = n_leftover + wav_names_and_lengths[i][1]\n",
    "\n",
    "#             while n_leftover < n:\n",
    "#                 print(\"length of filenames\", len(filenames))\n",
    "#                 print(\"filenames\", filenames)\n",
    "#                 filenames[-1] += wav_names_and_lengths[i+1][0]\n",
    "#                 n_leftover = n_leftover + wav_names_and_lengths[i+1][1]\n",
    "#                 i = i +1\n",
    "            \n",
    "#         elif wav_names_and_lengths[i][1] == n: \n",
    "#             print(\"second case\")\n",
    "#             filenames.append(wav_names_and_lengths[i][0])\n",
    "#             i = i + 1\n",
    "\n",
    "#         else: #filename_and_len[i][1] > n: \n",
    "#             print(\"third case\")\n",
    "#             print(\"i\", i)\n",
    "#             print(\"filenames\", filenames)\n",
    "#             filenames.append(wav_names_and_lengths[i][0])\n",
    "#             while wav_names_and_lengths[i][1] > n: \n",
    "#                 print(\"len(filenames)\",len(filenames))\n",
    "#                 print(\"filenames\", filenames)\n",
    "#                 wav_names_and_lengths[i][1] = wav_names_and_lengths[i][1] - n\n",
    "#                 i = i + 1\n",
    "    \n",
    "#     raise NotImplementedError('finish me')\n",
    "\n",
    "    i = 0\n",
    "    amount_left = 0\n",
    "    first_case_count = 0 \n",
    "\n",
    "    while i < len(wav_names_and_lengths):\n",
    "        if wav_names_and_lengths[i][1] >= num_of_seconds_in_chunk and amount_left == 0:  \n",
    "            file_names.append(wav_names_and_lengths[i][0] + str(first_case_count))   \n",
    "            wav_names_and_lengths[i][1] = wav_names_and_lengths[i][1] - num_of_seconds_in_chunk\n",
    "            first_case_count+=1\n",
    "        \n",
    "        # create new clip and leave it unfinished\n",
    "        elif wav_names_and_lengths[i][1] < num_of_seconds_in_chunk and amount_left == 0:  \n",
    "            if i != len(wav_names_and_lengths)-1 :\n",
    "                file_names.append(wav_names_and_lengths[i][0] + \"_\") \n",
    "            else: \n",
    "                file_names.append(wav_names_and_lengths[i][0]) \n",
    "            amount_left = num_of_seconds_in_chunk - wav_names_and_lengths[i][1]\n",
    "            wav_names_and_lengths[i][1] = 0\n",
    "            i = i +1\n",
    "            \n",
    "        # finish prev clip\n",
    "        elif wav_names_and_lengths[i][1] >= amount_left and amount_left > 0:\n",
    "            file_names[-1] += wav_names_and_lengths[i][0]\n",
    "            wav_names_and_lengths[i][1] -= amount_left\n",
    "            amount_left = 0\n",
    "            \n",
    "        elif int(wav_names_and_lengths[i][1]) == 0:\n",
    "#             print(\"Hits zero case\")\n",
    "#             print(\"i\", i)\n",
    "#             print(\"amount_left\", amount_left)\n",
    "#             print()\n",
    "            i+=1\n",
    "            \n",
    "        elif wav_names_and_lengths[i][1] < amount_left and amount_left > 0: \n",
    "            if i == len(wav_names_and_lengths)-1:\n",
    "                file_names[-1] += wav_names_and_lengths[i][0]\n",
    "            else:  \n",
    "                file_names[-1] += wav_names_and_lengths[i][0] + \"_\"\n",
    "            amount_left = num_of_seconds_in_chunk - wav_names_and_lengths[i][1]\n",
    "            wav_names_and_lengths[i][1] = 0\n",
    "            i = i+1\n",
    "            \n",
    "    print('%d %d-second clips' % (len(second_clips), n))\n",
    "    return second_clips, file_names"
   ]
  },
  {
   "cell_type": "code",
   "execution_count": null,
   "metadata": {
    "scrolled": true
   },
   "outputs": [],
   "source": [
    "print(\"shape of wav_data\", len(wav_data))\n",
    "print(\"sample rate\", sr)\n",
    "print(\"type of wav_data\", type(wav_data))\n",
    "print('sample rate = %d' % samplerate)\n",
    "print(wav_data.shape)\n",
    "length = wav_data.shape[0] / samplerate\n",
    "print('length = %.1fs' % length)"
   ]
  },
  {
   "cell_type": "code",
   "execution_count": 83,
   "metadata": {
    "scrolled": true
   },
   "outputs": [
    {
     "name": "stdout",
     "output_type": "stream",
     "text": [
      "XC - White-lined Antbird - Myrmoborus lophotes\n",
      "\n",
      "XC - White-lined Antbird - Myrmoborus lophotes\n",
      "\n",
      "XC - White-lined Antbird - Myrmoborus lophotes\n",
      "\n",
      "XC - Great Jacamar - Jacamerops aureus\n",
      "\n",
      "XC - Great Jacamar - Jacamerops aureus\n",
      "\n",
      "XC - Cabanis's Spinetail - Synallaxis cabanisi\n",
      "\n",
      "XC - Cabanis's Spinetail - Synallaxis cabanisi\n",
      "\n",
      "XC - Cabanis's Spinetail - Synallaxis cabanisi\n",
      "\n",
      "XC - Cabanis's Spinetail - Synallaxis cabanisi\n",
      "\n",
      "XC - Cabanis's Spinetail - Synallaxis cabanisi\n",
      "\n",
      "XC - Cabanis's Spinetail - Synallaxis cabanisi\n",
      "\n",
      "XC - Blue-crowned Trogon - Trogon curucui\n",
      "\n",
      "XC - Blue-crowned Trogon - Trogon curucui\n",
      "\n",
      "XC - White-bellied Tody-Tyrant - Hemitriccus griseipectus\n",
      "\n",
      "[2, 1, 2]\n"
     ]
    }
   ],
   "source": [
    "# loop through all the cluster folders \n",
    "from os import listdir\n",
    "from os.path import isfile, join\n",
    "\n",
    "# dirname = '/Volumes/Elements/Madre_de_Dios_Xeno_Canto_Birdcalls/Clusters_XenoCanto/'\n",
    "dirname = '/Volumes/Elements/Test/Clusters/'\n",
    "directory_list = os.listdir(dirname)\n",
    "# print(directory_list)\n",
    "# make \"find . -name \".DS_Store\" -delete\" in the terminal \n",
    "\n",
    "final_bird_list = []\n",
    "num_bird_species = []\n",
    "\n",
    "for d in directory_list: \n",
    "    path = dirname + d\n",
    "    file_list = [f for f in os.listdir(path) if not f.startswith('.')]\n",
    "    \n",
    "    cluster_set = set()\n",
    "    for f in file_list: \n",
    "#         print(f)\n",
    "#         if not f.startswith('.'):\n",
    "        cluster_set = cluster_set | find_bird_species_from_file_name(f)\n",
    "#         print(f)\n",
    "    \n",
    "    num_bird_species.append(len(cluster_set))\n",
    "    final_bird_list.append(num_bird_species)\n",
    "        \n",
    "# print(final_bird_list)\n",
    "# print(cluster_set)\n",
    "print(num_bird_species)"
   ]
  }
 ],
 "metadata": {
  "kernelspec": {
   "display_name": "Python 3",
   "language": "python",
   "name": "python3"
  },
  "language_info": {
   "codemirror_mode": {
    "name": "ipython",
    "version": 3
   },
   "file_extension": ".py",
   "mimetype": "text/x-python",
   "name": "python",
   "nbconvert_exporter": "python",
   "pygments_lexer": "ipython3",
   "version": "3.8.2"
  }
 },
 "nbformat": 4,
 "nbformat_minor": 4
}
