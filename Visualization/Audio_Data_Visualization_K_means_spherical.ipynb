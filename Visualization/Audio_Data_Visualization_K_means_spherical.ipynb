{
 "cells": [
  {
   "cell_type": "markdown",
   "metadata": {},
   "source": [
    "### K-means spherical clustering\n",
    "The steps of this code is based on Dr. Dan Stowell's work\n",
    "\n",
    "His work is from [here](https://core.ac.uk/reader/30341728 (shorter paper) and also [here](https://peerj.com/articles/488/) (longer paper). For reference code for k-means spherical clustering code is located [here](https://dfzljdn9uc3pi.cloudfront.net/2014/488/1/oskmeans.py.txt). Note that this code did not use the reference code but it is there for reference. Key part of the implementation is to use mel spectrograms directly as features.\n",
    "\n",
    "This code is made to work on Xeno Canto data only for now as it is already sampled from 44.1kHz to 48kHz and it is pretty clean data.\n",
    "\n",
    "#### Outline of work\n",
    "##### Preprocessing step\n",
    "- Resample to standard 44.1kHz\n",
    "- Spectrogram (frame size of 1024 frames with Hamming windowing and no overlap)\n",
    "- Calculate Mel spectrogram for each file (which are directly used as features)\n",
    "- High-pass filtering (filter spectral energy below 500 Hz to reduce environmental noise)\n",
    "- RMS normalization in each spectrogram\n",
    "- [Spectral median noise reduction](http://sabiod.univ-tln.fr/NIPS4B2013_book.pdf) aka common median-based thresholding\n",
    "\n",
    "##### Processing step\n",
    "- [PCA-whiten the data](https://dfzljdn9uc3pi.cloudfront.net/2014/488/1/oskmeans.py.txt)\n",
    "\n",
    "##### Classification\n",
    "- Apply spherical k-means clustering"
   ]
  },
  {
   "cell_type": "code",
   "execution_count": 2,
   "metadata": {},
   "outputs": [],
   "source": [
    "import os \n",
    "import pydub\n",
    "from pydub import AudioSegment\n",
    "from scipy.io import wavfile\n",
    "# import samplerate\n",
    "import librosa\n",
    "from scipy import signal\n",
    "import numpy as np\n",
    "from librosa import feature\n",
    "from librosa import filters\n",
    "from scipy.signal import butter, filtfilt\n",
    "from scipy import ndimage\n",
    "import librosa.display\n",
    "import matplotlib.pyplot as plt\n",
    "from sklearn import preprocessing\n",
    "import pydub\n",
    "from pydub import AudioSegment\n",
    "import tempfile\n",
    "import soundfile as sf\n",
    "import scipy\n",
    "from scipy.io.wavfile import write\n",
    "import glob\n",
    "import subprocess"
   ]
  },
  {
   "cell_type": "markdown",
   "metadata": {},
   "source": [
    "#### Functions to use"
   ]
  },
  {
   "cell_type": "code",
   "execution_count": 3,
   "metadata": {},
   "outputs": [],
   "source": [
    "def read_mp3(f, normalized=False):\n",
    "    \"\"\"\n",
    "    Inputs: MP3 to numpy array, f = filename\n",
    "    Output: a.frame_rate (sampling rate)\n",
    "    \"\"\"\n",
    "    a = pydub.AudioSegment.from_file(f)\n",
    "    y = np.array(a.get_array_of_samples())\n",
    "    if a.channels == 2:\n",
    "        y = y.reshape((-1, 2))\n",
    "    if normalized:\n",
    "        return np.float32(y) / 2**15, a.frame_rate\n",
    "    else:\n",
    "        return y, a.frame_rate\n",
    "\n",
    "def resample(filepath, des_sr=44100): \n",
    "    \"\"\"\n",
    "    filepath = path to desired file\n",
    "    data = input data from audio file\n",
    "    des_sr = desired sampling rate in Hz\n",
    "    \"\"\"\n",
    "    filename = os.path.basename(filepath) \n",
    "    print(filename)\n",
    "    if filename.endswith(\".mp3\") or filename.endswith(\".MP3\"): \n",
    "        data, sr = read_mp3(filepath)\n",
    "        output_data = samplerate.resample(data, des_sr/sr, 'sinc_best')\n",
    "    elif filename.endswith(\".wav\") or filename.endswith(\".WAV\"): \n",
    "        sr, data = wavfile.read(filepath)\n",
    "        output_data = samplerate.resample(data,des_sr /sr, 'sinc_best')\n",
    "    else: \n",
    "        print(\"Not a valid file type (not .wav or .mp3)\")\n",
    "        pass\n",
    "    return output_data\n",
    "\n",
    "# Reference: https://stackoverflow.com/questions/39032325/python-high-pass-filter\n",
    "def butter_highpass(cutoff, fs, order=5):\n",
    "    nyq = 0.5 * fs\n",
    "    normal_cutoff = cutoff / nyq\n",
    "    b, a = butter(order, normal_cutoff, btype='high', analog=False)\n",
    "    return b, a\n",
    "\n",
    "def butter_highpass_filter(data, cutoff, fs, order=5):\n",
    "    b, a = butter_highpass(cutoff, fs, order=order)\n",
    "    y = filtfilt(b, a, data)\n",
    "    return y\n",
    "\n",
    "def high_pass_filter(data, sr): \n",
    "    # set as a highpass filter for 500 Hz\n",
    "    filtered_signal = butter_highpass_filter(data, 500, sr, order=5)\n",
    "    return filtered_signal\n",
    "\n",
    "# Referenced librosa: https://github.com/librosa/librosa/blob/main/librosa/feature/spectral.py\n",
    "def make_mel_spectrogram(input_data, sample_rate): \n",
    "    \"\"\"\n",
    "    input data: (Time series of measurement values)\n",
    "    output = S : np.ndarray [shape=(n_mels, t)]\n",
    "    \n",
    "    melspectrograms in itself are used as features\n",
    "    \"\"\"\n",
    "    \n",
    "    f, t, Sxx = signal.spectrogram(input_data, fs=sample_rate, window = 'hamming', noverlap=None, nfft = 1024, mode='magnitude')\n",
    "    # Sxx is spectrogram of x and last axis of Sxx is segment times\n",
    "    mel_basis = filters.mel(sample_rate, n_fft = 1024)\n",
    "    output = np.dot(mel_basis, Sxx)\n",
    "    return output\n",
    "\n",
    "def median_denoising(data): \n",
    "    \"\"\"\n",
    "    Using scipy's median filter: https://docs.scipy.org/doc/scipy/reference/generated/scipy.ndimage.median_filter.html\n",
    "    \"\"\"\n",
    "    # every frame, subtract the median value of spectral band\n",
    "    result = ndimage.median_filter(data, 3)\n",
    "    return result\n",
    "    \n",
    "def resample_mp3(mp3_path, sr=44100, mono=True, overwrite=False, dtype='float32'): \n",
    "    # Need to change sample rate to 44.1kHz if using audiomoths\n",
    "    # since mono=True by default, unless you pass mono=False, \n",
    "    # this function will save the wav as mono\n",
    "    \"\"\"\n",
    "    Parts of code from \n",
    "    https://github.com/bill317996/Audio-to-midi/blob/master/cfp.py\n",
    "    \"\"\"\n",
    "    \n",
    "#     warnings.warn(\"deprecated\", DeprecationWarning)\n",
    "    \n",
    "    # in case there is an .MP3\n",
    "    assert mp3_path.lower().endswith('.mp3'), 'filename indicates not mp3'\n",
    "    wav_path_to_write = os.path.splitext(mp3_path)[0] + '.wav'\n",
    "    if not overwrite and os.path.exists(wav_path_to_write):\n",
    "        return\n",
    "    \n",
    "    mp3 = AudioSegment.from_file(mp3_path)\n",
    "    \n",
    "    _, temp_path = tempfile.mkstemp() \n",
    "    mp3.export(temp_path, format='wav')\n",
    "    del mp3\n",
    "    x, fs = sf.read(temp_path)\n",
    "    os.remove(temp_path)\n",
    "    \n",
    "    if mono and len(x.shape)>1: \n",
    "        x = np.mean(x, axis = 1) \n",
    "    if sr:\n",
    "        x = scipy.signal.resample_poly(x, sr, fs)\n",
    "        fs = sr \n",
    "    x = x.astype(dtype)\n",
    "#     write(wav_path_to_write, fs, x)\n",
    "    return x, fs  "
   ]
  },
  {
   "cell_type": "code",
   "execution_count": 4,
   "metadata": {},
   "outputs": [],
   "source": [
    "def find_n_second_multiples_and_filenames(dir_path, n, des_sr): \n",
    "    \"\"\" \n",
    "    dir_path (path): path of a directory with desired files\n",
    "    n (int): split data into n-second clips\n",
    "    \"\"\"\n",
    "    wav_data = []\n",
    "    allfilenames = []\n",
    "    timestamp = []\n",
    "    labels = []\n",
    "\n",
    "#     for filename in glob.glob(os.path.join(dir_path, '*.wav')):\n",
    "#     for file in glob.glob(os.path.join(dir_path, '*.mp3'))\n",
    "    for filename in os.listdir(dir_path):        \n",
    "        filepath = os.path.join(dir_path, filename)\n",
    "        print(filepath)\n",
    "        \n",
    "        if filepath == \".DS_Store\": \n",
    "            pass \n",
    "        elif filename.endswith(\".mp3\") or filename.endswith(\".MP3\"):\n",
    "            data, sr = librosa.load(filepath, sr=44100)\n",
    "        elif filename.endswith(\".wav\") or filename.endswith(\".WAV\"):\n",
    "            data, sr = librosa.load(filepath, sr=44100)\n",
    "            \n",
    "        num_samples_in_n_seconds =  n  * sr \n",
    "        length_data = len(data)\n",
    "        length_in_seconds = length_data / sr \n",
    "        \n",
    "        if length_data < num_samples_in_n_seconds: \n",
    "            pass\n",
    "        \n",
    "        elif length_data > num_samples_in_n_seconds: \n",
    "            \n",
    "            if (length_data % num_samples_in_n_seconds) != 0:\n",
    "                data = data[:-(length_data % num_samples_in_n_seconds)]\n",
    "            num_of_n_clips = int(np.floor(length_data / num_samples_in_n_seconds))\n",
    "                \n",
    "            for i in range(num_of_n_clips): \n",
    "                allfilenames.append(filename)\n",
    "                data_n_seconds = data[i*num_samples_in_n_seconds:(i+1)*num_samples_in_n_seconds]\n",
    "                timestamp.append([i*n,(i+1)*n])\n",
    "                wav_data.append(data_n_seconds)\n",
    "\n",
    "        else: #length_data == num_samples_in_n_seconds: \n",
    "            allfilenames.append(filename)\n",
    "            wav_data.append(data)\n",
    "            \n",
    "    return wav_data, allfilenames, timestamp"
   ]
  },
  {
   "cell_type": "code",
   "execution_count": 5,
   "metadata": {
    "scrolled": true
   },
   "outputs": [
    {
     "name": "stdout",
     "output_type": "stream",
     "text": [
      "/Volumes/Elements/Madre_de_Dios_XC_short/XC22269 - White-crested Spadebill - Platyrinchus platyrhynchos.mp3\n",
      "/Volumes/Elements/Madre_de_Dios_XC_short/XC22270 - White-crested Spadebill - Platyrinchus platyrhynchos.mp3\n"
     ]
    },
    {
     "name": "stderr",
     "output_type": "stream",
     "text": [
      "/anaconda3/lib/python3.6/site-packages/librosa/core/audio.py:162: UserWarning: PySoundFile failed. Trying audioread instead.\n",
      "  warnings.warn(\"PySoundFile failed. Trying audioread instead.\")\n",
      "/anaconda3/lib/python3.6/site-packages/librosa/core/audio.py:162: UserWarning: PySoundFile failed. Trying audioread instead.\n",
      "  warnings.warn(\"PySoundFile failed. Trying audioread instead.\")\n"
     ]
    },
    {
     "name": "stdout",
     "output_type": "stream",
     "text": [
      "/Volumes/Elements/Madre_de_Dios_XC_short/XC22279 - Greyish Mourner - Rhytipterna simplex.mp3\n",
      "/Volumes/Elements/Madre_de_Dios_XC_short/XC22404 - Black Antbird - Cercomacroides serva.mp3\n"
     ]
    },
    {
     "name": "stderr",
     "output_type": "stream",
     "text": [
      "/anaconda3/lib/python3.6/site-packages/librosa/core/audio.py:162: UserWarning: PySoundFile failed. Trying audioread instead.\n",
      "  warnings.warn(\"PySoundFile failed. Trying audioread instead.\")\n",
      "/anaconda3/lib/python3.6/site-packages/librosa/core/audio.py:162: UserWarning: PySoundFile failed. Trying audioread instead.\n",
      "  warnings.warn(\"PySoundFile failed. Trying audioread instead.\")\n"
     ]
    },
    {
     "name": "stdout",
     "output_type": "stream",
     "text": [
      "/Volumes/Elements/Madre_de_Dios_XC_short/XC22458 - White-eyed Antwren - Epinecrophylla leucophthalma.mp3\n",
      "/Volumes/Elements/Madre_de_Dios_XC_short/XC23428 - White-winged Shrike-Tanager - Lanio versicolor.mp3\n"
     ]
    },
    {
     "name": "stderr",
     "output_type": "stream",
     "text": [
      "/anaconda3/lib/python3.6/site-packages/librosa/core/audio.py:162: UserWarning: PySoundFile failed. Trying audioread instead.\n",
      "  warnings.warn(\"PySoundFile failed. Trying audioread instead.\")\n",
      "/anaconda3/lib/python3.6/site-packages/librosa/core/audio.py:162: UserWarning: PySoundFile failed. Trying audioread instead.\n",
      "  warnings.warn(\"PySoundFile failed. Trying audioread instead.\")\n"
     ]
    },
    {
     "name": "stdout",
     "output_type": "stream",
     "text": [
      "/Volumes/Elements/Madre_de_Dios_XC_short/XC23434 - White-winged Shrike-Tanager - Lanio versicolor.mp3\n",
      "/Volumes/Elements/Madre_de_Dios_XC_short/XC40313 - Goeldi's Antbird - Akletos goeldii.mp3\n"
     ]
    },
    {
     "name": "stderr",
     "output_type": "stream",
     "text": [
      "/anaconda3/lib/python3.6/site-packages/librosa/core/audio.py:162: UserWarning: PySoundFile failed. Trying audioread instead.\n",
      "  warnings.warn(\"PySoundFile failed. Trying audioread instead.\")\n",
      "/anaconda3/lib/python3.6/site-packages/librosa/core/audio.py:162: UserWarning: PySoundFile failed. Trying audioread instead.\n",
      "  warnings.warn(\"PySoundFile failed. Trying audioread instead.\")\n"
     ]
    },
    {
     "name": "stdout",
     "output_type": "stream",
     "text": [
      "['XC22269 - White-crested Spadebill - Platyrinchus platyrhynchos.mp3', 'XC22270 - White-crested Spadebill - Platyrinchus platyrhynchos.mp3', 'XC22404 - Black Antbird - Cercomacroides serva.mp3', 'XC22404 - Black Antbird - Cercomacroides serva.mp3', 'XC22404 - Black Antbird - Cercomacroides serva.mp3', 'XC22404 - Black Antbird - Cercomacroides serva.mp3', 'XC22458 - White-eyed Antwren - Epinecrophylla leucophthalma.mp3', 'XC22458 - White-eyed Antwren - Epinecrophylla leucophthalma.mp3', 'XC22458 - White-eyed Antwren - Epinecrophylla leucophthalma.mp3', 'XC22458 - White-eyed Antwren - Epinecrophylla leucophthalma.mp3', 'XC23428 - White-winged Shrike-Tanager - Lanio versicolor.mp3', 'XC23434 - White-winged Shrike-Tanager - Lanio versicolor.mp3', 'XC23434 - White-winged Shrike-Tanager - Lanio versicolor.mp3', 'XC23434 - White-winged Shrike-Tanager - Lanio versicolor.mp3', 'XC23434 - White-winged Shrike-Tanager - Lanio versicolor.mp3', \"XC40313 - Goeldi's Antbird - Akletos goeldii.mp3\", \"XC40313 - Goeldi's Antbird - Akletos goeldii.mp3\", \"XC40313 - Goeldi's Antbird - Akletos goeldii.mp3\", \"XC40313 - Goeldi's Antbird - Akletos goeldii.mp3\", \"XC40313 - Goeldi's Antbird - Akletos goeldii.mp3\", \"XC40313 - Goeldi's Antbird - Akletos goeldii.mp3\", \"XC40313 - Goeldi's Antbird - Akletos goeldii.mp3\", \"XC40313 - Goeldi's Antbird - Akletos goeldii.mp3\", \"XC40313 - Goeldi's Antbird - Akletos goeldii.mp3\", \"XC40313 - Goeldi's Antbird - Akletos goeldii.mp3\", \"XC40313 - Goeldi's Antbird - Akletos goeldii.mp3\", \"XC40313 - Goeldi's Antbird - Akletos goeldii.mp3\"]\n",
      "27\n"
     ]
    }
   ],
   "source": [
    "# dir_path = '/Volumes/Elements/Test/Data/'\n",
    "# dir_path = '/Volumes/Elements/Mixed_AM_Dataset2_2GB/'\n",
    "# dir_path = '/Volumes/Elements/Madre_de_Dios_Xeno_Canto_Birdcalls/'\n",
    "dir_path= '/Volumes/Elements/Madre_de_Dios_XC_short/'\n",
    "\n",
    "# find . -name \".DS_Store\" -delete\n",
    "\n",
    "# the function find_n_second_multiples_and_filenames resamples the data as well\n",
    "shorter_clips, file_names, timestamp = find_n_second_multiples_and_filenames(dir_path, 5, 44100)\n",
    "print(file_names)\n",
    "print(len(file_names))"
   ]
  },
  {
   "cell_type": "code",
   "execution_count": 6,
   "metadata": {
    "scrolled": false
   },
   "outputs": [
    {
     "name": "stdout",
     "output_type": "stream",
     "text": [
      "27\n",
      "27\n"
     ]
    }
   ],
   "source": [
    "print(len(shorter_clips))\n",
    "print(len(timestamp))"
   ]
  },
  {
   "cell_type": "markdown",
   "metadata": {},
   "source": [
    "Now let us create functions that create ground truth labels of the bird species that are found in the list of files we are currently looking at."
   ]
  },
  {
   "cell_type": "code",
   "execution_count": 7,
   "metadata": {},
   "outputs": [],
   "source": [
    "def print_bird_species(list_of_files, index): \n",
    "    bird_species = os.path.splitext(list_of_files[index])[0].split(\"-\",1)[1].strip()\n",
    "    return bird_species"
   ]
  },
  {
   "cell_type": "code",
   "execution_count": 8,
   "metadata": {},
   "outputs": [],
   "source": [
    "def ground_truth_labels(list_of_filenames):\n",
    "    cluster_idx = 0 \n",
    "    cluster_idx_list = []\n",
    "    \n",
    "    for i in range(len(list_of_filenames)): \n",
    "        if i == 0:\n",
    "            cluster_idx_list.append(cluster_idx)\n",
    "        elif print_bird_species(list_of_filenames, i) == print_bird_species(list_of_filenames, i-1):\n",
    "            cluster_idx_list.append(cluster_idx)\n",
    "        else: \n",
    "            cluster_idx = cluster_idx + 1\n",
    "            cluster_idx_list.append(cluster_idx)\n",
    "            \n",
    "    return cluster_idx_list"
   ]
  },
  {
   "cell_type": "code",
   "execution_count": 9,
   "metadata": {
    "scrolled": true
   },
   "outputs": [
    {
     "name": "stdout",
     "output_type": "stream",
     "text": [
      "['XC22269 - White-crested Spadebill - Platyrinchus platyrhynchos.mp3', 'XC22270 - White-crested Spadebill - Platyrinchus platyrhynchos.mp3', 'XC22404 - Black Antbird - Cercomacroides serva.mp3', 'XC22404 - Black Antbird - Cercomacroides serva.mp3', 'XC22404 - Black Antbird - Cercomacroides serva.mp3', 'XC22404 - Black Antbird - Cercomacroides serva.mp3', 'XC22458 - White-eyed Antwren - Epinecrophylla leucophthalma.mp3', 'XC22458 - White-eyed Antwren - Epinecrophylla leucophthalma.mp3', 'XC22458 - White-eyed Antwren - Epinecrophylla leucophthalma.mp3', 'XC22458 - White-eyed Antwren - Epinecrophylla leucophthalma.mp3', 'XC23428 - White-winged Shrike-Tanager - Lanio versicolor.mp3', 'XC23434 - White-winged Shrike-Tanager - Lanio versicolor.mp3', 'XC23434 - White-winged Shrike-Tanager - Lanio versicolor.mp3', 'XC23434 - White-winged Shrike-Tanager - Lanio versicolor.mp3', 'XC23434 - White-winged Shrike-Tanager - Lanio versicolor.mp3', \"XC40313 - Goeldi's Antbird - Akletos goeldii.mp3\", \"XC40313 - Goeldi's Antbird - Akletos goeldii.mp3\", \"XC40313 - Goeldi's Antbird - Akletos goeldii.mp3\", \"XC40313 - Goeldi's Antbird - Akletos goeldii.mp3\", \"XC40313 - Goeldi's Antbird - Akletos goeldii.mp3\", \"XC40313 - Goeldi's Antbird - Akletos goeldii.mp3\", \"XC40313 - Goeldi's Antbird - Akletos goeldii.mp3\", \"XC40313 - Goeldi's Antbird - Akletos goeldii.mp3\", \"XC40313 - Goeldi's Antbird - Akletos goeldii.mp3\", \"XC40313 - Goeldi's Antbird - Akletos goeldii.mp3\", \"XC40313 - Goeldi's Antbird - Akletos goeldii.mp3\", \"XC40313 - Goeldi's Antbird - Akletos goeldii.mp3\"]\n",
      "[0, 0, 1, 1, 1, 1, 2, 2, 2, 2, 3, 3, 3, 3, 3, 4, 4, 4, 4, 4, 4, 4, 4, 4, 4, 4, 4]\n"
     ]
    }
   ],
   "source": [
    "true_labels = ground_truth_labels(file_names)\n",
    "print(file_names)\n",
    "print(true_labels)"
   ]
  },
  {
   "cell_type": "markdown",
   "metadata": {},
   "source": [
    "This is the main step that implements all of the preprocessing steps. To repeat as we stated above: \n",
    "\n",
    "##### Preprocessing step\n",
    "- Resample to standard 44.1kHz\n",
    "- Spectrogram (frame size of 1024 frames with Hamming windowing and no overlap)\n",
    "- Calculate Mel spectrogram for each file (which are directly used as features)\n",
    "- High-pass filtering (filter spectral energy below 500 Hz to reduce environmental noise)\n",
    "- RMS normalization in each spectrogram\n",
    "- [Spectral median noise reduction](http://sabiod.univ-tln.fr/NIPS4B2013_book.pdf) aka common median-based thresholding"
   ]
  },
  {
   "cell_type": "code",
   "execution_count": 10,
   "metadata": {
    "scrolled": false
   },
   "outputs": [
    {
     "name": "stdout",
     "output_type": "stream",
     "text": [
      "0\n",
      "1\n",
      "2\n",
      "3\n",
      "4\n",
      "5\n",
      "6\n",
      "7\n",
      "8\n",
      "9\n",
      "10\n",
      "11\n",
      "12\n",
      "13\n",
      "14\n",
      "15\n",
      "16\n",
      "17\n",
      "18\n",
      "19\n",
      "20\n",
      "21\n",
      "22\n",
      "23\n",
      "24\n",
      "25\n",
      "26\n"
     ]
    }
   ],
   "source": [
    "final_d = []\n",
    "\n",
    "for i in range(len(shorter_clips)): \n",
    "    print(i)\n",
    "    hp_d = high_pass_filter(shorter_clips[i],44100)\n",
    "    data_hp_fortran = np.asfortranarray(hp_d)\n",
    "    \n",
    "    mel_spect = librosa.feature.melspectrogram(y=data_hp_fortran, sr=44100)\n",
    "    S_mel = librosa.feature.inverse.mel_to_stft(mel_spect)\n",
    "    mel_spect_data = librosa.griffinlim(S_mel)\n",
    "    \n",
    "    median_denoise = median_denoising(mel_spect_data)\n",
    "    \n",
    "    final_d.append(median_denoise)\n",
    "    \n",
    "    "
   ]
  },
  {
   "cell_type": "code",
   "execution_count": 11,
   "metadata": {},
   "outputs": [
    {
     "name": "stdout",
     "output_type": "stream",
     "text": [
      "27\n",
      "<class 'list'>\n",
      "(220160,)\n"
     ]
    }
   ],
   "source": [
    "print(len(final_d))\n",
    "print(type(final_d))\n",
    "print(final_d[0].shape)"
   ]
  },
  {
   "cell_type": "code",
   "execution_count": 12,
   "metadata": {},
   "outputs": [
    {
     "name": "stdout",
     "output_type": "stream",
     "text": [
      "Extracting features for each of the 27 audio clips\n",
      "done\n"
     ]
    }
   ],
   "source": [
    "from python_speech_features import mfcc\n",
    "samplerate = 44100 # the sample rate we used when loading the data\n",
    "\n",
    "def extract_features(shorter_clips, mfcc_only=False, mono=False):\n",
    "    feat_clips = []\n",
    "\n",
    "    print('Extracting features for each of the %d audio clips' % len(shorter_clips))\n",
    "    for clip in shorter_clips:\n",
    "        if mono == False:\n",
    "            clip = clip[:, 0] + clip[:, 1] # Merging left and right channels\n",
    "\n",
    "        mfcc_feat=None\n",
    "        if mfcc_only:\n",
    "            mfcc_feat = mfcc(clip, samplerate,winlen=0.023, nfft = 1024).flatten()\n",
    "\n",
    "        else:\n",
    "            mfcc_feat = ShortTermFeatures.feature_extraction(clip, samplerate, 0.050*samplerate, 0.025*samplerate)\n",
    "            print('')\n",
    "            print(mfcc_feat[1])\n",
    "\n",
    "        # Append the features\n",
    "        if mfcc_only:\n",
    "            feat_clips.append(mfcc_feat)\n",
    "        else:\n",
    "            feat_clips.append(list_flatten(mfcc_feat[0]))\n",
    "\n",
    "    print('done')\n",
    "    return feat_clips\n",
    "    \n",
    "# Set mfcc_only to True to shorten runtime\n",
    "mfcc_clips = extract_features(shorter_clips, mfcc_only=True, mono=True)\n",
    "#all_feat_clips = extract_features(shorter_clips)"
   ]
  },
  {
   "cell_type": "markdown",
   "metadata": {},
   "source": [
    "# Clustering"
   ]
  },
  {
   "cell_type": "code",
   "execution_count": 13,
   "metadata": {
    "scrolled": false
   },
   "outputs": [],
   "source": [
    "def cluster_plot(pos, title='', without_labels=False, width=20, height=20, savepath=''):\n",
    "    plt.rc('font', size=15)\n",
    "    \n",
    "    xs, ys = pos[:, 0], pos[:, 1]\n",
    "    \n",
    "    labels = range(len(shorter_clips))\n",
    "\n",
    "    # Data frame with TSNE data, the cluster numbers and titles\n",
    "    cluster_df = pd.DataFrame(dict(x=xs, y=ys, clusters=clusters, labels=labels)) \n",
    "\n",
    "    fig, ax = plt.subplots(figsize=(width, height))\n",
    "    ax.margins(0.05)\n",
    "    ax.set_title(title)\n",
    "\n",
    "    groups = cluster_df.groupby('clusters')\n",
    "    for name, group in groups:\n",
    "        ax.plot(group.x, group.y, marker='o', linestyle='', ms=12, mec='none', label=name)\n",
    "        ax.set_aspect('auto')\n",
    "        ax.tick_params(axis= 'x', which='both', bottom='off', top='off', labelbottom='off')\n",
    "        ax.tick_params(axis= 'y', which='both', left='off', top='off', labelleft='off')\n",
    "\n",
    "    ax.legend(numpoints=1)\n",
    "    ax.legend(bbox_to_anchor=(1.1, 1.05))\n",
    "\n",
    "    #Add labels\n",
    "    if not without_labels:\n",
    "        texts = []\n",
    "        for i in range(len(cluster_df)):\n",
    "            texts.append(ax.text(cluster_df.loc[i, 'x'], cluster_df.loc[i, 'y'], cluster_df.loc[i,'labels'], size=10)) \n",
    "\n",
    "        #adjust_text(texts, arrowprops=dict(arrowstyle='->', color='red'))\n",
    "    \n",
    "    if savepath != '':\n",
    "        plt.savefig(savepath, dpi=200, bbox_inches=\"tight\")\n",
    "\n",
    "    plt.show()"
   ]
  },
  {
   "cell_type": "code",
   "execution_count": 14,
   "metadata": {
    "scrolled": true
   },
   "outputs": [],
   "source": [
    "from sklearn.decomposition import PCA\n",
    "from sklearn.metrics.pairwise import cosine_similarity\n",
    "import pandas as pd\n",
    "\n",
    "dist = 1 - cosine_similarity(mfcc_clips)\n",
    "mds = PCA(random_state=1, whiten=True)\n",
    "pos = mds.fit_transform(dist)  # shape (n_components, n_samples)\n",
    "X = pos"
   ]
  },
  {
   "cell_type": "code",
   "execution_count": 15,
   "metadata": {},
   "outputs": [],
   "source": [
    "# Spherical K-means clustering\n",
    "# https://github.com/jasonlaska/spherecluster\n",
    "from spherecluster import SphericalKMeans\n",
    "n_clusters = 5\n",
    "clusters = SphericalKMeans(n_clusters).fit_predict(X)\n",
    "\n"
   ]
  },
  {
   "cell_type": "code",
   "execution_count": 16,
   "metadata": {
    "scrolled": true
   },
   "outputs": [
    {
     "name": "stderr",
     "output_type": "stream",
     "text": [
      "/anaconda3/lib/python3.6/site-packages/matplotlib/cbook/__init__.py:424: MatplotlibDeprecationWarning: \n",
      "Passing one of 'on', 'true', 'off', 'false' as a boolean is deprecated; use an actual boolean (True/False) instead.\n",
      "  warn_deprecated(\"2.2\", \"Passing one of 'on', 'true', 'off', 'false' as a \"\n"
     ]
    },
    {
     "data": {
      "image/png": "[encoded data removed]",
      "text/plain": [
       "<Figure size 1440x1440 with 1 Axes>"
      ]
     },
     "metadata": {},
     "output_type": "display_data"
    }
   ],
   "source": [
    "cluster_plot(X, 'PCA Cluster Plot', without_labels=True, savepath='/Users/yoo-jin/Desktop/pca_kmeans_spherical_2GB_mixedAM.png')\n",
    "\n"
   ]
  },
  {
   "cell_type": "code",
   "execution_count": 17,
   "metadata": {},
   "outputs": [
    {
     "name": "stderr",
     "output_type": "stream",
     "text": [
      "/anaconda3/lib/python3.6/site-packages/matplotlib/cbook/__init__.py:424: MatplotlibDeprecationWarning: \n",
      "Passing one of 'on', 'true', 'off', 'false' as a boolean is deprecated; use an actual boolean (True/False) instead.\n",
      "  warn_deprecated(\"2.2\", \"Passing one of 'on', 'true', 'off', 'false' as a \"\n"
     ]
    },
    {
     "data": {
      "image/png": "[encoded data removed]",
      "text/plain": [
       "<Figure size 1440x1440 with 1 Axes>"
      ]
     },
     "metadata": {},
     "output_type": "display_data"
    }
   ],
   "source": [
    "from sklearn.manifold import TSNE\n",
    "dist = 1 - cosine_similarity(mfcc_clips)\n",
    "mds = TSNE(n_components=2, random_state=1)\n",
    "pos = mds.fit_transform(dist)  # shape (n_components, n_samples)\n",
    "\n",
    "cluster_plot(pos, 'TSNE Cluster Plot', without_labels=True)"
   ]
  },
  {
   "cell_type": "markdown",
   "metadata": {},
   "source": [
    "# Cluster Interpretation\n",
    "Play some clips in each of the clusters"
   ]
  },
  {
   "cell_type": "code",
   "execution_count": 18,
   "metadata": {},
   "outputs": [],
   "source": [
    "# Returns all clip indexes within a cluster\n",
    "def get_clip_indexes(cluster_label, clusters):\n",
    "    clips_i = []\n",
    "    for i in range(len(clusters)):\n",
    "        if clusters[i] == cluster_label:\n",
    "            clips_i.append(i)\n",
    "    return clips_i\n",
    "\n",
    "# Plays a random clip in a given cluster\n",
    "def play_random_clip_in_cluster(index, clusters, option='cluster'):\n",
    "    assert(option == 'cluster' or option == 'clip')\n",
    "    if option == 'clip':\n",
    "        index = find_cluster(index, clusters) # Get cluster index\n",
    "    \n",
    "    clips = get_clip_indexes(index, clusters)\n",
    "    clip_i = clips[random.randint(0, len(clips) - 1)]\n",
    "    print('Playing clip index %d ' % clip_i)\n",
    "    play_clip(clip_i)\n",
    "        \n",
    "# Returns the cluster label that a clip belongs to\n",
    "def find_cluster(clip_index, clusters):\n",
    "    return clusters[clip_index]\n",
    "\n",
    "# Plays an audio clip given the clip index\n",
    "def play_clip(clip_index):\n",
    "    samples = shorter_clips[clip_index]\n",
    "    sd.play(samples, sample_rate)\n",
    "\n",
    "# Flattens a given list\n",
    "def list_flatten(l):\n",
    "    flat_list = []\n",
    "    for sublist in l:\n",
    "        for item in sublist:\n",
    "            flat_list.append(item)\n",
    "    return flat_list\n",
    "\n",
    "# Saves clip as a wav file\n",
    "def save_clip(filename, wav_array):\n",
    "#     assert('.' not in filename)\n",
    "    write(filename + '.wav', 44100, wav_array)\n",
    "    \n",
    "# Saves all clips to a directory\n",
    "def save_clips_to_dir(shorter_clips, dirname):\n",
    "    for i, clip in enumerate(shorter_clips):\n",
    "        save_clip(dirname + '/%d' % i, clip) "
   ]
  },
  {
   "cell_type": "code",
   "execution_count": 19,
   "metadata": {
    "scrolled": true
   },
   "outputs": [
    {
     "data": {
      "text/plain": [
       "[(4, 6), (1, 6), (2, 6), (3, 5), (0, 4)]"
      ]
     },
     "execution_count": 19,
     "metadata": {},
     "output_type": "execute_result"
    }
   ],
   "source": [
    "# Prints: (Cluster number, count of clips in cluster)\n",
    "from collections import Counter\n",
    "import random\n",
    "import sounddevice as sd\n",
    "\n",
    "Counter(clusters).most_common()"
   ]
  },
  {
   "cell_type": "code",
   "execution_count": 20,
   "metadata": {},
   "outputs": [
    {
     "name": "stdout",
     "output_type": "stream",
     "text": [
      "Playing clip index 1 \n"
     ]
    }
   ],
   "source": [
    "sample_rate = 44100\n",
    "play_random_clip_in_cluster(0, clusters) # Play random clip in a cluster"
   ]
  },
  {
   "cell_type": "code",
   "execution_count": 21,
   "metadata": {},
   "outputs": [],
   "source": [
    "sd.stop() # Stop playing"
   ]
  },
  {
   "cell_type": "code",
   "execution_count": 22,
   "metadata": {},
   "outputs": [],
   "source": [
    "play_clip(10)"
   ]
  },
  {
   "cell_type": "code",
   "execution_count": 23,
   "metadata": {},
   "outputs": [],
   "source": [
    "sd.stop() # Stop playing"
   ]
  },
  {
   "cell_type": "markdown",
   "metadata": {},
   "source": [
    "## Save clusters of audio files\n",
    "Go through the list of filenames and extract the bird species present in the xeno canto data. Also, print out the clusters that each file is put into. "
   ]
  },
  {
   "cell_type": "code",
   "execution_count": 24,
   "metadata": {
    "scrolled": true
   },
   "outputs": [
    {
     "name": "stdout",
     "output_type": "stream",
     "text": [
      "['XC22269 - White-crested Spadebill - Platyrinchus platyrhynchos.mp3', 'XC22270 - White-crested Spadebill - Platyrinchus platyrhynchos.mp3', 'XC22404 - Black Antbird - Cercomacroides serva.mp3', 'XC22404 - Black Antbird - Cercomacroides serva.mp3', 'XC22404 - Black Antbird - Cercomacroides serva.mp3', 'XC22404 - Black Antbird - Cercomacroides serva.mp3', 'XC22458 - White-eyed Antwren - Epinecrophylla leucophthalma.mp3', 'XC22458 - White-eyed Antwren - Epinecrophylla leucophthalma.mp3', 'XC22458 - White-eyed Antwren - Epinecrophylla leucophthalma.mp3', 'XC22458 - White-eyed Antwren - Epinecrophylla leucophthalma.mp3', 'XC23428 - White-winged Shrike-Tanager - Lanio versicolor.mp3', 'XC23434 - White-winged Shrike-Tanager - Lanio versicolor.mp3', 'XC23434 - White-winged Shrike-Tanager - Lanio versicolor.mp3', 'XC23434 - White-winged Shrike-Tanager - Lanio versicolor.mp3', 'XC23434 - White-winged Shrike-Tanager - Lanio versicolor.mp3', \"XC40313 - Goeldi's Antbird - Akletos goeldii.mp3\", \"XC40313 - Goeldi's Antbird - Akletos goeldii.mp3\", \"XC40313 - Goeldi's Antbird - Akletos goeldii.mp3\", \"XC40313 - Goeldi's Antbird - Akletos goeldii.mp3\", \"XC40313 - Goeldi's Antbird - Akletos goeldii.mp3\", \"XC40313 - Goeldi's Antbird - Akletos goeldii.mp3\", \"XC40313 - Goeldi's Antbird - Akletos goeldii.mp3\", \"XC40313 - Goeldi's Antbird - Akletos goeldii.mp3\", \"XC40313 - Goeldi's Antbird - Akletos goeldii.mp3\", \"XC40313 - Goeldi's Antbird - Akletos goeldii.mp3\", \"XC40313 - Goeldi's Antbird - Akletos goeldii.mp3\", \"XC40313 - Goeldi's Antbird - Akletos goeldii.mp3\"]\n",
      "[0, 0, 0, 0, 1, 1, 1, 1, 1, 1, 2, 2, 2, 2, 2, 2, 3, 3, 3, 3, 3, 4, 4, 4, 4, 4, 4]\n",
      "{\"Goeldi's Antbird - Akletos goeldii\", 'White-eyed Antwren - Epinecrophylla leucophthalma', 'Black Antbird - Cercomacroides serva'}\n"
     ]
    }
   ],
   "source": [
    "num_bird_species = []\n",
    "cluster_list_ordered = []\n",
    "\n",
    "for i in range(len(np.unique(clusters))): \n",
    "    cluster_set = set()\n",
    "    for j in get_clip_indexes(i, clusters):\n",
    "        cluster_list_ordered.append(i)\n",
    "        bird_species = os.path.splitext(file_names[j])[0].split(\"-\",1)[1].strip()\n",
    "        cluster_set.add(bird_species)\n",
    "    num_bird_species.append(len(cluster_set))\n",
    "\n",
    "print(file_names)\n",
    "print(cluster_list_ordered)\n",
    "print(cluster_set)\n",
    "# print(num_bird_species)   "
   ]
  },
  {
   "cell_type": "markdown",
   "metadata": {},
   "source": [
    "## Evaluation Metrics"
   ]
  },
  {
   "cell_type": "markdown",
   "metadata": {},
   "source": [
    "### Silhouette Analysis \n",
    "Silhoutte analysis on the different clusters. Note that "
   ]
  },
  {
   "cell_type": "code",
   "execution_count": 25,
   "metadata": {},
   "outputs": [
    {
     "name": "stdout",
     "output_type": "stream",
     "text": [
      "Automatically created module for IPython interactive environment\n",
      "For n_clusters = 2 The average silhouette_score is : -4.561784663802529e-18\n",
      "For n_clusters = 3 The average silhouette_score is : -8.66739086122481e-17\n"
     ]
    },
    {
     "data": {
      "image/png": "[encoded data removed]",
      "text/plain": [
       "<Figure size 1296x504 with 2 Axes>"
      ]
     },
     "metadata": {
      "needs_background": "light"
     },
     "output_type": "display_data"
    },
    {
     "data": {
      "image/png": "[encoded data removed]",
      "text/plain": [
       "<Figure size 1296x504 with 2 Axes>"
      ]
     },
     "metadata": {
      "needs_background": "light"
     },
     "output_type": "display_data"
    }
   ],
   "source": [
    "# Need to do on a much larger dataset\n",
    "from sklearn.datasets import make_blobs\n",
    "from sklearn.metrics import silhouette_samples, silhouette_score\n",
    "\n",
    "import matplotlib.pyplot as plt\n",
    "import matplotlib.cm as cm\n",
    "import numpy as np\n",
    "\n",
    "print(__doc__)\n",
    "\n",
    "# Generating the sample data from make_blobs\n",
    "# This particular setting has one distinct cluster and 3 clusters placed close\n",
    "# together.\n",
    "\n",
    "range_n_clusters = range(2,4) \n",
    "\n",
    "for n_clusters in range_n_clusters:\n",
    "    # Create a subplot with 1 row and 2 columns\n",
    "    fig, (ax1, ax2) = plt.subplots(1, 2)\n",
    "    fig.set_size_inches(18, 7)\n",
    "\n",
    "    # The 1st subplot is the silhouette plot\n",
    "    ax1.set_xlim([-1, 1])\n",
    "    # The (n_clusters+1)*10 is for inserting blank space between silhouette\n",
    "    # plots of individual clusters, to demarcate them clearly.\n",
    "    ax1.set_ylim([0, len(X) + (n_clusters + 1) * 10])\n",
    "\n",
    "    # Initialize the clusterer with n_clusters value and a random generator\n",
    "    # seed of 10 for reproducibility.\n",
    "#     clusterer = KMeans(n_clusters=n_clusters, random_state=10)\n",
    "    clusterer = SphericalKMeans(n_clusters, random_state=10).fit(X)\n",
    "    cluster_labels = clusterer.fit_predict(X) #fits then predict, gives labels\n",
    "\n",
    "    # The silhouette_score gives the average value for all the samples.\n",
    "    # This gives a perspective into the density and separation of the formed\n",
    "    # clusters\n",
    "    silhouette_avg = silhouette_score(X, cluster_labels)\n",
    "    print(\"For n_clusters =\", n_clusters,\n",
    "          \"The average silhouette_score is :\", silhouette_avg)\n",
    "\n",
    "    # Compute the silhouette scores for each sample\n",
    "    sample_silhouette_values = silhouette_samples(X, cluster_labels)\n",
    "\n",
    "    y_lower = 10\n",
    "    for i in range(n_clusters):\n",
    "        # Aggregate the silhouette scores for samples belonging to\n",
    "        # cluster i, and sort them\n",
    "        ith_cluster_silhouette_values = \\\n",
    "            sample_silhouette_values[cluster_labels == i]\n",
    "\n",
    "        ith_cluster_silhouette_values.sort()\n",
    "\n",
    "        size_cluster_i = ith_cluster_silhouette_values.shape[0]\n",
    "        y_upper = y_lower + size_cluster_i\n",
    "\n",
    "        color = cm.nipy_spectral(float(i) / n_clusters)\n",
    "        ax1.fill_betweenx(np.arange(y_lower, y_upper),\n",
    "                          0, ith_cluster_silhouette_values,\n",
    "                          facecolor=color, edgecolor=color, alpha=0.7)\n",
    "\n",
    "        # Label the silhouette plots with their cluster numbers at the middle\n",
    "        ax1.text(-0.05, y_lower + 0.5 * size_cluster_i, str(i))\n",
    "\n",
    "        # Compute the new y_lower for next plot\n",
    "        y_lower = y_upper + 10  # 10 for the 0 samples\n",
    "\n",
    "    ax1.set_title(\"The silhouette plot for the various clusters.\")\n",
    "    ax1.set_xlabel(\"The silhouette coefficient values\")\n",
    "    ax1.set_ylabel(\"Cluster label\")\n",
    "\n",
    "    # The vertical line for average silhouette score of all the values\n",
    "    ax1.axvline(x=silhouette_avg, color=\"red\", linestyle=\"--\")\n",
    "\n",
    "    ax1.set_yticks([])  # Clear the yaxis labels / ticks\n",
    "    ax1.set_xticks([-0.1, 0, 0.2, 0.4, 0.6, 0.8, 1])\n",
    "\n",
    "    # 2nd Plot showing the actual clusters formed\n",
    "    colors = cm.nipy_spectral(cluster_labels.astype(float) / n_clusters)\n",
    "    ax2.scatter(X[:, 0], X[:, 1], marker='.', s=30, lw=0, alpha=0.7,\n",
    "                c=colors, edgecolor='k')\n",
    "\n",
    "    # Labeling the clusters\n",
    "    centers = clusterer.cluster_centers_\n",
    "    # Draw white circles at cluster centers\n",
    "    ax2.scatter(centers[:, 0], centers[:, 1], marker='o',\n",
    "                c=\"white\", alpha=1, s=200, edgecolor='k')\n",
    "\n",
    "    for i, c in enumerate(centers):\n",
    "        ax2.scatter(c[0], c[1], marker='$%d$' % i, alpha=1,\n",
    "                    s=50, edgecolor='k')\n",
    "\n",
    "    ax2.set_title(\"The visualization of the clustered data.\")\n",
    "    ax2.set_xlabel(\"Feature space for the 1st feature\")\n",
    "    ax2.set_ylabel(\"Feature space for the 2nd feature\")\n",
    "\n",
    "    plt.suptitle((\"Silhouette analysis for KMeans clustering on sample data \"\n",
    "                  \"with n_clusters = %d\" % n_clusters),\n",
    "                 fontsize=14, fontweight='bold')\n",
    "\n",
    "plt.show()"
   ]
  },
  {
   "cell_type": "code",
   "execution_count": 26,
   "metadata": {},
   "outputs": [
    {
     "ename": "NameError",
     "evalue": "name 'MiniBatchKMeans' is not defined",
     "output_type": "error",
     "traceback": [
      "\u001b[0;31m---------------------------------------------------------------------------\u001b[0m",
      "\u001b[0;31mNameError\u001b[0m                                 Traceback (most recent call last)",
      "\u001b[0;32m<ipython-input-26-6838224cfb35>\u001b[0m in \u001b[0;36m<module>\u001b[0;34m\u001b[0m\n\u001b[1;32m      7\u001b[0m \u001b[0;31m# take the mean of each cluster:\u001b[0m\u001b[0;34m\u001b[0m\u001b[0;34m\u001b[0m\u001b[0;34m\u001b[0m\u001b[0m\n\u001b[1;32m      8\u001b[0m \u001b[0mn_clusters\u001b[0m \u001b[0;34m=\u001b[0m \u001b[0;36m5\u001b[0m\u001b[0;34m\u001b[0m\u001b[0;34m\u001b[0m\u001b[0m\n\u001b[0;32m----> 9\u001b[0;31m \u001b[0mkmeans\u001b[0m \u001b[0;34m=\u001b[0m \u001b[0mMiniBatchKMeans\u001b[0m\u001b[0;34m(\u001b[0m\u001b[0mn_clusters\u001b[0m\u001b[0;34m,\u001b[0m \u001b[0mrandom_state\u001b[0m\u001b[0;34m=\u001b[0m\u001b[0;36m10\u001b[0m\u001b[0;34m)\u001b[0m\u001b[0;34m.\u001b[0m\u001b[0mfit\u001b[0m\u001b[0;34m(\u001b[0m\u001b[0mX\u001b[0m\u001b[0;34m)\u001b[0m\u001b[0;34m\u001b[0m\u001b[0;34m\u001b[0m\u001b[0m\n\u001b[0m\u001b[1;32m     10\u001b[0m \u001b[0mcluster_labels\u001b[0m \u001b[0;34m=\u001b[0m \u001b[0mkmeans\u001b[0m\u001b[0;34m.\u001b[0m\u001b[0mlabels_\u001b[0m\u001b[0;34m\u001b[0m\u001b[0;34m\u001b[0m\u001b[0m\n\u001b[1;32m     11\u001b[0m \u001b[0msample_silhouette_values\u001b[0m \u001b[0;34m=\u001b[0m \u001b[0mmetrics\u001b[0m\u001b[0;34m.\u001b[0m\u001b[0msilhouette_samples\u001b[0m\u001b[0;34m(\u001b[0m\u001b[0mX\u001b[0m\u001b[0;34m,\u001b[0m \u001b[0mcluster_labels\u001b[0m\u001b[0;34m)\u001b[0m\u001b[0;34m\u001b[0m\u001b[0;34m\u001b[0m\u001b[0m\n",
      "\u001b[0;31mNameError\u001b[0m: name 'MiniBatchKMeans' is not defined"
     ]
    }
   ],
   "source": [
    "## Silhouette score for each cluster\n",
    "\n",
    "# https://stackoverflow.com/questions/59919627/how-to-calculate-the-silhouette-score-for-each-cluster-separately-in-python\n",
    "\n",
    "# You could use metrics.silhouette_samples to compute \n",
    "# the silhouette coefficients for each sample, then \n",
    "# take the mean of each cluster:\n",
    "n_clusters = 5\n",
    "kmeans = MiniBatchKMeans(n_clusters, random_state=10).fit(X)\n",
    "cluster_labels = kmeans.labels_\n",
    "sample_silhouette_values = metrics.silhouette_samples(X, cluster_labels)\n",
    "\n",
    "means_lst = []\n",
    "for label in range(n_clusters):\n",
    "    means_lst.append(sample_silhouette_values[cluster_labels == label].mean())\n",
    "    \n",
    "print(means_lst)                                                                             "
   ]
  },
  {
   "cell_type": "code",
   "execution_count": 27,
   "metadata": {},
   "outputs": [],
   "source": [
    "# Reference:\n",
    "# https://scikit-learn.org/stable/auto_examples/cluster/plot_kmeans_silhouette_analysis.html#sphx-glr-auto-examples-cluster-plot-kmeans-silhouette-analysis-py\n",
    "\n",
    "from sklearn import metrics\n",
    "from sklearn.metrics import silhouette_score, davies_bouldin_score\n",
    "from sklearn.cluster import AgglomerativeClustering\n",
    "from sklearn.cluster import MiniBatchKMeans\n",
    "from spherecluster import SphericalKMeans\n",
    "\n",
    "## n_clusters defined above ##\n",
    "n_clusters = 5\n",
    "kmeans = SphericalKMeans(n_clusters).fit(X)\n"
   ]
  },
  {
   "cell_type": "markdown",
   "metadata": {},
   "source": [
    "## Metrics to analyze the clusters \n",
    "Evaluating the clusters through different established metrics."
   ]
  },
  {
   "cell_type": "markdown",
   "metadata": {},
   "source": [
    "### Metrics that work for unlabelled data"
   ]
  },
  {
   "cell_type": "markdown",
   "metadata": {},
   "source": [
    "#### Silhouette Value\n",
    "The silhouette value is a measure of how similar an object is to its own cluster (cohesion) compared to other clusters (separation). The silhouette ranges from −1 to +1, where a high value indicates that the object is well matched to its own cluster and poorly matched to neighboring clusters.\n",
    "\n",
    "According to this [article](https://towardsdatascience.com/silhouette-coefficient-validating-clustering-techniques-e976bb81d10c), a score of 0 for the silhouette score means that the clusters are indifferent or the distance between clusters are not significant. Or in other words, the silhouette score indicates that the sample is on or very close to the decision boundary separating two neighboring clusters.\n",
    "\n",
    "From this [article](https://towardsdatascience.com/k-means-clustering-algorithm-applications-evaluation-methods-and-drawbacks-aa03e644b48a), concludes that good n_clusters will have a silhouette average score of above 0.5. "
   ]
  },
  {
   "cell_type": "code",
   "execution_count": 28,
   "metadata": {},
   "outputs": [
    {
     "name": "stdout",
     "output_type": "stream",
     "text": [
      "Silhouette score: -6.386498529323544e-17\n"
     ]
    }
   ],
   "source": [
    "print(\"Silhouette score:\", silhouette_score(X, kmeans.labels_))"
   ]
  },
  {
   "cell_type": "markdown",
   "metadata": {},
   "source": [
    "#### Davies Bouldin Score\n",
    "The score is defined as the average similarity measure of each cluster with its most similar cluster, where similarity is the ratio of within-cluster distances to between-cluster distances. Thus, clusters which are farther apart and less dispersed will result in a better score.\n",
    "\n",
    "The minimum score is zero, with lower values indicating better clustering. The higher the score the better the separation is."
   ]
  },
  {
   "cell_type": "code",
   "execution_count": 30,
   "metadata": {},
   "outputs": [
    {
     "name": "stdout",
     "output_type": "stream",
     "text": [
      "Davies Bouldin Score: 3.186346068320347\n"
     ]
    },
    {
     "name": "stderr",
     "output_type": "stream",
     "text": [
      "/anaconda3/lib/python3.6/site-packages/sklearn/metrics/cluster/unsupervised.py:342: RuntimeWarning: divide by zero encountered in true_divide\n",
      "  score = (intra_dists[:, None] + intra_dists) / centroid_distances\n"
     ]
    }
   ],
   "source": [
    "print(\"Davies Bouldin Score:\", davies_bouldin_score(X, kmeans.labels_))\n"
   ]
  },
  {
   "cell_type": "markdown",
   "metadata": {},
   "source": [
    "### Metrics that work for labeled data"
   ]
  },
  {
   "cell_type": "markdown",
   "metadata": {},
   "source": [
    "#### Adjusted Random Score \n",
    "The Rand Index computes a similarity measure between two clusterings by considering all pairs of samples and counting pairs that are assigned in the same or different clusters in the predicted and true clusterings.\n",
    "\n",
    "Similarity score between -1.0 and 1.0. Random labelings have an ARI close to 0.0. 1.0 stands for perfect match."
   ]
  },
  {
   "cell_type": "code",
   "execution_count": 31,
   "metadata": {},
   "outputs": [
    {
     "name": "stdout",
     "output_type": "stream",
     "text": [
      "Adjusted Random Score 0.0613445573564635\n"
     ]
    }
   ],
   "source": [
    "# https://scikit-learn.org/stable/modules/clustering.html#clustering-performance-evaluation\n",
    "# Bad (e.g. independent labelings) have non-positive scores:\n",
    "print(\"Adjusted Random Score\", metrics.adjusted_rand_score(true_labels, kmeans.labels_))"
   ]
  },
  {
   "cell_type": "markdown",
   "metadata": {},
   "source": [
    "#### Mutual Information Based Scores\n",
    "Given the knowledge of the ground truth class assignments labels_true and our clustering algorithm assignments of the same samples labels_pred, the Mutual Information is a function that measures the agreement of the two assignments, ignoring permutations. Random (uniform) label assignments have a AMI score close to 0.0 for any value of n_clusters and n_samples(which is not the case for raw Mutual Information or the V-measure for instance).\n",
    "\n",
    "[Source](https://esigma6.wordpress.com/2018/11/03/2-3-9-2-mutual-information-based-scores/)"
   ]
  },
  {
   "cell_type": "code",
   "execution_count": 32,
   "metadata": {},
   "outputs": [
    {
     "name": "stdout",
     "output_type": "stream",
     "text": [
      "Mutual Information based scores 0.04475796334446643\n"
     ]
    },
    {
     "name": "stderr",
     "output_type": "stream",
     "text": [
      "/anaconda3/lib/python3.6/site-packages/sklearn/metrics/cluster/supervised.py:732: FutureWarning: The behavior of AMI will change in version 0.22. To match the behavior of 'v_measure_score', AMI will use average_method='arithmetic' by default.\n",
      "  FutureWarning)\n"
     ]
    }
   ],
   "source": [
    "print(\"Mutual Information based scores\", metrics.adjusted_mutual_info_score(true_labels, kmeans.labels_))"
   ]
  },
  {
   "cell_type": "markdown",
   "metadata": {},
   "source": [
    "#### Homogeneity \n",
    "Homogeneity metric of a cluster labeling given a ground truth. A clustering result satisfies homogeneity if all of its clusters contain only data points which are members of a single class. score between 0.0 and 1.0. 1.0 stands for perfectly homogeneous labeling\n",
    "\n",
    "homogeneity: each cluster contains only members of a single class."
   ]
  },
  {
   "cell_type": "code",
   "execution_count": 34,
   "metadata": {},
   "outputs": [
    {
     "name": "stdout",
     "output_type": "stream",
     "text": [
      "Homogeneity 0.288797974012245\n"
     ]
    }
   ],
   "source": [
    "print(\"Homogeneity\", metrics.homogeneity_score(true_labels, kmeans.labels_))"
   ]
  },
  {
   "cell_type": "markdown",
   "metadata": {},
   "source": [
    "#### Completeness\n",
    "Completeness metric of a cluster labeling given a ground truth. \n",
    "A clustering result satisfies completeness if all the data points that are members of a given class are elements of the same cluster.\n",
    "\n",
    "They are bounded below by 0.0 and above by 1.0\n",
    "\n",
    "completeness: all members of a given class are assigned to the same cluster."
   ]
  },
  {
   "cell_type": "code",
   "execution_count": 35,
   "metadata": {},
   "outputs": [
    {
     "name": "stdout",
     "output_type": "stream",
     "text": [
      "Completeness 0.26672797474297827\n"
     ]
    }
   ],
   "source": [
    "print(\"Completeness\", metrics.completeness_score(true_labels, kmeans.labels_))"
   ]
  },
  {
   "cell_type": "markdown",
   "metadata": {},
   "source": [
    "#### V-measure\n",
    "Equation: 2 * (homogeneity * completeness) / (homogeneity + completeness)\n",
    "Their harmonic mean called V-measure is computed by v_measure_score. \n",
    "\n",
    "For further [reference](https://scikit-learn.org/stable/modules/clustering.html#homogeneity-completeness-and-v-measure)"
   ]
  },
  {
   "cell_type": "code",
   "execution_count": 41,
   "metadata": {},
   "outputs": [
    {
     "name": "stdout",
     "output_type": "stream",
     "text": [
      "V-measure 0.23183353604854004\n"
     ]
    }
   ],
   "source": [
    "print(\"V-measure\", metrics.v_measure_score(true_labels, kmeans.labels_))"
   ]
  },
  {
   "cell_type": "markdown",
   "metadata": {},
   "source": [
    "#### Fowlkes Mallows Score\n",
    "Measure the similarity of two clusterings of a set of points. The score ranges from 0 to 1. A high value indicates a good similarity between two clusters. If classes members are completely split across different clusters, the assignment is totally random, hence the FMI is null:"
   ]
  },
  {
   "cell_type": "code",
   "execution_count": 42,
   "metadata": {},
   "outputs": [
    {
     "name": "stdout",
     "output_type": "stream",
     "text": [
      "Fowlkes-Mallows score 0.2071989632307816\n"
     ]
    }
   ],
   "source": [
    "print(\"Fowlkes-Mallows score\", metrics.fowlkes_mallows_score(true_labels, kmeans.labels_))"
   ]
  },
  {
   "cell_type": "markdown",
   "metadata": {},
   "source": [
    "## Save as .csv"
   ]
  },
  {
   "cell_type": "code",
   "execution_count": 57,
   "metadata": {
    "scrolled": true
   },
   "outputs": [
    {
     "name": "stdout",
     "output_type": "stream",
     "text": [
      "             File name Time in clip (seconds)  Cluster number\n",
      "0  20190610_022000.WAV                [0, 10]               0\n",
      "1  20190610_022000.WAV               [10, 20]               0\n",
      "2  20190610_022000.WAV               [20, 30]               0\n",
      "3  20190610_022000.WAV               [30, 40]               0\n",
      "4  20190610_022000.WAV               [40, 50]               0\n"
     ]
    }
   ],
   "source": [
    "## pandas dataframe ## \n",
    "import pandas as pd \n",
    "\n",
    "full_data = {\n",
    "    'File name': file_names,\n",
    "    'Time in clip (seconds)': timestamp,\n",
    "    'Cluster number': cluster_list_ordered\n",
    "}\n",
    "\n",
    "df = pd.DataFrame(full_data, columns = ['File name', 'Time in clip (seconds)', 'Cluster number'])\n",
    "\n",
    "df.to_csv(r'/Users/yoo-jin/Desktop/073120_export_dataframe_kmeanspherical_xenocanto_downsampled.csv',index = False, header=True)\n",
    "            \n",
    "print(df.head())"
   ]
  },
  {
   "cell_type": "markdown",
   "metadata": {},
   "source": [
    "# Optional (save clip)"
   ]
  },
  {
   "cell_type": "code",
   "execution_count": null,
   "metadata": {
    "scrolled": true
   },
   "outputs": [],
   "source": [
    "dirname = '/Volumes/Elements/Test/Clusters/'\n",
    "# dirname = '/Volumes/Elements/Test/Clusters/'\n",
    "\n",
    "for i in range(len(np.unique(clusters))):\n",
    "    os.mkdir(dirname + 'cluster_%d' % i)\n",
    "    for j in get_clip_indexes(i, clusters):\n",
    "        save_clip(dirname + 'cluster_%d/%s' % (i, file_names[j]), final_d[j])"
   ]
  },
  {
   "cell_type": "markdown",
   "metadata": {},
   "source": [
    "## Analyze clusters \n",
    "Find the total number of bird species in cluster and also the list of dictionary of each file name corresponding to each cluster number"
   ]
  },
  {
   "cell_type": "code",
   "execution_count": 55,
   "metadata": {
    "scrolled": true
   },
   "outputs": [
    {
     "name": "stdout",
     "output_type": "stream",
     "text": [
      "{'White-winged Shrike-Tanager - Lanio versicolor', 'White-eyed Antwren - Epinecrophylla leucophthalma', 'White-crested Spadebill - Platyrinchus platyrhynchos', \"Goeldi's Antbird - Akletos goeldii\"}\n",
      "{'White-winged Shrike-Tanager - Lanio versicolor', \"Goeldi's Antbird - Akletos goeldii\"}\n",
      "{\"Goeldi's Antbird - Akletos goeldii\", 'Black Antbird - Cercomacroides serva'}\n",
      "{\"Goeldi's Antbird - Akletos goeldii\", 'White-eyed Antwren - Epinecrophylla leucophthalma'}\n",
      "{\"Goeldi's Antbird - Akletos goeldii\", 'Black Antbird - Cercomacroides serva', 'White-eyed Antwren - Epinecrophylla leucophthalma'}\n",
      "['XC22269 - White-crested Spadebill - Platyrinchus platyrhynchos.mp3', 'XC22270 - White-crested Spadebill - Platyrinchus platyrhynchos.mp3', 'XC22404 - Black Antbird - Cercomacroides serva.mp3', 'XC22404 - Black Antbird - Cercomacroides serva.mp3', 'XC22404 - Black Antbird - Cercomacroides serva.mp3', 'XC22404 - Black Antbird - Cercomacroides serva.mp3', 'XC22458 - White-eyed Antwren - Epinecrophylla leucophthalma.mp3', 'XC22458 - White-eyed Antwren - Epinecrophylla leucophthalma.mp3', 'XC22458 - White-eyed Antwren - Epinecrophylla leucophthalma.mp3', 'XC22458 - White-eyed Antwren - Epinecrophylla leucophthalma.mp3', 'XC23428 - White-winged Shrike-Tanager - Lanio versicolor.mp3', 'XC23434 - White-winged Shrike-Tanager - Lanio versicolor.mp3', 'XC23434 - White-winged Shrike-Tanager - Lanio versicolor.mp3', 'XC23434 - White-winged Shrike-Tanager - Lanio versicolor.mp3', 'XC23434 - White-winged Shrike-Tanager - Lanio versicolor.mp3', \"XC40313 - Goeldi's Antbird - Akletos goeldii.mp3\", \"XC40313 - Goeldi's Antbird - Akletos goeldii.mp3\", \"XC40313 - Goeldi's Antbird - Akletos goeldii.mp3\", \"XC40313 - Goeldi's Antbird - Akletos goeldii.mp3\", \"XC40313 - Goeldi's Antbird - Akletos goeldii.mp3\", \"XC40313 - Goeldi's Antbird - Akletos goeldii.mp3\", \"XC40313 - Goeldi's Antbird - Akletos goeldii.mp3\", \"XC40313 - Goeldi's Antbird - Akletos goeldii.mp3\", \"XC40313 - Goeldi's Antbird - Akletos goeldii.mp3\", \"XC40313 - Goeldi's Antbird - Akletos goeldii.mp3\", \"XC40313 - Goeldi's Antbird - Akletos goeldii.mp3\", \"XC40313 - Goeldi's Antbird - Akletos goeldii.mp3\"]\n",
      "[0, 0, 0, 0, 0, 0, 0, 1, 1, 1, 1, 1, 1, 1, 2, 2, 2, 2, 3, 3, 3, 3, 4, 4, 4, 4, 4]\n"
     ]
    }
   ],
   "source": [
    "num_bird_species = []\n",
    "cluster_list_ordered = []\n",
    "\n",
    "for i in range(len(np.unique(clusters))): \n",
    "    cluster_set = set()\n",
    "    for j in get_clip_indexes(i, clusters):\n",
    "        cluster_list_ordered.append(i)\n",
    "        bird_species = os.path.splitext(file_names[j])[0].split(\"-\",1)[1].strip()\n",
    "#         print(bird_species)\n",
    "#         print(type(bird_species))\n",
    "        cluster_set.add(bird_species)\n",
    "    num_bird_species.append(len(cluster_set))\n",
    "    print(cluster_set)\n",
    "\n",
    "print(file_names)\n",
    "print(cluster_list_ordered)\n",
    "# print(num_bird_species)        "
   ]
  },
  {
   "cell_type": "code",
   "execution_count": 56,
   "metadata": {
    "scrolled": false
   },
   "outputs": [
    {
     "name": "stdout",
     "output_type": "stream",
     "text": [
      "5\n",
      "Average number of birds over clusters: 2.6\n"
     ]
    },
    {
     "data": {
      "image/png": "[encoded data removed]",
      "text/plain": [
       "<Figure size 432x288 with 1 Axes>"
      ]
     },
     "metadata": {
      "needs_background": "light"
     },
     "output_type": "display_data"
    }
   ],
   "source": [
    "# Number of Bird Species in Every Cluster\n",
    "print(len(num_bird_species))\n",
    "cluster_num = range(0,len(num_bird_species))\n",
    "\n",
    "x = cluster_num \n",
    "y = num_bird_species\n",
    "\n",
    "# Add title, axes\n",
    "plt.bar(x,y)\n",
    "plt.title('Number of Bird Species in Every Cluster')\n",
    "plt.xlabel('Cluster Number')\n",
    "plt.ylabel('Number of Bird Species')\n",
    "\n",
    "average_num_birds = sum(num_bird_species)/len(num_bird_species)\n",
    "print(\"Average number of birds over clusters:\", average_num_birds)"
   ]
  },
  {
   "cell_type": "markdown",
   "metadata": {},
   "source": [
    "# Visualization"
   ]
  },
  {
   "cell_type": "markdown",
   "metadata": {},
   "source": [
    "### Optional: For K-means clustsering \n",
    "The function, find_optimal_clusters is used to find the optimal number of clusters for K-means clustering. Take a look at this link for more information: https://hlab.stanford.edu/brian/number_of_clusters_.html."
   ]
  },
  {
   "cell_type": "code",
   "execution_count": null,
   "metadata": {
    "scrolled": true
   },
   "outputs": [],
   "source": [
    "# dir_path = '/Volumes/Elements/Madre_de_Dios_Xeno_Canto_Birdcalls/'\n",
    "dir_path = '/Volumes/Elements/Test/'\n",
    "samplerate = None\n",
    "wav_data = []\n",
    "bird_names_and_lengths = []\n",
    "num_files = 0\n",
    "\n",
    "for file in glob.glob(os.path.join(dir_path, '*.mp3')):\n",
    "#     print(file)\n",
    "#     resample_mp3(file, overwrite=True)\n",
    "    num_files = num_files+1\n",
    "    try: \n",
    "        data, rate = resample_mp3(file, overwrite=True)\n",
    "#         data = data.astype(int)\n",
    "        samplerate = rate\n",
    "        if wav_data == []:\n",
    "            wav_data = data\n",
    "        else:\n",
    "            wav_data = np.concatenate((wav_data, data))\n",
    "        clip_len = len(data) / samplerate\n",
    "        \n",
    "        # Input only bird species\n",
    "        bird_species = file.split(' - ')[2][:-4].replace(' ', '_')\n",
    "        bird_names_and_lengths.append([bird_species, clip_len])\n",
    "#         print(file)\n",
    "        \n",
    "        # TO DO: deal with warning, don't suppress\n",
    "        warnings.filterwarnings(\"ignore\", category=DeprecationWarning) \n",
    "        warnings.filterwarnings(\"ignore\", category=FutureWarning) \n",
    "    except Exception as e:\n",
    "        print('(failed) ' + file)\n",
    "        print('\\t' + str(e))\n",
    "        pass\n",
    "    \n",
    "print(bird_names_and_lengths)\n",
    "    \n",
    "# with warnings.catch_warnings():\n",
    "#     warnings.simplefilter(\"ignore\")\n",
    "#     fxn()"
   ]
  },
  {
   "cell_type": "markdown",
   "metadata": {},
   "source": [
    "### Optional: list all bird species included in the file"
   ]
  },
  {
   "cell_type": "code",
   "execution_count": null,
   "metadata": {},
   "outputs": [],
   "source": [
    "dir_path = '/Volumes/Elements/Test/'\n",
    "list_of_species = []\n",
    "\n",
    "for f in glob.glob(os.path.join(dir_path, '*.mp3')): \n",
    "    bird_name = os.path.splitext(f)[0].split(\" - \", 1)[1].strip()\n",
    "    if list_of_species == []: \n",
    "        list_of_species = [bird_name]\n",
    "    elif bird_name in list_of_species: \n",
    "        pass \n",
    "    else: \n",
    "        list_of_species.append(bird_name)\n",
    "\n",
    "print(list_of_species)\n",
    "# print(len(list_of_species))"
   ]
  },
  {
   "cell_type": "code",
   "execution_count": null,
   "metadata": {
    "scrolled": true
   },
   "outputs": [],
   "source": [
    "print(\"shape of wav_data\", len(wav_data))\n",
    "print(\"sample rate\", sr)\n",
    "print(\"type of wav_data\", type(wav_data))\n",
    "print('sample rate = %d' % samplerate)\n",
    "print(wav_data.shape)\n",
    "length = wav_data.shape[0] / samplerate\n",
    "print('length = %.1fs' % length)"
   ]
  },
  {
   "cell_type": "code",
   "execution_count": null,
   "metadata": {
    "scrolled": true
   },
   "outputs": [],
   "source": [
    "# loop through all the cluster folders \n",
    "from os import listdir\n",
    "from os.path import isfile, join\n",
    "\n",
    "# dirname = '/Volumes/Elements/Madre_de_Dios_Xeno_Canto_Birdcalls/Clusters_XenoCanto/'\n",
    "dirname = '/Volumes/Elements/Test/Clusters/'\n",
    "directory_list = os.listdir(dirname)\n",
    "# print(directory_list)\n",
    "# make \"find . -name \".DS_Store\" -delete\" in the terminal \n",
    "\n",
    "final_bird_list = []\n",
    "num_bird_species = []\n",
    "\n",
    "for d in directory_list: \n",
    "    path = dirname + d\n",
    "    file_list = [f for f in os.listdir(path) if not f.startswith('.')]\n",
    "    \n",
    "    cluster_set = set()\n",
    "    for f in file_list: \n",
    "#         print(f)\n",
    "#         if not f.startswith('.'):\n",
    "        cluster_set = cluster_set | find_bird_species_from_file_name(f)\n",
    "#         print(f)\n",
    "    \n",
    "    num_bird_species.append(len(cluster_set))\n",
    "    final_bird_list.append(num_bird_species)\n",
    "        \n",
    "# print(final_bird_list)\n",
    "# print(cluster_set)\n",
    "print(num_bird_species)"
   ]
  }
 ],
 "metadata": {
  "kernelspec": {
   "display_name": "Python 3",
   "language": "python",
   "name": "python3"
  },
  "language_info": {
   "codemirror_mode": {
    "name": "ipython",
    "version": 3
   },
   "file_extension": ".py",
   "mimetype": "text/x-python",
   "name": "python",
   "nbconvert_exporter": "python",
   "pygments_lexer": "ipython3",
   "version": "3.6.8"
  }
 },
 "nbformat": 4,
 "nbformat_minor": 4
}
