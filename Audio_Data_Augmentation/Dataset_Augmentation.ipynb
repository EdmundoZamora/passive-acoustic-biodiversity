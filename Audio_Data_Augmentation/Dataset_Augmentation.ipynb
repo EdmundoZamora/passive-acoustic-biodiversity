{
 "cells": [
  {
   "cell_type": "code",
   "execution_count": null,
   "metadata": {},
   "outputs": [],
   "source": [
    "import matplotlib.pyplot as plt\n",
    "import librosa\n",
    "import numpy as np\n",
    "import scipy\n",
    "import os\n",
    "from scipy.io import wavfile\n",
    "import sox\n",
    "import colorednoise as cn\n",
    "from multipledispatch import dispatch "
   ]
  },
  {
   "cell_type": "markdown",
   "metadata": {},
   "source": [
    "### Instructions\n",
    "Create directories for the original data and the augmented data. The original data directory should have subdirectories for the different datasets. Each subdirectory contains wav files. The augmented data directory can be empty and will be populated as this notebook runs."
   ]
  },
  {
   "cell_type": "code",
   "execution_count": null,
   "metadata": {},
   "outputs": [],
   "source": [
    "orig_dir = './original_data/'\n",
    "aug_dir = './augmented_data/'"
   ]
  },
  {
   "cell_type": "code",
   "execution_count": null,
   "metadata": {},
   "outputs": [],
   "source": [
    "def make_dir(dir_path):\n",
    "    if not os.path.isdir(dir_path):\n",
    "        os.mkdir(dir_path)\n",
    "        \n",
    "def save(signal, sample_rate, new_dir):\n",
    "    make_dir(aug_dir + dataset_name + '/' + new_dir)\n",
    "    new_file_path = aug_dir + dataset_name + '/' + new_dir + '/' + filename\n",
    "    if not os.path.isfile(new_file_path):\n",
    "        wavfile.write(new_file_path, sample_rate, signal)\n",
    "        \n",
    "@dispatch(str, object, object, object) \n",
    "def augment_and_save(feature_name, augment_function, signal, sample_rate):\n",
    "    if not os.path.isfile(aug_dir + dataset_name + '/' + feature_name + '/' + filename):\n",
    "        save(augment_function(signal, sample_rate), sample_rate, feature_name)\n",
    "    else:\n",
    "        print('Augmented file already exists')\n",
    "        \n",
    "@dispatch(str, object, object, object, object) \n",
    "def augment_and_save(feature_name, augment_function, signal, sample_rate, factor):\n",
    "    if not os.path.isfile(aug_dir + dataset_name + '/' + feature_name + '_' + str(factor) + '/' + filename):\n",
    "        save(augment_function(signal, sample_rate, factor), sample_rate, feature_name + '_' + str(factor))\n",
    "    else:\n",
    "        print('Augmented file already exists')"
   ]
  },
  {
   "cell_type": "markdown",
   "metadata": {},
   "source": [
    "### Augmentation Functions"
   ]
  },
  {
   "cell_type": "code",
   "execution_count": null,
   "metadata": {},
   "outputs": [],
   "source": [
    "# Pitch factor should be between 0.9 and 1.1\n",
    "def augment_pitch(signal, sample_rate, factor):\n",
    "    print(\"Pitch Modulation Factor: \", factor)\n",
    "    pitch_modulated_signal = librosa.effects.pitch_shift(signal, sample_rate, factor)\n",
    "    return pitch_modulated_signal\n",
    "\n",
    "# Noise factor should be between 0.001 and 0.02\n",
    "def augment_noise(signal, sample_rate, factor):\n",
    "    print(\"Noise Modulation Factor: \", factor)\n",
    "    noise = np.random.randn(len(signal)) \n",
    "    noise_modulated_signal = signal + factor * noise\n",
    "    noise_modulated_signal = noise_modulated_signal.astype(type(signal[0]))\n",
    "    return noise_modulated_signal\n",
    "\n",
    "# Speed factor should be between 0.9 and 1.1\n",
    "def augment_speed(signal, sample_rate, factor):\n",
    "    print(\"Speed Modulation Factor: \", factor)\n",
    "    speed_modulated_signal = librosa.effects.time_stretch(signal, factor)\n",
    "    return speed_modulated_signal\n",
    "\n",
    "# Tempo factor should be between 0.9 and 1.1\n",
    "def augment_tempo_and_save(filepath, factor):\n",
    "    new_file_path = aug_dir + dataset_name + '/tempo_' + str(factor) + '/' + filename\n",
    "    if not os.path.isfile(new_file_path):\n",
    "        print(\"Tempo Modulation Factor: \", factor)\n",
    "        tempoTransformer = sox.Transformer()\n",
    "        tempoTransformer.tempo(factor)\n",
    "        new_dir = 'tempo_' + str(factor) + '/' \n",
    "        make_dir(aug_dir + dataset_name + '/' + new_dir)\n",
    "        tempoTransformer.build(filepath, new_file_path)\n",
    "        \n",
    "# Exponent factor should be 1 for pink noise\n",
    "def add_colored_noise(signal, sample_rate, factor):\n",
    "    print(\"Gaussian distributed noise with exponent: \", factor)\n",
    "    noise = cn.powerlaw_psd_gaussian(factor, sample_rate)\n",
    "    noise = np.tile(noise, int(len(signal) / len(noise)) + 1)\n",
    "    noise = noise[:len(signal)]\n",
    "    noise_modulated_signal = signal + noise\n",
    "    noise_modulated_signal = noise_modulated_signal.astype(type(signal[0]))\n",
    "    return noise_modulated_signal\n",
    "\n",
    "def add_gaussian_noise(signal, sample_rate):\n",
    "    print(\"Gaussian noise\")\n",
    "    noise_modulated_signal = signal + np.random.normal(0, 0.1, signal.shape)\n",
    "    noise_modulated_signal = noise_modulated_signal.astype(type(signal[0]))\n",
    "    return noise_modulated_signal"
   ]
  },
  {
   "cell_type": "markdown",
   "metadata": {},
   "source": [
    "### Pipeline"
   ]
  },
  {
   "cell_type": "code",
   "execution_count": null,
   "metadata": {},
   "outputs": [],
   "source": [
    "def augment_data(dataset_name, filename, sr):\n",
    "    filepath = orig_dir + dataset_name + '/' + filename\n",
    "    signal, sample_rate = librosa.load(filepath, sr)\n",
    "    \n",
    "    # Add augmentations here\n",
    "    augment_and_save('pitch', augment_pitch, signal, sample_rate, 1.1)\n",
    "    augment_and_save('noise', augment_noise, signal, sample_rate, 0.02)\n",
    "    augment_and_save('speed', augment_speed, signal, sample_rate, 1.1)\n",
    "    augment_and_save('colored_noise', add_colored_noise, signal, sample_rate, 1)\n",
    "    augment_and_save('gaussian_noise', add_gaussian_noise, signal, sample_rate)\n",
    "    #augment_tempo_and_save(filepath, 1.1)\n",
    "    \n",
    "    \"\"\"\n",
    "    # Example of how to augment both pitch and noise\n",
    "    pitch_factor = 1.1\n",
    "    noise_factor = 0.02\n",
    "    s = augment_pitch(signal, sample_rate, pitch_factor)\n",
    "    s = augment_noise(signal, sample_rate, noise_factor)\n",
    "    save(s, sample_rate, 'pitch_%s_noise_%s' % (pitch_factor, noise_factor))\n",
    "    \"\"\""
   ]
  },
  {
   "cell_type": "markdown",
   "metadata": {},
   "source": [
    "### Apply Augmentations to Datasets"
   ]
  },
  {
   "cell_type": "code",
   "execution_count": null,
   "metadata": {
    "scrolled": true
   },
   "outputs": [],
   "source": [
    "sample_rates = {\"xenocanto\": 384000}\n",
    "\n",
    "for subdir in [x[0] for x in os.walk(orig_dir)][1:]:\n",
    "    dataset_name = subdir.split('/')[-1]\n",
    "    make_dir(aug_dir + dataset_name)\n",
    "        \n",
    "    for filename in os.listdir(subdir):\n",
    "        if filename.endswith(\".wav\"):\n",
    "            print(subdir + filename)\n",
    "            augment_data(dataset_name, filename, sample_rates[dataset_name])\n",
    "            print()"
   ]
  },
  {
   "cell_type": "code",
   "execution_count": null,
   "metadata": {},
   "outputs": [],
   "source": []
  }
 ],
 "metadata": {
  "kernelspec": {
   "display_name": "Python 3",
   "language": "python",
   "name": "python3"
  },
  "language_info": {
   "codemirror_mode": {
    "name": "ipython",
    "version": 3
   },
   "file_extension": ".py",
   "mimetype": "text/x-python",
   "name": "python",
   "nbconvert_exporter": "python",
   "pygments_lexer": "ipython3",
   "version": "3.7.9"
  }
 },
 "nbformat": 4,
 "nbformat_minor": 4
}
