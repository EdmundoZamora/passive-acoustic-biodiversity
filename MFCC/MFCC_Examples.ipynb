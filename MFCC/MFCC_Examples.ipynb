{
 "cells": [
  {
   "cell_type": "markdown",
   "metadata": {},
   "source": [
    "## MFCC Examples \n",
    "As part of our goal to implement a bird species classifer, we first want to be able to pre-processing our data. One of the techniques we plan to use for bird species classification is with MFCC (Mel Frequency Cepstral Coeffficients) which attempts to capture the human hearing range. Specifically, note that the human hearing range is from 20Hz to 20kHz. Humans perceive  "
   ]
  }
 ],
 "metadata": {
  "kernelspec": {
   "display_name": "Python 3",
   "language": "python",
   "name": "python3"
  },
  "language_info": {
   "codemirror_mode": {
    "name": "ipython",
    "version": 3
   },
   "file_extension": ".py",
   "mimetype": "text/x-python",
   "name": "python",
   "nbconvert_exporter": "python",
   "pygments_lexer": "ipython3",
   "version": "3.6.8"
  }
 },
 "nbformat": 4,
 "nbformat_minor": 4
}
