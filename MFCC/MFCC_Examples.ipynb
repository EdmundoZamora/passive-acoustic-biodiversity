{
 "cells": [
  {
   "cell_type": "markdown",
   "metadata": {},
   "source": [
    "## MFCC Examples \n",
    "As part of our goal to implement a bird species classifer, we first want to be able to pre-processing our data. One of the techniques we plan to use for bird species classification is with MFCC (Mel Frequency Cepstral Coeffficients) which attempts to mimic our non-linear human hearing range (i.e. humans can tell a 10 Hz difference at lower frequencies better than at high frequencies). MFCC seek to use a filter bank that achieves this goal. \n",
    "\n",
    "Fun fact: note that the human hearing range is from 20Hz to 20kHz."
   ]
  },
  {
   "cell_type": "code",
   "execution_count": null,
   "metadata": {},
   "outputs": [],
   "source": [
    "import librosa"
   ]
  },
  {
   "cell_type": "markdown",
   "metadata": {},
   "source": [
    "### Import and load data\n",
    "Change the directory as you wish "
   ]
  },
  {
   "cell_type": "code",
   "execution_count": null,
   "metadata": {},
   "outputs": [],
   "source": [
    "sound_dir = '/Volumes/Elements/Madre_de_Dios_Xeno_Canto_Birdcalls/XC22019 - Blue-crowned Trogon - Trogon curucui.mp3/'\n",
    "### Import and load data\n",
    "signal, sr = librosa.load(sound_dir) "
   ]
  },
  {
   "cell_type": "markdown",
   "metadata": {},
   "source": [
    "### Regular spectrogram\n",
    "To compare with Mel spectrogram"
   ]
  },
  {
   "cell_type": "code",
   "execution_count": null,
   "metadata": {},
   "outputs": [],
   "source": []
  },
  {
   "cell_type": "markdown",
   "metadata": {},
   "source": [
    "## Mel Spectrogram Plotting\n",
    "To compare with Mel spectrogram"
   ]
  },
  {
   "cell_type": "markdown",
   "metadata": {},
   "source": [
    "### Librosa Mel spectrogram\n",
    "Documentation: http://man.hubwiz.com/docset/LibROSA.docset/Contents/Resources/Documents/generated/librosa.feature.melspectrogram.html"
   ]
  },
  {
   "cell_type": "markdown",
   "metadata": {},
   "source": [
    "### Python Speech Features \n",
    "Documentation: https://github.com/jameslyons/python_speech_features"
   ]
  },
  {
   "cell_type": "code",
   "execution_count": null,
   "metadata": {},
   "outputs": [],
   "source": [
    "def make_mel(spectrogram, mel_filter, shorten_factor=1):\n",
    "    mel_spec = np.transpose(mel_filter).dot(np.transpose(spectrogram))\n",
    "    mel_spec = scipy.ndimage.zoom(\n",
    "        mel_spec.astype(\"float32\"), [1, 1.0 / shorten_factor]\n",
    "    ).astype(\"float16\")\n",
    "    mel_spec = mel_spec[:, 1:-1]  # a little hacky but seemingly needed for clipping\n",
    "    return mel_spec\n",
    "\n",
    "\n",
    "def mel_to_spectrogram(mel_spec, mel_inversion_filter, spec_thresh, shorten_factor):\n",
    "    \"\"\"\n",
    "    takes in an mel spectrogram and returns a normal spectrogram for inversion \n",
    "    \"\"\"\n",
    "    mel_spec = mel_spec + spec_thresh\n",
    "    uncompressed_spec = np.transpose(np.transpose(mel_spec).dot(mel_inversion_filter))\n",
    "    uncompressed_spec = scipy.ndimage.zoom(\n",
    "        uncompressed_spec.astype(\"float32\"), [1, shorten_factor]\n",
    "    ).astype(\"float16\")\n",
    "    uncompressed_spec = uncompressed_spec - 4\n",
    "    return uncompressed_spec"
   ]
  }
 ],
 "metadata": {
  "kernelspec": {
   "display_name": "Python 3",
   "language": "python",
   "name": "python3"
  },
  "language_info": {
   "codemirror_mode": {
    "name": "ipython",
    "version": 3
   },
   "file_extension": ".py",
   "mimetype": "text/x-python",
   "name": "python",
   "nbconvert_exporter": "python",
   "pygments_lexer": "ipython3",
   "version": "3.6.8"
  }
 },
 "nbformat": 4,
 "nbformat_minor": 4
}
